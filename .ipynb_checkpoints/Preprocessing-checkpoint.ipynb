{
 "cells": [
  {
   "cell_type": "code",
   "execution_count": 1,
   "metadata": {},
   "outputs": [],
   "source": [
    "# start SparkSession\n",
    "import findspark\n",
    "findspark.init()\n",
    "from pyspark.sql import SparkSession\n",
    "spark = SparkSession.builder.appName(\"preprocessing\").getOrCreate()\n",
    "import matplotlib.pyplot as plt\n",
    "%matplotlib inline\n",
    "plt.style.use('seaborn-pastel')"
   ]
  },
  {
   "cell_type": "code",
   "execution_count": 2,
   "metadata": {},
   "outputs": [],
   "source": [
    "import numpy as np\n",
    "from pyspark.sql.functions import udf\n",
    "from pyspark.sql.types import IntegerType\n",
    "from pyspark.sql.types import DoubleType\n",
    "from pyspark.sql.types import StringType\n",
    "import re\n",
    "from pyspark.sql.functions import split\n",
    "from pyspark.ml.feature import Tokenizer, RegexTokenizer\n",
    "from pyspark.sql.functions import col, udf\n",
    "from pyspark.sql.types import IntegerType\n",
    "from pyspark.ml.feature import StopWordsRemover\n",
    "import pyspark.sql.functions as f\n",
    "from pyspark.ml.feature import Word2Vec\n",
    "import datetime\n",
    "from pyspark.sql.functions import year, month, dayofmonth, dayofweek"
   ]
  },
  {
   "cell_type": "markdown",
   "metadata": {},
   "source": [
    "# 1. STORIES"
   ]
  },
  {
   "cell_type": "code",
   "execution_count": 3,
   "metadata": {},
   "outputs": [],
   "source": [
    "# read in the dataset stories\n",
    "data_df = spark.read\\\n",
    "  .format('csv')\\\n",
    "  .option('header', 'true')\\\n",
    "  .option('inferSchema', 'true')\\\n",
    "  .load('s3://bigdataproject233/stories.csv')"
   ]
  },
  {
   "cell_type": "code",
   "execution_count": 4,
   "metadata": {
    "scrolled": true
   },
   "outputs": [
    {
     "name": "stdout",
     "output_type": "stream",
     "text": [
      "+-------+------------+-----+------------+--------------------+--------------------+--------------------+--------------------+-------+----+-----------+------------+\n",
      "|     id|          by|score|        time|             time_ts|               title|                 url|                text|deleted|dead|descendants|      author|\n",
      "+-------+------------+-----+------------+--------------------+--------------------+--------------------+--------------------+-------+----+-----------+------------+\n",
      "|6940813|   sarath237|  0.0|1387536270.0|2013-12-20 10:44:...| Sheryl Brindo Ho...|http://www.youtub...| Sheryl Brindo Ho...|   null|True|       null|   sarath237|\n",
      "|6991401|123123321321|  0.0|1388508751.0|2013-12-31 16:52:...|Are you people al...|                null|They&#x27;re pret...|   null|True|       null|123123321321|\n",
      "|1531556|         ssn|  0.0|1279617234.0|2010-07-20 09:13:...|New UI for Google...|http://googlesyst...|Again following o...|   null|null|        0.0|         ssn|\n",
      "|5012398|        hoju|  0.0|1357387877.0|2013-01-05 12:11:...|Historic website ...|http://webscrapin...|Python script to ...|   null|null|        0.0|        hoju|\n",
      "|7214182|       kogir|  0.0|1401561740.0|2014-05-31 18:42:...|         Placeholder|                null|       Mind the gap.|   null|null|        0.0|       kogir|\n",
      "|1187303|       kogir|  0.0|1401561740.0|2014-05-31 18:42:...|         Placeholder|                null|       Mind the gap.|   null|null|        0.0|       kogir|\n",
      "|1318494|       kogir|  0.0|1401561740.0|2014-05-31 18:42:...|         Placeholder|                null|       Mind the gap.|   null|null|        0.0|       kogir|\n",
      "|3700400|       kogir|  0.0|1401561740.0|2014-05-31 18:42:...|         Placeholder|                null|       Mind the gap.|   null|null|        0.0|       kogir|\n",
      "|1384487|       kogir|  0.0|1401561740.0|2014-05-31 18:42:...|         Placeholder|                null|       Mind the gap.|   null|null|        0.0|       kogir|\n",
      "|3530428|       kogir|  0.0|1401561740.0|2014-05-31 18:42:...|         Placeholder|                null|       Mind the gap.|   null|null|        0.0|       kogir|\n",
      "|3538851|       kogir|  0.0|1401561740.0|2014-05-31 18:42:...|         Placeholder|                null|       Mind the gap.|   null|null|        0.0|       kogir|\n",
      "|4167497|       kogir|  0.0|1401561740.0|2014-05-31 18:42:...|         Placeholder|                null|       Mind the gap.|   null|null|        0.0|       kogir|\n",
      "|3789206|       kogir|  0.0|1401561740.0|2014-05-31 18:42:...|         Placeholder|                null|       Mind the gap.|   null|null|        0.0|       kogir|\n",
      "|4072660|       kogir|  0.0|1401561740.0|2014-05-31 18:42:...|         Placeholder|                null|       Mind the gap.|   null|null|        0.0|       kogir|\n",
      "|2979883|       kogir|  0.0|1401561740.0|2014-05-31 18:42:...|         Placeholder|                null|       Mind the gap.|   null|null|        0.0|       kogir|\n",
      "|3300974|       kogir|  0.0|1401561740.0|2014-05-31 18:42:...|         Placeholder|                null|       Mind the gap.|   null|null|        0.0|       kogir|\n",
      "|2305819|       kogir|  0.0|1401561740.0|2014-05-31 18:42:...|         Placeholder|                null|       Mind the gap.|   null|null|        0.0|       kogir|\n",
      "|3833628|       kogir|  0.0|1401561740.0|2014-05-31 18:42:...|         Placeholder|                null|       Mind the gap.|   null|null|        0.0|       kogir|\n",
      "|2606988|       ramis|  0.0|1306931771.0|2011-06-01 12:36:...|Kidney Transplant...|http://dhshahzad....|I started indepen...|   null|True|        0.0|       ramis|\n",
      "|4542754|       tette|  0.0|1348045069.0|2012-09-19 08:57:...|Bouncing Marble f...|http://www.window...|Bouncing marble i...|   null|null|        0.0|       tette|\n",
      "+-------+------------+-----+------------+--------------------+--------------------+--------------------+--------------------+-------+----+-----------+------------+\n",
      "only showing top 20 rows\n",
      "\n"
     ]
    }
   ],
   "source": [
    "data_df.show()"
   ]
  },
  {
   "cell_type": "code",
   "execution_count": 5,
   "metadata": {},
   "outputs": [
    {
     "name": "stdout",
     "output_type": "stream",
     "text": [
      "root\n",
      " |-- id: string (nullable = true)\n",
      " |-- by: string (nullable = true)\n",
      " |-- score: string (nullable = true)\n",
      " |-- time: string (nullable = true)\n",
      " |-- time_ts: string (nullable = true)\n",
      " |-- title: string (nullable = true)\n",
      " |-- url: string (nullable = true)\n",
      " |-- text: string (nullable = true)\n",
      " |-- deleted: string (nullable = true)\n",
      " |-- dead: string (nullable = true)\n",
      " |-- descendants: string (nullable = true)\n",
      " |-- author: string (nullable = true)\n",
      "\n"
     ]
    }
   ],
   "source": [
    "data_df.printSchema()"
   ]
  },
  {
   "cell_type": "code",
   "execution_count": 6,
   "metadata": {},
   "outputs": [
    {
     "data": {
      "text/plain": [
       "2069464"
      ]
     },
     "execution_count": 6,
     "metadata": {},
     "output_type": "execute_result"
    }
   ],
   "source": [
    "data_df.count()"
   ]
  },
  {
   "cell_type": "code",
   "execution_count": 7,
   "metadata": {},
   "outputs": [],
   "source": [
    "#Set data type\n",
    "story_df = data_df.select(data_df['id'].cast(IntegerType()),\n",
    "                     data_df['score'].cast(IntegerType()),\n",
    "                     data_df['time_ts'].cast('timestamp'),\n",
    "                     data_df['title'],\n",
    "                     data_df['url'],\n",
    "                     data_df['text'],\n",
    "                     data_df['deleted'],\n",
    "                     data_df['dead'],\n",
    "                     data_df['descendants'].cast(IntegerType()),\n",
    "                     data_df['author']\n",
    "                             )\n"
   ]
  },
  {
   "cell_type": "code",
   "execution_count": 8,
   "metadata": {},
   "outputs": [
    {
     "name": "stdout",
     "output_type": "stream",
     "text": [
      "root\n",
      " |-- id: integer (nullable = true)\n",
      " |-- score: integer (nullable = true)\n",
      " |-- time_ts: timestamp (nullable = true)\n",
      " |-- title: string (nullable = true)\n",
      " |-- url: string (nullable = true)\n",
      " |-- text: string (nullable = true)\n",
      " |-- deleted: string (nullable = true)\n",
      " |-- dead: string (nullable = true)\n",
      " |-- descendants: integer (nullable = true)\n",
      " |-- author: string (nullable = true)\n",
      "\n"
     ]
    }
   ],
   "source": [
    "story_df.printSchema()"
   ]
  },
  {
   "cell_type": "code",
   "execution_count": 9,
   "metadata": {
    "scrolled": true
   },
   "outputs": [
    {
     "name": "stdout",
     "output_type": "stream",
     "text": [
      "+-------+-----+-------------------+--------------------+--------------------+--------------------+-------+----+-----------+------------+\n",
      "|     id|score|            time_ts|               title|                 url|                text|deleted|dead|descendants|      author|\n",
      "+-------+-----+-------------------+--------------------+--------------------+--------------------+-------+----+-----------+------------+\n",
      "|6940813|    0|2013-12-20 10:44:30| Sheryl Brindo Ho...|http://www.youtub...| Sheryl Brindo Ho...|   null|True|       null|   sarath237|\n",
      "|6991401|    0|2013-12-31 16:52:31|Are you people al...|                null|They&#x27;re pret...|   null|True|       null|123123321321|\n",
      "|1531556|    0|2010-07-20 09:13:54|New UI for Google...|http://googlesyst...|Again following o...|   null|null|          0|         ssn|\n",
      "|5012398|    0|2013-01-05 12:11:17|Historic website ...|http://webscrapin...|Python script to ...|   null|null|          0|        hoju|\n",
      "|7214182|    0|2014-05-31 18:42:20|         Placeholder|                null|       Mind the gap.|   null|null|          0|       kogir|\n",
      "|1187303|    0|2014-05-31 18:42:20|         Placeholder|                null|       Mind the gap.|   null|null|          0|       kogir|\n",
      "|1318494|    0|2014-05-31 18:42:20|         Placeholder|                null|       Mind the gap.|   null|null|          0|       kogir|\n",
      "|3700400|    0|2014-05-31 18:42:20|         Placeholder|                null|       Mind the gap.|   null|null|          0|       kogir|\n",
      "|1384487|    0|2014-05-31 18:42:20|         Placeholder|                null|       Mind the gap.|   null|null|          0|       kogir|\n",
      "|3530428|    0|2014-05-31 18:42:20|         Placeholder|                null|       Mind the gap.|   null|null|          0|       kogir|\n",
      "+-------+-----+-------------------+--------------------+--------------------+--------------------+-------+----+-----------+------------+\n",
      "only showing top 10 rows\n",
      "\n"
     ]
    }
   ],
   "source": [
    "story_df.show(10)"
   ]
  },
  {
   "cell_type": "code",
   "execution_count": 10,
   "metadata": {},
   "outputs": [],
   "source": [
    "# create temp table\n",
    "story_df.createOrReplaceTempView('ini_story')"
   ]
  },
  {
   "cell_type": "code",
   "execution_count": 11,
   "metadata": {},
   "outputs": [
    {
     "data": {
      "text/plain": [
       "1959840"
      ]
     },
     "execution_count": 11,
     "metadata": {},
     "output_type": "execute_result"
    }
   ],
   "source": [
    "story_df.select(\"id\").distinct().count()"
   ]
  },
  {
   "cell_type": "code",
   "execution_count": 12,
   "metadata": {},
   "outputs": [
    {
     "data": {
      "text/plain": [
       "1759584"
      ]
     },
     "execution_count": 12,
     "metadata": {},
     "output_type": "execute_result"
    }
   ],
   "source": [
    "story_df.select(\"title\").distinct().count()"
   ]
  },
  {
   "cell_type": "code",
   "execution_count": 13,
   "metadata": {
    "scrolled": true
   },
   "outputs": [],
   "source": [
    "# filter the dataset in order to get clean data\n",
    "sqlStatement = \"\"\"\n",
    "SELECT * \n",
    "FROM ini_story\n",
    "WHERE id is not NULL \n",
    "and score is not NULL \n",
    "and time_ts is not NULL \n",
    "and title is not NULL \n",
    "and url is not NULL\n",
    "and descendants is not NULL\n",
    "and author is not NULL \n",
    "\"\"\"\n"
   ]
  },
  {
   "cell_type": "code",
   "execution_count": 14,
   "metadata": {},
   "outputs": [],
   "source": [
    "clean_story_df = spark.sql(sqlStatement)\n",
    "clean_story_df.count()\n",
    "clean_story_df.createOrReplaceTempView('story1')"
   ]
  },
  {
   "cell_type": "code",
   "execution_count": 15,
   "metadata": {},
   "outputs": [],
   "source": [
    "# get hostname of url as web\n",
    "\n",
    "sqlStatement = \"\"\"\n",
    "SELECT id, score, time_ts,title,text,descendants,author,\n",
    "regexp_extract(url, '([a-z]+).(com|net|co|cn|org|ru|de|br|uk|pl|ir|it|in|fr|au|jp|info|to|ca)', 1) as web\n",
    "FROM story1 \n",
    "\"\"\"\n",
    "\n",
    "clean_story_df2 = spark.sql(sqlStatement)\n",
    "clean_story_df2.createOrReplaceTempView('story')"
   ]
  },
  {
   "cell_type": "code",
   "execution_count": 16,
   "metadata": {},
   "outputs": [],
   "source": [
    "# website information\n",
    "# Where are the stories coming from? or what are the most popular sources?\n",
    "\n",
    "sqlStatement = \"\"\"\n",
    "SELECT COUNT(id) AS num, web\n",
    "FROM story\n",
    "WHERE web != '' and web !='www'\n",
    "GROUP BY web\n",
    "ORDER BY num DESC\n",
    "LIMIT 20\n",
    "\"\"\"\n",
    "web_df1 = spark.sql(sqlStatement)"
   ]
  },
  {
   "cell_type": "code",
   "execution_count": 17,
   "metadata": {},
   "outputs": [
    {
     "name": "stdout",
     "output_type": "stream",
     "text": [
      "+-----+-----------+\n",
      "|  num|        web|\n",
      "+-----+-----------+\n",
      "|35467|     github|\n",
      "|30490| techcrunch|\n",
      "|27039|    nytimes|\n",
      "|25275|   blogspot|\n",
      "|24271|    youtube|\n",
      "|17849|     medium|\n",
      "|16503|     google|\n",
      "|14321|        bbc|\n",
      "|13645|arstechnica|\n",
      "|13375|      wired|\n",
      "+-----+-----------+\n",
      "only showing top 10 rows\n",
      "\n"
     ]
    }
   ],
   "source": [
    "# show top 10\n",
    "web_df1.show(10)"
   ]
  },
  {
   "cell_type": "code",
   "execution_count": 18,
   "metadata": {},
   "outputs": [
    {
     "name": "stderr",
     "output_type": "stream",
     "text": [
      "/home/hadoop/miniconda/lib/python3.6/site-packages/pyarrow/pandas_compat.py:752: FutureWarning: .labels was deprecated in version 0.24.0. Use .codes instead.\n",
      "  labels, = index.labels\n"
     ]
    },
    {
     "data": {
      "text/plain": [
       "Text(0, 0.5, 'Number')"
      ]
     },
     "execution_count": 18,
     "metadata": {},
     "output_type": "execute_result"
    },
    {
     "data": {
      "image/png": "[encoded data removed]",
      "text/plain": [
       "<Figure size 1008x432 with 1 Axes>"
      ]
     },
     "metadata": {
      "needs_background": "light"
     },
     "output_type": "display_data"
    }
   ],
   "source": [
    "web_df1 = web_df1.toPandas()\n",
    "web_df1.plot(x='web', y='num', \n",
    "                    kind=\"bar\",figsize=(14,6),\n",
    "                    title='Top 20 web source').set_ylabel(\"Number\")"
   ]
  },
  {
   "cell_type": "code",
   "execution_count": 19,
   "metadata": {},
   "outputs": [],
   "source": [
    "# score information\n",
    "# From which website the story will have a high score in total?\n",
    "sqlStatement = \"\"\"\n",
    "SELECT AVG(score) as avg_score, web\n",
    "FROM story\n",
    "WHERE web != '' and web !='www'\n",
    "GROUP BY web\n",
    "ORDER BY avg_score DESC\n",
    "LIMIT 20\n",
    "\"\"\"\n",
    "web_df2 = spark.sql(sqlStatement)\n"
   ]
  },
  {
   "cell_type": "code",
   "execution_count": 20,
   "metadata": {},
   "outputs": [
    {
     "name": "stdout",
     "output_type": "stream",
     "text": [
      "+---------+--------------------+\n",
      "|avg_score|                 web|\n",
      "+---------+--------------------+\n",
      "|   1768.0|          heartbleed|\n",
      "|   1445.0|           bekkelund|\n",
      "|   1323.0|          spritelamp|\n",
      "|   1215.0|spotthedrowningchild|\n",
      "|   1167.0|    standardmarkdown|\n",
      "|   1086.0|            jeffepst|\n",
      "|   1055.0|       projectnaptha|\n",
      "|    925.0|     gabrielecirulli|\n",
      "|    910.0|    gameaboutsquares|\n",
      "|    868.0|                kfor|\n",
      "+---------+--------------------+\n",
      "only showing top 10 rows\n",
      "\n"
     ]
    }
   ],
   "source": [
    "# show top 10\n",
    "web_df2.show(10)"
   ]
  },
  {
   "cell_type": "code",
   "execution_count": 21,
   "metadata": {},
   "outputs": [
    {
     "data": {
      "text/plain": [
       "Text(0, 0.5, 'Score')"
      ]
     },
     "execution_count": 21,
     "metadata": {},
     "output_type": "execute_result"
    },
    {
     "data": {
      "image/png": "[encoded data removed]",
      "text/plain": [
       "<Figure size 1008x432 with 1 Axes>"
      ]
     },
     "metadata": {
      "needs_background": "light"
     },
     "output_type": "display_data"
    }
   ],
   "source": [
    "web_df2 = web_df2.toPandas()\n",
    "web_df2.plot(x='web', y='avg_score', \n",
    "                    kind=\"bar\",figsize=(14,6),\n",
    "                    title='Top 20 web source').set_ylabel(\"Score\")"
   ]
  },
  {
   "cell_type": "code",
   "execution_count": 22,
   "metadata": {},
   "outputs": [],
   "source": [
    "# story number distribution in terms of time\n",
    "# What is the trend of story numbers from 2006-2015 in Hacker News?\n",
    "\n",
    "sqlStatement = \"\"\"\n",
    "SELECT COUNT(id) AS story_num, \n",
    "year(time_ts) as year\n",
    "FROM story\n",
    "GROUP BY year\n",
    "ORDER BY year\n",
    "\"\"\"\n",
    "story_time_df1 = spark.sql(sqlStatement)"
   ]
  },
  {
   "cell_type": "code",
   "execution_count": 23,
   "metadata": {},
   "outputs": [
    {
     "name": "stdout",
     "output_type": "stream",
     "text": [
      "+---------+----+\n",
      "|story_num|year|\n",
      "+---------+----+\n",
      "|       50|2006|\n",
      "|    19761|2007|\n",
      "|    64374|2008|\n",
      "|   102674|2009|\n",
      "|   163267|2010|\n",
      "|   270554|2011|\n",
      "|   292391|2012|\n",
      "|   280221|2013|\n",
      "|   232685|2014|\n",
      "|   195259|2015|\n",
      "+---------+----+\n",
      "\n"
     ]
    }
   ],
   "source": [
    "story_time_df1.show()"
   ]
  },
  {
   "cell_type": "code",
   "execution_count": 24,
   "metadata": {},
   "outputs": [
    {
     "data": {
      "text/plain": [
       "Text(0, 0.5, 'Number')"
      ]
     },
     "execution_count": 24,
     "metadata": {},
     "output_type": "execute_result"
    },
    {
     "data": {
      "image/png": "[encoded data removed]",
      "text/plain": [
       "<Figure size 1008x432 with 1 Axes>"
      ]
     },
     "metadata": {
      "needs_background": "light"
     },
     "output_type": "display_data"
    }
   ],
   "source": [
    "story_time_df1 = story_time_df1.toPandas()\n",
    "story_time_df1.plot(x='year', y='story_num', \n",
    "                    kind=\"bar\",figsize=(14,6),\n",
    "                    title='Stories per year', style = 'ggplot').set_ylabel(\"Number\")"
   ]
  },
  {
   "cell_type": "code",
   "execution_count": 25,
   "metadata": {},
   "outputs": [],
   "source": [
    "# story number distribution in terms of time\n",
    "# What is the most popular/active time during a day in pubulishing a story?\n",
    "\n",
    "sqlStatement = \"\"\"\n",
    "SELECT COUNT(id) AS story_num, \n",
    "hour(time_ts) as hour\n",
    "FROM story\n",
    "GROUP BY hour\n",
    "ORDER BY hour\n",
    "\"\"\"\n",
    "story_time_df2 = spark.sql(sqlStatement)"
   ]
  },
  {
   "cell_type": "code",
   "execution_count": 26,
   "metadata": {},
   "outputs": [
    {
     "name": "stdout",
     "output_type": "stream",
     "text": [
      "+---------+----+\n",
      "|story_num|hour|\n",
      "+---------+----+\n",
      "|    51692|   0|\n",
      "|    49148|   1|\n",
      "|    47439|   2|\n",
      "|    46202|   3|\n",
      "|    45546|   4|\n",
      "|    45242|   5|\n",
      "|    46082|   6|\n",
      "|    45355|   7|\n",
      "|    45927|   8|\n",
      "|    48242|   9|\n",
      "|    49733|  10|\n",
      "|    56605|  11|\n",
      "|    68565|  12|\n",
      "|    83798|  13|\n",
      "|    96685|  14|\n",
      "|   103543|  15|\n",
      "|   106659|  16|\n",
      "|   105078|  17|\n",
      "|    99805|  18|\n",
      "|    91096|  19|\n",
      "|    85227|  20|\n",
      "|    78505|  21|\n",
      "|    67326|  22|\n",
      "|    57736|  23|\n",
      "+---------+----+\n",
      "\n"
     ]
    }
   ],
   "source": [
    "story_time_df2.show(24)"
   ]
  },
  {
   "cell_type": "code",
   "execution_count": 27,
   "metadata": {},
   "outputs": [
    {
     "data": {
      "text/plain": [
       "Text(0, 0.5, 'Number')"
      ]
     },
     "execution_count": 27,
     "metadata": {},
     "output_type": "execute_result"
    },
    {
     "data": {
      "image/png": "[encoded data removed]",
      "text/plain": [
       "<Figure size 1008x432 with 1 Axes>"
      ]
     },
     "metadata": {
      "needs_background": "light"
     },
     "output_type": "display_data"
    }
   ],
   "source": [
    "story_time_df2 = story_time_df2.toPandas()\n",
    "story_time_df2.plot(x='hour', y='story_num', \n",
    "                    kind=\"bar\",figsize=(14,6),\n",
    "                    title='Popular hour').set_ylabel(\"Number\")"
   ]
  },
  {
   "cell_type": "code",
   "execution_count": 28,
   "metadata": {},
   "outputs": [
    {
     "data": {
      "text/plain": [
       "[Row(min(score)=0, max(score)=4339, avg(score)=11.055065394550825)]"
      ]
     },
     "execution_count": 28,
     "metadata": {},
     "output_type": "execute_result"
    }
   ],
   "source": [
    "# score information\n",
    "# what is the average score of those story?\n",
    "spark.sql(\"select min(score),max(score),avg(score) from story\").collect()"
   ]
  },
  {
   "cell_type": "code",
   "execution_count": 29,
   "metadata": {},
   "outputs": [],
   "source": [
    "# author/user information \n",
    "# decending by total_score \n",
    "sqlStatement = \"\"\"SELECT SUM(score) as total_score,author,\n",
    "SUM(descendants) as total_decendants,\n",
    "count(id) as total_stories\n",
    "FROM story\n",
    "GROUP BY author\n",
    "ORDER BY total_score DESC\n",
    "LIMIT 20\n",
    "\"\"\"\n",
    "user_df = spark.sql(sqlStatement)\n",
    "#user_df.createOrReplaceTempView(\"user\")"
   ]
  },
  {
   "cell_type": "code",
   "execution_count": 30,
   "metadata": {
    "scrolled": true
   },
   "outputs": [
    {
     "name": "stdout",
     "output_type": "stream",
     "text": [
      "+-----------+-----------+----------------+-------------+\n",
      "|total_score|     author|total_decendants|total_stories|\n",
      "+-----------+-----------+----------------+-------------+\n",
      "|      75417|ColinWright|           29929|         3615|\n",
      "|      63780| shawndumas|           25448|         6533|\n",
      "|      59469|    llambda|           20136|         2580|\n",
      "|      56597|      fogus|           21058|         2406|\n",
      "|      53341|      danso|           22784|         2592|\n",
      "|      52689|       cwan|           24061|         7058|\n",
      "|      51709|        luu|           19692|         2248|\n",
      "|      48935|  ssclafani|           24024|         1318|\n",
      "|      41234|      evo_9|           15970|         5540|\n",
      "|      41061| Libertatea|           18950|         2232|\n",
      "+-----------+-----------+----------------+-------------+\n",
      "only showing top 10 rows\n",
      "\n"
     ]
    }
   ],
   "source": [
    "user_df.show(10)"
   ]
  },
  {
   "cell_type": "code",
   "execution_count": 31,
   "metadata": {},
   "outputs": [
    {
     "data": {
      "text/plain": [
       "Text(0, 0.5, 'Score')"
      ]
     },
     "execution_count": 31,
     "metadata": {},
     "output_type": "execute_result"
    },
    {
     "data": {
      "image/png": "[encoded data removed]",
      "text/plain": [
       "<Figure size 1008x432 with 1 Axes>"
      ]
     },
     "metadata": {
      "needs_background": "light"
     },
     "output_type": "display_data"
    }
   ],
   "source": [
    "user_df = user_df.toPandas()\n",
    "user_df.sort_values(\"total_score\")[::-1][:10].plot(x=\"author\",y=[\"total_score\", \"total_decendants\", \"total_stories\"], \n",
    "                                                   kind=\"bar\",figsize=(14,6),\n",
    "                                                   title='Top users stats').set_ylabel(\"Score\")"
   ]
  },
  {
   "cell_type": "code",
   "execution_count": 32,
   "metadata": {},
   "outputs": [],
   "source": [
    "# author/user information \n",
    "# decending by total_stories \n",
    "sqlStatement = \"\"\"SELECT SUM(score) as total_score, author,\n",
    "SUM(descendants) as total_decendants,\n",
    "count(id) as total_stories\n",
    "FROM story\n",
    "GROUP BY author\n",
    "ORDER BY total_stories DESC\n",
    "LIMIT 20\n",
    "\"\"\"\n",
    "user_df2 = spark.sql(sqlStatement)"
   ]
  },
  {
   "cell_type": "code",
   "execution_count": 33,
   "metadata": {
    "scrolled": true
   },
   "outputs": [
    {
     "name": "stdout",
     "output_type": "stream",
     "text": [
      "+-----------+-----------+----------------+-------------+\n",
      "|total_score|     author|total_decendants|total_stories|\n",
      "+-----------+-----------+----------------+-------------+\n",
      "|      52689|       cwan|           24061|         7058|\n",
      "|      63780| shawndumas|           25448|         6533|\n",
      "|      41234|      evo_9|           15970|         5540|\n",
      "|      29450|      nickb|           11776|         4300|\n",
      "|      26431|   iProject|           11759|         4262|\n",
      "|      28334|   bootload|           11272|         4132|\n",
      "|      29501|     edw519|           13577|         3809|\n",
      "|      29733|     nreece|           12516|         3682|\n",
      "|      75417|ColinWright|           29929|         3615|\n",
      "|      36203| tokenadult|           19890|         3588|\n",
      "+-----------+-----------+----------------+-------------+\n",
      "only showing top 10 rows\n",
      "\n"
     ]
    }
   ],
   "source": [
    "user_df2.show(10)"
   ]
  },
  {
   "cell_type": "code",
   "execution_count": 34,
   "metadata": {},
   "outputs": [
    {
     "name": "stderr",
     "output_type": "stream",
     "text": [
      "/home/hadoop/miniconda/lib/python3.6/site-packages/pyarrow/pandas_compat.py:752: FutureWarning: .labels was deprecated in version 0.24.0. Use .codes instead.\n",
      "  labels, = index.labels\n"
     ]
    },
    {
     "data": {
      "text/plain": [
       "Text(0, 0.5, 'Stories')"
      ]
     },
     "execution_count": 34,
     "metadata": {},
     "output_type": "execute_result"
    },
    {
     "data": {
      "image/png": "[encoded data removed]",
      "text/plain": [
       "<Figure size 1008x432 with 1 Axes>"
      ]
     },
     "metadata": {
      "needs_background": "light"
     },
     "output_type": "display_data"
    }
   ],
   "source": [
    "user_df2 = user_df2.toPandas()\n",
    "user_df2.sort_values(\"total_stories\")[::-1][:10].plot(x=\"author\",y=[\"total_score\", \"total_decendants\", \"total_stories\"], \n",
    "                                                   kind=\"bar\",figsize=(14,6),\n",
    "                                                   title='Top users stats').set_ylabel(\"Stories\")"
   ]
  },
  {
   "cell_type": "code",
   "execution_count": 35,
   "metadata": {},
   "outputs": [],
   "source": [
    "# author/user information \n",
    "# decending by avg_score \n",
    "sqlStatement = \"\"\"SELECT SUM(score) as total_score, author,\n",
    "SUM(descendants) as total_decendants, SUM(score)/count(id) as avg_score,\n",
    "count(id) as total_stories\n",
    "FROM story\n",
    "GROUP BY author\n",
    "ORDER BY avg_score DESC\n",
    "LIMIT 20\n",
    "\"\"\"\n",
    "user_df3 = spark.sql(sqlStatement)"
   ]
  },
  {
   "cell_type": "code",
   "execution_count": 36,
   "metadata": {
    "scrolled": true
   },
   "outputs": [
    {
     "name": "stdout",
     "output_type": "stream",
     "text": [
      "+-----------+---------------+----------------+---------+-------------+\n",
      "|total_score|         author|total_decendants|avg_score|total_stories|\n",
      "+-----------+---------------+----------------+---------+-------------+\n",
      "|       1543|    realfuncode|             526|   1543.0|            1|\n",
      "|       2905|     frederfred|             412|   1452.5|            2|\n",
      "|       1282|          rcina|             249|   1282.0|            1|\n",
      "|       1257|         kvargs|             558|   1257.0|            1|\n",
      "|       1248|        mmebane|             267|   1248.0|            1|\n",
      "|       1227|FlemishBeeCycle|             444|   1227.0|            1|\n",
      "|       1172|     hannahmitt|             136|   1172.0|            1|\n",
      "|       1125|  afraidofadria|             985|   1125.0|            1|\n",
      "|       4354|   patricktomas|             385|   1088.5|            4|\n",
      "|       1032|       ikeellis|             542|   1032.0|            1|\n",
      "+-----------+---------------+----------------+---------+-------------+\n",
      "only showing top 10 rows\n",
      "\n"
     ]
    }
   ],
   "source": [
    "user_df3.show(10)"
   ]
  },
  {
   "cell_type": "code",
   "execution_count": 37,
   "metadata": {},
   "outputs": [
    {
     "name": "stderr",
     "output_type": "stream",
     "text": [
      "/home/hadoop/miniconda/lib/python3.6/site-packages/pyarrow/pandas_compat.py:752: FutureWarning: .labels was deprecated in version 0.24.0. Use .codes instead.\n",
      "  labels, = index.labels\n"
     ]
    },
    {
     "data": {
      "text/plain": [
       "Text(0, 0.5, 'Score')"
      ]
     },
     "execution_count": 37,
     "metadata": {},
     "output_type": "execute_result"
    },
    {
     "data": {
      "image/png": "[encoded data removed]",
      "text/plain": [
       "<Figure size 1008x432 with 1 Axes>"
      ]
     },
     "metadata": {
      "needs_background": "light"
     },
     "output_type": "display_data"
    }
   ],
   "source": [
    "user_df3 = user_df3.toPandas()\n",
    "user_df3.sort_values(\"avg_score\")[::-1][:10].plot(x=\"author\",y=[\"total_score\", \"total_decendants\", \"total_stories\", 'avg_score'], \n",
    "                                                   kind=\"bar\",figsize=(14,6),\n",
    "                                                   title='Top users stats').set_ylabel(\"Score\")"
   ]
  },
  {
   "cell_type": "code",
   "execution_count": 38,
   "metadata": {},
   "outputs": [],
   "source": [
    "# if there is bias on YC\n",
    "sqlStatement = \"\"\"\n",
    "SELECT score, title,id\n",
    "FROM `story`\n",
    "WHERE title like \"%Y Combinator%\" or title like \"%YCombinator%\" or title like \"%ycombinator%\" or title like \"%y combinator%\"\n",
    "ORDER BY score  DESC\n",
    "\"\"\"\n",
    "YC_df = spark.sql(sqlStatement)"
   ]
  },
  {
   "cell_type": "code",
   "execution_count": 39,
   "metadata": {},
   "outputs": [
    {
     "name": "stdout",
     "output_type": "stream",
     "text": [
      "+-----+--------------------+-------+\n",
      "|score|               title|     id|\n",
      "+-----+--------------------+-------+\n",
      "| 1065|Y Combinator is f...|5059806|\n",
      "|  841|Y Combinator has ...|8033322|\n",
      "|  705|Meet Watsi, Y Com...|5117385|\n",
      "|  687|New: Apply to Y C...|3700712|\n",
      "|  589|How I Got Kicked ...|2208155|\n",
      "|  550|Benefits matter, ...|5409273|\n",
      "|  549|What Happens At Y...|1733236|\n",
      "|  542|How Y Combinator ...|3711008|\n",
      "|  506|Y Combinator Numbers|2608440|\n",
      "|  432|New Y Combinator ...|7972138|\n",
      "|  425|Yuri Milner, SV A...|2154706|\n",
      "|  380|Y Combinator And ...|8178450|\n",
      "|  379|How I Crashed and...|8867335|\n",
      "|  368|Early Photos of Y...|2942958|\n",
      "|  366|Investment Firm Y...|3492711|\n",
      "|  344|Y Combinator anno...|1898432|\n",
      "|  342|Offer HN now at n...|1840060|\n",
      "|  334|Startup developin...|7108684|\n",
      "|  310|TempleOS is apply...|9246855|\n",
      "|  310|Applications open...|3515307|\n",
      "+-----+--------------------+-------+\n",
      "only showing top 20 rows\n",
      "\n"
     ]
    },
    {
     "data": {
      "text/plain": [
       "2499"
      ]
     },
     "execution_count": 39,
     "metadata": {},
     "output_type": "execute_result"
    }
   ],
   "source": [
    "YC_df.distinct().show()\n",
    "YC_df.distinct().count()"
   ]
  },
  {
   "cell_type": "code",
   "execution_count": 40,
   "metadata": {},
   "outputs": [
    {
     "name": "stderr",
     "output_type": "stream",
     "text": [
      "/home/hadoop/miniconda/lib/python3.6/site-packages/pyarrow/pandas_compat.py:752: FutureWarning: .labels was deprecated in version 0.24.0. Use .codes instead.\n",
      "  labels, = index.labels\n"
     ]
    },
    {
     "data": {
      "text/plain": [
       "Text(0, 0.5, 'Score')"
      ]
     },
     "execution_count": 40,
     "metadata": {},
     "output_type": "execute_result"
    },
    {
     "data": {
      "image/png": "[encoded data removed]",
      "text/plain": [
       "<Figure size 1008x432 with 1 Axes>"
      ]
     },
     "metadata": {
      "needs_background": "light"
     },
     "output_type": "display_data"
    }
   ],
   "source": [
    "YC_df = YC_df.distinct().toPandas()\n",
    "YC_df.sort_values(\"score\")[::-1][:10].plot(x=\"title\",y=[\"score\"], \n",
    "                                                   kind=\"bar\",figsize=(14,6),\n",
    "                                                   title='Top scoring YC Stories').set_ylabel(\"Score\")"
   ]
  },
  {
   "cell_type": "code",
   "execution_count": 41,
   "metadata": {},
   "outputs": [],
   "source": [
    "# stories of major companies over the year\n",
    "# apple\n",
    "sqlStatement = \"\"\"\n",
    "SELECT count(*) as total_stories, SUM(score) as total_score,\n",
    "year(time_ts) as year\n",
    "FROM story\n",
    "WHERE title like \"%apple%\" or title like \"%APPLE\" or title like \"%Apple\"\n",
    "GROUP BY year\n",
    "ORDER BY year\n",
    "\"\"\"\n",
    "Comp_df1 = spark.sql(sqlStatement)"
   ]
  },
  {
   "cell_type": "code",
   "execution_count": 42,
   "metadata": {},
   "outputs": [
    {
     "name": "stdout",
     "output_type": "stream",
     "text": [
      "+-------------+-----------+----+\n",
      "|total_stories|total_score|year|\n",
      "+-------------+-----------+----+\n",
      "|            1|          7|2006|\n",
      "|           27|        105|2007|\n",
      "|           42|        323|2008|\n",
      "|           84|        774|2009|\n",
      "|          187|       1946|2010|\n",
      "|          340|       5223|2011|\n",
      "|          373|       4861|2012|\n",
      "|          258|       2301|2013|\n",
      "|          154|       2237|2014|\n",
      "|          134|       3611|2015|\n",
      "+-------------+-----------+----+\n",
      "\n"
     ]
    }
   ],
   "source": [
    "Comp_df1.distinct().show()"
   ]
  },
  {
   "cell_type": "code",
   "execution_count": 43,
   "metadata": {},
   "outputs": [
    {
     "name": "stderr",
     "output_type": "stream",
     "text": [
      "/home/hadoop/miniconda/lib/python3.6/site-packages/pyarrow/pandas_compat.py:752: FutureWarning: .labels was deprecated in version 0.24.0. Use .codes instead.\n",
      "  labels, = index.labels\n"
     ]
    },
    {
     "data": {
      "text/plain": [
       "Text(0, 0.5, 'Stories')"
      ]
     },
     "execution_count": 43,
     "metadata": {},
     "output_type": "execute_result"
    },
    {
     "data": {
      "image/png": "[encoded data removed]",
      "text/plain": [
       "<Figure size 1008x432 with 1 Axes>"
      ]
     },
     "metadata": {
      "needs_background": "light"
     },
     "output_type": "display_data"
    }
   ],
   "source": [
    "Comp_df1 = Comp_df1.toPandas()\n",
    "Comp_df1.plot(x=\"year\",y=[\"total_stories\", 'total_score'], \n",
    "              kind=\"bar\",figsize=(14,6),\n",
    "              title='Stories of Apple over years').set_ylabel(\"Stories\")"
   ]
  },
  {
   "cell_type": "code",
   "execution_count": 44,
   "metadata": {},
   "outputs": [],
   "source": [
    "# stories of major companies over the year\n",
    "# google\n",
    "sqlStatement = \"\"\"\n",
    "SELECT count(*) as total_stories, SUM(score) as total_score,\n",
    "year(time_ts) as year\n",
    "FROM story\n",
    "WHERE title like \"%google%\" or title like \"%GOOGLE\" or title like \"%Google\"\n",
    "GROUP BY year\n",
    "ORDER BY year\n",
    "\"\"\"\n",
    "Comp_df2 = spark.sql(sqlStatement)"
   ]
  },
  {
   "cell_type": "code",
   "execution_count": 45,
   "metadata": {},
   "outputs": [
    {
     "name": "stdout",
     "output_type": "stream",
     "text": [
      "+-------------+-----------+----+\n",
      "|total_stories|total_score|year|\n",
      "+-------------+-----------+----+\n",
      "|            1|          1|2006|\n",
      "|           99|        490|2007|\n",
      "|          179|       1155|2008|\n",
      "|          415|       3275|2009|\n",
      "|          521|       6786|2010|\n",
      "|          491|       8873|2011|\n",
      "|          455|       7188|2012|\n",
      "|          454|      10730|2013|\n",
      "|          365|       7734|2014|\n",
      "|          303|       9052|2015|\n",
      "+-------------+-----------+----+\n",
      "\n"
     ]
    }
   ],
   "source": [
    "Comp_df2.distinct().show()"
   ]
  },
  {
   "cell_type": "code",
   "execution_count": 46,
   "metadata": {},
   "outputs": [
    {
     "data": {
      "text/plain": [
       "Text(0, 0.5, 'Stories')"
      ]
     },
     "execution_count": 46,
     "metadata": {},
     "output_type": "execute_result"
    },
    {
     "data": {
      "image/png": "[encoded data removed]",
      "text/plain": [
       "<Figure size 1008x432 with 1 Axes>"
      ]
     },
     "metadata": {
      "needs_background": "light"
     },
     "output_type": "display_data"
    }
   ],
   "source": [
    "Comp_df2 = Comp_df2.toPandas()\n",
    "Comp_df2.plot(x=\"year\",y=[\"total_stories\", 'total_score'], \n",
    "              kind=\"bar\",figsize=(14,6),\n",
    "              title='Stories of Google over years').set_ylabel(\"Stories\")"
   ]
  },
  {
   "cell_type": "code",
   "execution_count": 47,
   "metadata": {},
   "outputs": [],
   "source": [
    "# stories of major companies over the year\n",
    "# uber\n",
    "sqlStatement = \"\"\"\n",
    "SELECT count(*) as total_stories, SUM(score) as total_score,\n",
    "year(time_ts) as year\n",
    "FROM story\n",
    "WHERE title like \"%uber%\" or title like \"%UBER\" or title like \"%Uber\"\n",
    "GROUP BY year\n",
    "ORDER BY year\n",
    "\"\"\"\n",
    "Comp_df3 = spark.sql(sqlStatement)"
   ]
  },
  {
   "cell_type": "code",
   "execution_count": 48,
   "metadata": {},
   "outputs": [
    {
     "name": "stdout",
     "output_type": "stream",
     "text": [
      "+-------------+-----------+----+\n",
      "|total_stories|total_score|year|\n",
      "+-------------+-----------+----+\n",
      "|            3|          3|2007|\n",
      "|           21|        196|2008|\n",
      "|           22|        953|2009|\n",
      "|           58|       1109|2010|\n",
      "|           66|        957|2011|\n",
      "|           57|        873|2012|\n",
      "|           62|        518|2013|\n",
      "|          215|       2697|2014|\n",
      "|          267|       3240|2015|\n",
      "+-------------+-----------+----+\n",
      "\n"
     ]
    }
   ],
   "source": [
    "Comp_df3.distinct().show()"
   ]
  },
  {
   "cell_type": "code",
   "execution_count": 49,
   "metadata": {},
   "outputs": [
    {
     "data": {
      "text/plain": [
       "Text(0, 0.5, 'Stories')"
      ]
     },
     "execution_count": 49,
     "metadata": {},
     "output_type": "execute_result"
    },
    {
     "data": {
      "image/png": "[encoded data removed]",
      "text/plain": [
       "<Figure size 1008x432 with 1 Axes>"
      ]
     },
     "metadata": {
      "needs_background": "light"
     },
     "output_type": "display_data"
    }
   ],
   "source": [
    "Comp_df3 = Comp_df3.toPandas()\n",
    "Comp_df3.plot(x=\"year\",y=[\"total_stories\", 'total_score'], \n",
    "              kind=\"bar\",figsize=(14,6),\n",
    "              title='Stories of Uber over years').set_ylabel(\"Stories\")"
   ]
  },
  {
   "cell_type": "code",
   "execution_count": null,
   "metadata": {},
   "outputs": [],
   "source": []
  },
  {
   "cell_type": "markdown",
   "metadata": {},
   "source": [
    "# 2. COMMENTS"
   ]
  },
  {
   "cell_type": "code",
   "execution_count": 50,
   "metadata": {},
   "outputs": [],
   "source": [
    "# read in the dataset comments\n",
    "data_df2 = spark.read\\\n",
    "  .format('csv')\\\n",
    "  .option('header', 'true')\\\n",
    "  .option('inferSchema', 'true')\\\n",
    "  .load('s3://chingsez/Final/comments.csv')"
   ]
  },
  {
   "cell_type": "code",
   "execution_count": 51,
   "metadata": {},
   "outputs": [
    {
     "name": "stdout",
     "output_type": "stream",
     "text": [
      "+--------------------+-------+------+----------+--------------------+--------------------+--------------------+--------------------+-------+-------+\n",
      "|                  id|     by|author|      time|             time_ts|                text|              parent|             deleted|   dead|ranking|\n",
      "+--------------------+-------+------+----------+--------------------+--------------------+--------------------+--------------------+-------+-------+\n",
      "|             2701393|     5l|    5l|1309184881|2011-06-27 14:28:...|And the glazier w...|             2701243|                null|   null|      0|\n",
      "|             5811403|     99|    99|1370234048|2013-06-03 04:34:...|Does canada have ...|             5804452|                null|   null|      0|\n",
      "|               21623|     AF|    AF|1178992400|2007-05-12 17:53:...|\"Speaking of Rail...|               21611|                null|   null|      0|\n",
      "|            10159727|     EA|    EA|1441206574|2015-09-02 15:09:...|Humans and large ...|            10159396|                null|   null|      0|\n",
      "|             2988424|     Iv|    Iv|1315853580|2011-09-12 18:53:...|I must say I reac...|             2988179|                null|   null|      0|\n",
      "|             3867418|     Iv|    Iv|1334921984|2012-04-20 11:39:...|&#62; There's a w...|             3867404|                null|   null|      0|\n",
      "|             3925617|     Iv|    Iv|1336076765|2012-05-03 20:26:...|I'm also in this ...|             3924840|                null|   null|      0|\n",
      "|             3107534|     Iv|    Iv|1318520044|2011-10-13 15:34:...|how do you run un...|                null|                null|   null|   null|\n",
      "|It has always ref...|3107241|  null|      null|                   0|                null|                null|                null|   null|   null|\n",
      "|             8409259|     Iv|    Iv|1412421647|2014-10-04 11:20:...|Polio is not exte...|             8409226|                null|   null|      0|\n",
      "|             2855741|     Jd|    Jd|1312690646|2011-08-07 04:17:...|\"Yep, I didn't fi...| but nothing that...| it may not be th...|2855343|   null|\n",
      "|               50570|     Jd|    Jd|1189011845|2007-09-05 17:04:...|It was a risky jo...|               50556|                null|   null|      0|\n",
      "|             2600618|     Jd|    Jd|1306794854|2011-05-30 22:34:...|\"Looks good, ther...|             2600609|                null|   null|      0|\n",
      "|             2600423|     Jd|    Jd|1306789205|2011-05-30 21:00:...|A bit, but so muc...|             2599323|                null|   null|      0|\n",
      "|             1983932|     Jd|    Jd|1291831945|2010-12-08 18:12:...|I also agree with...|             1979965|                null|   null|      0|\n",
      "|             5824036|     Jd|    Jd|1370414140|2013-06-05 06:35:...|Sadly doesn't pro...|             5824021|                null|   null|      0|\n",
      "|               73111|     Jd|    Jd|1193467001|2007-10-27 06:36:...|Feferman usefully...|               73107|                null|   null|      0|\n",
      "|             4569290|     Jd|    Jd|1348562302|2012-09-25 08:38:...|\"Here are my take...|             4569255|                null|   null|      0|\n",
      "|              319968|     KB|    KB|1222805047|2008-09-30 20:04:...|\"You may find a f...|              319943|                null|   null|      0|\n",
      "|             9699296|     M8|    M8|1434026580|2015-06-11 12:43:...|       For instance?|             9698927|                null|   null|      0|\n",
      "+--------------------+-------+------+----------+--------------------+--------------------+--------------------+--------------------+-------+-------+\n",
      "only showing top 20 rows\n",
      "\n"
     ]
    }
   ],
   "source": [
    "data_df2.show()"
   ]
  },
  {
   "cell_type": "code",
   "execution_count": 52,
   "metadata": {},
   "outputs": [
    {
     "name": "stdout",
     "output_type": "stream",
     "text": [
      "root\n",
      " |-- id: string (nullable = true)\n",
      " |-- by: string (nullable = true)\n",
      " |-- author: string (nullable = true)\n",
      " |-- time: string (nullable = true)\n",
      " |-- time_ts: string (nullable = true)\n",
      " |-- text: string (nullable = true)\n",
      " |-- parent: string (nullable = true)\n",
      " |-- deleted: string (nullable = true)\n",
      " |-- dead: string (nullable = true)\n",
      " |-- ranking: string (nullable = true)\n",
      "\n"
     ]
    }
   ],
   "source": [
    "data_df2.printSchema()"
   ]
  },
  {
   "cell_type": "code",
   "execution_count": 53,
   "metadata": {},
   "outputs": [
    {
     "data": {
      "text/plain": [
       "9796725"
      ]
     },
     "execution_count": 53,
     "metadata": {},
     "output_type": "execute_result"
    }
   ],
   "source": [
    "data_df2.count()"
   ]
  },
  {
   "cell_type": "code",
   "execution_count": 54,
   "metadata": {},
   "outputs": [],
   "source": [
    "#Set data type\n",
    "comment_df = data_df2.select(\n",
    "                     data_df2['id'].cast(IntegerType()),                    \n",
    "                     data_df2['time_ts'].cast('timestamp'),                  \n",
    "                     data_df2['text'],\n",
    "                     data_df2['parent'].cast(IntegerType()),\n",
    "                     #data_df2['deleted'],\n",
    "                     #data_df2['dead'],\n",
    "                     data_df2['author'],\n",
    "                     data_df2['ranking'].cast(IntegerType())\n",
    "\n",
    "                             )\n",
    "comment_df.printSchema()"
   ]
  },
  {
   "cell_type": "code",
   "execution_count": 56,
   "metadata": {},
   "outputs": [
    {
     "name": "stdout",
     "output_type": "stream",
     "text": [
      "+--------+-------------------+--------------------+--------+------+-------+\n",
      "|      id|            time_ts|                text|  parent|author|ranking|\n",
      "+--------+-------------------+--------------------+--------+------+-------+\n",
      "| 2701393|2011-06-27 14:28:01|And the glazier w...| 2701243|    5l|      0|\n",
      "| 5811403|2013-06-03 04:34:08|Does canada have ...| 5804452|    99|      0|\n",
      "|   21623|2007-05-12 17:53:20|\"Speaking of Rail...|   21611|    AF|      0|\n",
      "|10159727|2015-09-02 15:09:34|Humans and large ...|10159396|    EA|      0|\n",
      "| 2988424|2011-09-12 18:53:00|I must say I reac...| 2988179|    Iv|      0|\n",
      "| 3867418|2012-04-20 11:39:44|&#62; There's a w...| 3867404|    Iv|      0|\n",
      "| 3925617|2012-05-03 20:26:05|I'm also in this ...| 3924840|    Iv|      0|\n",
      "| 3107534|2011-10-13 15:34:04|how do you run un...|    null|    Iv|   null|\n",
      "|    null|               null|                null|    null|  null|   null|\n",
      "| 8409259|2014-10-04 11:20:47|Polio is not exte...| 8409226|    Iv|      0|\n",
      "+--------+-------------------+--------------------+--------+------+-------+\n",
      "only showing top 10 rows\n",
      "\n"
     ]
    }
   ],
   "source": [
    "comment_df.show(10)"
   ]
  },
  {
   "cell_type": "code",
   "execution_count": 64,
   "metadata": {},
   "outputs": [
    {
     "data": {
      "text/plain": [
       "8399564"
      ]
     },
     "execution_count": 64,
     "metadata": {},
     "output_type": "execute_result"
    }
   ],
   "source": [
    "comment_df.createOrReplaceTempView('ini_comment')\n",
    "comment_df.select(\"id\").distinct().count()"
   ]
  },
  {
   "cell_type": "code",
   "execution_count": 59,
   "metadata": {},
   "outputs": [],
   "source": [
    "#Get clean comments dataset\n",
    "clean_comment_df = spark.sql('select * from ini_comment where id is not NULL and time_ts is not NULL and text is not NULL and author is not NULL and ranking is not NULL')\n",
    "clean_comment_df.createOrReplaceTempView('comment')"
   ]
  },
  {
   "cell_type": "code",
   "execution_count": 67,
   "metadata": {},
   "outputs": [
    {
     "name": "stdout",
     "output_type": "stream",
     "text": [
      "6986995\n",
      "+--------+-------------------+--------------------+--------+------+-------+\n",
      "|      id|            time_ts|                text|  parent|author|ranking|\n",
      "+--------+-------------------+--------------------+--------+------+-------+\n",
      "| 2701393|2011-06-27 14:28:01|And the glazier w...| 2701243|    5l|      0|\n",
      "| 5811403|2013-06-03 04:34:08|Does canada have ...| 5804452|    99|      0|\n",
      "|   21623|2007-05-12 17:53:20|\"Speaking of Rail...|   21611|    AF|      0|\n",
      "|10159727|2015-09-02 15:09:34|Humans and large ...|10159396|    EA|      0|\n",
      "| 2988424|2011-09-12 18:53:00|I must say I reac...| 2988179|    Iv|      0|\n",
      "| 3867418|2012-04-20 11:39:44|&#62; There's a w...| 3867404|    Iv|      0|\n",
      "| 3925617|2012-05-03 20:26:05|I'm also in this ...| 3924840|    Iv|      0|\n",
      "| 8409259|2014-10-04 11:20:47|Polio is not exte...| 8409226|    Iv|      0|\n",
      "|   50570|2007-09-05 17:04:05|It was a risky jo...|   50556|    Jd|      0|\n",
      "| 2600618|2011-05-30 22:34:14|\"Looks good, ther...| 2600609|    Jd|      0|\n",
      "+--------+-------------------+--------------------+--------+------+-------+\n",
      "only showing top 10 rows\n",
      "\n"
     ]
    }
   ],
   "source": [
    "#count and show top 10 of the dataset\n",
    "print(clean_comment_df.count())\n",
    "clean_comment_df.show(10)"
   ]
  },
  {
   "cell_type": "code",
   "execution_count": 72,
   "metadata": {},
   "outputs": [],
   "source": [
    "# comment author/user information \n",
    "# who are the most contributive authors in Hacker News ?\n",
    "## futhur to be done——can be joined with the most contirbutive authors in story\n",
    "\n",
    "sqlStatement = \"\"\"SELECT author,\n",
    "        COUNT(id) AS total_comments\n",
    "        From comment\n",
    "        GROUP BY author\n",
    "        ORDER BY total_comments DESC\n",
    "        LIMIT 20\n",
    "\"\"\"\n",
    "comment_user_df = spark.sql(sqlStatement)"
   ]
  },
  {
   "cell_type": "code",
   "execution_count": 73,
   "metadata": {},
   "outputs": [
    {
     "name": "stdout",
     "output_type": "stream",
     "text": [
      "+------------+--------------+\n",
      "|      author|total_comments|\n",
      "+------------+--------------+\n",
      "|     tptacek|         28605|\n",
      "|    jacquesm|         19845|\n",
      "|       DanBC|         10992|\n",
      "|    jrockway|         10679|\n",
      "|   anigbrowl|         10490|\n",
      "|dragonwriter|         10203|\n",
      "|         eru|          9979|\n",
      "|     rbanffy|          9634|\n",
      "|       sp332|          9547|\n",
      "|     rayiner|          9403|\n",
      "+------------+--------------+\n",
      "only showing top 10 rows\n",
      "\n"
     ]
    }
   ],
   "source": [
    "# show top 10\n",
    "comment_user_df.show(10)"
   ]
  },
  {
   "cell_type": "code",
   "execution_count": 74,
   "metadata": {},
   "outputs": [
    {
     "name": "stderr",
     "output_type": "stream",
     "text": [
      "/home/hadoop/miniconda/lib/python3.6/site-packages/pyarrow/pandas_compat.py:752: FutureWarning: .labels was deprecated in version 0.24.0. Use .codes instead.\n",
      "  labels, = index.labels\n"
     ]
    },
    {
     "data": {
      "text/plain": [
       "Text(0, 0.5, 'Comments')"
      ]
     },
     "execution_count": 74,
     "metadata": {},
     "output_type": "execute_result"
    },
    {
     "data": {
      "image/png": "[encoded data removed]",
      "text/plain": [
       "<Figure size 1008x432 with 1 Axes>"
      ]
     },
     "metadata": {
      "needs_background": "light"
     },
     "output_type": "display_data"
    }
   ],
   "source": [
    "comment_user_df = comment_user_df.toPandas()\n",
    "comment_user_df.sort_values(\"total_comments\")[::-1][:10].plot(x=\"author\",y='total_comments', \n",
    "                                                   kind=\"bar\",figsize=(14,6),\n",
    "                                                   title='Top user for comments').set_ylabel(\"Comments\")"
   ]
  },
  {
   "cell_type": "code",
   "execution_count": 75,
   "metadata": {},
   "outputs": [],
   "source": [
    "# comment distribution in terms of time\n",
    "# What is the trend of comment numbers from 2006-2016 in Hacker News?\n",
    "\n",
    "sqlStatement = \"\"\"\n",
    "SELECT COUNT(id) AS comment_num, \n",
    "year(time_ts) as year\n",
    "FROM comment\n",
    "GROUP BY year\n",
    "ORDER BY year\n",
    "\"\"\"\n",
    "comment_time_df2 = spark.sql(sqlStatement)"
   ]
  },
  {
   "cell_type": "code",
   "execution_count": 76,
   "metadata": {},
   "outputs": [
    {
     "name": "stdout",
     "output_type": "stream",
     "text": [
      "+-----------+----+\n",
      "|comment_num|year|\n",
      "+-----------+----+\n",
      "|         10|2006|\n",
      "|      50982|2007|\n",
      "|     195678|2008|\n",
      "|     382490|2009|\n",
      "|     658846|2010|\n",
      "|     816999|2011|\n",
      "|     975306|2012|\n",
      "|    1415381|2013|\n",
      "|    1348324|2014|\n",
      "|    1142979|2015|\n",
      "+-----------+----+\n",
      "\n"
     ]
    }
   ],
   "source": [
    "comment_time_df2.show()"
   ]
  },
  {
   "cell_type": "code",
   "execution_count": 77,
   "metadata": {},
   "outputs": [
    {
     "name": "stderr",
     "output_type": "stream",
     "text": [
      "/home/hadoop/miniconda/lib/python3.6/site-packages/pyarrow/pandas_compat.py:752: FutureWarning: .labels was deprecated in version 0.24.0. Use .codes instead.\n",
      "  labels, = index.labels\n"
     ]
    },
    {
     "data": {
      "text/plain": [
       "Text(0, 0.5, 'Comments')"
      ]
     },
     "execution_count": 77,
     "metadata": {},
     "output_type": "execute_result"
    },
    {
     "data": {
      "image/png": "[encoded data removed]",
      "text/plain": [
       "<Figure size 1008x432 with 1 Axes>"
      ]
     },
     "metadata": {
      "needs_background": "light"
     },
     "output_type": "display_data"
    }
   ],
   "source": [
    "comment_time_df2 = comment_time_df2.toPandas()\n",
    "comment_time_df2.plot(x=\"year\",y='comment_num', \n",
    "                     kind=\"bar\",figsize=(14,6),\n",
    "                     title='Comments over years').set_ylabel(\"Comments\")"
   ]
  },
  {
   "cell_type": "code",
   "execution_count": 78,
   "metadata": {},
   "outputs": [],
   "source": [
    "# comment distribution in terms of time\n",
    "# What is the most popular/active time during a day in pubulishing a comment?\n",
    "\n",
    "sqlStatement = \"\"\"\n",
    "SELECT COUNT(id) AS comment_num, \n",
    "hour(time_ts) as hour\n",
    "FROM comment\n",
    "GROUP BY hour\n",
    "ORDER BY hour\n",
    "\"\"\"\n",
    "comment_time_df = spark.sql(sqlStatement)"
   ]
  },
  {
   "cell_type": "code",
   "execution_count": 79,
   "metadata": {},
   "outputs": [
    {
     "name": "stdout",
     "output_type": "stream",
     "text": [
      "+-----------+----+\n",
      "|comment_num|hour|\n",
      "+-----------+----+\n",
      "|     276703|   0|\n",
      "|     251256|   1|\n",
      "|     236036|   2|\n",
      "|     224956|   3|\n",
      "|     210740|   4|\n",
      "|     192913|   5|\n",
      "|     180795|   6|\n",
      "|     172147|   7|\n",
      "|     170884|   8|\n",
      "|     168104|   9|\n",
      "|     164236|  10|\n",
      "|     180141|  11|\n",
      "|     224367|  12|\n",
      "|     295136|  13|\n",
      "|     365798|  14|\n",
      "|     413518|  15|\n",
      "|     437369|  16|\n",
      "|     451259|  17|\n",
      "|     450094|  18|\n",
      "|     433640|  19|\n",
      "|     421504|  20|\n",
      "|     398429|  21|\n",
      "|     353708|  22|\n",
      "|     313262|  23|\n",
      "+-----------+----+\n",
      "\n"
     ]
    }
   ],
   "source": [
    "comment_time_df.show(24)"
   ]
  },
  {
   "cell_type": "code",
   "execution_count": 80,
   "metadata": {},
   "outputs": [
    {
     "data": {
      "text/plain": [
       "Text(0, 0.5, 'Comments')"
      ]
     },
     "execution_count": 80,
     "metadata": {},
     "output_type": "execute_result"
    },
    {
     "data": {
      "image/png": "[encoded data removed]",
      "text/plain": [
       "<Figure size 1008x432 with 1 Axes>"
      ]
     },
     "metadata": {
      "needs_background": "light"
     },
     "output_type": "display_data"
    }
   ],
   "source": [
    "comment_time_df = comment_time_df.toPandas()\n",
    "comment_time_df.plot(x=\"hour\",y='comment_num', \n",
    "                     kind=\"bar\",figsize=(14,6),\n",
    "                     title='Comments over hours').set_ylabel(\"Comments\")"
   ]
  },
  {
   "cell_type": "code",
   "execution_count": 81,
   "metadata": {},
   "outputs": [],
   "source": [
    "# top(the hottest) comments with the most follow-up comment \n",
    "sqlStatement = \"\"\"\n",
    "SELECT COUNT(id) AS followup_num, \n",
    "parent\n",
    "FROM comment\n",
    "WHERE parent is not NULL\n",
    "GROUP BY parent\n",
    "ORDER BY followup_num DESC\n",
    "LIMIT 20\n",
    "\"\"\"\n",
    "comment_parent_df1 = spark.sql(sqlStatement)"
   ]
  },
  {
   "cell_type": "code",
   "execution_count": 82,
   "metadata": {},
   "outputs": [
    {
     "name": "stdout",
     "output_type": "stream",
     "text": [
      "+------------+--------+\n",
      "|followup_num|  parent|\n",
      "+------------+--------+\n",
      "|         975|     363|\n",
      "|         266| 7469115|\n",
      "|         266| 9996333|\n",
      "|         264| 9238839|\n",
      "|         262| 9812245|\n",
      "|         243| 7445761|\n",
      "|         241|10152809|\n",
      "|         239|  752262|\n",
      "|         234| 9471287|\n",
      "|         228| 9303396|\n",
      "+------------+--------+\n",
      "only showing top 10 rows\n",
      "\n"
     ]
    }
   ],
   "source": [
    "# show top 10\n",
    "comment_parent_df1.show(10)"
   ]
  },
  {
   "cell_type": "code",
   "execution_count": 83,
   "metadata": {},
   "outputs": [
    {
     "data": {
      "text/plain": [
       "Text(0, 0.5, 'Follow-up')"
      ]
     },
     "execution_count": 83,
     "metadata": {},
     "output_type": "execute_result"
    },
    {
     "data": {
      "image/png": "[encoded data removed]",
      "text/plain": [
       "<Figure size 1008x432 with 1 Axes>"
      ]
     },
     "metadata": {
      "needs_background": "light"
     },
     "output_type": "display_data"
    }
   ],
   "source": [
    "comment_parent_df1 = comment_parent_df1.toPandas()\n",
    "comment_parent_df1.plot(x=\"parent\",y='followup_num', \n",
    "                     kind=\"bar\",figsize=(14,6),\n",
    "                     title='Hottest comments').set_ylabel(\"Follow-up\")"
   ]
  },
  {
   "cell_type": "code",
   "execution_count": 84,
   "metadata": {},
   "outputs": [
    {
     "data": {
      "text/plain": [
       "[Row(min(ranking)=-1051, max(ranking)=1131019295, avg(ranking)=58481.1891668736)]"
      ]
     },
     "execution_count": 84,
     "metadata": {},
     "output_type": "execute_result"
    }
   ],
   "source": [
    "# ranking information\n",
    "# what is the average ranking of those comments?\n",
    "\n",
    "spark.sql(\"select min(ranking),max(ranking),avg(ranking) from comment\").collect()"
   ]
  },
  {
   "cell_type": "code",
   "execution_count": null,
   "metadata": {},
   "outputs": [],
   "source": []
  },
  {
   "cell_type": "markdown",
   "metadata": {},
   "source": [
    "# Feature Engineering"
   ]
  },
  {
   "cell_type": "code",
   "execution_count": 85,
   "metadata": {},
   "outputs": [],
   "source": [
    "#Extract the 'day of week', 'year', 'month' information from the 'time_ts' column\n",
    "story = clean_story_df.withColumn('year', year('time_ts'))\n",
    "story = story.withColumn('month', month('time_ts'))\n",
    "story = story.withColumn('dayofweek', dayofweek('time_ts'))"
   ]
  },
  {
   "cell_type": "code",
   "execution_count": 86,
   "metadata": {},
   "outputs": [
    {
     "name": "stdout",
     "output_type": "stream",
     "text": [
      "+-------+-----+-------------------+--------------------+--------------------+--------------------+-------+----+-----------+------------+----+-----+---------+\n",
      "|     id|score|            time_ts|               title|                 url|                text|deleted|dead|descendants|      author|year|month|dayofweek|\n",
      "+-------+-----+-------------------+--------------------+--------------------+--------------------+-------+----+-----------+------------+----+-----+---------+\n",
      "|1531556|    0|2010-07-20 09:13:54|New UI for Google...|http://googlesyst...|Again following o...|   null|null|          0|         ssn|2010|    7|        3|\n",
      "|5012398|    0|2013-01-05 12:11:17|Historic website ...|http://webscrapin...|Python script to ...|   null|null|          0|        hoju|2013|    1|        7|\n",
      "|2606988|    0|2011-06-01 12:36:11|Kidney Transplant...|http://dhshahzad....|I started indepen...|   null|True|          0|       ramis|2011|    6|        4|\n",
      "|4542754|    0|2012-09-19 08:57:49|Bouncing Marble f...|http://www.window...|Bouncing marble i...|   null|null|          0|       tette|2012|    9|        4|\n",
      "|4824675|    0|2012-11-24 06:05:42|Cooking your own ...|http://blog.abiqu...|Although configur...|   null|null|          0|      abiquo|2012|   11|        7|\n",
      "|1120285|    0|2010-02-12 11:23:46|Why You Should Re...|http://www.dating...|Do you use online...|   null|null|          0|      mazz01|2010|    2|        6|\n",
      "|5221577|    0|2013-02-14 19:35:47|My developer tool...|http://kdl.nobugw...|This is my list o...|   null|null|          0|    akhenakh|2013|    2|        5|\n",
      "|4827038|    0|2012-11-25 01:57:11|      Feelspace belt|http://www.allele...|These people shou...|   null|null|          0|    dingerma|2012|   11|        1|\n",
      "|4481018|    0|2012-09-05 19:33:09|      What is Magic?|http://melodi-dia...|Many people write...|   null|null|          0|msreneetarot|2012|    9|        4|\n",
      "|7061983|    0|2014-01-15 06:34:06|Personal Organize...|http://www.effici...|Efficient Softwar...|   null|null|          1| efficientsw|2014|    1|        4|\n",
      "|1215015|    0|2010-03-24 05:09:00|Ultimate Guide of...|http://www.techno...|Ultimate Guide of...|   null|True|         -1|        vatu|2010|    3|        4|\n",
      "|1505655|    0|2010-07-11 15:57:53|       Mens t-shirts|http://www.zohmuo...|designer menswear...|   null|True|         -1|      jako11|2010|    7|        1|\n",
      "|4673231|    0|2012-10-19 12:40:12|  Gümrük Müşavirliği|http://www.gumruk...|Gümrük Müşavirliğ...|   null|True|         -1|      meyado|2012|   10|        6|\n",
      "|1503352|    0|2010-07-10 08:20:35|The Rule of 72: H...|http://roadtickle...|Rule of 72: Here ...|   null|True|         -1|      radman|2010|    7|        7|\n",
      "|1540745|    0|2010-07-23 09:13:28|Web Design Jobs –...|http://www.kronik...|The list below in...|   null|True|         -1|     dhnteam|2010|    7|        6|\n",
      "|1370228|    0|2010-05-22 12:41:39|The A View from t...|http://fastessays...|A view from the b...|   null|True|         -1|    Maria456|2010|    5|        7|\n",
      "|5917267|    0|2013-06-21 09:33:04|           Sex toys |http://www.sextoy...|Everyone enjoy se...|   null|True|         -1|    kyleswkt|2013|    6|        6|\n",
      "|5969633|    0|2013-07-01 09:53:06|        Bespoke Suit|http://www.matthe...|Matthewaperry spe...|   null|True|         -1|    mansuits|2013|    7|        2|\n",
      "| 124722|    0|2008-02-27 14:28:05|Web 2.0: Browse A...|http://www.israel...|Imagine you just ...|   null|True|         -1|    msgbeepa|2008|    2|        4|\n",
      "|2779674|    0|2011-07-19 05:03:12|Dev Vilas Resort ...|http://www.resort...|Dev Vilas Resort ...|   null|True|         -1|    rekhatis|2011|    7|        3|\n",
      "+-------+-----+-------------------+--------------------+--------------------+--------------------+-------+----+-----------+------------+----+-----+---------+\n",
      "only showing top 20 rows\n",
      "\n"
     ]
    }
   ],
   "source": [
    "story.show()"
   ]
  },
  {
   "cell_type": "code",
   "execution_count": 87,
   "metadata": {},
   "outputs": [
    {
     "name": "stdout",
     "output_type": "stream",
     "text": [
      "+-------------+----+\n",
      "|       author| num|\n",
      "+-------------+----+\n",
      "|         cwan|7058|\n",
      "|   shawndumas|6533|\n",
      "|        evo_9|5540|\n",
      "|        nickb|4300|\n",
      "|     iProject|4262|\n",
      "|     bootload|4132|\n",
      "|       edw519|3809|\n",
      "|       nreece|3682|\n",
      "|  ColinWright|3615|\n",
      "|   tokenadult|3588|\n",
      "|      Garbage|3508|\n",
      "|         robg|3091|\n",
      "|DanielRibeiro|2815|\n",
      "|       Anon84|2741|\n",
      "|        danso|2592|\n",
      "|      llambda|2580|\n",
      "|      jonbaer|2416|\n",
      "|        fogus|2406|\n",
      "|   transburgh|2345|\n",
      "|         wslh|2268|\n",
      "+-------------+----+\n",
      "only showing top 20 rows\n",
      "\n"
     ]
    }
   ],
   "source": [
    "#Add a new column to see whether an author is one of the most active users.\n",
    "sqlStatement = \"\"\"\n",
    "SELECT author, COUNT(author) AS num\n",
    "FROM story1\n",
    "GROUP BY author\n",
    "ORDER BY num DESC\n",
    "LIMIT 3000\n",
    "\"\"\"\n",
    "active_user = spark.sql(sqlStatement)\n",
    "active_user.show()"
   ]
  },
  {
   "cell_type": "code",
   "execution_count": 88,
   "metadata": {},
   "outputs": [],
   "source": [
    "user = np.array(active_user.select('author').collect())"
   ]
  },
  {
   "cell_type": "code",
   "execution_count": 89,
   "metadata": {},
   "outputs": [],
   "source": [
    "# Defining a function to map our column \n",
    "@udf(StringType())\n",
    "def is_active_user(username):\n",
    "    if username in user:\n",
    "        return '1'\n",
    "    return '0' "
   ]
  },
  {
   "cell_type": "code",
   "execution_count": 90,
   "metadata": {},
   "outputs": [],
   "source": [
    "story = story.withColumn('active_user', is_active_user('author'))"
   ]
  },
  {
   "cell_type": "code",
   "execution_count": 91,
   "metadata": {},
   "outputs": [],
   "source": [
    "#Add  a variable showing the information about title length\n",
    "story = story.withColumn('title_length', f.size(f.split(f.col('title'), ' ')))"
   ]
  },
  {
   "cell_type": "code",
   "execution_count": 92,
   "metadata": {},
   "outputs": [],
   "source": [
    "#Add a variable represents whether an url is from the top domain\n",
    "sqlStatement = \"\"\"\n",
    "SELECT COUNT(id) AS num, web\n",
    "FROM story\n",
    "WHERE web != '' and web != 'www'\n",
    "GROUP BY web\n",
    "ORDER BY num DESC\n",
    "LIMIT 50\n",
    "\"\"\"\n",
    "url_df2 = spark.sql(sqlStatement)"
   ]
  },
  {
   "cell_type": "code",
   "execution_count": 93,
   "metadata": {},
   "outputs": [],
   "source": [
    "# Defining a function so that we can use to map our column\n",
    "hot_domain = np.array(url_df2.select('web').collect())\n",
    "@udf(StringType())\n",
    "def from_hot_domain(url):\n",
    "    pattern = re.compile('([a-z]+).(com|net|co|cn|org|ru|de|br|uk|pl|ir|it|in|fr|au|jp|info)')\n",
    "    result = re.findall(pattern, url)\n",
    "    if result and result[0] in hot_domain:\n",
    "        return '1'\n",
    "    return '0' "
   ]
  },
  {
   "cell_type": "code",
   "execution_count": 94,
   "metadata": {},
   "outputs": [],
   "source": [
    "story = story.withColumn('from_top_web', from_hot_domain('url'))"
   ]
  },
  {
   "cell_type": "code",
   "execution_count": 95,
   "metadata": {},
   "outputs": [],
   "source": [
    "#Extract the length of text information\n",
    "story = story.withColumn('text_length', f.size(f.split(f.col('text'), ' ')))"
   ]
  },
  {
   "cell_type": "code",
   "execution_count": 96,
   "metadata": {},
   "outputs": [],
   "source": [
    "# Since there exist empty values in our dataset, we can deal with this data by filling the column with 0\n",
    "@udf(IntegerType())\n",
    "def transfer(num):\n",
    "    if num == -1:\n",
    "        return 0 \n",
    "    return num\n",
    "story = story.withColumn('text_length', transfer('text_length'))"
   ]
  },
  {
   "cell_type": "code",
   "execution_count": 97,
   "metadata": {},
   "outputs": [
    {
     "name": "stdout",
     "output_type": "stream",
     "text": [
      "+--------------------+--------------------+\n",
      "|               title|               words|\n",
      "+--------------------+--------------------+\n",
      "|New UI for Google...|[new, ui, for, go...|\n",
      "|Historic website ...|[historic, websit...|\n",
      "|Kidney Transplant...|[kidney, transpla...|\n",
      "|Bouncing Marble f...|[bouncing, marble...|\n",
      "|Cooking your own ...|[cooking, your, o...|\n",
      "|Why You Should Re...|[why, you, should...|\n",
      "|My developer tool...|[my, developer, t...|\n",
      "|      Feelspace belt|   [feelspace, belt]|\n",
      "|      What is Magic?|  [what, is, magic?]|\n",
      "|Personal Organize...|[personal, organi...|\n",
      "|Ultimate Guide of...|[ultimate, guide,...|\n",
      "|       Mens t-shirts|    [mens, t-shirts]|\n",
      "|  Gümrük Müşavirliği|[gümrük, müşavirl...|\n",
      "|The Rule of 72: H...|[the, rule, of, 7...|\n",
      "|Web Design Jobs –...|[web, design, job...|\n",
      "|The A View from t...|[the, a, view, fr...|\n",
      "|           Sex toys |         [sex, toys]|\n",
      "|        Bespoke Suit|     [bespoke, suit]|\n",
      "|Web 2.0: Browse A...|[web, 2.0:, brows...|\n",
      "|Dev Vilas Resort ...|[dev, vilas, reso...|\n",
      "+--------------------+--------------------+\n",
      "only showing top 20 rows\n",
      "\n"
     ]
    }
   ],
   "source": [
    "#Add a new column about hot words this title use\n",
    "# First Let's transform our title \n",
    "regexTokenizer = RegexTokenizer(inputCol=\"title\", outputCol=\"words\", pattern=\"\\s+\")\n",
    "regexTokenized = regexTokenizer.transform(story)\n",
    "regexTokenized.select(\"title\", \"words\").show()"
   ]
  },
  {
   "cell_type": "code",
   "execution_count": 98,
   "metadata": {},
   "outputs": [],
   "source": [
    "# We don't want these stop words to be in our word list, so we use the StopWordsRemover to filter those stop words\n",
    "remover = StopWordsRemover(inputCol=\"words\", outputCol=\"filtered\")\n",
    "filtered = remover.transform(regexTokenized)"
   ]
  },
  {
   "cell_type": "code",
   "execution_count": 99,
   "metadata": {},
   "outputs": [],
   "source": [
    "word_count = filtered.withColumn('word', f.explode(f.col('filtered')))\\\n",
    "    .groupBy('word')\\\n",
    "    .count()\\\n",
    "    .sort('count', ascending=False)"
   ]
  },
  {
   "cell_type": "code",
   "execution_count": 100,
   "metadata": {},
   "outputs": [],
   "source": [
    "# We choose the top 300 words as the hot words\n",
    "word_list = word_count.limit(300)\n",
    "hot_words = np.array(word_list.select('word').collect())"
   ]
  },
  {
   "cell_type": "code",
   "execution_count": 101,
   "metadata": {},
   "outputs": [],
   "source": [
    "# Defining a function to filter those words including numerical characters\n",
    "def filter_words(array):\n",
    "    words_list = []\n",
    "    pattern = re.compile('[a-z]+')\n",
    "    for word in array:\n",
    "        result = re.findall(pattern, word[0])\n",
    "        if result != []:\n",
    "            words_list.append(result[0])\n",
    "    return words_list"
   ]
  },
  {
   "cell_type": "code",
   "execution_count": 102,
   "metadata": {},
   "outputs": [],
   "source": [
    "hot_word = filter_words(hot_words)"
   ]
  },
  {
   "cell_type": "code",
   "execution_count": 103,
   "metadata": {},
   "outputs": [],
   "source": [
    "# Defining a function so that we can get how many hot words each title includes\n",
    "@udf(IntegerType())\n",
    "def count_hot_words(title):\n",
    "    words = title.split(' ')\n",
    "    count = 0\n",
    "    for word in words:\n",
    "        if word in hot_word:\n",
    "            count += 1 \n",
    "    return count "
   ]
  },
  {
   "cell_type": "code",
   "execution_count": 104,
   "metadata": {},
   "outputs": [],
   "source": [
    "story = story.withColumn('title_hot_words', count_hot_words('title'))"
   ]
  },
  {
   "cell_type": "code",
   "execution_count": 105,
   "metadata": {},
   "outputs": [],
   "source": [
    "#transform our title to be a word vector\n",
    "regexTokenizer = RegexTokenizer(inputCol=\"title\", outputCol=\"title_array\", pattern=\"\\s+\")\n",
    "regexTokenized = regexTokenizer.transform(story)"
   ]
  },
  {
   "cell_type": "code",
   "execution_count": 106,
   "metadata": {},
   "outputs": [],
   "source": [
    "word2Vec = Word2Vec(vectorSize=300, minCount=5, seed = 18, inputCol=\"title_array\", outputCol=\"title_vec\")\n",
    "model = word2Vec.fit(regexTokenized)\n",
    "story_final = model.transform(regexTokenized)"
   ]
  },
  {
   "cell_type": "code",
   "execution_count": 107,
   "metadata": {},
   "outputs": [
    {
     "name": "stdout",
     "output_type": "stream",
     "text": [
      "+-------+-----+-------------------+--------------------+--------------------+--------------------+-------+----+-----------+------+----+-----+---------+-----------+------------+------------+-----------+---------------+--------------------+--------------------+\n",
      "|     id|score|            time_ts|               title|                 url|                text|deleted|dead|descendants|author|year|month|dayofweek|active_user|title_length|from_top_web|text_length|title_hot_words|         title_array|           title_vec|\n",
      "+-------+-----+-------------------+--------------------+--------------------+--------------------+-------+----+-----------+------+----+-----+---------+-----------+------------+------------+-----------+---------------+--------------------+--------------------+\n",
      "|1531556|    0|2010-07-20 09:13:54|New UI for Google...|http://googlesyst...|Again following o...|   null|null|          0|   ssn|2010|    7|        3|          0|           6|           1|          5|              0|[new, ui, for, go...|[-0.0841884116331...|\n",
      "|5012398|    0|2013-01-05 12:11:17|Historic website ...|http://webscrapin...|Python script to ...|   null|null|          0|  hoju|2013|    1|        7|          0|           3|           0|          9|              1|[historic, websit...|[-0.0016486706833...|\n",
      "|2606988|    0|2011-06-01 12:36:11|Kidney Transplant...|http://dhshahzad....|I started indepen...|   null|True|          0| ramis|2011|    6|        4|          0|           5|           1|         79|              0|[kidney, transpla...|[0.13093101251870...|\n",
      "|4542754|    0|2012-09-19 08:57:49|Bouncing Marble f...|http://www.window...|Bouncing marble i...|   null|null|          0| tette|2012|    9|        4|          0|           8|           0|         11|              4|[bouncing, marble...|[0.03686007286887...|\n",
      "|4824675|    0|2012-11-24 06:05:42|Cooking your own ...|http://blog.abiqu...|Although configur...|   null|null|          0|abiquo|2012|   11|        7|          0|           7|           0|        140|              1|[cooking, your, o...|[0.08739719964796...|\n",
      "+-------+-----+-------------------+--------------------+--------------------+--------------------+-------+----+-----------+------+----+-----+---------+-----------+------------+------------+-----------+---------------+--------------------+--------------------+\n",
      "only showing top 5 rows\n",
      "\n"
     ]
    }
   ],
   "source": [
    "story_final.show(5)"
   ]
  },
  {
   "cell_type": "code",
   "execution_count": 109,
   "metadata": {},
   "outputs": [],
   "source": [
    "data = story_final.select([c for c in story_final.columns if c not in ['id', 'time_ts', 'title', 'url', 'text', 'deleted', 'dead']])"
   ]
  },
  {
   "cell_type": "code",
   "execution_count": 110,
   "metadata": {},
   "outputs": [
    {
     "name": "stdout",
     "output_type": "stream",
     "text": [
      "+-----+-----------+------+----+-----+---------+-----------+------------+------------+-----------+---------------+--------------------+--------------------+\n",
      "|score|descendants|author|year|month|dayofweek|active_user|title_length|from_top_web|text_length|title_hot_words|         title_array|           title_vec|\n",
      "+-----+-----------+------+----+-----+---------+-----------+------------+------------+-----------+---------------+--------------------+--------------------+\n",
      "|    0|          0|   ssn|2010|    7|        3|          0|           6|           1|          5|              0|[new, ui, for, go...|[-0.0841884116331...|\n",
      "|    0|          0|  hoju|2013|    1|        7|          0|           3|           0|          9|              1|[historic, websit...|[-0.0016486706833...|\n",
      "|    0|          0| ramis|2011|    6|        4|          0|           5|           1|         79|              0|[kidney, transpla...|[0.13093101251870...|\n",
      "|    0|          0| tette|2012|    9|        4|          0|           8|           0|         11|              4|[bouncing, marble...|[0.03686007286887...|\n",
      "|    0|          0|abiquo|2012|   11|        7|          0|           7|           0|        140|              1|[cooking, your, o...|[0.08739719964796...|\n",
      "+-----+-----------+------+----+-----+---------+-----------+------------+------------+-----------+---------------+--------------------+--------------------+\n",
      "only showing top 5 rows\n",
      "\n"
     ]
    }
   ],
   "source": [
    "data.show(5)"
   ]
  },
  {
   "cell_type": "code",
   "execution_count": 111,
   "metadata": {},
   "outputs": [
    {
     "name": "stdout",
     "output_type": "stream",
     "text": [
      "root\n",
      " |-- score: integer (nullable = true)\n",
      " |-- descendants: integer (nullable = true)\n",
      " |-- author: string (nullable = true)\n",
      " |-- year: integer (nullable = true)\n",
      " |-- month: integer (nullable = true)\n",
      " |-- dayofweek: integer (nullable = true)\n",
      " |-- active_user: string (nullable = true)\n",
      " |-- title_length: integer (nullable = false)\n",
      " |-- from_top_web: string (nullable = true)\n",
      " |-- text_length: integer (nullable = true)\n",
      " |-- title_hot_words: integer (nullable = true)\n",
      " |-- title_array: array (nullable = true)\n",
      " |    |-- element: string (containsNull = true)\n",
      " |-- title_vec: vector (nullable = true)\n",
      "\n"
     ]
    }
   ],
   "source": [
    "data.printSchema()"
   ]
  },
  {
   "cell_type": "code",
   "execution_count": 113,
   "metadata": {},
   "outputs": [],
   "source": [
    "data.write.parquet(path='s3://chingsez/Final/data',mode='overwrite')"
   ]
  },
  {
   "cell_type": "code",
   "execution_count": 114,
   "metadata": {},
   "outputs": [],
   "source": [
    "spark.stop()"
   ]
  }
 ],
 "metadata": {
  "kernelspec": {
   "display_name": "Python 3",
   "language": "python",
   "name": "python3"
  },
  "language_info": {
   "codemirror_mode": {
    "name": "ipython",
    "version": 3
   },
   "file_extension": ".py",
   "mimetype": "text/x-python",
   "name": "python",
   "nbconvert_exporter": "python",
   "pygments_lexer": "ipython3",
   "version": "3.6.8"
  }
 },
 "nbformat": 4,
 "nbformat_minor": 4
}
