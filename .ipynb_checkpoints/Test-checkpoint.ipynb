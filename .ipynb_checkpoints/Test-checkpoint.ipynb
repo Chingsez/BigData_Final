{
 "cells": [
  {
   "cell_type": "code",
   "execution_count": 1,
   "metadata": {},
   "outputs": [],
   "source": [
    "# Starting SparkSession\n",
    "import findspark\n",
    "findspark.init()\n",
    "from pyspark import SparkContext\n",
    "sc = SparkContext()\n",
    "from pyspark.sql import SparkSessio\n",
    "spark = SparkSession.builder.appName(\"project\").getOrCreate()\n",
    "sc = spark.sparkContext"
   ]
  },
  {
   "cell_type": "code",
   "execution_count": 2,
   "metadata": {},
   "outputs": [
    {
     "name": "stdout",
     "output_type": "stream",
     "text": [
      "Collecting wordcloud\n",
      "\u001b[?25l  Downloading https://files.pythonhosted.org/packages/ae/af/849edf14d573eba9c8082db898ff0d090428d9485371cc4fe21a66717ad2/wordcloud-1.5.0-cp36-cp36m-manylinux1_x86_64.whl (361kB)\n",
      "\u001b[K     |████████████████████████████████| 368kB 40.2MB/s \n",
      "\u001b[?25hRequirement already satisfied: pillow in /home/hadoop/miniconda/lib/python3.6/site-packages (from wordcloud) (6.0.0)\n",
      "Requirement already satisfied: numpy>=1.6.1 in /home/hadoop/miniconda/lib/python3.6/site-packages (from wordcloud) (1.16.4)\n",
      "Installing collected packages: wordcloud\n",
      "Successfully installed wordcloud-1.5.0\n"
     ]
    }
   ],
   "source": [
    "!pip install wordcloud"
   ]
  },
  {
   "cell_type": "code",
   "execution_count": 3,
   "metadata": {},
   "outputs": [
    {
     "name": "stdout",
     "output_type": "stream",
     "text": [
      "Collecting seaborn\n",
      "\u001b[?25l  Downloading https://files.pythonhosted.org/packages/a8/76/220ba4420459d9c4c9c9587c6ce607bf56c25b3d3d2de62056efe482dadc/seaborn-0.9.0-py3-none-any.whl (208kB)\n",
      "\u001b[K     |████████████████████████████████| 215kB 41.1MB/s \n",
      "\u001b[?25hRequirement already satisfied: numpy>=1.9.3 in /home/hadoop/miniconda/lib/python3.6/site-packages (from seaborn) (1.16.4)\n",
      "Requirement already satisfied: matplotlib>=1.4.3 in /home/hadoop/miniconda/lib/python3.6/site-packages (from seaborn) (3.1.0)\n",
      "Requirement already satisfied: pandas>=0.15.2 in /home/hadoop/miniconda/lib/python3.6/site-packages (from seaborn) (0.24.2)\n",
      "Requirement already satisfied: scipy>=0.14.0 in /home/hadoop/miniconda/lib/python3.6/site-packages (from seaborn) (1.2.1)\n",
      "Requirement already satisfied: cycler>=0.10 in /home/hadoop/miniconda/lib/python3.6/site-packages (from matplotlib>=1.4.3->seaborn) (0.10.0)\n",
      "Requirement already satisfied: kiwisolver>=1.0.1 in /home/hadoop/miniconda/lib/python3.6/site-packages (from matplotlib>=1.4.3->seaborn) (1.1.0)\n",
      "Requirement already satisfied: pyparsing!=2.0.4,!=2.1.2,!=2.1.6,>=2.0.1 in /home/hadoop/miniconda/lib/python3.6/site-packages (from matplotlib>=1.4.3->seaborn) (2.4.0)\n",
      "Requirement already satisfied: python-dateutil>=2.1 in /home/hadoop/miniconda/lib/python3.6/site-packages (from matplotlib>=1.4.3->seaborn) (2.8.0)\n",
      "Requirement already satisfied: pytz>=2011k in /home/hadoop/miniconda/lib/python3.6/site-packages (from pandas>=0.15.2->seaborn) (2019.1)\n",
      "Requirement already satisfied: six in /home/hadoop/miniconda/lib/python3.6/site-packages (from cycler>=0.10->matplotlib>=1.4.3->seaborn) (1.12.0)\n",
      "Requirement already satisfied: setuptools in /home/hadoop/miniconda/lib/python3.6/site-packages (from kiwisolver>=1.0.1->matplotlib>=1.4.3->seaborn) (41.0.1)\n",
      "Installing collected packages: seaborn\n",
      "Successfully installed seaborn-0.9.0\n",
      "Collecting pyspark_dist_explore\n",
      "  Downloading https://files.pythonhosted.org/packages/a6/25/873abc0e094edb982eddb4182e691f033dc7bd3144665a1c701853009f9d/pyspark_dist_explore-0.1.7-py3-none-any.whl\n",
      "Requirement already satisfied: pandas in /home/hadoop/miniconda/lib/python3.6/site-packages (from pyspark_dist_explore) (0.24.2)\n",
      "Requirement already satisfied: numpy in /home/hadoop/miniconda/lib/python3.6/site-packages (from pyspark_dist_explore) (1.16.4)\n",
      "Requirement already satisfied: scipy in /home/hadoop/miniconda/lib/python3.6/site-packages (from pyspark_dist_explore) (1.2.1)\n",
      "Requirement already satisfied: matplotlib in /home/hadoop/miniconda/lib/python3.6/site-packages (from pyspark_dist_explore) (3.1.0)\n",
      "Requirement already satisfied: python-dateutil>=2.5.0 in /home/hadoop/miniconda/lib/python3.6/site-packages (from pandas->pyspark_dist_explore) (2.8.0)\n",
      "Requirement already satisfied: pytz>=2011k in /home/hadoop/miniconda/lib/python3.6/site-packages (from pandas->pyspark_dist_explore) (2019.1)\n",
      "Requirement already satisfied: cycler>=0.10 in /home/hadoop/miniconda/lib/python3.6/site-packages (from matplotlib->pyspark_dist_explore) (0.10.0)\n",
      "Requirement already satisfied: kiwisolver>=1.0.1 in /home/hadoop/miniconda/lib/python3.6/site-packages (from matplotlib->pyspark_dist_explore) (1.1.0)\n",
      "Requirement already satisfied: pyparsing!=2.0.4,!=2.1.2,!=2.1.6,>=2.0.1 in /home/hadoop/miniconda/lib/python3.6/site-packages (from matplotlib->pyspark_dist_explore) (2.4.0)\n",
      "Requirement already satisfied: six>=1.5 in /home/hadoop/miniconda/lib/python3.6/site-packages (from python-dateutil>=2.5.0->pandas->pyspark_dist_explore) (1.12.0)\n",
      "Requirement already satisfied: setuptools in /home/hadoop/miniconda/lib/python3.6/site-packages (from kiwisolver>=1.0.1->matplotlib->pyspark_dist_explore) (41.0.1)\n",
      "Installing collected packages: pyspark-dist-explore\n",
      "Successfully installed pyspark-dist-explore-0.1.7\n"
     ]
    }
   ],
   "source": [
    "!pip install seaborn \n",
    "!pip install pyspark_dist_explore"
   ]
  },
  {
   "cell_type": "code",
   "execution_count": null,
   "metadata": {},
   "outputs": [],
   "source": [
    "# Installing some packages\n",
    "#!pip install wordcloud\n",
    "#!pip install seaborn \n",
    "#!pip install pyspark_dist_explore"
   ]
  },
  {
   "cell_type": "code",
   "execution_count": 151,
   "metadata": {},
   "outputs": [],
   "source": [
    "# Possible Choices \n",
    "#### 机器学习方面\n",
    "# Ranking 和其他variable的关系 （ml）\n",
    "# score和其他variables的关系  （ml）\n",
    "# 上面的其中一个可以做分类 比如给定一篇文章 他成为top ranking 或者高分文章的可能性有多大\n",
    "#### 整体趋势方面\n",
    "# 统计词频 哪些词在哪一年出现的多 可画图 高频词出现变化图etc\n",
    "# 活跃用户数等\n"
   ]
  },
  {
   "cell_type": "code",
   "execution_count": 4,
   "metadata": {},
   "outputs": [],
   "source": [
    "# Importing libraries we need\n",
    "import pyspark.sql.functions as f\n",
    "import collections\n",
    "import re\n",
    "import numpy as np\n",
    "import pyspark.sql as SQL\n",
    "import pandas as pd\n",
    "import matplotlib.pyplot as plt\n",
    "import wordcloud\n",
    "import seaborn as sns\n",
    "from pyspark_dist_explore import hist\n",
    "from pyspark.sql.types import IntegerType\n",
    "from pyspark.sql.types import DoubleType\n",
    "from pyspark.sql.functions import col\n",
    "%matplotlib inline"
   ]
  },
  {
   "cell_type": "code",
   "execution_count": 5,
   "metadata": {},
   "outputs": [],
   "source": [
    "#1. Reading dataset merged dataset\n",
    "data_df = spark.read\\\n",
    "  .format('csv')\\\n",
    "  .option('header', 'true')\\\n",
    "  .option('inferSchema', 'true')\\\n",
    "  .load('s3://xinyuwang/finalproject/test.csv')"
   ]
  },
  {
   "cell_type": "code",
   "execution_count": 6,
   "metadata": {},
   "outputs": [
    {
     "name": "stdout",
     "output_type": "stream",
     "text": [
      "The total number of our dataset is 56381\n"
     ]
    }
   ],
   "source": [
    "print('The total number of our dataset is {}'.format(data_df.count()))"
   ]
  },
  {
   "cell_type": "code",
   "execution_count": 7,
   "metadata": {},
   "outputs": [],
   "source": [
    "df1 = data_df.select(data_df['by'],\n",
    "                     data_df['score'].cast(IntegerType()),\n",
    "                     #data_df[\"time\"],\n",
    "                     data_df['timestamp'].cast('timestamp'),\n",
    "                     data_df['title'],\n",
    "                     data_df['type'],\n",
    "                     data_df['url'],\n",
    "                     data_df['text'],\n",
    "                     data_df['parent'],\n",
    "                     #data_df['deleted'],\n",
    "                     #data_df['dead'],\n",
    "                     data_df['descendants'],\n",
    "                     data_df['id'].cast(IntegerType()),\n",
    "                     data_df['ranking'].cast(IntegerType())   \n",
    "                             )"
   ]
  },
  {
   "cell_type": "code",
   "execution_count": 8,
   "metadata": {},
   "outputs": [
    {
     "name": "stdout",
     "output_type": "stream",
     "text": [
      "root\n",
      " |-- by: string (nullable = true)\n",
      " |-- score: integer (nullable = true)\n",
      " |-- timestamp: timestamp (nullable = true)\n",
      " |-- title: string (nullable = true)\n",
      " |-- type: string (nullable = true)\n",
      " |-- url: string (nullable = true)\n",
      " |-- text: string (nullable = true)\n",
      " |-- parent: string (nullable = true)\n",
      " |-- descendants: string (nullable = true)\n",
      " |-- id: integer (nullable = true)\n",
      " |-- ranking: integer (nullable = true)\n",
      "\n"
     ]
    }
   ],
   "source": [
    "df1.printSchema()"
   ]
  },
  {
   "cell_type": "code",
   "execution_count": 9,
   "metadata": {},
   "outputs": [],
   "source": [
    "# Checking some basic information about our dataset\n",
    "data = df1.createOrReplaceTempView('data')"
   ]
  },
  {
   "cell_type": "code",
   "execution_count": 10,
   "metadata": {},
   "outputs": [],
   "source": [
    "# First, let's see about our users"
   ]
  },
  {
   "cell_type": "code",
   "execution_count": 11,
   "metadata": {},
   "outputs": [],
   "source": [
    "user = spark.sql('SELECT DISTINCT by FROM data')\n",
    "post_number = df1.count()\n",
    "user_number = user.count()"
   ]
  },
  {
   "cell_type": "code",
   "execution_count": 12,
   "metadata": {},
   "outputs": [
    {
     "name": "stdout",
     "output_type": "stream",
     "text": [
      "There are 56381 posts during this period by 17822 users. \n",
      "The average number of posts per user posted is 0.31609939518632163\n"
     ]
    }
   ],
   "source": [
    "print('There are {} posts during this period by {} users. \\\n",
    "\\nThe average number of posts per user posted is {}'.format(post_number, user_number, user_number/post_number))"
   ]
  },
  {
   "cell_type": "code",
   "execution_count": 13,
   "metadata": {},
   "outputs": [],
   "source": [
    "# Now, let's see how many posts those active users post \n",
    "user2 = spark.sql('SELECT by AS user, COUNT(by) AS count from data GROUP BY by ORDER BY count DESC LIMIT 20')"
   ]
  },
  {
   "cell_type": "code",
   "execution_count": 15,
   "metadata": {},
   "outputs": [
    {
     "name": "stdout",
     "output_type": "stream",
     "text": [
      "+-------------+-----+\n",
      "|         user|count|\n",
      "+-------------+-----+\n",
      "|</code></pre>|  463|\n",
      "|      tptacek|  116|\n",
      "|     jacquesm|  102|\n",
      "|      rbanffy|   90|\n",
      "| dragonwriter|   76|\n",
      "|         dang|   71|\n",
      "|        pjmlp|   67|\n",
      "|  dredmorbius|   60|\n",
      "|      coldtea|   58|\n",
      "|     brudgers|   54|\n",
      "|    anigbrowl|   54|\n",
      "|      mikeash|   52|\n",
      "|        DanBC|   51|\n",
      "|     TeMPOraL|   47|\n",
      "|         jerf|   47|\n",
      "|       Retric|   46|\n",
      "|      rayiner|   44|\n",
      "|  maxerickson|   43|\n",
      "|  toomuchtodo|   41|\n",
      "|  icebraining|   41|\n",
      "+-------------+-----+\n",
      "\n"
     ]
    }
   ],
   "source": [
    "user2.show()"
   ]
  },
  {
   "cell_type": "code",
   "execution_count": 16,
   "metadata": {},
   "outputs": [],
   "source": [
    "# Now let's see what about the time period"
   ]
  },
  {
   "cell_type": "code",
   "execution_count": 17,
   "metadata": {},
   "outputs": [],
   "source": [
    "time = df1[df1['timestamp'].isNotNull()]\n",
    "time = time.createOrReplaceTempView('time')"
   ]
  },
  {
   "cell_type": "code",
   "execution_count": 18,
   "metadata": {},
   "outputs": [
    {
     "name": "stdout",
     "output_type": "stream",
     "text": [
      "+-------------------+\n",
      "|          timestamp|\n",
      "+-------------------+\n",
      "|2006-10-10 15:53:53|\n",
      "+-------------------+\n",
      "\n"
     ]
    }
   ],
   "source": [
    "first_time = spark.sql('select timestamp from time order by timestamp limit 1')\n",
    "first_time.show()"
   ]
  },
  {
   "cell_type": "code",
   "execution_count": 19,
   "metadata": {},
   "outputs": [
    {
     "name": "stdout",
     "output_type": "stream",
     "text": [
      "+-------------------+\n",
      "|          timestamp|\n",
      "+-------------------+\n",
      "|2019-07-08 08:14:52|\n",
      "+-------------------+\n",
      "\n"
     ]
    }
   ],
   "source": [
    "last_time = spark.sql('select timestamp from time order by timestamp desc limit 1')\n",
    "last_time.show()"
   ]
  },
  {
   "cell_type": "code",
   "execution_count": 20,
   "metadata": {},
   "outputs": [],
   "source": [
    "# Filter Story data \n",
    "story = spark.sql('SELECT * FROM data WHERE type == \"story\"')"
   ]
  },
  {
   "cell_type": "code",
   "execution_count": 21,
   "metadata": {},
   "outputs": [
    {
     "name": "stdout",
     "output_type": "stream",
     "text": [
      "+---------------+-----+-------------------+--------------------+-----+--------------------+--------------------+--------------------+--------------------+----+-------+\n",
      "|             by|score|          timestamp|               title| type|                 url|                text|              parent|         descendants|  id|ranking|\n",
      "+---------------+-----+-------------------+--------------------+-----+--------------------+--------------------+--------------------+--------------------+----+-------+\n",
      "|     shizhilvyi|    1|2012-08-06 13:24:53|IBM Will Launch N...|story|http://www.hqew.n...|\"According to the...| which will be mo...|                True|  -1|4345052|\n",
      "|        leeskye|    4|2012-03-28 05:29:18|WPP CEO Martin So...|story|http://adage.com/...|\"Who do you agree...|\"\" said Microsoft...| social benefits ...|null|   null|\n",
      "|       olegious|   42|2012-06-17 22:13:56|Ask HN: Just orde...|story|                null|\"Getting my new M...| VM (will run Ubu...|                null|  64|4123995|\n",
      "|         tucson|    1|2011-07-01 17:09:49|Show HN: Facebook...|story|http://www.99like...|\"Shows you how th...|000 websites are ...|                null|   0|2719160|\n",
      "|     powdercake|    2|2009-09-28 16:04:27|Ask HN: My Bio on...|story|                null|\"I resigned from ...| I can understand...|                null|null|   null|\n",
      "|     photon_off|    1|2011-07-03 17:42:00|Ask HN:  What suc...|story|                null|\"I'm thinking of ...| and how would yo...| and what feature...|null|   null|\n",
      "|        pnathan|    2|2012-12-12 21:22:37|Ask HN: Ethical a...|story|                null|\"I am working on ...| so I'm not 100% ...|                null|   2|4912535|\n",
      "|         jstark|    1|2011-08-22 23:03:57|VW to unveil sing...|story|http://m.ft.com/c...|\"Vollkswagen is p...|    ,,,,0.0,2914528,|                null|null|   null|\n",
      "|         yarone|    2|2011-03-07 08:29:32|\"Selling \"\"Used\"\"...|story|                null|\"Can I legally se...|      more generally|                null|null|      3|\n",
      "|         kennae|    3|2013-03-09 00:11:06|Reply to “All the...|story|http://blog.marti...|\"\"\"Dear Mark Shut...|<p>so you “have a...|                null|null|      0|\n",
      "|        cool-RR|    3|2009-12-17 16:21:14|Suggest HN: Algor...|story|                null|\"(Reposting becau...| 18.75% of people...| it's gonna get c...|null|   null|\n",
      "|    rojobuffalo|    2|2017-03-22 12:40:34|Show HN: Terrafar...|story|                null|\"<a href=\"\"https:...| register shareho...| and I&#x27;ll ac...|null|   null|\n",
      "|     patent-101|    2|2011-08-05 15:31:47|Ask HN: Do you wa...|story|                null|\"This is a throwa...|                MSFT|                null|null|      0|\n",
      "|         fuxx0r|    1|2010-11-28 09:59:10|Ask HN: More nega...|story|                null|\"I read HN since ...| iam so unmotivat...| you got tons of ...|null|   null|\n",
      "|dreamingforward|    1|2012-04-28 17:48:38|         Internet2.0|story|                null|\"The Internet is ...| but a content-la...| with the vector ...|null|   null|\n",
      "|       heymatty|   73|2011-04-01 11:19:21|Ask HN: I'm givin...|story|                null|\"I could go in a ...| raise money and ...|                null|null|     71|\n",
      "|      grandsure|    5|2013-02-05 16:06:56|MIT withholds cer...|story|https://www.edx.o...|\"\"\"Note: At this ...| edX is holding c...|                null|null|   null|\n",
      "|  pagecontrol01|    1|2009-02-06 08:30:13|Project Integrati...|story|http://www.pmtrai...|\"Project managers...| published by the...|                null|null|   null|\n",
      "|         schtog|    7|2008-06-08 18:46:19|Querying Google/a...|story|                null|\"Googling \"\"query...|  but is it allowed?|                null|null|   null|\n",
      "|         conoro|    3|2012-10-16 06:11:14|\"Creator of groun...|story|http://www.giantb...|\"Mike Singleton, ...|   has passed away.\"|                null|   0|4658633|\n",
      "+---------------+-----+-------------------+--------------------+-----+--------------------+--------------------+--------------------+--------------------+----+-------+\n",
      "only showing top 20 rows\n",
      "\n"
     ]
    }
   ],
   "source": [
    "story[story['parent'].isNotNull()].show()"
   ]
  },
  {
   "cell_type": "code",
   "execution_count": 22,
   "metadata": {},
   "outputs": [],
   "source": [
    "# Filter comment data\n",
    "comments = spark.sql('SELECT * FROM data WHERE type == \"comment\"')"
   ]
  },
  {
   "cell_type": "code",
   "execution_count": 23,
   "metadata": {},
   "outputs": [
    {
     "name": "stdout",
     "output_type": "stream",
     "text": [
      "+--------------+-----+-------------------+-----+-------+----+--------------------+--------------------+----------------+--------+-------+\n",
      "|            by|score|          timestamp|title|   type| url|                text|              parent|     descendants|      id|ranking|\n",
      "+--------------+-----+-------------------+-----+-------+----+--------------------+--------------------+----------------+--------+-------+\n",
      "|         malyk| null|2017-11-29 20:35:46| null|comment|null|That&#x27;s likel...|          15810293.0|            null|15810594|   null|\n",
      "|      wbracken| null|2011-10-11 21:56:08| null|comment|null|Been wondering th...|           3100461.0|            null| 3100489|   null|\n",
      "|         spang| null|2014-10-01 18:51:56| null|comment|null|\"Inbox | <a href=...| CA (Mission) or ...| up all the time|    null|   null|\n",
      "|           nfm| null|2015-11-14 22:25:35| null|comment|null|Yes, yes it is.<p...|          10567471.0|            null|10567544|   null|\n",
      "|            Mz| null|2010-10-17 20:45:41| null|comment|null|Something he does...|           1800936.0|            null| 1801375|   null|\n",
      "|   white-flame| null|2017-10-23 03:55:44| null|comment|null|What social media...|          15530129.0|            null|15530604|   null|\n",
      "|       misha67| null|2017-01-19 08:20:21| null|comment|null|            Honesty.|          13431903.0|            null|13434058|   null|\n",
      "|       Shoothe| null|2018-03-18 17:24:13| null|comment|null|I can second this...|          16612801.0|            null|16612997|   null|\n",
      "|       rezaman| null|2019-03-01 17:47:20| null|comment|null|\"Housecall Pro | ...| we are focused o...|            null|    null|   null|\n",
      "|      avallark| null|2018-08-03 19:45:02| null|comment|null|At least its good...|          17681582.0|            null|17682996|   null|\n",
      "|        davidw| null|2015-11-10 20:44:25| null|comment|null|You didn&#x27;t m...|          10542243.0|            null|10542343|   null|\n",
      "|  yummyfajitas| null|2015-01-15 14:59:05| null|comment|null|The more ideas a ...|           8892690.0|            null| 8892746|   null|\n",
      "|          jerf| null|2011-11-23 01:14:34| null|comment|null|So, when going to...|           3267889.0|            null| 3268271|   null|\n",
      "|     artpepper| null|2016-03-26 02:22:39| null|comment|null|My wife has to de...|          11361797.0|            null|11364165|   null|\n",
      "|frosted-flakes| null|2019-05-22 02:54:59| null|comment|null|&gt; The coverup ...|          19974441.0|            null|19977319|   null|\n",
      "|           pvg| null|2019-01-24 00:57:34| null|comment|null|<i>as evidenced b...|          18984941.0|            null|18985009|   null|\n",
      "|      gbookman| null|2009-10-21 14:06:10| null|comment|null|If you took the L...|            894500.0|            null|  894655|   null|\n",
      "|      Nwallins| null|2010-07-08 03:41:27| null|comment|null|&#62; <i>Option –...|           1496129.0|            null| 1496412|   null|\n",
      "| jeffcutsinger| null|2013-02-02 02:34:14| null|comment|null|&#62; The fact is...|           5153092.0|            null| 5154881|   null|\n",
      "|         xtacy| null|2011-01-31 21:33:47| null|comment|null|\"It's an awesome ...|                thin|            null|    null|   null|\n",
      "+--------------+-----+-------------------+-----+-------+----+--------------------+--------------------+----------------+--------+-------+\n",
      "only showing top 20 rows\n",
      "\n"
     ]
    }
   ],
   "source": [
    "comments.show()"
   ]
  },
  {
   "cell_type": "code",
   "execution_count": 157,
   "metadata": {},
   "outputs": [
    {
     "name": "stdout",
     "output_type": "stream",
     "text": [
      "+--------------------+-----+-------------------+--------------------+--------------------+--------------------+--------------------+----------+-----------+--------+-------+--------------+\n",
      "|                  by|score|          timestamp|               title|                type|                 url|                text|    parent|descendants|      id|ranking|title_word_num|\n",
      "+--------------------+-----+-------------------+--------------------+--------------------+--------------------+--------------------+----------+-----------+--------+-------+--------------+\n",
      "|              yopiti|    1|2013-04-15 13:22:49|Why disabling 3rd...|               story|http://www.spamco...|                null|      null|        0.0| 5551313|   null|            12|\n",
      "|        mikethecoach|    1|2017-12-07 19:11:41|How trainers and ...|               story|https://www.podbe...|                null|      null|       null|15873005|   null|            10|\n",
      "|                frik|    2|2016-01-23 11:00:22|AppDynamics CEO: ...|               story|http://venturebea...|                null|      null|        0.0|10957977|   null|             9|\n",
      "|       athinggoingon|    2|2017-11-30 22:08:19|Regulation free z...|               story|http://www.nextgo...|                null|      null|        0.0|15820036|   null|             9|\n",
      "|             rbanffy|    1|2019-02-06 13:07:36|Technologizing Ag...|               story|https://cacm.acm....|                null|      null|        0.0|19094767|   null|             2|\n",
      "|              kushti|    1|2016-08-07 15:57:56|Why Logical Clock...|               story|http://queue.acm....|                null|      null|        0.0|12242416|   null|             5|\n",
      "|            kingkilr|    2|2010-09-29 05:42:58|Dynamic and Stati...|               story|http://alexgaynor...|                null|      null|        0.0| 1738424|   null|             7|\n",
      "|            auhlrich|    1|2017-03-19 00:22:48|Trump flanked by ...|               story|https://redd.it/6...|                null|      null|       null|13904312|   null|            10|\n",
      "|     CapitalistCartr|    2|2017-01-24 12:49:23|How Media Fuels O...|               story|https://priceonom...|                null|      null|        0.0|13470880|   null|             7|\n",
      "|   Drawing – Totally| null|               null|        Mono options|                 etc|                null|                null|      null|       null|    null|   null|             3|\n",
      "|Think about it th...| null|               null| is a SUPERSET of...| if you are doing...| netstandard20. I...| MOST of those ca...|14297974.0|       null|14298302|   null|            33|\n",
      "|            iafrikan|    1|2019-05-14 21:54:18|WhatsApp Hacked, ...|               story|https://www.iafri...|                null|      null|       null|19914229|   null|             4|\n",
      "|            thenomad|    1|2010-09-28 14:14:35|Simple guide to i...|               story|http://www.mmomel...|                null|      null|        0.0| 1735733|   null|            12|\n",
      "|          prostoalex|  182|2016-02-18 18:24:14|Uber losing $1B a...|               story|http://www.reuter...|                null|      null|      180.0|11127972|   null|             9|\n",
      "|       hollywoodcole|    4|2008-04-16 03:31:05|Why mod_rails is ...|               story|http://www.pervas...|                null|      null|        1.0|  164846|   null|             8|\n",
      "|             greyman|   77|2009-10-23 11:05:58|Funny comparision...|               story|http://tech.slash...|                null|      null|       null|  898545|   null|             9|\n",
      "|         wikimediapk|    1|2018-03-26 09:36:46|Capital TV Live W...|               story|http://wikimedia....|                null|      null|       null|16677705|   null|            15|\n",
      "|               cr4zy|    7|2011-12-02 22:06:47|Verizon purchases...|               story|http://www.reuter...|                null|      null|        0.0| 3305907|   null|             9|\n",
      "|         marvinpinto|    2|2017-10-18 14:31:03|Ontario will bid ...|               story|https://www.thest...|                null|      null|        0.0|15499433|   null|            12|\n",
      "|So I would defini...| null|               null|    IDs and labels.\"|          17026098.0|                null|                null|      null|       null|    null|   null|             4|\n",
      "+--------------------+-----+-------------------+--------------------+--------------------+--------------------+--------------------+----------+-----------+--------+-------+--------------+\n",
      "only showing top 20 rows\n",
      "\n"
     ]
    }
   ],
   "source": [
    "# Let's check some information about the title column\n",
    "title_df = df1[df1['title'].isNotNull()]\n",
    "title_df = title_df.withColumn('title_word_num', f.size(f.split(f.col('title'), ' ')))\n",
    "title_df.show()"
   ]
  },
  {
   "cell_type": "code",
   "execution_count": 159,
   "metadata": {},
   "outputs": [],
   "source": [
    "title = title_df.createOrReplaceTempView('title')"
   ]
  },
  {
   "cell_type": "code",
   "execution_count": 202,
   "metadata": {},
   "outputs": [
    {
     "name": "stdout",
     "output_type": "stream",
     "text": [
      "+-----------------+\n",
      "|          avg_num|\n",
      "+-----------------+\n",
      "|8.061269656377402|\n",
      "+-----------------+\n",
      "\n"
     ]
    }
   ],
   "source": [
    "title_word1 = spark.sql('SELECT AVG(title_word_num) AS avg_num FROM title')\n",
    "title_word1.show()"
   ]
  },
  {
   "cell_type": "code",
   "execution_count": 203,
   "metadata": {},
   "outputs": [
    {
     "name": "stdout",
     "output_type": "stream",
     "text": [
      "+-----+-------+\n",
      "|score|avg_num|\n",
      "+-----+-------+\n",
      "| 1129|   13.0|\n",
      "|  985|    3.0|\n",
      "|  727|   10.0|\n",
      "|  640|   13.0|\n",
      "|  602|    8.5|\n",
      "|  596|    4.0|\n",
      "|  488|    1.0|\n",
      "|  421|    4.0|\n",
      "|  391|   11.0|\n",
      "|  373|    6.0|\n",
      "|  341|   10.5|\n",
      "|  333|   11.0|\n",
      "|  332|   10.0|\n",
      "|  322|    8.0|\n",
      "|  316|    9.0|\n",
      "|  311|    8.0|\n",
      "|  305|    5.0|\n",
      "|  304|    7.0|\n",
      "|  294|    4.0|\n",
      "|  292|    7.0|\n",
      "+-----+-------+\n",
      "only showing top 20 rows\n",
      "\n"
     ]
    }
   ],
   "source": [
    "title_word2 = spark.sql('SELECT score, AVG(title_word_num) AS avg_num FROM title GROUP BY score ORDER BY score DESC')\n",
    "title_word2.show()"
   ]
  },
  {
   "cell_type": "code",
   "execution_count": null,
   "metadata": {},
   "outputs": [],
   "source": [
    "# From the table above, we cannot see some clear relationship between those two variables.\n",
    "# For further analysis, we may convert the score column to a categorical variable since it has wide range.\n"
   ]
  },
  {
   "cell_type": "code",
   "execution_count": null,
   "metadata": {},
   "outputs": [],
   "source": [
    "#今日工作：\n"
   ]
  },
  {
   "cell_type": "code",
   "execution_count": null,
   "metadata": {},
   "outputs": [],
   "source": [
    "#没解决的问题1 ：\n",
    "#fillna 虽然不fillna也可以filter 但是可能fill了比较好 关联网页在这里\n",
    "#http://spark.apache.org/docs/latest/api/python/pyspark.sql.html#pyspark.sql.DataFrame.fillna\n",
    "\n",
    "#我失败的代码\n",
    "#df1.fillna({'score': 0})\n",
    "\n",
    "#2.画图失败 \n",
    "# 觉得可以加 score 的histgram comments&story按年份的统计图\n"
   ]
  },
  {
   "cell_type": "code",
   "execution_count": null,
   "metadata": {},
   "outputs": [],
   "source": []
  },
  {
   "cell_type": "code",
   "execution_count": 24,
   "metadata": {},
   "outputs": [],
   "source": [
    "#Check the score of stories\n",
    "score = story.createOrReplaceTempView('score')"
   ]
  },
  {
   "cell_type": "code",
   "execution_count": 35,
   "metadata": {},
   "outputs": [
    {
     "name": "stdout",
     "output_type": "stream",
     "text": [
      "+---------------+-----+--------------------+\n",
      "|             by|score|               title|\n",
      "+---------------+-----+--------------------+\n",
      "|        vassvdm| 1129|Facebook Buying W...|\n",
      "|    aarohmankad|  985|  Relearn CSS layout|\n",
      "|       brisance|  727|DuckDuckGo moves ...|\n",
      "|thereare5lights|  640|“I worked at Boei...|\n",
      "|         Ours90|  602|Blue Origin succe...|\n",
      "|       Artemis2|  602|$36k Google App E...|\n",
      "|           bane|  596|A week-long progr...|\n",
      "|            jgv|  488|              Two.js|\n",
      "|       riledhel|  421|Firefox introduce...|\n",
      "|          dnene|  391|Eclipse launches ...|\n",
      "+---------------+-----+--------------------+\n",
      "\n"
     ]
    }
   ],
   "source": [
    "spark.sql('select distinct by, score, title from score order by score desc limit 10').show()"
   ]
  },
  {
   "cell_type": "code",
   "execution_count": 36,
   "metadata": {},
   "outputs": [],
   "source": [
    "#We can see that the stories with highest score which mentioned companies are those who are large and mature ones."
   ]
  },
  {
   "cell_type": "code",
   "execution_count": 41,
   "metadata": {},
   "outputs": [
    {
     "name": "stdout",
     "output_type": "stream",
     "text": [
      "+-----+--------------------+\n",
      "|score|               title|\n",
      "+-----+--------------------+\n",
      "|  602|$36k Google App E...|\n",
      "|  311|Google Duo, a sim...|\n",
      "|  118|Google Pagespeed ...|\n",
      "|   99|Google agrees to ...|\n",
      "|   52|Acer sold only 50...|\n",
      "|   32|Tell HN: Warning,...|\n",
      "|   26|Help, I’ve fallen...|\n",
      "|   24|Google shutting d...|\n",
      "|   15|Google plans to k...|\n",
      "|   10|   Waze Joins Google|\n",
      "+-----+--------------------+\n",
      "\n"
     ]
    }
   ],
   "source": [
    "spark.sql(\"select distinct score, title from score where title like '%Google%' order by score desc limit 10\" ).show()"
   ]
  },
  {
   "cell_type": "code",
   "execution_count": 42,
   "metadata": {},
   "outputs": [
    {
     "name": "stdout",
     "output_type": "stream",
     "text": [
      "+-----+--------------------+\n",
      "|score|               title|\n",
      "+-----+--------------------+\n",
      "| 1129|Facebook Buying W...|\n",
      "|   37|The time has come...|\n",
      "|   27|Zuckerberg admits...|\n",
      "|   14|Facebook Etiquett...|\n",
      "|    9|Facebook is shutt...|\n",
      "|    9|Peter Thiel, Fund...|\n",
      "|    7|Architecture: How...|\n",
      "|    6|Facebook, Quant F...|\n",
      "|    6|Misconceptions ab...|\n",
      "|    5|Data Analysis: Wh...|\n",
      "+-----+--------------------+\n",
      "\n"
     ]
    }
   ],
   "source": [
    "spark.sql(\"select distinct score, title from score where title like '%Facebook%' order by score desc limit 10\" ).show()"
   ]
  },
  {
   "cell_type": "code",
   "execution_count": 44,
   "metadata": {},
   "outputs": [
    {
     "name": "stdout",
     "output_type": "stream",
     "text": [
      "+-----+--------------------+\n",
      "|score|               title|\n",
      "+-----+--------------------+\n",
      "|  421|Firefox introduce...|\n",
      "|   16|Firefox OS comes ...|\n",
      "|    9|Why You Shouldn’t...|\n",
      "|    7|Firefox 49.0 Rele...|\n",
      "|    5|Policeman – HTTPS...|\n",
      "|    4|Mozilla Metrics: ...|\n",
      "|    4|Vimperator: Use F...|\n",
      "|    3|Firefox Roadmap 2010|\n",
      "|    2|How to change red...|\n",
      "|    2|Future of Firefox...|\n",
      "+-----+--------------------+\n",
      "\n"
     ]
    }
   ],
   "source": [
    "spark.sql(\"select distinct score, title from score where title like '%Firefox%' order by score desc limit 10\" ).show()"
   ]
  },
  {
   "cell_type": "code",
   "execution_count": 47,
   "metadata": {},
   "outputs": [
    {
     "name": "stdout",
     "output_type": "stream",
     "text": [
      "+---------------+----------+\n",
      "|             by|avg(score)|\n",
      "+---------------+----------+\n",
      "|        vassvdm|    1129.0|\n",
      "|    aarohmankad|     985.0|\n",
      "|       brisance|     727.0|\n",
      "|thereare5lights|     640.0|\n",
      "|         Ours90|     602.0|\n",
      "|            jgv|     488.0|\n",
      "|       riledhel|     421.0|\n",
      "|          dnene|     391.0|\n",
      "|        dralley|     373.0|\n",
      "|           mxgr|     341.0|\n",
      "+---------------+----------+\n",
      "\n"
     ]
    }
   ],
   "source": [
    "#See top 10 authors with highest average story score\n",
    "spark.sql('select by, avg(score) from score group by by order by avg(score) desc limit 10').show()"
   ]
  },
  {
   "cell_type": "code",
   "execution_count": 48,
   "metadata": {},
   "outputs": [],
   "source": [
    "# it seems that author does not have much relationship with score"
   ]
  },
  {
   "cell_type": "code",
   "execution_count": 28,
   "metadata": {},
   "outputs": [
    {
     "data": {
      "text/plain": [
       "173"
      ]
     },
     "execution_count": 28,
     "metadata": {},
     "output_type": "execute_result"
    }
   ],
   "source": [
    "spark.sql('select distinct score from score').count()"
   ]
  },
  {
   "cell_type": "code",
   "execution_count": 86,
   "metadata": {},
   "outputs": [],
   "source": [
    "#Fill null value in story dataframe\n",
    "filled = story.fillna(0, subset='score')"
   ]
  },
  {
   "cell_type": "code",
   "execution_count": 100,
   "metadata": {},
   "outputs": [
    {
     "name": "stderr",
     "output_type": "stream",
     "text": [
      "/home/hadoop/miniconda/lib/python3.6/site-packages/ipykernel_launcher.py:2: MatplotlibDeprecationWarning: \n",
      "The 'normed' kwarg was deprecated in Matplotlib 2.1 and will be removed in 3.1. Use 'density' instead.\n",
      "  \n"
     ]
    },
    {
     "data": {
      "text/plain": [
       "Text(0.5, 0, 'Score')"
      ]
     },
     "execution_count": 100,
     "metadata": {},
     "output_type": "execute_result"
    },
    {
     "data": {
      "image/png": "[encoded data removed]",
      "text/plain": [
       "<Figure size 432x288 with 1 Axes>"
      ]
     },
     "metadata": {
      "needs_background": "light"
     },
     "output_type": "display_data"
    }
   ],
   "source": [
    "#Convert to pandas dataframe and plot histogram\n",
    "plt.hist(filled['score'], normed=True, bins=5)\n",
    "plt.ylabel('Probability')\n",
    "plt.xlabel('Score')"
   ]
  },
  {
   "cell_type": "code",
   "execution_count": 102,
   "metadata": {},
   "outputs": [
    {
     "name": "stderr",
     "output_type": "stream",
     "text": [
      "/home/hadoop/miniconda/lib/python3.6/site-packages/ipykernel_launcher.py:3: MatplotlibDeprecationWarning: \n",
      "The 'normed' kwarg was deprecated in Matplotlib 2.1 and will be removed in 3.1. Use 'density' instead.\n",
      "  This is separate from the ipykernel package so we can avoid doing imports until\n"
     ]
    },
    {
     "data": {
      "text/plain": [
       "Text(0.5, 0, 'Score')"
      ]
     },
     "execution_count": 102,
     "metadata": {},
     "output_type": "execute_result"
    },
    {
     "data": {
      "image/png": "[encoded data removed]",
      "text/plain": [
       "<Figure size 432x288 with 1 Axes>"
      ]
     },
     "metadata": {
      "needs_background": "light"
     },
     "output_type": "display_data"
    }
   ],
   "source": [
    "#We can see that most of the scores locate in 0 to 250, so let's filter score under 250 and then plot another histogram \n",
    "score_250 = filled[filled['score'] <= 250]\n",
    "plt.hist(score_250['score'], normed=True, bins=10)\n",
    "plt.ylabel('Probability')\n",
    "plt.xlabel('Score')"
   ]
  },
  {
   "cell_type": "code",
   "execution_count": 103,
   "metadata": {},
   "outputs": [],
   "source": [
    "#Most of the stories get really low score"
   ]
  },
  {
   "cell_type": "code",
   "execution_count": null,
   "metadata": {},
   "outputs": [],
   "source": [
    "###Top users of all time"
   ]
  },
  {
   "cell_type": "code",
   "execution_count": 112,
   "metadata": {},
   "outputs": [
    {
     "name": "stdout",
     "output_type": "stream",
     "text": [
      "+-----------+-----------+-----------------+-------------+\n",
      "|     author|total_score|total_descendants|total_stories|\n",
      "+-----------+-----------+-----------------+-------------+\n",
      "|    rbanffy|        143|             52.0|           58|\n",
      "|      ingve|        482|            214.0|           24|\n",
      "|      evo_9|        248|             50.0|           24|\n",
      "| prostoalex|        570|            540.0|           23|\n",
      "|    jonbaer|         44|              4.0|           22|\n",
      "|    dnetesn|        155|            158.0|           21|\n",
      "| shawndumas|         94|             16.0|           21|\n",
      "|   jseliger|        108|             40.0|           20|\n",
      "|       cwan|         28|              2.0|           18|\n",
      "|     uptown|        294|            460.0|           16|\n",
      "|       bane|       1220|            308.0|           16|\n",
      "|   bootload|         50|             10.0|           14|\n",
      "|       wslh|         22|              0.0|           14|\n",
      "|     ohjeez|         46|              0.0|           14|\n",
      "|ColinWright|        332|             78.0|           14|\n",
      "|      Tomte|         27|              3.0|           13|\n",
      "|       tosh|         48|             12.0|           12|\n",
      "|  protomyth|         24|             -2.0|           12|\n",
      "|   unixroot|         12|            -12.0|           12|\n",
      "|     edward|        682|            366.0|           12|\n",
      "+-----------+-----------+-----------------+-------------+\n",
      "only showing top 20 rows\n",
      "\n"
     ]
    }
   ],
   "source": [
    "top_user = spark.sql('select by as author, sum(score) as total_score, sum(descendants) as total_descendants, count(id) as total_stories from score WHERE by IS NOT NULL GROUP BY by ORDER BY total_stories DESC LIMIT 30')\n",
    "top_user.show()"
   ]
  },
  {
   "cell_type": "code",
   "execution_count": 113,
   "metadata": {},
   "outputs": [
    {
     "name": "stderr",
     "output_type": "stream",
     "text": [
      "/home/hadoop/miniconda/lib/python3.6/site-packages/pyarrow/pandas_compat.py:752: FutureWarning: .labels was deprecated in version 0.24.0. Use .codes instead.\n",
      "  labels, = index.labels\n"
     ]
    },
    {
     "data": {
      "text/plain": [
       "Text(0, 0.5, 'Score')"
      ]
     },
     "execution_count": 113,
     "metadata": {},
     "output_type": "execute_result"
    },
    {
     "data": {
      "image/png": "[encoded data removed]",
      "text/plain": [
       "<Figure size 1008x432 with 1 Axes>"
      ]
     },
     "metadata": {
      "needs_background": "light"
     },
     "output_type": "display_data"
    }
   ],
   "source": [
    "top_user = top_user.toPandas()\n",
    "top_user.sort_values(\"total_stories\")[::-1][:10].plot(x=\"author\",y=[\"total_score\", \"total_descendants\", \"total_stories\"], \n",
    "                                                   kind=\"bar\",figsize=(14,6),\n",
    "                                                   title='Top users stats').set_ylabel(\"Score\")"
   ]
  },
  {
   "cell_type": "code",
   "execution_count": 114,
   "metadata": {},
   "outputs": [
    {
     "name": "stdout",
     "output_type": "stream",
     "text": [
      "Total number of stories 490 posted by 30 most active users\n"
     ]
    }
   ],
   "source": [
    "print(\"Total number of stories {} posted by 30 most active users\".format(top_user.total_stories.sum()))"
   ]
  },
  {
   "cell_type": "code",
   "execution_count": 116,
   "metadata": {},
   "outputs": [
    {
     "name": "stdout",
     "output_type": "stream",
     "text": [
      "Percentage stories posted by 30 most active users : 5.845162829535965%\n"
     ]
    }
   ],
   "source": [
    "print(\"Percentage stories posted by 30 most active users : {}%\".format(top_user.total_stories.sum()*100/story.count()))"
   ]
  },
  {
   "cell_type": "code",
   "execution_count": 124,
   "metadata": {},
   "outputs": [
    {
     "name": "stdout",
     "output_type": "stream",
     "text": [
      "+-----+--------------------+\n",
      "|score|               title|\n",
      "+-----+--------------------+\n",
      "|    3|Interview with Ca...|\n",
      "|    3|Interview with Ca...|\n",
      "|    1|Rejected from Y C...|\n",
      "|    1|Rejected from Y C...|\n",
      "+-----+--------------------+\n",
      "\n"
     ]
    }
   ],
   "source": [
    "#Select stories contains Y Combinator\n",
    "YC = spark.sql(\"select score, title from score where title like '%Y Combinator%' or title like '%YCombinator' ORDER BY score  DESC\")\n",
    "YC.show()"
   ]
  },
  {
   "cell_type": "code",
   "execution_count": 125,
   "metadata": {},
   "outputs": [
    {
     "data": {
      "text/plain": [
       "Text(0, 0.5, 'Score')"
      ]
     },
     "execution_count": 125,
     "metadata": {},
     "output_type": "execute_result"
    },
    {
     "data": {
      "image/png": "[encoded data removed]",
      "text/plain": [
       "<Figure size 1008x432 with 1 Axes>"
      ]
     },
     "metadata": {
      "needs_background": "light"
     },
     "output_type": "display_data"
    }
   ],
   "source": [
    "YC = YC.toPandas()\n",
    "YC.sort_values(\"score\")[::-1][:10].plot(x=\"title\",y=[\"score\"], \n",
    "                                                   kind=\"bar\",figsize=(14,6),\n",
    "                                                   title='Top scoring YC Stories').set_ylabel(\"Score\")"
   ]
  },
  {
   "cell_type": "code",
   "execution_count": 126,
   "metadata": {},
   "outputs": [
    {
     "name": "stdout",
     "output_type": "stream",
     "text": [
      "Total number of stories with mention of YC 4\n"
     ]
    }
   ],
   "source": [
    "print(\"Total number of stories with mention of YC {}\".format(len(YC)))"
   ]
  },
  {
   "cell_type": "code",
   "execution_count": 127,
   "metadata": {},
   "outputs": [
    {
     "name": "stdout",
     "output_type": "stream",
     "text": [
      "Avg score of stories with mention of YC 2.0\n"
     ]
    }
   ],
   "source": [
    "print(\"Avg score of stories with mention of YC {}\".format(YC.score.mean()))"
   ]
  },
  {
   "cell_type": "code",
   "execution_count": 131,
   "metadata": {},
   "outputs": [
    {
     "name": "stdout",
     "output_type": "stream",
     "text": [
      "+----+-------------+-----------+\n",
      "|year|total_stories|total_score|\n",
      "+----+-------------+-----------+\n",
      "|2007|           46|        206|\n",
      "|2008|          202|       1181|\n",
      "|2009|          283|       2099|\n",
      "|2010|          436|       4227|\n",
      "|2011|          786|       6701|\n",
      "|2012|          751|       6576|\n",
      "|2013|          814|       9217|\n",
      "|2014|          738|       8184|\n",
      "|2015|          920|      11182|\n",
      "|2016|         1028|       7660|\n",
      "|2017|          928|      10114|\n",
      "|2018|          905|      13617|\n",
      "|2019|          465|       7685|\n",
      "+----+-------------+-----------+\n",
      "\n"
     ]
    }
   ],
   "source": [
    "#Plot stories of the year\n",
    "story_year = spark.sql('select year(timestamp) as year, count(*) as total_stories, sum(score) as total_score from score where timestamp is not null group by year(timestamp) order by year(timestamp)')\n",
    "story_year.show()"
   ]
  },
  {
   "cell_type": "code",
   "execution_count": 133,
   "metadata": {},
   "outputs": [
    {
     "data": {
      "text/plain": [
       "Text(0, 0.5, 'Score')"
      ]
     },
     "execution_count": 133,
     "metadata": {},
     "output_type": "execute_result"
    },
    {
     "data": {
      "image/png": "[encoded data removed]",
      "text/plain": [
       "<Figure size 1008x432 with 1 Axes>"
      ]
     },
     "metadata": {
      "needs_background": "light"
     },
     "output_type": "display_data"
    }
   ],
   "source": [
    "story_year = story_year.toPandas()\n",
    "story_year.plot(x=\"year\",y=[\"total_stories\",\"total_score\"],\n",
    "                     kind=\"bar\",figsize=(14,6),\n",
    "                     title='Stories per year').set_ylabel(\"Score\")"
   ]
  },
  {
   "cell_type": "code",
   "execution_count": null,
   "metadata": {},
   "outputs": [],
   "source": []
  },
  {
   "cell_type": "code",
   "execution_count": 85,
   "metadata": {},
   "outputs": [
    {
     "name": "stderr",
     "output_type": "stream",
     "text": [
      "/home/hadoop/miniconda/lib/python3.6/site-packages/pyarrow/pandas_compat.py:752: FutureWarning: .labels was deprecated in version 0.24.0. Use .codes instead.\n",
      "  labels, = index.labels\n"
     ]
    }
   ],
   "source": [
    "# Let's making some analysis using this title column\n",
    "title_list = list(df1.select('title').toPandas()['title'])"
   ]
  },
  {
   "cell_type": "code",
   "execution_count": 90,
   "metadata": {},
   "outputs": [
    {
     "data": {
      "text/plain": [
       "['Why disabling 3rd party cookies in Firefox 22 is a big mistake',\n",
       " 'How trainers and coach can help align sales and marketing',\n",
       " 'AppDynamics CEO: Don’t call my $2B company a unicorn',\n",
       " 'Regulation free zones to allow testing of drone technology',\n",
       " 'Technologizing Agriculture',\n",
       " 'Why Logical Clocks Are Easy',\n",
       " 'Dynamic and Static Programming Languages and Teaching',\n",
       " 'Trump flanked by mushroom clouds, Nazi symbols on Phoenix billboard',\n",
       " 'How Media Fuels Our Fear of Terrorism',\n",
       " ' Mono options']"
      ]
     },
     "execution_count": 90,
     "metadata": {},
     "output_type": "execute_result"
    }
   ],
   "source": [
    "#Since there are none values in this list, we can create a new list to make sure that all elements are not empty\n",
    "titles = []\n",
    "for title in title_list:\n",
    "    if title is None:\n",
    "        continue\n",
    "    titles.append(title)\n",
    "titles[:10]"
   ]
  },
  {
   "cell_type": "code",
   "execution_count": null,
   "metadata": {},
   "outputs": [],
   "source": []
  }
 ],
 "metadata": {
  "kernelspec": {
   "display_name": "Python 3",
   "language": "python",
   "name": "python3"
  },
  "language_info": {
   "codemirror_mode": {
    "name": "ipython",
    "version": 3
   },
   "file_extension": ".py",
   "mimetype": "text/x-python",
   "name": "python",
   "nbconvert_exporter": "python",
   "pygments_lexer": "ipython3",
   "version": "3.6.8"
  }
 },
 "nbformat": 4,
 "nbformat_minor": 2
}
