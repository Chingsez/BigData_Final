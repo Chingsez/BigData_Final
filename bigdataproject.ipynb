{
 "cells": [
  {
   "cell_type": "code",
   "execution_count": 124,
   "metadata": {},
   "outputs": [],
   "source": [
    "import numpy as np\n",
    "from pyspark.sql.functions import udf\n",
    "from pyspark.sql.types import IntegerType\n",
    "from pyspark.sql.types import DoubleType\n",
    "from pyspark.sql.types import StringType\n",
    "import re\n",
    "from pyspark.sql.functions import split\n",
    "from pyspark.ml.feature import Tokenizer, RegexTokenizer\n",
    "from pyspark.sql.functions import col, udf\n",
    "from pyspark.sql.types import IntegerType\n",
    "from pyspark.ml.feature import StopWordsRemover\n",
    "import pyspark.sql.functions as f\n",
    "from pyspark.ml.feature import Word2Vec\n",
    "import datetime\n",
    "from pyspark.sql.functions import year, month, dayofmonth, dayofweek"
   ]
  },
  {
   "cell_type": "code",
   "execution_count": 123,
   "metadata": {},
   "outputs": [],
   "source": [
    "# start SparkSession\n",
    "import findspark\n",
    "findspark.init()\n",
    "from pyspark.sql import SparkSession\n",
    "spark = SparkSession.builder.appName(\"project\").getOrCreate()\n",
    "import matplotlib.pyplot as plt\n",
    "%matplotlib inline\n",
    "plt.style.use('seaborn-pastel')"
   ]
  },
  {
   "cell_type": "markdown",
   "metadata": {},
   "source": [
    "# 1. STORIES"
   ]
  },
  {
   "cell_type": "code",
   "execution_count": 125,
   "metadata": {},
   "outputs": [],
   "source": [
    "# read in the dataset stories\n",
    "data_df = spark.read\\\n",
    "  .format('csv')\\\n",
    "  .option('header', 'true')\\\n",
    "  .option('inferSchema', 'true')\\\n",
    "  .load('s3://bigdataproject233/stories.csv')"
   ]
  },
  {
   "cell_type": "code",
   "execution_count": 126,
   "metadata": {
    "scrolled": true
   },
   "outputs": [
    {
     "name": "stdout",
     "output_type": "stream",
     "text": [
      "+-------+------------+-----+------------+--------------------+--------------------+--------------------+--------------------+-------+----+-----------+------------+\n",
      "|     id|          by|score|        time|             time_ts|               title|                 url|                text|deleted|dead|descendants|      author|\n",
      "+-------+------------+-----+------------+--------------------+--------------------+--------------------+--------------------+-------+----+-----------+------------+\n",
      "|6940813|   sarath237|  0.0|1387536270.0|2013-12-20 10:44:...| Sheryl Brindo Ho...|http://www.youtub...| Sheryl Brindo Ho...|   null|True|       null|   sarath237|\n",
      "|6991401|123123321321|  0.0|1388508751.0|2013-12-31 16:52:...|Are you people al...|                null|They&#x27;re pret...|   null|True|       null|123123321321|\n",
      "|1531556|         ssn|  0.0|1279617234.0|2010-07-20 09:13:...|New UI for Google...|http://googlesyst...|Again following o...|   null|null|        0.0|         ssn|\n",
      "|5012398|        hoju|  0.0|1357387877.0|2013-01-05 12:11:...|Historic website ...|http://webscrapin...|Python script to ...|   null|null|        0.0|        hoju|\n",
      "|7214182|       kogir|  0.0|1401561740.0|2014-05-31 18:42:...|         Placeholder|                null|       Mind the gap.|   null|null|        0.0|       kogir|\n",
      "|1187303|       kogir|  0.0|1401561740.0|2014-05-31 18:42:...|         Placeholder|                null|       Mind the gap.|   null|null|        0.0|       kogir|\n",
      "|1318494|       kogir|  0.0|1401561740.0|2014-05-31 18:42:...|         Placeholder|                null|       Mind the gap.|   null|null|        0.0|       kogir|\n",
      "|3700400|       kogir|  0.0|1401561740.0|2014-05-31 18:42:...|         Placeholder|                null|       Mind the gap.|   null|null|        0.0|       kogir|\n",
      "|1384487|       kogir|  0.0|1401561740.0|2014-05-31 18:42:...|         Placeholder|                null|       Mind the gap.|   null|null|        0.0|       kogir|\n",
      "|3530428|       kogir|  0.0|1401561740.0|2014-05-31 18:42:...|         Placeholder|                null|       Mind the gap.|   null|null|        0.0|       kogir|\n",
      "|3538851|       kogir|  0.0|1401561740.0|2014-05-31 18:42:...|         Placeholder|                null|       Mind the gap.|   null|null|        0.0|       kogir|\n",
      "|4167497|       kogir|  0.0|1401561740.0|2014-05-31 18:42:...|         Placeholder|                null|       Mind the gap.|   null|null|        0.0|       kogir|\n",
      "|3789206|       kogir|  0.0|1401561740.0|2014-05-31 18:42:...|         Placeholder|                null|       Mind the gap.|   null|null|        0.0|       kogir|\n",
      "|4072660|       kogir|  0.0|1401561740.0|2014-05-31 18:42:...|         Placeholder|                null|       Mind the gap.|   null|null|        0.0|       kogir|\n",
      "|2979883|       kogir|  0.0|1401561740.0|2014-05-31 18:42:...|         Placeholder|                null|       Mind the gap.|   null|null|        0.0|       kogir|\n",
      "|3300974|       kogir|  0.0|1401561740.0|2014-05-31 18:42:...|         Placeholder|                null|       Mind the gap.|   null|null|        0.0|       kogir|\n",
      "|2305819|       kogir|  0.0|1401561740.0|2014-05-31 18:42:...|         Placeholder|                null|       Mind the gap.|   null|null|        0.0|       kogir|\n",
      "|3833628|       kogir|  0.0|1401561740.0|2014-05-31 18:42:...|         Placeholder|                null|       Mind the gap.|   null|null|        0.0|       kogir|\n",
      "|2606988|       ramis|  0.0|1306931771.0|2011-06-01 12:36:...|Kidney Transplant...|http://dhshahzad....|I started indepen...|   null|True|        0.0|       ramis|\n",
      "|4542754|       tette|  0.0|1348045069.0|2012-09-19 08:57:...|Bouncing Marble f...|http://www.window...|Bouncing marble i...|   null|null|        0.0|       tette|\n",
      "+-------+------------+-----+------------+--------------------+--------------------+--------------------+--------------------+-------+----+-----------+------------+\n",
      "only showing top 20 rows\n",
      "\n"
     ]
    }
   ],
   "source": [
    "data_df.show()"
   ]
  },
  {
   "cell_type": "code",
   "execution_count": 127,
   "metadata": {},
   "outputs": [
    {
     "name": "stdout",
     "output_type": "stream",
     "text": [
      "root\n",
      " |-- id: string (nullable = true)\n",
      " |-- by: string (nullable = true)\n",
      " |-- score: string (nullable = true)\n",
      " |-- time: string (nullable = true)\n",
      " |-- time_ts: string (nullable = true)\n",
      " |-- title: string (nullable = true)\n",
      " |-- url: string (nullable = true)\n",
      " |-- text: string (nullable = true)\n",
      " |-- deleted: string (nullable = true)\n",
      " |-- dead: string (nullable = true)\n",
      " |-- descendants: string (nullable = true)\n",
      " |-- author: string (nullable = true)\n",
      "\n"
     ]
    }
   ],
   "source": [
    "data_df.printSchema()"
   ]
  },
  {
   "cell_type": "code",
   "execution_count": 128,
   "metadata": {},
   "outputs": [
    {
     "data": {
      "text/plain": [
       "2069464"
      ]
     },
     "execution_count": 128,
     "metadata": {},
     "output_type": "execute_result"
    }
   ],
   "source": [
    "data_df.count()"
   ]
  },
  {
   "cell_type": "code",
   "execution_count": 129,
   "metadata": {},
   "outputs": [],
   "source": [
    "from pyspark.sql.types import IntegerType\n",
    "from pyspark.sql.types import DoubleType\n",
    "\n",
    "story_df = data_df.select(data_df['id'].cast(IntegerType()),\n",
    "                     data_df['score'].cast(IntegerType()),\n",
    "                     data_df['time_ts'].cast('timestamp'),\n",
    "                     data_df['title'],\n",
    "                     data_df['url'],\n",
    "                     data_df['text'],\n",
    "                     data_df['deleted'],\n",
    "                     data_df['dead'],\n",
    "                     data_df['descendants'].cast(IntegerType()),\n",
    "                     data_df['author']\n",
    "                             )\n"
   ]
  },
  {
   "cell_type": "code",
   "execution_count": 130,
   "metadata": {},
   "outputs": [
    {
     "name": "stdout",
     "output_type": "stream",
     "text": [
      "root\n",
      " |-- id: integer (nullable = true)\n",
      " |-- score: integer (nullable = true)\n",
      " |-- time_ts: timestamp (nullable = true)\n",
      " |-- title: string (nullable = true)\n",
      " |-- url: string (nullable = true)\n",
      " |-- text: string (nullable = true)\n",
      " |-- deleted: string (nullable = true)\n",
      " |-- dead: string (nullable = true)\n",
      " |-- descendants: integer (nullable = true)\n",
      " |-- author: string (nullable = true)\n",
      "\n"
     ]
    }
   ],
   "source": [
    "story_df.printSchema()"
   ]
  },
  {
   "cell_type": "code",
   "execution_count": 131,
   "metadata": {
    "scrolled": true
   },
   "outputs": [
    {
     "name": "stdout",
     "output_type": "stream",
     "text": [
      "+-------+-----+-------------------+--------------------+--------------------+--------------------+-------+----+-----------+------------+\n",
      "|     id|score|            time_ts|               title|                 url|                text|deleted|dead|descendants|      author|\n",
      "+-------+-----+-------------------+--------------------+--------------------+--------------------+-------+----+-----------+------------+\n",
      "|6940813|    0|2013-12-20 10:44:30| Sheryl Brindo Ho...|http://www.youtub...| Sheryl Brindo Ho...|   null|True|       null|   sarath237|\n",
      "|6991401|    0|2013-12-31 16:52:31|Are you people al...|                null|They&#x27;re pret...|   null|True|       null|123123321321|\n",
      "|1531556|    0|2010-07-20 09:13:54|New UI for Google...|http://googlesyst...|Again following o...|   null|null|          0|         ssn|\n",
      "|5012398|    0|2013-01-05 12:11:17|Historic website ...|http://webscrapin...|Python script to ...|   null|null|          0|        hoju|\n",
      "|7214182|    0|2014-05-31 18:42:20|         Placeholder|                null|       Mind the gap.|   null|null|          0|       kogir|\n",
      "|1187303|    0|2014-05-31 18:42:20|         Placeholder|                null|       Mind the gap.|   null|null|          0|       kogir|\n",
      "|1318494|    0|2014-05-31 18:42:20|         Placeholder|                null|       Mind the gap.|   null|null|          0|       kogir|\n",
      "|3700400|    0|2014-05-31 18:42:20|         Placeholder|                null|       Mind the gap.|   null|null|          0|       kogir|\n",
      "|1384487|    0|2014-05-31 18:42:20|         Placeholder|                null|       Mind the gap.|   null|null|          0|       kogir|\n",
      "|3530428|    0|2014-05-31 18:42:20|         Placeholder|                null|       Mind the gap.|   null|null|          0|       kogir|\n",
      "+-------+-----+-------------------+--------------------+--------------------+--------------------+-------+----+-----------+------------+\n",
      "only showing top 10 rows\n",
      "\n"
     ]
    }
   ],
   "source": [
    "story_df.show(10)"
   ]
  },
  {
   "cell_type": "code",
   "execution_count": 132,
   "metadata": {},
   "outputs": [],
   "source": [
    "# create temp table\n",
    "story_df.createOrReplaceTempView('ini_story')"
   ]
  },
  {
   "cell_type": "code",
   "execution_count": 133,
   "metadata": {},
   "outputs": [
    {
     "data": {
      "text/plain": [
       "1959840"
      ]
     },
     "execution_count": 133,
     "metadata": {},
     "output_type": "execute_result"
    }
   ],
   "source": [
    "story_df.select(\"id\").distinct().count()"
   ]
  },
  {
   "cell_type": "code",
   "execution_count": 134,
   "metadata": {},
   "outputs": [
    {
     "data": {
      "text/plain": [
       "1759584"
      ]
     },
     "execution_count": 134,
     "metadata": {},
     "output_type": "execute_result"
    }
   ],
   "source": [
    "story_df.select(\"title\").distinct().count()"
   ]
  },
  {
   "cell_type": "code",
   "execution_count": 135,
   "metadata": {
    "scrolled": true
   },
   "outputs": [],
   "source": [
    "# filter the dataset\n",
    "sqlStatement = \"\"\"\n",
    "SELECT * \n",
    "FROM ini_story\n",
    "WHERE id is not NULL \n",
    "and score is not NULL \n",
    "and time_ts is not NULL \n",
    "and title is not NULL \n",
    "and url is not NULL\n",
    "and descendants is not NULL\n",
    "and author is not NULL \n",
    "\"\"\"\n"
   ]
  },
  {
   "cell_type": "code",
   "execution_count": 136,
   "metadata": {},
   "outputs": [],
   "source": [
    "clean_story_df = spark.sql(sqlStatement)\n",
    "clean_story_df.count()\n",
    "clean_story_df.createOrReplaceTempView('story1')"
   ]
  },
  {
   "cell_type": "code",
   "execution_count": 137,
   "metadata": {},
   "outputs": [],
   "source": [
    "# get hostname of url as web\n",
    "\n",
    "sqlStatement = \"\"\"\n",
    "SELECT id, score, time_ts,title,text,descendants,author,\n",
    "regexp_extract(url, '([a-z]+).(com|net|co|cn|org|ru|de|br|uk|pl|ir|it|in|fr|au|jp|info|to|ca)', 1) as web\n",
    "FROM story1 \n",
    "\"\"\"\n",
    "\n",
    "clean_story_df2 = spark.sql(sqlStatement)\n",
    "clean_story_df2.createOrReplaceTempView('story')"
   ]
  },
  {
   "cell_type": "code",
   "execution_count": 138,
   "metadata": {},
   "outputs": [],
   "source": [
    "# website information\n",
    "# Where are the stories coming from? or what are the most popular sources?\n",
    "\n",
    "sqlStatement = \"\"\"\n",
    "SELECT COUNT(id) AS num, web\n",
    "FROM story\n",
    "WHERE web != '' and web !='www'\n",
    "GROUP BY web\n",
    "ORDER BY num DESC\n",
    "LIMIT 20\n",
    "\"\"\"\n",
    "web_df1 = spark.sql(sqlStatement)"
   ]
  },
  {
   "cell_type": "code",
   "execution_count": 139,
   "metadata": {},
   "outputs": [
    {
     "name": "stdout",
     "output_type": "stream",
     "text": [
      "+-----+-----------+\n",
      "|  num|        web|\n",
      "+-----+-----------+\n",
      "|35467|     github|\n",
      "|30490| techcrunch|\n",
      "|27039|    nytimes|\n",
      "|25275|   blogspot|\n",
      "|24271|    youtube|\n",
      "|17849|     medium|\n",
      "|16503|     google|\n",
      "|14321|        bbc|\n",
      "|13645|arstechnica|\n",
      "|13375|      wired|\n",
      "+-----+-----------+\n",
      "only showing top 10 rows\n",
      "\n"
     ]
    }
   ],
   "source": [
    "### to be visual\n",
    "# show top 10\n",
    "web_df1.show(10)"
   ]
  },
  {
   "cell_type": "code",
   "execution_count": 140,
   "metadata": {},
   "outputs": [
    {
     "name": "stderr",
     "output_type": "stream",
     "text": [
      "/home/hadoop/miniconda/lib/python3.6/site-packages/pyarrow/pandas_compat.py:752: FutureWarning: .labels was deprecated in version 0.24.0. Use .codes instead.\n",
      "  labels, = index.labels\n"
     ]
    },
    {
     "data": {
      "text/plain": [
       "Text(0, 0.5, 'Number')"
      ]
     },
     "execution_count": 140,
     "metadata": {},
     "output_type": "execute_result"
    },
    {
     "data": {
      "image/png": "[encoded data removed]",
      "text/plain": [
       "<Figure size 1008x432 with 1 Axes>"
      ]
     },
     "metadata": {
      "needs_background": "light"
     },
     "output_type": "display_data"
    }
   ],
   "source": [
    "web_df1 = web_df1.toPandas()\n",
    "web_df1.plot(x='web', y='num', \n",
    "                    kind=\"bar\",figsize=(14,6),\n",
    "                    title='Top 10 web source').set_ylabel(\"Number\")"
   ]
  },
  {
   "cell_type": "code",
   "execution_count": 141,
   "metadata": {},
   "outputs": [],
   "source": [
    "# score information\n",
    "# From which website the story will have a high score in total?\n",
    "sqlStatement = \"\"\"\n",
    "SELECT AVG(score) as avg_score, web\n",
    "FROM story\n",
    "WHERE web != '' and web !='www'\n",
    "GROUP BY web\n",
    "ORDER BY avg_score DESC\n",
    "LIMIT 20\n",
    "\"\"\"\n",
    "web_df2 = spark.sql(sqlStatement)\n"
   ]
  },
  {
   "cell_type": "code",
   "execution_count": 142,
   "metadata": {},
   "outputs": [
    {
     "name": "stdout",
     "output_type": "stream",
     "text": [
      "+---------+--------------------+\n",
      "|avg_score|                 web|\n",
      "+---------+--------------------+\n",
      "|   1768.0|          heartbleed|\n",
      "|   1445.0|           bekkelund|\n",
      "|   1323.0|          spritelamp|\n",
      "|   1215.0|spotthedrowningchild|\n",
      "|   1167.0|    standardmarkdown|\n",
      "|   1086.0|            jeffepst|\n",
      "|   1055.0|       projectnaptha|\n",
      "|    925.0|     gabrielecirulli|\n",
      "|    910.0|    gameaboutsquares|\n",
      "|    868.0|                kfor|\n",
      "+---------+--------------------+\n",
      "only showing top 10 rows\n",
      "\n"
     ]
    }
   ],
   "source": [
    "### to be visual\n",
    "# show top 10\n",
    "web_df2.show(10)"
   ]
  },
  {
   "cell_type": "code",
   "execution_count": 143,
   "metadata": {},
   "outputs": [
    {
     "data": {
      "text/plain": [
       "Text(0, 0.5, 'Score')"
      ]
     },
     "execution_count": 143,
     "metadata": {},
     "output_type": "execute_result"
    },
    {
     "data": {
      "image/png": "[encoded data removed]",
      "text/plain": [
       "<Figure size 1008x432 with 1 Axes>"
      ]
     },
     "metadata": {
      "needs_background": "light"
     },
     "output_type": "display_data"
    }
   ],
   "source": [
    "web_df2 = web_df2.toPandas()\n",
    "web_df2.plot(x='web', y='avg_score', \n",
    "                    kind=\"bar\",figsize=(14,6),\n",
    "                    title='Top 10 web source').set_ylabel(\"Score\")"
   ]
  },
  {
   "cell_type": "code",
   "execution_count": 144,
   "metadata": {},
   "outputs": [],
   "source": [
    "# story number distribution in terms of time\n",
    "# What is the trend of story numbers from 2006-2015 in Hacker News?\n",
    "\n",
    "sqlStatement = \"\"\"\n",
    "SELECT COUNT(id) AS story_num, \n",
    "year(time_ts) as year\n",
    "FROM story\n",
    "GROUP BY year\n",
    "ORDER BY year\n",
    "\"\"\"\n",
    "story_time_df1 = spark.sql(sqlStatement)"
   ]
  },
  {
   "cell_type": "code",
   "execution_count": 145,
   "metadata": {},
   "outputs": [
    {
     "name": "stdout",
     "output_type": "stream",
     "text": [
      "+---------+----+\n",
      "|story_num|year|\n",
      "+---------+----+\n",
      "|       50|2006|\n",
      "|    19761|2007|\n",
      "|    64374|2008|\n",
      "|   102674|2009|\n",
      "|   163267|2010|\n",
      "|   270554|2011|\n",
      "|   292391|2012|\n",
      "|   280221|2013|\n",
      "|   232685|2014|\n",
      "|   195259|2015|\n",
      "+---------+----+\n",
      "\n"
     ]
    }
   ],
   "source": [
    "story_time_df1.show()"
   ]
  },
  {
   "cell_type": "code",
   "execution_count": 146,
   "metadata": {},
   "outputs": [
    {
     "data": {
      "text/plain": [
       "Text(0, 0.5, 'Number')"
      ]
     },
     "execution_count": 146,
     "metadata": {},
     "output_type": "execute_result"
    },
    {
     "data": {
      "image/png": "[encoded data removed]",
      "text/plain": [
       "<Figure size 1008x432 with 1 Axes>"
      ]
     },
     "metadata": {
      "needs_background": "light"
     },
     "output_type": "display_data"
    }
   ],
   "source": [
    "story_time_df1 = story_time_df1.toPandas()\n",
    "story_time_df1.plot(x='year', y='story_num', \n",
    "                    kind=\"bar\",figsize=(14,6),\n",
    "                    title='Stories per year', style = 'ggplot').set_ylabel(\"Number\")"
   ]
  },
  {
   "cell_type": "code",
   "execution_count": 147,
   "metadata": {},
   "outputs": [],
   "source": [
    "# story number distribution in terms of time\n",
    "# What is the most popular/active time during a day in pubulishing a story?\n",
    "\n",
    "sqlStatement = \"\"\"\n",
    "SELECT COUNT(id) AS story_num, \n",
    "hour(time_ts) as hour\n",
    "FROM story\n",
    "GROUP BY hour\n",
    "ORDER BY story_num DESC\n",
    "\"\"\"\n",
    "story_time_df2 = spark.sql(sqlStatement)"
   ]
  },
  {
   "cell_type": "code",
   "execution_count": 148,
   "metadata": {},
   "outputs": [
    {
     "name": "stdout",
     "output_type": "stream",
     "text": [
      "+---------+----+\n",
      "|story_num|hour|\n",
      "+---------+----+\n",
      "|   106659|  16|\n",
      "|   105078|  17|\n",
      "|   103543|  15|\n",
      "|    99805|  18|\n",
      "|    96685|  14|\n",
      "|    91096|  19|\n",
      "|    85227|  20|\n",
      "|    83798|  13|\n",
      "|    78505|  21|\n",
      "|    68565|  12|\n",
      "|    67326|  22|\n",
      "|    57736|  23|\n",
      "|    56605|  11|\n",
      "|    51692|   0|\n",
      "|    49733|  10|\n",
      "|    49148|   1|\n",
      "|    48242|   9|\n",
      "|    47439|   2|\n",
      "|    46202|   3|\n",
      "|    46082|   6|\n",
      "|    45927|   8|\n",
      "|    45546|   4|\n",
      "|    45355|   7|\n",
      "|    45242|   5|\n",
      "+---------+----+\n",
      "\n"
     ]
    }
   ],
   "source": [
    "story_time_df2.show(24)"
   ]
  },
  {
   "cell_type": "code",
   "execution_count": 149,
   "metadata": {},
   "outputs": [
    {
     "data": {
      "text/plain": [
       "Text(0, 0.5, 'Number')"
      ]
     },
     "execution_count": 149,
     "metadata": {},
     "output_type": "execute_result"
    },
    {
     "data": {
      "image/png": "[encoded data removed]",
      "text/plain": [
       "<Figure size 1008x432 with 1 Axes>"
      ]
     },
     "metadata": {
      "needs_background": "light"
     },
     "output_type": "display_data"
    }
   ],
   "source": [
    "story_time_df2 = story_time_df2.toPandas()\n",
    "story_time_df2.plot(x='hour', y='story_num', \n",
    "                    kind=\"bar\",figsize=(14,6),\n",
    "                    title='Popular hour').set_ylabel(\"Number\")"
   ]
  },
  {
   "cell_type": "code",
   "execution_count": 150,
   "metadata": {},
   "outputs": [
    {
     "data": {
      "text/plain": [
       "[Row(min(score)=0, max(score)=4339, avg(score)=11.055065394550825)]"
      ]
     },
     "execution_count": 150,
     "metadata": {},
     "output_type": "execute_result"
    }
   ],
   "source": [
    "# score information\n",
    "# what is the average score of those story?\n",
    "spark.sql(\"select min(score),max(score),avg(score) from story\").collect()"
   ]
  },
  {
   "cell_type": "code",
   "execution_count": 151,
   "metadata": {},
   "outputs": [],
   "source": [
    "# author/user information \n",
    "# decending by total_score \n",
    "sqlStatement = \"\"\"SELECT SUM(score) as total_score,author,\n",
    "SUM(descendants) as total_decendants,\n",
    "count(id) as total_stories\n",
    "FROM story\n",
    "GROUP BY author\n",
    "ORDER BY total_score DESC\n",
    "LIMIT 20\n",
    "\"\"\"\n",
    "user_df = spark.sql(sqlStatement)\n",
    "#user_df.createOrReplaceTempView(\"user\")"
   ]
  },
  {
   "cell_type": "code",
   "execution_count": 152,
   "metadata": {
    "scrolled": true
   },
   "outputs": [
    {
     "name": "stdout",
     "output_type": "stream",
     "text": [
      "+-----------+-----------+----------------+-------------+\n",
      "|total_score|     author|total_decendants|total_stories|\n",
      "+-----------+-----------+----------------+-------------+\n",
      "|      75417|ColinWright|           29929|         3615|\n",
      "|      63780| shawndumas|           25448|         6533|\n",
      "|      59469|    llambda|           20136|         2580|\n",
      "|      56597|      fogus|           21058|         2406|\n",
      "|      53341|      danso|           22784|         2592|\n",
      "|      52689|       cwan|           24061|         7058|\n",
      "|      51709|        luu|           19692|         2248|\n",
      "|      48935|  ssclafani|           24024|         1318|\n",
      "|      41234|      evo_9|           15970|         5540|\n",
      "|      41061| Libertatea|           18950|         2232|\n",
      "+-----------+-----------+----------------+-------------+\n",
      "only showing top 10 rows\n",
      "\n"
     ]
    }
   ],
   "source": [
    "user_df.show(10)"
   ]
  },
  {
   "cell_type": "code",
   "execution_count": 153,
   "metadata": {},
   "outputs": [
    {
     "data": {
      "text/plain": [
       "Text(0, 0.5, 'Score')"
      ]
     },
     "execution_count": 153,
     "metadata": {},
     "output_type": "execute_result"
    },
    {
     "data": {
      "image/png": "[encoded data removed]",
      "text/plain": [
       "<Figure size 1008x432 with 1 Axes>"
      ]
     },
     "metadata": {
      "needs_background": "light"
     },
     "output_type": "display_data"
    }
   ],
   "source": [
    "user_df = user_df.toPandas()\n",
    "user_df.sort_values(\"total_score\")[::-1][:10].plot(x=\"author\",y=[\"total_score\", \"total_decendants\", \"total_stories\"], \n",
    "                                                   kind=\"bar\",figsize=(14,6),\n",
    "                                                   title='Top users stats').set_ylabel(\"Score\")"
   ]
  },
  {
   "cell_type": "code",
   "execution_count": 154,
   "metadata": {},
   "outputs": [],
   "source": [
    "# author/user information \n",
    "# decending by total_stories \n",
    "sqlStatement = \"\"\"SELECT SUM(score) as total_score, author,\n",
    "SUM(descendants) as total_decendants,\n",
    "count(id) as total_stories\n",
    "FROM story\n",
    "GROUP BY author\n",
    "ORDER BY total_stories DESC\n",
    "LIMIT 20\n",
    "\"\"\"\n",
    "user_df2 = spark.sql(sqlStatement)"
   ]
  },
  {
   "cell_type": "code",
   "execution_count": 155,
   "metadata": {
    "scrolled": true
   },
   "outputs": [
    {
     "name": "stdout",
     "output_type": "stream",
     "text": [
      "+-----------+-----------+----------------+-------------+\n",
      "|total_score|     author|total_decendants|total_stories|\n",
      "+-----------+-----------+----------------+-------------+\n",
      "|      52689|       cwan|           24061|         7058|\n",
      "|      63780| shawndumas|           25448|         6533|\n",
      "|      41234|      evo_9|           15970|         5540|\n",
      "|      29450|      nickb|           11776|         4300|\n",
      "|      26431|   iProject|           11759|         4262|\n",
      "|      28334|   bootload|           11272|         4132|\n",
      "|      29501|     edw519|           13577|         3809|\n",
      "|      29733|     nreece|           12516|         3682|\n",
      "|      75417|ColinWright|           29929|         3615|\n",
      "|      36203| tokenadult|           19890|         3588|\n",
      "+-----------+-----------+----------------+-------------+\n",
      "only showing top 10 rows\n",
      "\n"
     ]
    }
   ],
   "source": [
    "user_df2.show(10)"
   ]
  },
  {
   "cell_type": "code",
   "execution_count": 156,
   "metadata": {},
   "outputs": [
    {
     "name": "stderr",
     "output_type": "stream",
     "text": [
      "/home/hadoop/miniconda/lib/python3.6/site-packages/pyarrow/pandas_compat.py:752: FutureWarning: .labels was deprecated in version 0.24.0. Use .codes instead.\n",
      "  labels, = index.labels\n"
     ]
    },
    {
     "data": {
      "text/plain": [
       "Text(0, 0.5, 'Stories')"
      ]
     },
     "execution_count": 156,
     "metadata": {},
     "output_type": "execute_result"
    },
    {
     "data": {
      "image/png": "[encoded data removed]",
      "text/plain": [
       "<Figure size 1008x432 with 1 Axes>"
      ]
     },
     "metadata": {
      "needs_background": "light"
     },
     "output_type": "display_data"
    }
   ],
   "source": [
    "user_df2 = user_df2.toPandas()\n",
    "user_df2.sort_values(\"total_stories\")[::-1][:10].plot(x=\"author\",y=[\"total_score\", \"total_decendants\", \"total_stories\"], \n",
    "                                                   kind=\"bar\",figsize=(14,6),\n",
    "                                                   title='Top users stats').set_ylabel(\"Stories\")"
   ]
  },
  {
   "cell_type": "code",
   "execution_count": 157,
   "metadata": {},
   "outputs": [],
   "source": [
    "# author/user information \n",
    "# decending by avg_score \n",
    "sqlStatement = \"\"\"SELECT SUM(score) as total_score, author,\n",
    "SUM(descendants) as total_decendants, SUM(score)/count(id) as avg_score,\n",
    "count(id) as total_stories\n",
    "FROM story\n",
    "GROUP BY author\n",
    "ORDER BY avg_score DESC\n",
    "LIMIT 20\n",
    "\"\"\"\n",
    "user_df3 = spark.sql(sqlStatement)"
   ]
  },
  {
   "cell_type": "code",
   "execution_count": 158,
   "metadata": {
    "scrolled": true
   },
   "outputs": [
    {
     "name": "stdout",
     "output_type": "stream",
     "text": [
      "+-----------+---------------+----------------+---------+-------------+\n",
      "|total_score|         author|total_decendants|avg_score|total_stories|\n",
      "+-----------+---------------+----------------+---------+-------------+\n",
      "|       1543|    realfuncode|             526|   1543.0|            1|\n",
      "|       2905|     frederfred|             412|   1452.5|            2|\n",
      "|       1282|          rcina|             249|   1282.0|            1|\n",
      "|       1257|         kvargs|             558|   1257.0|            1|\n",
      "|       1248|        mmebane|             267|   1248.0|            1|\n",
      "|       1227|FlemishBeeCycle|             444|   1227.0|            1|\n",
      "|       1172|     hannahmitt|             136|   1172.0|            1|\n",
      "|       1125|  afraidofadria|             985|   1125.0|            1|\n",
      "|       4354|   patricktomas|             385|   1088.5|            4|\n",
      "|       1032|       ikeellis|             542|   1032.0|            1|\n",
      "+-----------+---------------+----------------+---------+-------------+\n",
      "only showing top 10 rows\n",
      "\n"
     ]
    }
   ],
   "source": [
    "user_df3.show(10)"
   ]
  },
  {
   "cell_type": "code",
   "execution_count": 159,
   "metadata": {},
   "outputs": [
    {
     "name": "stderr",
     "output_type": "stream",
     "text": [
      "/home/hadoop/miniconda/lib/python3.6/site-packages/pyarrow/pandas_compat.py:752: FutureWarning: .labels was deprecated in version 0.24.0. Use .codes instead.\n",
      "  labels, = index.labels\n"
     ]
    },
    {
     "data": {
      "text/plain": [
       "Text(0, 0.5, 'Score')"
      ]
     },
     "execution_count": 159,
     "metadata": {},
     "output_type": "execute_result"
    },
    {
     "data": {
      "image/png": "[encoded data removed]",
      "text/plain": [
       "<Figure size 1008x432 with 1 Axes>"
      ]
     },
     "metadata": {
      "needs_background": "light"
     },
     "output_type": "display_data"
    }
   ],
   "source": [
    "user_df3 = user_df3.toPandas()\n",
    "user_df3.sort_values(\"avg_score\")[::-1][:10].plot(x=\"author\",y=[\"total_score\", \"total_decendants\", \"total_stories\", 'avg_score'], \n",
    "                                                   kind=\"bar\",figsize=(14,6),\n",
    "                                                   title='Top users stats').set_ylabel(\"Score\")"
   ]
  },
  {
   "cell_type": "code",
   "execution_count": 160,
   "metadata": {},
   "outputs": [],
   "source": [
    "# if there is bias on YC\n",
    "sqlStatement = \"\"\"\n",
    "SELECT score, title,id\n",
    "FROM `story`\n",
    "WHERE title like \"%Y Combinator%\" or title like \"%YCombinator%\" or title like \"%ycombinator%\" or title like \"%y combinator%\"\n",
    "ORDER BY score  DESC\n",
    "\"\"\"\n",
    "YC_df = spark.sql(sqlStatement)"
   ]
  },
  {
   "cell_type": "code",
   "execution_count": 161,
   "metadata": {},
   "outputs": [
    {
     "name": "stdout",
     "output_type": "stream",
     "text": [
      "+-----+--------------------+-------+\n",
      "|score|               title|     id|\n",
      "+-----+--------------------+-------+\n",
      "| 1065|Y Combinator is f...|5059806|\n",
      "|  841|Y Combinator has ...|8033322|\n",
      "|  705|Meet Watsi, Y Com...|5117385|\n",
      "|  687|New: Apply to Y C...|3700712|\n",
      "|  589|How I Got Kicked ...|2208155|\n",
      "|  550|Benefits matter, ...|5409273|\n",
      "|  549|What Happens At Y...|1733236|\n",
      "|  542|How Y Combinator ...|3711008|\n",
      "|  506|Y Combinator Numbers|2608440|\n",
      "|  432|New Y Combinator ...|7972138|\n",
      "|  425|Yuri Milner, SV A...|2154706|\n",
      "|  380|Y Combinator And ...|8178450|\n",
      "|  379|How I Crashed and...|8867335|\n",
      "|  368|Early Photos of Y...|2942958|\n",
      "|  366|Investment Firm Y...|3492711|\n",
      "|  344|Y Combinator anno...|1898432|\n",
      "|  342|Offer HN now at n...|1840060|\n",
      "|  334|Startup developin...|7108684|\n",
      "|  310|Applications open...|3515307|\n",
      "|  310|TempleOS is apply...|9246855|\n",
      "+-----+--------------------+-------+\n",
      "only showing top 20 rows\n",
      "\n"
     ]
    }
   ],
   "source": [
    "YC_df.distinct().show()"
   ]
  },
  {
   "cell_type": "code",
   "execution_count": 162,
   "metadata": {},
   "outputs": [
    {
     "name": "stderr",
     "output_type": "stream",
     "text": [
      "/home/hadoop/miniconda/lib/python3.6/site-packages/pyarrow/pandas_compat.py:752: FutureWarning: .labels was deprecated in version 0.24.0. Use .codes instead.\n",
      "  labels, = index.labels\n"
     ]
    },
    {
     "data": {
      "text/plain": [
       "Text(0, 0.5, 'Score')"
      ]
     },
     "execution_count": 162,
     "metadata": {},
     "output_type": "execute_result"
    },
    {
     "data": {
      "image/png": "[encoded data removed]",
      "text/plain": [
       "<Figure size 1008x432 with 1 Axes>"
      ]
     },
     "metadata": {
      "needs_background": "light"
     },
     "output_type": "display_data"
    }
   ],
   "source": [
    "YC_df = YC_df.toPandas()\n",
    "YC_df.sort_values(\"score\")[::-1][:10].plot(x=\"title\",y=[\"score\"], \n",
    "                                                   kind=\"bar\",figsize=(14,6),\n",
    "                                                   title='Top scoring YC Stories').set_ylabel(\"Score\")"
   ]
  },
  {
   "cell_type": "code",
   "execution_count": 163,
   "metadata": {},
   "outputs": [],
   "source": [
    "# stories of major companies over the year\n",
    "# apple\n",
    "sqlStatement = \"\"\"\n",
    "SELECT count(*) as total_stories, SUM(score) as total_score,\n",
    "year(time_ts) as year\n",
    "FROM story\n",
    "WHERE title like \"%apple%\" or title like \"%APPLE\" or title like \"%Apple\"\n",
    "GROUP BY year\n",
    "ORDER BY year\n",
    "\"\"\"\n",
    "Comp_df1 = spark.sql(sqlStatement)"
   ]
  },
  {
   "cell_type": "code",
   "execution_count": 164,
   "metadata": {},
   "outputs": [
    {
     "name": "stdout",
     "output_type": "stream",
     "text": [
      "+-------------+-----------+----+\n",
      "|total_stories|total_score|year|\n",
      "+-------------+-----------+----+\n",
      "|            1|          7|2006|\n",
      "|           27|        105|2007|\n",
      "|           42|        323|2008|\n",
      "|           84|        774|2009|\n",
      "|          187|       1946|2010|\n",
      "|          340|       5223|2011|\n",
      "|          373|       4861|2012|\n",
      "|          258|       2301|2013|\n",
      "|          154|       2237|2014|\n",
      "|          134|       3611|2015|\n",
      "+-------------+-----------+----+\n",
      "\n"
     ]
    }
   ],
   "source": [
    "Comp_df1.distinct().show()"
   ]
  },
  {
   "cell_type": "code",
   "execution_count": 165,
   "metadata": {},
   "outputs": [
    {
     "name": "stderr",
     "output_type": "stream",
     "text": [
      "/home/hadoop/miniconda/lib/python3.6/site-packages/pyarrow/pandas_compat.py:752: FutureWarning: .labels was deprecated in version 0.24.0. Use .codes instead.\n",
      "  labels, = index.labels\n"
     ]
    },
    {
     "data": {
      "text/plain": [
       "Text(0, 0.5, 'Stories')"
      ]
     },
     "execution_count": 165,
     "metadata": {},
     "output_type": "execute_result"
    },
    {
     "data": {
      "image/png": "[encoded data removed]",
      "text/plain": [
       "<Figure size 1008x432 with 1 Axes>"
      ]
     },
     "metadata": {
      "needs_background": "light"
     },
     "output_type": "display_data"
    }
   ],
   "source": [
    "Comp_df1 = Comp_df1.toPandas()\n",
    "Comp_df1.sort_values(\"total_stories\")[::-1][:10].plot(x=\"year\",y=[\"total_stories\", 'total_score'], \n",
    "                                                   kind=\"bar\",figsize=(14,6),\n",
    "                                                   title='Stories of Apple over years').set_ylabel(\"Stories\")"
   ]
  },
  {
   "cell_type": "code",
   "execution_count": 166,
   "metadata": {},
   "outputs": [],
   "source": [
    "# stories of major companies over the year\n",
    "# google\n",
    "sqlStatement = \"\"\"\n",
    "SELECT count(*) as total_stories, SUM(score) as total_score,\n",
    "year(time_ts) as year\n",
    "FROM story\n",
    "WHERE title like \"%google%\" or title like \"%GOOGLE\" or title like \"%Google\"\n",
    "GROUP BY year\n",
    "ORDER BY year\n",
    "\"\"\"\n",
    "Comp_df2 = spark.sql(sqlStatement)"
   ]
  },
  {
   "cell_type": "code",
   "execution_count": 167,
   "metadata": {},
   "outputs": [
    {
     "name": "stdout",
     "output_type": "stream",
     "text": [
      "+-------------+-----------+----+\n",
      "|total_stories|total_score|year|\n",
      "+-------------+-----------+----+\n",
      "|            1|          1|2006|\n",
      "|           99|        490|2007|\n",
      "|          179|       1155|2008|\n",
      "|          415|       3275|2009|\n",
      "|          521|       6786|2010|\n",
      "|          491|       8873|2011|\n",
      "|          455|       7188|2012|\n",
      "|          454|      10730|2013|\n",
      "|          365|       7734|2014|\n",
      "|          303|       9052|2015|\n",
      "+-------------+-----------+----+\n",
      "\n"
     ]
    }
   ],
   "source": [
    "Comp_df2.distinct().show()"
   ]
  },
  {
   "cell_type": "code",
   "execution_count": 168,
   "metadata": {},
   "outputs": [
    {
     "name": "stderr",
     "output_type": "stream",
     "text": [
      "/home/hadoop/miniconda/lib/python3.6/site-packages/pyarrow/pandas_compat.py:752: FutureWarning: .labels was deprecated in version 0.24.0. Use .codes instead.\n",
      "  labels, = index.labels\n"
     ]
    },
    {
     "data": {
      "text/plain": [
       "Text(0, 0.5, 'Stories')"
      ]
     },
     "execution_count": 168,
     "metadata": {},
     "output_type": "execute_result"
    },
    {
     "data": {
      "image/png": "[encoded data removed]",
      "text/plain": [
       "<Figure size 1008x432 with 1 Axes>"
      ]
     },
     "metadata": {
      "needs_background": "light"
     },
     "output_type": "display_data"
    }
   ],
   "source": [
    "Comp_df2 = Comp_df2.toPandas()\n",
    "Comp_df2.sort_values(\"total_stories\")[::-1][:10].plot(x=\"year\",y=[\"total_stories\", 'total_score'], \n",
    "                                                   kind=\"bar\",figsize=(14,6),\n",
    "                                                   title='Stories of Google over years').set_ylabel(\"Stories\")"
   ]
  },
  {
   "cell_type": "code",
   "execution_count": 169,
   "metadata": {},
   "outputs": [],
   "source": [
    "# stories of major companies over the year\n",
    "# uber\n",
    "sqlStatement = \"\"\"\n",
    "SELECT count(*) as total_stories, SUM(score) as total_score,\n",
    "year(time_ts) as year\n",
    "FROM story\n",
    "WHERE title like \"%uber%\" or title like \"%UBER\" or title like \"%Uber\"\n",
    "GROUP BY year\n",
    "ORDER BY year\n",
    "\"\"\"\n",
    "Comp_df3 = spark.sql(sqlStatement)"
   ]
  },
  {
   "cell_type": "code",
   "execution_count": 170,
   "metadata": {},
   "outputs": [
    {
     "name": "stdout",
     "output_type": "stream",
     "text": [
      "+-------------+-----------+----+\n",
      "|total_stories|total_score|year|\n",
      "+-------------+-----------+----+\n",
      "|            3|          3|2007|\n",
      "|           21|        196|2008|\n",
      "|           22|        953|2009|\n",
      "|           58|       1109|2010|\n",
      "|           66|        957|2011|\n",
      "|           57|        873|2012|\n",
      "|           62|        518|2013|\n",
      "|          215|       2697|2014|\n",
      "|          267|       3240|2015|\n",
      "+-------------+-----------+----+\n",
      "\n"
     ]
    }
   ],
   "source": [
    "Comp_df3.distinct().show()"
   ]
  },
  {
   "cell_type": "code",
   "execution_count": 171,
   "metadata": {},
   "outputs": [
    {
     "name": "stderr",
     "output_type": "stream",
     "text": [
      "/home/hadoop/miniconda/lib/python3.6/site-packages/pyarrow/pandas_compat.py:752: FutureWarning: .labels was deprecated in version 0.24.0. Use .codes instead.\n",
      "  labels, = index.labels\n"
     ]
    },
    {
     "data": {
      "text/plain": [
       "Text(0, 0.5, 'Stories')"
      ]
     },
     "execution_count": 171,
     "metadata": {},
     "output_type": "execute_result"
    },
    {
     "data": {
      "image/png": "[encoded data removed]",
      "text/plain": [
       "<Figure size 1008x432 with 1 Axes>"
      ]
     },
     "metadata": {
      "needs_background": "light"
     },
     "output_type": "display_data"
    }
   ],
   "source": [
    "Comp_df3 = Comp_df3.toPandas()\n",
    "Comp_df3.sort_values(\"total_stories\")[::-1][:10].plot(x=\"year\",y=[\"total_stories\", 'total_score'], \n",
    "                                                   kind=\"bar\",figsize=(14,6),\n",
    "                                                   title='Stories of Uber over years').set_ylabel(\"Stories\")"
   ]
  },
  {
   "cell_type": "code",
   "execution_count": null,
   "metadata": {},
   "outputs": [],
   "source": []
  },
  {
   "cell_type": "code",
   "execution_count": null,
   "metadata": {},
   "outputs": [],
   "source": []
  },
  {
   "cell_type": "markdown",
   "metadata": {},
   "source": [
    "# 2. COMMENTS"
   ]
  },
  {
   "cell_type": "code",
   "execution_count": 172,
   "metadata": {},
   "outputs": [],
   "source": [
    "# read in the dataset comments\n",
    "data_df2 = spark.read\\\n",
    "  .format('csv')\\\n",
    "  .option('header', 'true')\\\n",
    "  .option('inferSchema', 'true')\\\n",
    "  .load('s3://chingsez/Final/comments.csv')"
   ]
  },
  {
   "cell_type": "code",
   "execution_count": 173,
   "metadata": {},
   "outputs": [
    {
     "name": "stdout",
     "output_type": "stream",
     "text": [
      "+--------------------+-------+------+----------+--------------------+--------------------+--------------------+--------------------+-------+-------+\n",
      "|                  id|     by|author|      time|             time_ts|                text|              parent|             deleted|   dead|ranking|\n",
      "+--------------------+-------+------+----------+--------------------+--------------------+--------------------+--------------------+-------+-------+\n",
      "|             2701393|     5l|    5l|1309184881|2011-06-27 14:28:...|And the glazier w...|             2701243|                null|   null|      0|\n",
      "|             5811403|     99|    99|1370234048|2013-06-03 04:34:...|Does canada have ...|             5804452|                null|   null|      0|\n",
      "|               21623|     AF|    AF|1178992400|2007-05-12 17:53:...|\"Speaking of Rail...|               21611|                null|   null|      0|\n",
      "|            10159727|     EA|    EA|1441206574|2015-09-02 15:09:...|Humans and large ...|            10159396|                null|   null|      0|\n",
      "|             2988424|     Iv|    Iv|1315853580|2011-09-12 18:53:...|I must say I reac...|             2988179|                null|   null|      0|\n",
      "|             3867418|     Iv|    Iv|1334921984|2012-04-20 11:39:...|&#62; There's a w...|             3867404|                null|   null|      0|\n",
      "|             3925617|     Iv|    Iv|1336076765|2012-05-03 20:26:...|I'm also in this ...|             3924840|                null|   null|      0|\n",
      "|             3107534|     Iv|    Iv|1318520044|2011-10-13 15:34:...|how do you run un...|                null|                null|   null|   null|\n",
      "|It has always ref...|3107241|  null|      null|                   0|                null|                null|                null|   null|   null|\n",
      "|             8409259|     Iv|    Iv|1412421647|2014-10-04 11:20:...|Polio is not exte...|             8409226|                null|   null|      0|\n",
      "|             2855741|     Jd|    Jd|1312690646|2011-08-07 04:17:...|\"Yep, I didn't fi...| but nothing that...| it may not be th...|2855343|   null|\n",
      "|               50570|     Jd|    Jd|1189011845|2007-09-05 17:04:...|It was a risky jo...|               50556|                null|   null|      0|\n",
      "|             2600618|     Jd|    Jd|1306794854|2011-05-30 22:34:...|\"Looks good, ther...|             2600609|                null|   null|      0|\n",
      "|             2600423|     Jd|    Jd|1306789205|2011-05-30 21:00:...|A bit, but so muc...|             2599323|                null|   null|      0|\n",
      "|             1983932|     Jd|    Jd|1291831945|2010-12-08 18:12:...|I also agree with...|             1979965|                null|   null|      0|\n",
      "|             5824036|     Jd|    Jd|1370414140|2013-06-05 06:35:...|Sadly doesn't pro...|             5824021|                null|   null|      0|\n",
      "|               73111|     Jd|    Jd|1193467001|2007-10-27 06:36:...|Feferman usefully...|               73107|                null|   null|      0|\n",
      "|             4569290|     Jd|    Jd|1348562302|2012-09-25 08:38:...|\"Here are my take...|             4569255|                null|   null|      0|\n",
      "|              319968|     KB|    KB|1222805047|2008-09-30 20:04:...|\"You may find a f...|              319943|                null|   null|      0|\n",
      "|             9699296|     M8|    M8|1434026580|2015-06-11 12:43:...|       For instance?|             9698927|                null|   null|      0|\n",
      "+--------------------+-------+------+----------+--------------------+--------------------+--------------------+--------------------+-------+-------+\n",
      "only showing top 20 rows\n",
      "\n"
     ]
    }
   ],
   "source": [
    "data_df2.show()"
   ]
  },
  {
   "cell_type": "code",
   "execution_count": 174,
   "metadata": {},
   "outputs": [
    {
     "name": "stdout",
     "output_type": "stream",
     "text": [
      "root\n",
      " |-- id: string (nullable = true)\n",
      " |-- by: string (nullable = true)\n",
      " |-- author: string (nullable = true)\n",
      " |-- time: string (nullable = true)\n",
      " |-- time_ts: string (nullable = true)\n",
      " |-- text: string (nullable = true)\n",
      " |-- parent: string (nullable = true)\n",
      " |-- deleted: string (nullable = true)\n",
      " |-- dead: string (nullable = true)\n",
      " |-- ranking: string (nullable = true)\n",
      "\n"
     ]
    }
   ],
   "source": [
    "data_df2.printSchema()"
   ]
  },
  {
   "cell_type": "code",
   "execution_count": 175,
   "metadata": {},
   "outputs": [
    {
     "data": {
      "text/plain": [
       "9796725"
      ]
     },
     "execution_count": 175,
     "metadata": {},
     "output_type": "execute_result"
    }
   ],
   "source": [
    "data_df2.count()"
   ]
  },
  {
   "cell_type": "code",
   "execution_count": 176,
   "metadata": {},
   "outputs": [],
   "source": [
    "from pyspark.sql.types import IntegerType\n",
    "from pyspark.sql.types import DoubleType\n",
    "\n",
    "comment_df = data_df2.select(\n",
    "                     data_df2['id'].cast(IntegerType()),                    \n",
    "                     data_df2['time_ts'].cast('timestamp'),                  \n",
    "                     data_df2['text'],\n",
    "                     data_df2['parent'].cast(IntegerType()),\n",
    "                     #data_df2['deleted'],\n",
    "                     #data_df2['dead'],\n",
    "                     data_df2['author'],\n",
    "                     data_df2['ranking'].cast(IntegerType())\n",
    "\n",
    "                             )"
   ]
  },
  {
   "cell_type": "code",
   "execution_count": 177,
   "metadata": {},
   "outputs": [
    {
     "name": "stdout",
     "output_type": "stream",
     "text": [
      "root\n",
      " |-- id: integer (nullable = true)\n",
      " |-- time_ts: timestamp (nullable = true)\n",
      " |-- text: string (nullable = true)\n",
      " |-- parent: integer (nullable = true)\n",
      " |-- author: string (nullable = true)\n",
      " |-- ranking: integer (nullable = true)\n",
      "\n"
     ]
    }
   ],
   "source": [
    "comment_df.printSchema()"
   ]
  },
  {
   "cell_type": "code",
   "execution_count": 178,
   "metadata": {},
   "outputs": [
    {
     "name": "stdout",
     "output_type": "stream",
     "text": [
      "+--------+-------------------+--------------------+--------+------+-------+\n",
      "|      id|            time_ts|                text|  parent|author|ranking|\n",
      "+--------+-------------------+--------------------+--------+------+-------+\n",
      "| 2701393|2011-06-27 14:28:01|And the glazier w...| 2701243|    5l|      0|\n",
      "| 5811403|2013-06-03 04:34:08|Does canada have ...| 5804452|    99|      0|\n",
      "|   21623|2007-05-12 17:53:20|\"Speaking of Rail...|   21611|    AF|      0|\n",
      "|10159727|2015-09-02 15:09:34|Humans and large ...|10159396|    EA|      0|\n",
      "| 2988424|2011-09-12 18:53:00|I must say I reac...| 2988179|    Iv|      0|\n",
      "| 3867418|2012-04-20 11:39:44|&#62; There's a w...| 3867404|    Iv|      0|\n",
      "| 3925617|2012-05-03 20:26:05|I'm also in this ...| 3924840|    Iv|      0|\n",
      "| 3107534|2011-10-13 15:34:04|how do you run un...|    null|    Iv|   null|\n",
      "|    null|               null|                null|    null|  null|   null|\n",
      "| 8409259|2014-10-04 11:20:47|Polio is not exte...| 8409226|    Iv|      0|\n",
      "+--------+-------------------+--------------------+--------+------+-------+\n",
      "only showing top 10 rows\n",
      "\n"
     ]
    }
   ],
   "source": [
    "comment_df.show(10)"
   ]
  },
  {
   "cell_type": "code",
   "execution_count": 179,
   "metadata": {},
   "outputs": [],
   "source": [
    "comment_df.createOrReplaceTempView('ini_comment')"
   ]
  },
  {
   "cell_type": "code",
   "execution_count": 180,
   "metadata": {},
   "outputs": [
    {
     "data": {
      "text/plain": [
       "8399564"
      ]
     },
     "execution_count": 180,
     "metadata": {},
     "output_type": "execute_result"
    }
   ],
   "source": [
    "comment_df.select(\"id\").distinct().count()"
   ]
  },
  {
   "cell_type": "code",
   "execution_count": 181,
   "metadata": {},
   "outputs": [],
   "source": [
    "clean_comment_df = spark.sql('select * from ini_comment where id is not NULL and time_ts is not NULL and text is not NULL and author is not NULL and ranking is not NULL')\n",
    "clean_comment_df.createOrReplaceTempView('comment')"
   ]
  },
  {
   "cell_type": "code",
   "execution_count": 182,
   "metadata": {},
   "outputs": [
    {
     "data": {
      "text/plain": [
       "6986995"
      ]
     },
     "execution_count": 182,
     "metadata": {},
     "output_type": "execute_result"
    }
   ],
   "source": [
    "clean_comment_df.count()"
   ]
  },
  {
   "cell_type": "code",
   "execution_count": 183,
   "metadata": {},
   "outputs": [
    {
     "name": "stdout",
     "output_type": "stream",
     "text": [
      "+--------+-------------------+--------------------+--------+------+-------+\n",
      "|      id|            time_ts|                text|  parent|author|ranking|\n",
      "+--------+-------------------+--------------------+--------+------+-------+\n",
      "| 2701393|2011-06-27 14:28:01|And the glazier w...| 2701243|    5l|      0|\n",
      "| 5811403|2013-06-03 04:34:08|Does canada have ...| 5804452|    99|      0|\n",
      "|   21623|2007-05-12 17:53:20|\"Speaking of Rail...|   21611|    AF|      0|\n",
      "|10159727|2015-09-02 15:09:34|Humans and large ...|10159396|    EA|      0|\n",
      "| 2988424|2011-09-12 18:53:00|I must say I reac...| 2988179|    Iv|      0|\n",
      "| 3867418|2012-04-20 11:39:44|&#62; There's a w...| 3867404|    Iv|      0|\n",
      "| 3925617|2012-05-03 20:26:05|I'm also in this ...| 3924840|    Iv|      0|\n",
      "| 8409259|2014-10-04 11:20:47|Polio is not exte...| 8409226|    Iv|      0|\n",
      "|   50570|2007-09-05 17:04:05|It was a risky jo...|   50556|    Jd|      0|\n",
      "| 2600618|2011-05-30 22:34:14|\"Looks good, ther...| 2600609|    Jd|      0|\n",
      "+--------+-------------------+--------------------+--------+------+-------+\n",
      "only showing top 10 rows\n",
      "\n"
     ]
    }
   ],
   "source": [
    "clean_comment_df.show(10)"
   ]
  },
  {
   "cell_type": "code",
   "execution_count": 184,
   "metadata": {},
   "outputs": [],
   "source": [
    "# comment author/user information \n",
    "# who are the most contributive authors in Hacker News ?\n",
    "## futhur to be done——can be joined with the most contirbutive authors in story\n",
    "\n",
    "sqlStatement = \"\"\"SELECT author,\n",
    "        COUNT(id) AS total_comments\n",
    "        From comment\n",
    "        GROUP BY author\n",
    "        ORDER BY total_comments DESC\n",
    "        LIMIT 20\n",
    "\"\"\"\n",
    "comment_user_df = spark.sql(sqlStatement)"
   ]
  },
  {
   "cell_type": "code",
   "execution_count": 185,
   "metadata": {},
   "outputs": [
    {
     "name": "stdout",
     "output_type": "stream",
     "text": [
      "+------------+--------------+\n",
      "|      author|total_comments|\n",
      "+------------+--------------+\n",
      "|     tptacek|         28605|\n",
      "|    jacquesm|         19845|\n",
      "|       DanBC|         10992|\n",
      "|    jrockway|         10679|\n",
      "|   anigbrowl|         10490|\n",
      "|dragonwriter|         10203|\n",
      "|         eru|          9979|\n",
      "|     rbanffy|          9634|\n",
      "|       sp332|          9547|\n",
      "|     rayiner|          9403|\n",
      "+------------+--------------+\n",
      "only showing top 10 rows\n",
      "\n"
     ]
    }
   ],
   "source": [
    "# show top 10\n",
    "comment_user_df.show(10)"
   ]
  },
  {
   "cell_type": "code",
   "execution_count": 186,
   "metadata": {},
   "outputs": [
    {
     "name": "stderr",
     "output_type": "stream",
     "text": [
      "/home/hadoop/miniconda/lib/python3.6/site-packages/pyarrow/pandas_compat.py:752: FutureWarning: .labels was deprecated in version 0.24.0. Use .codes instead.\n",
      "  labels, = index.labels\n"
     ]
    },
    {
     "data": {
      "text/plain": [
       "Text(0, 0.5, 'Comments')"
      ]
     },
     "execution_count": 186,
     "metadata": {},
     "output_type": "execute_result"
    },
    {
     "data": {
      "image/png": "[encoded data removed]",
      "text/plain": [
       "<Figure size 1008x432 with 1 Axes>"
      ]
     },
     "metadata": {
      "needs_background": "light"
     },
     "output_type": "display_data"
    }
   ],
   "source": [
    "comment_user_df = comment_user_df.toPandas()\n",
    "comment_user_df.sort_values(\"total_comments\")[::-1][:10].plot(x=\"author\",y='total_comments', \n",
    "                                                   kind=\"bar\",figsize=(14,6),\n",
    "                                                   title='Top user for comments').set_ylabel(\"Comments\")"
   ]
  },
  {
   "cell_type": "code",
   "execution_count": 187,
   "metadata": {},
   "outputs": [],
   "source": [
    "# comment distribution in terms of time\n",
    "# What is the trend of comment numbers from 2006-2016 in Hacker News?\n",
    "\n",
    "sqlStatement = \"\"\"\n",
    "SELECT COUNT(id) AS comment_num, \n",
    "year(time_ts) as year\n",
    "FROM comment\n",
    "GROUP BY year\n",
    "ORDER BY year\n",
    "\"\"\"\n",
    "comment_time_df2 = spark.sql(sqlStatement)"
   ]
  },
  {
   "cell_type": "code",
   "execution_count": 188,
   "metadata": {},
   "outputs": [
    {
     "name": "stdout",
     "output_type": "stream",
     "text": [
      "+-----------+----+\n",
      "|comment_num|year|\n",
      "+-----------+----+\n",
      "|         10|2006|\n",
      "|      50982|2007|\n",
      "|     195678|2008|\n",
      "|     382490|2009|\n",
      "|     658846|2010|\n",
      "|     816999|2011|\n",
      "|     975306|2012|\n",
      "|    1415381|2013|\n",
      "|    1348324|2014|\n",
      "|    1142979|2015|\n",
      "+-----------+----+\n",
      "\n"
     ]
    }
   ],
   "source": [
    "comment_time_df2.show()"
   ]
  },
  {
   "cell_type": "code",
   "execution_count": 189,
   "metadata": {},
   "outputs": [
    {
     "name": "stderr",
     "output_type": "stream",
     "text": [
      "/home/hadoop/miniconda/lib/python3.6/site-packages/pyarrow/pandas_compat.py:752: FutureWarning: .labels was deprecated in version 0.24.0. Use .codes instead.\n",
      "  labels, = index.labels\n"
     ]
    },
    {
     "data": {
      "text/plain": [
       "Text(0, 0.5, 'Comments')"
      ]
     },
     "execution_count": 189,
     "metadata": {},
     "output_type": "execute_result"
    },
    {
     "data": {
      "image/png": "[encoded data removed]",
      "text/plain": [
       "<Figure size 1008x432 with 1 Axes>"
      ]
     },
     "metadata": {
      "needs_background": "light"
     },
     "output_type": "display_data"
    }
   ],
   "source": [
    "comment_time_df2 = comment_time_df2.toPandas()\n",
    "comment_time_df2.plot(x=\"year\",y='comment_num', \n",
    "                     kind=\"bar\",figsize=(14,6),\n",
    "                     title='Comments over years').set_ylabel(\"Comments\")"
   ]
  },
  {
   "cell_type": "code",
   "execution_count": 190,
   "metadata": {},
   "outputs": [],
   "source": [
    "# comment distribution in terms of time\n",
    "# What is the most popular/active time during a day in pubulishing a comment?\n",
    "\n",
    "sqlStatement = \"\"\"\n",
    "SELECT COUNT(id) AS comment_num, \n",
    "hour(time_ts) as hour\n",
    "FROM comment\n",
    "GROUP BY hour\n",
    "ORDER BY comment_num DESC\n",
    "\"\"\"\n",
    "comment_time_df = spark.sql(sqlStatement)"
   ]
  },
  {
   "cell_type": "code",
   "execution_count": 191,
   "metadata": {},
   "outputs": [
    {
     "name": "stdout",
     "output_type": "stream",
     "text": [
      "+-----------+----+\n",
      "|comment_num|hour|\n",
      "+-----------+----+\n",
      "|     451259|  17|\n",
      "|     450094|  18|\n",
      "|     437369|  16|\n",
      "|     433640|  19|\n",
      "|     421504|  20|\n",
      "|     413518|  15|\n",
      "|     398429|  21|\n",
      "|     365798|  14|\n",
      "|     353708|  22|\n",
      "|     313262|  23|\n",
      "|     295136|  13|\n",
      "|     276703|   0|\n",
      "|     251256|   1|\n",
      "|     236036|   2|\n",
      "|     224956|   3|\n",
      "|     224367|  12|\n",
      "|     210740|   4|\n",
      "|     192913|   5|\n",
      "|     180795|   6|\n",
      "|     180141|  11|\n",
      "|     172147|   7|\n",
      "|     170884|   8|\n",
      "|     168104|   9|\n",
      "|     164236|  10|\n",
      "+-----------+----+\n",
      "\n"
     ]
    }
   ],
   "source": [
    "comment_time_df.show(24)"
   ]
  },
  {
   "cell_type": "code",
   "execution_count": 192,
   "metadata": {},
   "outputs": [
    {
     "data": {
      "text/plain": [
       "Text(0, 0.5, 'Comments')"
      ]
     },
     "execution_count": 192,
     "metadata": {},
     "output_type": "execute_result"
    },
    {
     "data": {
      "image/png": "[encoded data removed]",
      "text/plain": [
       "<Figure size 1008x432 with 1 Axes>"
      ]
     },
     "metadata": {
      "needs_background": "light"
     },
     "output_type": "display_data"
    }
   ],
   "source": [
    "comment_time_df = comment_time_df.toPandas()\n",
    "comment_time_df.plot(x=\"hour\",y='comment_num', \n",
    "                     kind=\"bar\",figsize=(14,6),\n",
    "                     title='Comments over hours').set_ylabel(\"Comments\")"
   ]
  },
  {
   "cell_type": "code",
   "execution_count": 193,
   "metadata": {},
   "outputs": [],
   "source": [
    "# top(the hottest) comments with the most follow-up comment \n",
    "sqlStatement = \"\"\"\n",
    "SELECT COUNT(id) AS followup_num, \n",
    "parent\n",
    "FROM comment\n",
    "WHERE parent is not NULL\n",
    "GROUP BY parent\n",
    "ORDER BY followup_num DESC\n",
    "LIMIT 20\n",
    "\"\"\"\n",
    "comment_parent_df1 = spark.sql(sqlStatement)"
   ]
  },
  {
   "cell_type": "code",
   "execution_count": 194,
   "metadata": {},
   "outputs": [
    {
     "name": "stdout",
     "output_type": "stream",
     "text": [
      "+------------+--------+\n",
      "|followup_num|  parent|\n",
      "+------------+--------+\n",
      "|         975|     363|\n",
      "|         266| 7469115|\n",
      "|         266| 9996333|\n",
      "|         264| 9238839|\n",
      "|         262| 9812245|\n",
      "|         243| 7445761|\n",
      "|         241|10152809|\n",
      "|         239|  752262|\n",
      "|         234| 9471287|\n",
      "|         228| 9303396|\n",
      "+------------+--------+\n",
      "only showing top 10 rows\n",
      "\n"
     ]
    }
   ],
   "source": [
    "# show top 10\n",
    "comment_parent_df1.show(10)"
   ]
  },
  {
   "cell_type": "code",
   "execution_count": 195,
   "metadata": {},
   "outputs": [
    {
     "data": {
      "text/plain": [
       "Text(0, 0.5, 'Follow-up')"
      ]
     },
     "execution_count": 195,
     "metadata": {},
     "output_type": "execute_result"
    },
    {
     "data": {
      "image/png": "[encoded data removed]",
      "text/plain": [
       "<Figure size 1008x432 with 1 Axes>"
      ]
     },
     "metadata": {
      "needs_background": "light"
     },
     "output_type": "display_data"
    }
   ],
   "source": [
    "comment_parent_df1 = comment_parent_df1.toPandas()\n",
    "comment_parent_df1.plot(x=\"parent\",y='followup_num', \n",
    "                     kind=\"bar\",figsize=(14,6),\n",
    "                     title='Hottest comments').set_ylabel(\"Follow-up\")"
   ]
  },
  {
   "cell_type": "code",
   "execution_count": 196,
   "metadata": {},
   "outputs": [
    {
     "data": {
      "text/plain": [
       "[Row(min(ranking)=-1051, max(ranking)=1131019295, avg(ranking)=58481.1891668736)]"
      ]
     },
     "execution_count": 196,
     "metadata": {},
     "output_type": "execute_result"
    }
   ],
   "source": [
    "# ranking information\n",
    "# what is the average ranking of those comments?\n",
    "\n",
    "spark.sql(\"select min(ranking),max(ranking),avg(ranking) from comment\").collect()"
   ]
  },
  {
   "cell_type": "code",
   "execution_count": 122,
   "metadata": {},
   "outputs": [],
   "source": [
    "spark.stop()"
   ]
  },
  {
   "cell_type": "code",
   "execution_count": null,
   "metadata": {},
   "outputs": [],
   "source": []
  },
  {
   "cell_type": "markdown",
   "metadata": {},
   "source": [
    "# Feature Engineering"
   ]
  },
  {
   "cell_type": "markdown",
   "metadata": {},
   "source": [
    "### First we want to extract the 'day of week', 'year', 'month' information from the 'time_ts' column"
   ]
  },
  {
   "cell_type": "code",
   "execution_count": 197,
   "metadata": {},
   "outputs": [],
   "source": [
    "story = clean_story_df.withColumn('year', year('time_ts'))\n",
    "story = story.withColumn('month', month('time_ts'))\n",
    "story = story.withColumn('dayofweek', dayofweek('time_ts'))"
   ]
  },
  {
   "cell_type": "code",
   "execution_count": 198,
   "metadata": {},
   "outputs": [
    {
     "name": "stdout",
     "output_type": "stream",
     "text": [
      "+-------+-----+-------------------+--------------------+--------------------+--------------------+-------+----+-----------+------------+----+-----+---------+\n",
      "|     id|score|            time_ts|               title|                 url|                text|deleted|dead|descendants|      author|year|month|dayofweek|\n",
      "+-------+-----+-------------------+--------------------+--------------------+--------------------+-------+----+-----------+------------+----+-----+---------+\n",
      "|1531556|    0|2010-07-20 09:13:54|New UI for Google...|http://googlesyst...|Again following o...|   null|null|          0|         ssn|2010|    7|        3|\n",
      "|5012398|    0|2013-01-05 12:11:17|Historic website ...|http://webscrapin...|Python script to ...|   null|null|          0|        hoju|2013|    1|        7|\n",
      "|2606988|    0|2011-06-01 12:36:11|Kidney Transplant...|http://dhshahzad....|I started indepen...|   null|True|          0|       ramis|2011|    6|        4|\n",
      "|4542754|    0|2012-09-19 08:57:49|Bouncing Marble f...|http://www.window...|Bouncing marble i...|   null|null|          0|       tette|2012|    9|        4|\n",
      "|4824675|    0|2012-11-24 06:05:42|Cooking your own ...|http://blog.abiqu...|Although configur...|   null|null|          0|      abiquo|2012|   11|        7|\n",
      "|1120285|    0|2010-02-12 11:23:46|Why You Should Re...|http://www.dating...|Do you use online...|   null|null|          0|      mazz01|2010|    2|        6|\n",
      "|5221577|    0|2013-02-14 19:35:47|My developer tool...|http://kdl.nobugw...|This is my list o...|   null|null|          0|    akhenakh|2013|    2|        5|\n",
      "|4827038|    0|2012-11-25 01:57:11|      Feelspace belt|http://www.allele...|These people shou...|   null|null|          0|    dingerma|2012|   11|        1|\n",
      "|4481018|    0|2012-09-05 19:33:09|      What is Magic?|http://melodi-dia...|Many people write...|   null|null|          0|msreneetarot|2012|    9|        4|\n",
      "|7061983|    0|2014-01-15 06:34:06|Personal Organize...|http://www.effici...|Efficient Softwar...|   null|null|          1| efficientsw|2014|    1|        4|\n",
      "|1215015|    0|2010-03-24 05:09:00|Ultimate Guide of...|http://www.techno...|Ultimate Guide of...|   null|True|         -1|        vatu|2010|    3|        4|\n",
      "|1505655|    0|2010-07-11 15:57:53|       Mens t-shirts|http://www.zohmuo...|designer menswear...|   null|True|         -1|      jako11|2010|    7|        1|\n",
      "|4673231|    0|2012-10-19 12:40:12|  Gümrük Müşavirliği|http://www.gumruk...|Gümrük Müşavirliğ...|   null|True|         -1|      meyado|2012|   10|        6|\n",
      "|1503352|    0|2010-07-10 08:20:35|The Rule of 72: H...|http://roadtickle...|Rule of 72: Here ...|   null|True|         -1|      radman|2010|    7|        7|\n",
      "|1540745|    0|2010-07-23 09:13:28|Web Design Jobs –...|http://www.kronik...|The list below in...|   null|True|         -1|     dhnteam|2010|    7|        6|\n",
      "|1370228|    0|2010-05-22 12:41:39|The A View from t...|http://fastessays...|A view from the b...|   null|True|         -1|    Maria456|2010|    5|        7|\n",
      "|5917267|    0|2013-06-21 09:33:04|           Sex toys |http://www.sextoy...|Everyone enjoy se...|   null|True|         -1|    kyleswkt|2013|    6|        6|\n",
      "|5969633|    0|2013-07-01 09:53:06|        Bespoke Suit|http://www.matthe...|Matthewaperry spe...|   null|True|         -1|    mansuits|2013|    7|        2|\n",
      "| 124722|    0|2008-02-27 14:28:05|Web 2.0: Browse A...|http://www.israel...|Imagine you just ...|   null|True|         -1|    msgbeepa|2008|    2|        4|\n",
      "|2779674|    0|2011-07-19 05:03:12|Dev Vilas Resort ...|http://www.resort...|Dev Vilas Resort ...|   null|True|         -1|    rekhatis|2011|    7|        3|\n",
      "+-------+-----+-------------------+--------------------+--------------------+--------------------+-------+----+-----------+------------+----+-----+---------+\n",
      "only showing top 20 rows\n",
      "\n"
     ]
    }
   ],
   "source": [
    "story.show()"
   ]
  },
  {
   "cell_type": "markdown",
   "metadata": {},
   "source": [
    "### Then we want to make a new column to see whether an author is one of the most active users."
   ]
  },
  {
   "cell_type": "code",
   "execution_count": 199,
   "metadata": {},
   "outputs": [
    {
     "name": "stdout",
     "output_type": "stream",
     "text": [
      "+-------------+----+\n",
      "|       author| num|\n",
      "+-------------+----+\n",
      "|         cwan|7058|\n",
      "|   shawndumas|6533|\n",
      "|        evo_9|5540|\n",
      "|        nickb|4300|\n",
      "|     iProject|4262|\n",
      "|     bootload|4132|\n",
      "|       edw519|3809|\n",
      "|       nreece|3682|\n",
      "|  ColinWright|3615|\n",
      "|   tokenadult|3588|\n",
      "|      Garbage|3508|\n",
      "|         robg|3091|\n",
      "|DanielRibeiro|2815|\n",
      "|       Anon84|2741|\n",
      "|        danso|2592|\n",
      "|      llambda|2580|\n",
      "|      jonbaer|2416|\n",
      "|        fogus|2406|\n",
      "|   transburgh|2345|\n",
      "|         wslh|2268|\n",
      "+-------------+----+\n",
      "only showing top 20 rows\n",
      "\n"
     ]
    }
   ],
   "source": [
    "sqlStatement = \"\"\"\n",
    "SELECT author, COUNT(author) AS num\n",
    "FROM story1\n",
    "GROUP BY author\n",
    "ORDER BY num DESC\n",
    "LIMIT 3000\n",
    "\"\"\"\n",
    "active_user = spark.sql(sqlStatement)\n",
    "active_user.show()"
   ]
  },
  {
   "cell_type": "code",
   "execution_count": 200,
   "metadata": {},
   "outputs": [],
   "source": [
    "user = np.array(active_user.select('author').collect())"
   ]
  },
  {
   "cell_type": "code",
   "execution_count": 201,
   "metadata": {},
   "outputs": [],
   "source": [
    "# Defining a function to map our column \n",
    "@udf(StringType())\n",
    "def is_active_user(username):\n",
    "    if username in user:\n",
    "        return '1'\n",
    "    return '0' "
   ]
  },
  {
   "cell_type": "code",
   "execution_count": 202,
   "metadata": {},
   "outputs": [],
   "source": [
    "story = story.withColumn('active_user', is_active_user('author'))"
   ]
  },
  {
   "cell_type": "markdown",
   "metadata": {},
   "source": [
    "### Then we want to make a variable showing the information about title length"
   ]
  },
  {
   "cell_type": "code",
   "execution_count": 203,
   "metadata": {},
   "outputs": [],
   "source": [
    "story = story.withColumn('title_length', f.size(f.split(f.col('title'), ' ')))"
   ]
  },
  {
   "cell_type": "markdown",
   "metadata": {},
   "source": [
    "### Then we want to see whether an url is from the top domain"
   ]
  },
  {
   "cell_type": "code",
   "execution_count": 204,
   "metadata": {},
   "outputs": [],
   "source": [
    "sqlStatement = \"\"\"\n",
    "SELECT COUNT(id) AS num, web\n",
    "FROM story\n",
    "WHERE web != '' and web != 'www'\n",
    "GROUP BY web\n",
    "ORDER BY num DESC\n",
    "LIMIT 50\n",
    "\"\"\"\n",
    "url_df2 = spark.sql(sqlStatement)"
   ]
  },
  {
   "cell_type": "code",
   "execution_count": 205,
   "metadata": {},
   "outputs": [],
   "source": [
    "# Defining a function so that we can use to map our column\n",
    "hot_domain = np.array(url_df2.select('web').collect())\n",
    "@udf(StringType())\n",
    "def from_hot_domain(url):\n",
    "    pattern = re.compile('([a-z]+).(com|net|co|cn|org|ru|de|br|uk|pl|ir|it|in|fr|au|jp|info)')\n",
    "    result = re.findall(pattern, url)\n",
    "    if result and result[0] in hot_domain:\n",
    "        return '1'\n",
    "    return '0' "
   ]
  },
  {
   "cell_type": "code",
   "execution_count": 206,
   "metadata": {},
   "outputs": [],
   "source": [
    "story = story.withColumn('from_top_web', from_hot_domain('url'))"
   ]
  },
  {
   "cell_type": "markdown",
   "metadata": {},
   "source": [
    "### Just as we make a column to see whether the length of title have influence for our target, we can also extract the length of text information"
   ]
  },
  {
   "cell_type": "code",
   "execution_count": 207,
   "metadata": {},
   "outputs": [],
   "source": [
    "story = story.withColumn('text_length', f.size(f.split(f.col('text'), ' ')))"
   ]
  },
  {
   "cell_type": "code",
   "execution_count": 208,
   "metadata": {},
   "outputs": [],
   "source": [
    "# Since there exist empty values in our dataset, we can deal with this data by filling the column with 0\n",
    "@udf(IntegerType())\n",
    "def transfer(num):\n",
    "    if num == -1:\n",
    "        return 0 \n",
    "    return num\n",
    "story = story.withColumn('text_length', transfer('text_length'))"
   ]
  },
  {
   "cell_type": "markdown",
   "metadata": {},
   "source": [
    "### To see whether the words in title will influence this article's score, we decided to make a new column about hot words this title use"
   ]
  },
  {
   "cell_type": "code",
   "execution_count": 209,
   "metadata": {},
   "outputs": [
    {
     "name": "stdout",
     "output_type": "stream",
     "text": [
      "+--------------------+--------------------+\n",
      "|               title|               words|\n",
      "+--------------------+--------------------+\n",
      "|New UI for Google...|[new, ui, for, go...|\n",
      "|Historic website ...|[historic, websit...|\n",
      "|Kidney Transplant...|[kidney, transpla...|\n",
      "|Bouncing Marble f...|[bouncing, marble...|\n",
      "|Cooking your own ...|[cooking, your, o...|\n",
      "|Why You Should Re...|[why, you, should...|\n",
      "|My developer tool...|[my, developer, t...|\n",
      "|      Feelspace belt|   [feelspace, belt]|\n",
      "|      What is Magic?|  [what, is, magic?]|\n",
      "|Personal Organize...|[personal, organi...|\n",
      "|Ultimate Guide of...|[ultimate, guide,...|\n",
      "|       Mens t-shirts|    [mens, t-shirts]|\n",
      "|  Gümrük Müşavirliği|[gümrük, müşavirl...|\n",
      "|The Rule of 72: H...|[the, rule, of, 7...|\n",
      "|Web Design Jobs –...|[web, design, job...|\n",
      "|The A View from t...|[the, a, view, fr...|\n",
      "|           Sex toys |         [sex, toys]|\n",
      "|        Bespoke Suit|     [bespoke, suit]|\n",
      "|Web 2.0: Browse A...|[web, 2.0:, brows...|\n",
      "|Dev Vilas Resort ...|[dev, vilas, reso...|\n",
      "+--------------------+--------------------+\n",
      "only showing top 20 rows\n",
      "\n"
     ]
    }
   ],
   "source": [
    "# First Let's transform our title \n",
    "regexTokenizer = RegexTokenizer(inputCol=\"title\", outputCol=\"words\", pattern=\"\\s+\")\n",
    "regexTokenized = regexTokenizer.transform(story)\n",
    "regexTokenized.select(\"title\", \"words\").show()"
   ]
  },
  {
   "cell_type": "code",
   "execution_count": 210,
   "metadata": {},
   "outputs": [],
   "source": [
    "# We don't want these stop words to be in our word list, so we use the StopWordsRemover to filter those stop words\n",
    "remover = StopWordsRemover(inputCol=\"words\", outputCol=\"filtered\")\n",
    "filtered = remover.transform(regexTokenized)"
   ]
  },
  {
   "cell_type": "code",
   "execution_count": 211,
   "metadata": {},
   "outputs": [],
   "source": [
    "word_count = filtered.withColumn('word', f.explode(f.col('filtered')))\\\n",
    "    .groupBy('word')\\\n",
    "    .count()\\\n",
    "    .sort('count', ascending=False)"
   ]
  },
  {
   "cell_type": "code",
   "execution_count": 212,
   "metadata": {},
   "outputs": [],
   "source": [
    "# We choose the top 300 words as the hot words\n",
    "word_list = word_count.limit(300)\n",
    "hot_words = np.array(word_list.select('word').collect())"
   ]
  },
  {
   "cell_type": "code",
   "execution_count": 213,
   "metadata": {},
   "outputs": [],
   "source": [
    "# Defining a function to filter those words including numerical characters\n",
    "def filter_words(array):\n",
    "    words_list = []\n",
    "    pattern = re.compile('[a-z]+')\n",
    "    for word in array:\n",
    "        result = re.findall(pattern, word[0])\n",
    "        if result != []:\n",
    "            words_list.append(result[0])\n",
    "    return words_list"
   ]
  },
  {
   "cell_type": "code",
   "execution_count": 214,
   "metadata": {},
   "outputs": [],
   "source": [
    "hot_word = filter_words(hot_words)"
   ]
  },
  {
   "cell_type": "code",
   "execution_count": 215,
   "metadata": {},
   "outputs": [],
   "source": [
    "# Defining a function so that we can get how many hot words each title includes\n",
    "@udf(IntegerType())\n",
    "def count_hot_words(title):\n",
    "    words = title.split(' ')\n",
    "    count = 0\n",
    "    for word in words:\n",
    "        if word in hot_word:\n",
    "            count += 1 \n",
    "    return count "
   ]
  },
  {
   "cell_type": "code",
   "execution_count": 216,
   "metadata": {},
   "outputs": [],
   "source": [
    "story = story.withColumn('title_hot_words', count_hot_words('title'))"
   ]
  },
  {
   "cell_type": "markdown",
   "metadata": {},
   "source": [
    "### Final step: Let's transform our title to be a word vector"
   ]
  },
  {
   "cell_type": "code",
   "execution_count": 217,
   "metadata": {},
   "outputs": [],
   "source": [
    "regexTokenizer = RegexTokenizer(inputCol=\"title\", outputCol=\"title_array\", pattern=\"\\s+\")\n",
    "regexTokenized = regexTokenizer.transform(story)"
   ]
  },
  {
   "cell_type": "code",
   "execution_count": 218,
   "metadata": {},
   "outputs": [],
   "source": [
    "word2Vec = Word2Vec(vectorSize=300, minCount=5, seed = 18, inputCol=\"title_array\", outputCol=\"title_vec\")\n",
    "model = word2Vec.fit(regexTokenized)\n",
    "story_final = model.transform(regexTokenized)"
   ]
  },
  {
   "cell_type": "code",
   "execution_count": 219,
   "metadata": {},
   "outputs": [
    {
     "name": "stdout",
     "output_type": "stream",
     "text": [
      "+-------+-----+-------------------+--------------------+--------------------+--------------------+-------+----+-----------+------+----+-----+---------+-----------+------------+------------+-----------+---------------+--------------------+--------------------+\n",
      "|     id|score|            time_ts|               title|                 url|                text|deleted|dead|descendants|author|year|month|dayofweek|active_user|title_length|from_top_web|text_length|title_hot_words|         title_array|           title_vec|\n",
      "+-------+-----+-------------------+--------------------+--------------------+--------------------+-------+----+-----------+------+----+-----+---------+-----------+------------+------------+-----------+---------------+--------------------+--------------------+\n",
      "|1531556|    0|2010-07-20 09:13:54|New UI for Google...|http://googlesyst...|Again following o...|   null|null|          0|   ssn|2010|    7|        3|          0|           6|           1|          5|              0|[new, ui, for, go...|[-0.0506976541752...|\n",
      "|5012398|    0|2013-01-05 12:11:17|Historic website ...|http://webscrapin...|Python script to ...|   null|null|          0|  hoju|2013|    1|        7|          0|           3|           0|          9|              1|[historic, websit...|[-0.0290550414162...|\n",
      "|2606988|    0|2011-06-01 12:36:11|Kidney Transplant...|http://dhshahzad....|I started indepen...|   null|True|          0| ramis|2011|    6|        4|          0|           5|           1|         79|              0|[kidney, transpla...|[0.14976164475083...|\n",
      "|4542754|    0|2012-09-19 08:57:49|Bouncing Marble f...|http://www.window...|Bouncing marble i...|   null|null|          0| tette|2012|    9|        4|          0|           8|           0|         11|              4|[bouncing, marble...|[-0.0639344110095...|\n",
      "|4824675|    0|2012-11-24 06:05:42|Cooking your own ...|http://blog.abiqu...|Although configur...|   null|null|          0|abiquo|2012|   11|        7|          0|           7|           0|        140|              1|[cooking, your, o...|[0.07415430640269...|\n",
      "+-------+-----+-------------------+--------------------+--------------------+--------------------+-------+----+-----------+------+----+-----+---------+-----------+------------+------------+-----------+---------------+--------------------+--------------------+\n",
      "only showing top 5 rows\n",
      "\n"
     ]
    }
   ],
   "source": [
    "story_final.show(5)"
   ]
  },
  {
   "cell_type": "code",
   "execution_count": 223,
   "metadata": {},
   "outputs": [],
   "source": [
    "data = story_final.select([c for c in story_final.columns if c not in ['id', 'time_ts', 'title', 'url', 'text', 'deleted', 'dead']])"
   ]
  },
  {
   "cell_type": "code",
   "execution_count": 224,
   "metadata": {},
   "outputs": [
    {
     "name": "stdout",
     "output_type": "stream",
     "text": [
      "+-----+-----------+------+----+-----+---------+-----------+------------+------------+-----------+---------------+--------------------+--------------------+\n",
      "|score|descendants|author|year|month|dayofweek|active_user|title_length|from_top_web|text_length|title_hot_words|         title_array|           title_vec|\n",
      "+-----+-----------+------+----+-----+---------+-----------+------------+------------+-----------+---------------+--------------------+--------------------+\n",
      "|    0|          0|   ssn|2010|    7|        3|          0|           6|           1|          5|              0|[new, ui, for, go...|[-0.0506976541752...|\n",
      "|    0|          0|  hoju|2013|    1|        7|          0|           3|           0|          9|              1|[historic, websit...|[-0.0290550414162...|\n",
      "|    0|          0| ramis|2011|    6|        4|          0|           5|           1|         79|              0|[kidney, transpla...|[0.14976164475083...|\n",
      "|    0|          0| tette|2012|    9|        4|          0|           8|           0|         11|              4|[bouncing, marble...|[-0.0639344110095...|\n",
      "|    0|          0|abiquo|2012|   11|        7|          0|           7|           0|        140|              1|[cooking, your, o...|[0.07415430640269...|\n",
      "+-----+-----------+------+----+-----+---------+-----------+------------+------------+-----------+---------------+--------------------+--------------------+\n",
      "only showing top 5 rows\n",
      "\n"
     ]
    }
   ],
   "source": [
    "data.show(5)"
   ]
  },
  {
   "cell_type": "code",
   "execution_count": 226,
   "metadata": {},
   "outputs": [
    {
     "name": "stdout",
     "output_type": "stream",
     "text": [
      "root\n",
      " |-- score: integer (nullable = true)\n",
      " |-- descendants: integer (nullable = true)\n",
      " |-- author: string (nullable = true)\n",
      " |-- year: integer (nullable = true)\n",
      " |-- month: integer (nullable = true)\n",
      " |-- dayofweek: integer (nullable = true)\n",
      " |-- active_user: string (nullable = true)\n",
      " |-- title_length: integer (nullable = false)\n",
      " |-- from_top_web: string (nullable = true)\n",
      " |-- text_length: integer (nullable = true)\n",
      " |-- title_hot_words: integer (nullable = true)\n",
      " |-- title_array: array (nullable = true)\n",
      " |    |-- element: string (containsNull = true)\n",
      " |-- title_vec: vector (nullable = true)\n",
      "\n"
     ]
    }
   ],
   "source": [
    "data.printSchema()"
   ]
  },
  {
   "cell_type": "markdown",
   "metadata": {},
   "source": [
    "### linear regression model"
   ]
  },
  {
   "cell_type": "code",
   "execution_count": 314,
   "metadata": {},
   "outputs": [],
   "source": [
    "#Change data type\n",
    "change = data.withColumn('active_user', f.col('active_user').cast('double'))\n",
    "change = change.withColumn('from_top_web', f.col('from_top_web').cast('double'))\n",
    "change = change.withColumn('title_vec', convert(\"title_vec\"))"
   ]
  },
  {
   "cell_type": "code",
   "execution_count": 315,
   "metadata": {},
   "outputs": [],
   "source": [
    "#Get a correlation matrix for numerical variables\n",
    "from pyspark.ml.feature import VectorAssembler\n",
    "from pyspark.mllib.stat import Statistics\n",
    "from pyspark.ml.stat import Correlation\n",
    "from pyspark.ml.feature import StandardScaler\n",
    "from pyspark.ml import Pipeline\n",
    "cols = ['score', 'descendants', 'year', 'dayofweek', 'month', 'text_length', 'title_hot_words', 'title_vec', 'active_user', 'from_top_web']\n",
    "assemble = VectorAssembler(inputCols=cols,\n",
    "                           outputCol='feat')\n",
    "#Normailize features\n",
    "norm = StandardScaler(\n",
    "    inputCol= 'feat'\n",
    "    , outputCol='normed'\n",
    "    , withMean=True\n",
    "    , withStd=True\n",
    ")\n",
    "\n",
    "pipeline = Pipeline(\n",
    "    stages=[\n",
    "        assemble\n",
    "        , norm\n",
    "    ])\n",
    "\n",
    "vector = pipeline.fit(change).transform(change).select('normed')\n",
    "matrix = Correlation.corr(vector, 'normed')\n",
    "#实测 Normalize 与否对 correlation matrix 影响不大"
   ]
  },
  {
   "cell_type": "code",
   "execution_count": 305,
   "metadata": {},
   "outputs": [],
   "source": [
    "#Spark 有 bug直接 collect 会报错，下面两行是解决报错的\n",
    "#Ref:https://www.cnblogs.com/bonelee/p/10976253.html\n",
    "matrix.sql_ctx.sparkSession._jsparkSession = spark._jsparkSession\n",
    "matrix._sc = spark._sc\n",
    "corrmatrix = matrix.collect()[0][0].toArray().tolist()"
   ]
  },
  {
   "cell_type": "code",
   "execution_count": 306,
   "metadata": {},
   "outputs": [
    {
     "data": {
      "text/html": [
       "<div>\n",
       "<style scoped>\n",
       "    .dataframe tbody tr th:only-of-type {\n",
       "        vertical-align: middle;\n",
       "    }\n",
       "\n",
       "    .dataframe tbody tr th {\n",
       "        vertical-align: top;\n",
       "    }\n",
       "\n",
       "    .dataframe thead th {\n",
       "        text-align: right;\n",
       "    }\n",
       "</style>\n",
       "<table border=\"1\" class=\"dataframe\">\n",
       "  <thead>\n",
       "    <tr style=\"text-align: right;\">\n",
       "      <th></th>\n",
       "      <th>score</th>\n",
       "      <th>descendants</th>\n",
       "      <th>year</th>\n",
       "      <th>dayofweek</th>\n",
       "      <th>month</th>\n",
       "      <th>text_length</th>\n",
       "      <th>title_hot_words</th>\n",
       "      <th>title_vec</th>\n",
       "      <th>active_user</th>\n",
       "      <th>from_top_web</th>\n",
       "    </tr>\n",
       "  </thead>\n",
       "  <tbody>\n",
       "    <tr>\n",
       "      <th>score</th>\n",
       "      <td>1.000000</td>\n",
       "      <td>0.008808</td>\n",
       "      <td>0.049505</td>\n",
       "      <td>-0.007856</td>\n",
       "      <td>-0.001137</td>\n",
       "      <td>-0.036419</td>\n",
       "      <td>0.005488</td>\n",
       "      <td>0.014795</td>\n",
       "      <td>-0.001895</td>\n",
       "      <td>0.011461</td>\n",
       "    </tr>\n",
       "    <tr>\n",
       "      <th>descendants</th>\n",
       "      <td>0.008808</td>\n",
       "      <td>1.000000</td>\n",
       "      <td>0.000111</td>\n",
       "      <td>0.000832</td>\n",
       "      <td>-0.000591</td>\n",
       "      <td>0.001905</td>\n",
       "      <td>-0.000309</td>\n",
       "      <td>-0.000460</td>\n",
       "      <td>-0.000715</td>\n",
       "      <td>-0.000218</td>\n",
       "    </tr>\n",
       "    <tr>\n",
       "      <th>year</th>\n",
       "      <td>0.049505</td>\n",
       "      <td>0.000111</td>\n",
       "      <td>1.000000</td>\n",
       "      <td>-0.008611</td>\n",
       "      <td>-0.140630</td>\n",
       "      <td>-0.102557</td>\n",
       "      <td>0.034602</td>\n",
       "      <td>-0.044286</td>\n",
       "      <td>-0.134108</td>\n",
       "      <td>0.061733</td>\n",
       "    </tr>\n",
       "    <tr>\n",
       "      <th>dayofweek</th>\n",
       "      <td>-0.007856</td>\n",
       "      <td>0.000832</td>\n",
       "      <td>-0.008611</td>\n",
       "      <td>1.000000</td>\n",
       "      <td>-0.006231</td>\n",
       "      <td>0.014633</td>\n",
       "      <td>-0.000560</td>\n",
       "      <td>0.008564</td>\n",
       "      <td>-0.000535</td>\n",
       "      <td>0.000444</td>\n",
       "    </tr>\n",
       "    <tr>\n",
       "      <th>month</th>\n",
       "      <td>-0.001137</td>\n",
       "      <td>-0.000591</td>\n",
       "      <td>-0.140630</td>\n",
       "      <td>-0.006231</td>\n",
       "      <td>1.000000</td>\n",
       "      <td>0.002194</td>\n",
       "      <td>-0.007511</td>\n",
       "      <td>0.008402</td>\n",
       "      <td>-0.010431</td>\n",
       "      <td>-0.000185</td>\n",
       "    </tr>\n",
       "    <tr>\n",
       "      <th>text_length</th>\n",
       "      <td>-0.036419</td>\n",
       "      <td>0.001905</td>\n",
       "      <td>-0.102557</td>\n",
       "      <td>0.014633</td>\n",
       "      <td>0.002194</td>\n",
       "      <td>1.000000</td>\n",
       "      <td>-0.034018</td>\n",
       "      <td>0.089523</td>\n",
       "      <td>-0.085354</td>\n",
       "      <td>-0.067538</td>\n",
       "    </tr>\n",
       "    <tr>\n",
       "      <th>title_hot_words</th>\n",
       "      <td>0.005488</td>\n",
       "      <td>-0.000309</td>\n",
       "      <td>0.034602</td>\n",
       "      <td>-0.000560</td>\n",
       "      <td>-0.007511</td>\n",
       "      <td>-0.034018</td>\n",
       "      <td>1.000000</td>\n",
       "      <td>-0.074584</td>\n",
       "      <td>-0.033832</td>\n",
       "      <td>0.028547</td>\n",
       "    </tr>\n",
       "    <tr>\n",
       "      <th>title_vec</th>\n",
       "      <td>0.014795</td>\n",
       "      <td>-0.000460</td>\n",
       "      <td>-0.044286</td>\n",
       "      <td>0.008564</td>\n",
       "      <td>0.008402</td>\n",
       "      <td>0.089523</td>\n",
       "      <td>-0.074584</td>\n",
       "      <td>1.000000</td>\n",
       "      <td>-0.038902</td>\n",
       "      <td>-0.052820</td>\n",
       "    </tr>\n",
       "    <tr>\n",
       "      <th>active_user</th>\n",
       "      <td>-0.001895</td>\n",
       "      <td>-0.000715</td>\n",
       "      <td>-0.134108</td>\n",
       "      <td>-0.000535</td>\n",
       "      <td>-0.010431</td>\n",
       "      <td>-0.085354</td>\n",
       "      <td>-0.033832</td>\n",
       "      <td>-0.038902</td>\n",
       "      <td>1.000000</td>\n",
       "      <td>0.056899</td>\n",
       "    </tr>\n",
       "    <tr>\n",
       "      <th>from_top_web</th>\n",
       "      <td>0.011461</td>\n",
       "      <td>-0.000218</td>\n",
       "      <td>0.061733</td>\n",
       "      <td>0.000444</td>\n",
       "      <td>-0.000185</td>\n",
       "      <td>-0.067538</td>\n",
       "      <td>0.028547</td>\n",
       "      <td>-0.052820</td>\n",
       "      <td>0.056899</td>\n",
       "      <td>1.000000</td>\n",
       "    </tr>\n",
       "  </tbody>\n",
       "</table>\n",
       "</div>"
      ],
      "text/plain": [
       "                    score  descendants      year  dayofweek     month  \\\n",
       "score            1.000000     0.008808  0.049505  -0.007856 -0.001137   \n",
       "descendants      0.008808     1.000000  0.000111   0.000832 -0.000591   \n",
       "year             0.049505     0.000111  1.000000  -0.008611 -0.140630   \n",
       "dayofweek       -0.007856     0.000832 -0.008611   1.000000 -0.006231   \n",
       "month           -0.001137    -0.000591 -0.140630  -0.006231  1.000000   \n",
       "text_length     -0.036419     0.001905 -0.102557   0.014633  0.002194   \n",
       "title_hot_words  0.005488    -0.000309  0.034602  -0.000560 -0.007511   \n",
       "title_vec        0.014795    -0.000460 -0.044286   0.008564  0.008402   \n",
       "active_user     -0.001895    -0.000715 -0.134108  -0.000535 -0.010431   \n",
       "from_top_web     0.011461    -0.000218  0.061733   0.000444 -0.000185   \n",
       "\n",
       "                 text_length  title_hot_words  title_vec  active_user  \\\n",
       "score              -0.036419         0.005488   0.014795    -0.001895   \n",
       "descendants         0.001905        -0.000309  -0.000460    -0.000715   \n",
       "year               -0.102557         0.034602  -0.044286    -0.134108   \n",
       "dayofweek           0.014633        -0.000560   0.008564    -0.000535   \n",
       "month               0.002194        -0.007511   0.008402    -0.010431   \n",
       "text_length         1.000000        -0.034018   0.089523    -0.085354   \n",
       "title_hot_words    -0.034018         1.000000  -0.074584    -0.033832   \n",
       "title_vec           0.089523        -0.074584   1.000000    -0.038902   \n",
       "active_user        -0.085354        -0.033832  -0.038902     1.000000   \n",
       "from_top_web       -0.067538         0.028547  -0.052820     0.056899   \n",
       "\n",
       "                 from_top_web  \n",
       "score                0.011461  \n",
       "descendants         -0.000218  \n",
       "year                 0.061733  \n",
       "dayofweek            0.000444  \n",
       "month               -0.000185  \n",
       "text_length         -0.067538  \n",
       "title_hot_words      0.028547  \n",
       "title_vec           -0.052820  \n",
       "active_user          0.056899  \n",
       "from_top_web         1.000000  "
      ]
     },
     "execution_count": 306,
     "metadata": {},
     "output_type": "execute_result"
    }
   ],
   "source": [
    "import pandas as pd\n",
    "corr_df = pd.DataFrame(corrmatrix)\n",
    "corr_df.index, corr_df.columns = cols, cols\n",
    "corr_df"
   ]
  },
  {
   "cell_type": "code",
   "execution_count": 348,
   "metadata": {},
   "outputs": [],
   "source": [
    "# #这个是 normalize 了 features 的\n",
    "# #import pyspark.ml.regression as rg\n",
    "# Scale numeric variables first \n",
    "\n",
    "# lin_cols = ['descendants', 'year', 'dayofweek', 'month', 'text_length', 'title_hot_words', 'title_vec']\n",
    "# scale_feat = VectorAssembler(inputCols=lin_cols\n",
    "#     , outputCol=\"norm\")\n",
    "\n",
    "# features = VectorAssembler(inputCols=['normed']\n",
    "#     , outputCol=\"features\")\n",
    "\n",
    "# norm = StandardScaler(inputCol='norm',\n",
    "#                     outputCol='normed')\n",
    "\n",
    "# score_feat = VectorAssembler(inputCols=['score']\n",
    "#     , outputCol=\"score_feat\")\n",
    "\n",
    "# score_norm = StandardScaler(inputCol='score_feat',\n",
    "#                     outputCol='score_normed')\n",
    "\n",
    "# pipeline = Pipeline(\n",
    "#     stages=[\n",
    "#         scale_feat\n",
    "#         , score_feat\n",
    "#         , score_norm\n",
    "#         , norm\n",
    "#         , features\n",
    "#     ])\n",
    "\n",
    "# lr_feat = pipeline.fit(change).transform(change)"
   ]
  },
  {
   "cell_type": "code",
   "execution_count": 342,
   "metadata": {},
   "outputs": [],
   "source": [
    "import pyspark.ml.regression as rg\n",
    "\n",
    "lin_cols = ['descendants', 'year', 'dayofweek', 'month', 'text_length', 'title_hot_words', 'title_vec']\n",
    "\n",
    "\n",
    "features = VectorAssembler(inputCols=lin_cols\n",
    "    , outputCol=\"features\")\n",
    "\n",
    "\n",
    "lr_feat = features.transform(change)"
   ]
  },
  {
   "cell_type": "code",
   "execution_count": 343,
   "metadata": {},
   "outputs": [
    {
     "name": "stdout",
     "output_type": "stream",
     "text": [
      "root\n",
      " |-- score: integer (nullable = true)\n",
      " |-- descendants: integer (nullable = true)\n",
      " |-- author: string (nullable = true)\n",
      " |-- year: integer (nullable = true)\n",
      " |-- month: integer (nullable = true)\n",
      " |-- dayofweek: integer (nullable = true)\n",
      " |-- active_user: double (nullable = true)\n",
      " |-- title_length: integer (nullable = false)\n",
      " |-- from_top_web: double (nullable = true)\n",
      " |-- text_length: integer (nullable = true)\n",
      " |-- title_hot_words: integer (nullable = true)\n",
      " |-- title_array: array (nullable = true)\n",
      " |    |-- element: string (containsNull = true)\n",
      " |-- title_vec: float (nullable = true)\n",
      " |-- features: vector (nullable = true)\n",
      "\n",
      "1297546\n",
      "323690\n"
     ]
    }
   ],
   "source": [
    "import numpy as np\n",
    "from pyspark.sql.types import FloatType\n",
    "lr_feat.printSchema()\n",
    "\n",
    "splitted_data = lr_feat.randomSplit([0.8, 0.2], 24)\n",
    "train = splitted_data[0]\n",
    "test = splitted_data[1]\n",
    "print(train.count())\n",
    "print(test.count())"
   ]
  },
  {
   "cell_type": "code",
   "execution_count": 317,
   "metadata": {},
   "outputs": [
    {
     "name": "stdout",
     "output_type": "stream",
     "text": [
      "root\n",
      " |-- score: integer (nullable = true)\n",
      " |-- descendants: integer (nullable = true)\n",
      " |-- author: string (nullable = true)\n",
      " |-- year: integer (nullable = true)\n",
      " |-- month: integer (nullable = true)\n",
      " |-- dayofweek: integer (nullable = true)\n",
      " |-- active_user: double (nullable = true)\n",
      " |-- title_length: integer (nullable = false)\n",
      " |-- from_top_web: double (nullable = true)\n",
      " |-- text_length: integer (nullable = true)\n",
      " |-- title_hot_words: integer (nullable = true)\n",
      " |-- title_array: array (nullable = true)\n",
      " |    |-- element: string (containsNull = true)\n",
      " |-- title_vec: float (nullable = true)\n",
      " |-- norm: vector (nullable = true)\n",
      " |-- score_feat: vector (nullable = true)\n",
      " |-- score_normed: float (nullable = true)\n",
      " |-- normed: vector (nullable = true)\n",
      " |-- features: vector (nullable = true)\n",
      "\n",
      "1297546\n",
      "323690\n"
     ]
    }
   ],
   "source": [
    "# #Normalize feature\n",
    "# import numpy as np\n",
    "# from pyspark.sql.functions import udf\n",
    "# from pyspark.sql.types import FloatType\n",
    "# convert = udf(lambda x: float(np.max(x)), FloatType())\n",
    "# lr_feat =  lr_feat.withColumn('score_normed', convert(\"score_normed\"))\n",
    "# lr_feat.printSchema()\n",
    "\n",
    "# splitted_data = lr_feat.randomSplit([0.8, 0.2], 24)\n",
    "# train = splitted_data[0]\n",
    "# test = splitted_data[1]\n",
    "# print(train.count())\n",
    "# print(test.count())"
   ]
  },
  {
   "cell_type": "code",
   "execution_count": 344,
   "metadata": {},
   "outputs": [],
   "source": [
    "#Fit linear regression model\n",
    "lr_obj = rg.LinearRegression(\n",
    "    maxIter=10\n",
    "    , regParam=0.01\n",
    "    , elasticNetParam=1.00\n",
    "    , labelCol = 'score')\n",
    "lr_model =  lr_obj.fit(train)"
   ]
  },
  {
   "cell_type": "code",
   "execution_count": 345,
   "metadata": {},
   "outputs": [
    {
     "name": "stdout",
     "output_type": "stream",
     "text": [
      "0.003978375241408538 42.468015455888825 15.666362759987644\n"
     ]
    }
   ],
   "source": [
    "summary = lr_model.summary\n",
    "\n",
    "print(\n",
    "    summary.r2\n",
    "    , summary.rootMeanSquaredError\n",
    "    , summary.meanAbsoluteError\n",
    ")"
   ]
  },
  {
   "cell_type": "code",
   "execution_count": 347,
   "metadata": {},
   "outputs": [
    {
     "name": "stdout",
     "output_type": "stream",
     "text": [
      "R Squared (R2) on test data = 0.00411987\n"
     ]
    }
   ],
   "source": [
    "#Predict and evaluate model\n",
    "lr_predictions = lr_model.transform(test)\n",
    "from pyspark.ml.evaluation import RegressionEvaluator\n",
    "lr_evaluator = RegressionEvaluator(predictionCol=\"prediction\", \\\n",
    "                 labelCol=\"score\",metricName=\"r2\")\n",
    "print(\"R Squared (R2) on test data = %g\" % lr_evaluator.evaluate(lr_predictions))"
   ]
  },
  {
   "cell_type": "markdown",
   "metadata": {},
   "source": [
    "### Cluster"
   ]
  },
  {
   "cell_type": "code",
   "execution_count": 336,
   "metadata": {},
   "outputs": [],
   "source": [
    "import pyspark.ml.clustering as clust\n",
    "\n",
    "vectorAssembler = VectorAssembler(\n",
    "    inputCols= cols\n",
    "    , outputCol='features')\n",
    "\n",
    "kmeans_obj = clust.KMeans(k=5, seed=666)\n",
    "\n",
    "kmeans_data = vectorAssembler.transform(change)"
   ]
  },
  {
   "cell_type": "code",
   "execution_count": 337,
   "metadata": {},
   "outputs": [
    {
     "name": "stdout",
     "output_type": "stream",
     "text": [
      "1297546\n",
      "323690\n"
     ]
    }
   ],
   "source": [
    "#Split data\n",
    "splitted_data = kmeans_data.randomSplit([0.8, 0.2], 24)\n",
    "train = splitted_data[0]\n",
    "test = splitted_data[1]\n",
    "print(train.count())\n",
    "print(test.count())"
   ]
  },
  {
   "cell_type": "code",
   "execution_count": 338,
   "metadata": {},
   "outputs": [
    {
     "name": "stdout",
     "output_type": "stream",
     "text": [
      "+--------------------+----------+\n",
      "|            features|prediction|\n",
      "+--------------------+----------+\n",
      "|[0.0,-1.0,2010.0,...|         0|\n",
      "|[0.0,-1.0,2012.0,...|         0|\n",
      "|[0.0,0.0,2013.0,5...|         0|\n",
      "|(10,[2,3,4,5,7],[...|         0|\n",
      "|[0.0,0.0,2010.0,3...|         0|\n",
      "+--------------------+----------+\n",
      "only showing top 5 rows\n",
      "\n"
     ]
    }
   ],
   "source": [
    "#Get kmeans result\n",
    "results = (\n",
    "    kmeans_obj\n",
    "    .fit(train)\n",
    "    .transform(test)\n",
    "    .select('features', 'prediction')\n",
    ")\n",
    "\n",
    "results.show(5)"
   ]
  },
  {
   "cell_type": "code",
   "execution_count": 339,
   "metadata": {},
   "outputs": [
    {
     "data": {
      "text/plain": [
       "0.9302286150642675"
      ]
     },
     "execution_count": 339,
     "metadata": {},
     "output_type": "execute_result"
    }
   ],
   "source": [
    "#Evaluate kmeans model performance\n",
    "from pyspark.ml.evaluation import ClusteringEvaluator\n",
    "clustering_ev = ClusteringEvaluator()\n",
    "clustering_ev.evaluate(results)"
   ]
  },
  {
   "cell_type": "code",
   "execution_count": 349,
   "metadata": {},
   "outputs": [
    {
     "name": "stdout",
     "output_type": "stream",
     "text": [
      "Cluster Centers: \n",
      "[7.81605921e-01 2.01202503e+03 3.99599197e+00 6.43786259e+00\n",
      " 2.25298370e+00 4.14685984e-01 1.78932334e-01]\n",
      "[2.37210300e+06 2.01100000e+03 6.00000000e+00 4.00000000e+00\n",
      " 3.70000000e+01 0.00000000e+00 1.35180503e-01]\n",
      "[4.75011623e+01 2.01225278e+03 3.94917075e+00 6.46150691e+00\n",
      " 3.32499853e-01 4.61604579e-01 1.78952945e-01]\n",
      "[3.15227549e+02 2.01329733e+03 3.92779126e+00 6.30885922e+00\n",
      " 3.24635922e-01 3.85315534e-01 1.95425644e-01]\n",
      "[1.30577198e+02 2.01286668e+03 3.96572532e+00 6.37155041e+00\n",
      " 2.82967254e-01 4.25134765e-01 1.83759983e-01]\n"
     ]
    }
   ],
   "source": [
    "#Get cluster center data\n",
    "model = kmeans_obj.fit(train)\n",
    "centers = model.clusterCenters()\n",
    "print(\"Cluster Centers: \")\n",
    "for center in centers:\n",
    "    print(center)"
   ]
  },
  {
   "cell_type": "code",
   "execution_count": null,
   "metadata": {},
   "outputs": [],
   "source": []
  }
 ],
 "metadata": {
  "kernelspec": {
   "display_name": "Python 3",
   "language": "python",
   "name": "python3"
  },
  "language_info": {
   "codemirror_mode": {
    "name": "ipython",
    "version": 3
   },
   "file_extension": ".py",
   "mimetype": "text/x-python",
   "name": "python",
   "nbconvert_exporter": "python",
   "pygments_lexer": "ipython3",
   "version": "3.6.8"
  }
 },
 "nbformat": 4,
 "nbformat_minor": 2
}
