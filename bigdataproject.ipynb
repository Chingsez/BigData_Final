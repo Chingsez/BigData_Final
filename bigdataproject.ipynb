{
 "cells": [
  {
   "cell_type": "code",
   "execution_count": 3,
   "metadata": {},
   "outputs": [],
   "source": [
    "# start SparkSession\n",
    "import findspark\n",
    "findspark.init()\n",
    "from pyspark.sql import SparkSession\n",
    "spark = SparkSession.builder.appName(\"project\").getOrCreate()"
   ]
  },
  {
   "cell_type": "code",
   "execution_count": 4,
   "metadata": {},
   "outputs": [],
   "source": [
    "#1. read in the merged dataset\n",
    "data_df = spark.read\\\n",
    "  .format('csv')\\\n",
    "  .option('header', 'true')\\\n",
    "  .option('inferSchema', 'true')\\\n",
    "  .load('s3://bigdataproject233/millions.csv')"
   ]
  },
  {
   "cell_type": "code",
   "execution_count": 6,
   "metadata": {
    "scrolled": true
   },
   "outputs": [
    {
     "name": "stdout",
     "output_type": "stream",
     "text": [
      "+--------------+-----+------------+--------------------+--------------------+-------+--------------------+--------------------+--------------------+--------------------+--------------------+----------------+--------------------+--------------------+\n",
      "|            by|score|        time|           timestamp|               title|   type|                 url|                text|              parent|             deleted|                dead|     descendants|                  id|             ranking|\n",
      "+--------------+-----+------------+--------------------+--------------------+-------+--------------------+--------------------+--------------------+--------------------+--------------------+----------------+--------------------+--------------------+\n",
      "|         malyk| null|1511987746.0|2017-11-29 20:35:...|                null|comment|                null|That&#x27;s likel...|          15810293.0|                null|                null|            null|            15810594|                null|\n",
      "|      wbracken| null|1318370168.0|2011-10-11 21:56:...|                null|comment|                null|Been wondering th...|           3100461.0|                null|                null|            null|             3100489|                null|\n",
      "|         spang| null|1412189516.0|2014-10-01 18:51:...|                null|comment|                null|\"Inbox | <a href=...| CA (Mission) or ...| and we&#x27;re l...| and that means w...| up all the time| and fast. We hav...| debugging runnin...|\n",
      "|           nfm| null|1447539935.0|2015-11-14 22:25:...|                null|comment|                null|Yes, yes it is.<p...|          10567471.0|                null|                null|            null|            10567544|                null|\n",
      "|            Mz| null|1287348341.0|2010-10-17 20:45:...|                null|comment|                null|Something he does...|           1800936.0|                null|                null|            null|             1801375|                null|\n",
      "|   white-flame| null|1508730944.0|2017-10-23 03:55:...|                null|comment|                null|What social media...|          15530129.0|                null|                null|            null|            15530604|                null|\n",
      "|       misha67| null|1484814021.0|2017-01-19 08:20:...|                null|comment|                null|            Honesty.|          13431903.0|                null|                null|            null|            13434058|                null|\n",
      "|       Shoothe| null|1521393853.0|2018-03-18 17:24:...|                null|comment|                null|I can second this...|          16612801.0|                null|                null|            null|            16612997|                null|\n",
      "|       rezaman| null|1551462440.0|2019-03-01 17:47:...|                null|comment|                null|\"Housecall Pro | ...| we are focused o...| client-focused t...|          19281834.0|            null|                null|                null|\n",
      "|      avallark| null|1533325502.0|2018-08-03 19:45:...|                null|comment|                null|At least its good...|          17681582.0|                null|                null|            null|            17682996|                null|\n",
      "|        davidw| null|1447188265.0|2015-11-10 20:44:...|                null|comment|                null|You didn&#x27;t m...|          10542243.0|                null|                null|            null|            10542343|                null|\n",
      "|  yummyfajitas| null|1421333945.0|2015-01-15 14:59:...|                null|comment|                null|The more ideas a ...|           8892690.0|                null|                null|            null|             8892746|                null|\n",
      "|          jerf| null|1322010874.0|2011-11-23 01:14:...|                null|comment|                null|So, when going to...|           3267889.0|                null|                null|            null|             3268271|                null|\n",
      "|     artpepper| null|1458958959.0|2016-03-26 02:22:...|                null|comment|                null|My wife has to de...|          11361797.0|                null|                null|            null|            11364165|                null|\n",
      "|        yopiti|  1.0|1366032169.0|2013-04-15 13:22:...|Why disabling 3rd...|  story|http://www.spamco...|                null|                null|                null|                null|             0.0|             5551313|                null|\n",
      "|frosted-flakes| null|1558493699.0|2019-05-22 02:54:...|                null|comment|                null|&gt; The coverup ...|          19974441.0|                null|                null|            null|            19977319|                null|\n",
      "|           pvg| null|1548291454.0|2019-01-24 00:57:...|                null|comment|                null|<i>as evidenced b...|          18984941.0|                null|                null|            null|            18985009|                null|\n",
      "|  mikethecoach|  1.0|1512673901.0|2017-12-07 19:11:...|How trainers and ...|  story|https://www.podbe...|                null|                null|                null|                True|            null|            15873005|                null|\n",
      "|          frik|  2.0|1453546822.0|2016-01-23 11:00:...|AppDynamics CEO: ...|  story|http://venturebea...|                null|                null|                null|                null|             0.0|            10957977|                null|\n",
      "|      gbookman| null|1256133970.0|2009-10-21 14:06:...|                null|comment|                null|If you took the L...|            894500.0|                null|                null|            null|              894655|                null|\n",
      "+--------------+-----+------------+--------------------+--------------------+-------+--------------------+--------------------+--------------------+--------------------+--------------------+----------------+--------------------+--------------------+\n",
      "only showing top 20 rows\n",
      "\n"
     ]
    }
   ],
   "source": [
    "# data_df.show()"
   ]
  },
  {
   "cell_type": "code",
   "execution_count": 5,
   "metadata": {},
   "outputs": [
    {
     "data": {
      "text/plain": [
       "5642724"
      ]
     },
     "execution_count": 5,
     "metadata": {},
     "output_type": "execute_result"
    }
   ],
   "source": [
    "data_df.count()"
   ]
  },
  {
   "cell_type": "code",
   "execution_count": 6,
   "metadata": {},
   "outputs": [],
   "source": [
    "from pyspark.sql.types import IntegerType\n",
    "from pyspark.sql.types import DoubleType\n",
    "\n",
    "df_total = data_df.select(data_df['by'],\n",
    "                     data_df['score'].cast(IntegerType()),\n",
    "                     #data_df[\"time\"],\n",
    "                     data_df['timestamp'].cast('timestamp'),\n",
    "                     data_df['title'],\n",
    "                     data_df['type'],\n",
    "                     data_df['url'],\n",
    "                     data_df['text'],\n",
    "                     data_df['parent'].cast(IntegerType()),\n",
    "                     #data_df['deleted'],\n",
    "                     #data_df['dead'],\n",
    "                     data_df['descendants'].cast(IntegerType()),\n",
    "                     data_df['id'].cast(IntegerType()),\n",
    "                     data_df['ranking'].cast(IntegerType())\n",
    "                             )\n"
   ]
  },
  {
   "cell_type": "code",
   "execution_count": 7,
   "metadata": {},
   "outputs": [
    {
     "name": "stdout",
     "output_type": "stream",
     "text": [
      "root\n",
      " |-- by: string (nullable = true)\n",
      " |-- score: integer (nullable = true)\n",
      " |-- timestamp: timestamp (nullable = true)\n",
      " |-- title: string (nullable = true)\n",
      " |-- type: string (nullable = true)\n",
      " |-- url: string (nullable = true)\n",
      " |-- text: string (nullable = true)\n",
      " |-- parent: integer (nullable = true)\n",
      " |-- descendants: integer (nullable = true)\n",
      " |-- id: integer (nullable = true)\n",
      " |-- ranking: integer (nullable = true)\n",
      "\n"
     ]
    }
   ],
   "source": [
    "df_total.printSchema()"
   ]
  },
  {
   "cell_type": "code",
   "execution_count": 8,
   "metadata": {},
   "outputs": [
    {
     "name": "stdout",
     "output_type": "stream",
     "text": [
      "+-----------+-----+-------------------+-----+-------+----+--------------------+--------+-----------+--------+-------+\n",
      "|         by|score|          timestamp|title|   type| url|                text|  parent|descendants|      id|ranking|\n",
      "+-----------+-----+-------------------+-----+-------+----+--------------------+--------+-----------+--------+-------+\n",
      "|      malyk| null|2017-11-29 20:35:46| null|comment|null|That&#x27;s likel...|15810293|       null|15810594|   null|\n",
      "|   wbracken| null|2011-10-11 21:56:08| null|comment|null|Been wondering th...| 3100461|       null| 3100489|   null|\n",
      "|      spang| null|2014-10-01 18:51:56| null|comment|null|\"Inbox | <a href=...|    null|       null|    null|   null|\n",
      "|        nfm| null|2015-11-14 22:25:35| null|comment|null|Yes, yes it is.<p...|10567471|       null|10567544|   null|\n",
      "|         Mz| null|2010-10-17 20:45:41| null|comment|null|Something he does...| 1800936|       null| 1801375|   null|\n",
      "|white-flame| null|2017-10-23 03:55:44| null|comment|null|What social media...|15530129|       null|15530604|   null|\n",
      "|    misha67| null|2017-01-19 08:20:21| null|comment|null|            Honesty.|13431903|       null|13434058|   null|\n",
      "|    Shoothe| null|2018-03-18 17:24:13| null|comment|null|I can second this...|16612801|       null|16612997|   null|\n",
      "|    rezaman| null|2019-03-01 17:47:20| null|comment|null|\"Housecall Pro | ...|    null|       null|    null|   null|\n",
      "|   avallark| null|2018-08-03 19:45:02| null|comment|null|At least its good...|17681582|       null|17682996|   null|\n",
      "+-----------+-----+-------------------+-----+-------+----+--------------------+--------+-----------+--------+-------+\n",
      "only showing top 10 rows\n",
      "\n"
     ]
    }
   ],
   "source": [
    "df_total.show(10)"
   ]
  },
  {
   "cell_type": "code",
   "execution_count": 9,
   "metadata": {},
   "outputs": [],
   "source": [
    "data = df_total.createOrReplaceTempView('data')"
   ]
  },
  {
   "cell_type": "code",
   "execution_count": 10,
   "metadata": {},
   "outputs": [],
   "source": [
    "# Filter Story data \n",
    "story = spark.sql('SELECT * FROM data WHERE type == \"story\"')\n",
    "story.createOrReplaceTempView('story')"
   ]
  },
  {
   "cell_type": "code",
   "execution_count": 11,
   "metadata": {},
   "outputs": [
    {
     "data": {
      "text/plain": [
       "842645"
      ]
     },
     "execution_count": 11,
     "metadata": {},
     "output_type": "execute_result"
    }
   ],
   "source": [
    "story.count()"
   ]
  },
  {
   "cell_type": "code",
   "execution_count": 20,
   "metadata": {
    "scrolled": true
   },
   "outputs": [
    {
     "name": "stdout",
     "output_type": "stream",
     "text": [
      "+---------------+-----+-------------------+--------------------+-----+--------------------+--------------------+------+-----------+--------+-------+\n",
      "|             by|score|          timestamp|               title| type|                 url|                text|parent|descendants|      id|ranking|\n",
      "+---------------+-----+-------------------+--------------------+-----+--------------------+--------------------+------+-----------+--------+-------+\n",
      "|         yopiti|    1|2013-04-15 13:22:49|Why disabling 3rd...|story|http://www.spamco...|                null|  null|          0| 5551313|   null|\n",
      "|   mikethecoach|    1|2017-12-07 19:11:41|How trainers and ...|story|https://www.podbe...|                null|  null|       null|15873005|   null|\n",
      "|           frik|    2|2016-01-23 11:00:22|AppDynamics CEO: ...|story|http://venturebea...|                null|  null|          0|10957977|   null|\n",
      "|  athinggoingon|    2|2017-11-30 22:08:19|Regulation free z...|story|http://www.nextgo...|                null|  null|          0|15820036|   null|\n",
      "|        rbanffy|    1|2019-02-06 13:07:36|Technologizing Ag...|story|https://cacm.acm....|                null|  null|          0|19094767|   null|\n",
      "|         kushti|    1|2016-08-07 15:57:56|Why Logical Clock...|story|http://queue.acm....|                null|  null|          0|12242416|   null|\n",
      "|       kingkilr|    2|2010-09-29 05:42:58|Dynamic and Stati...|story|http://alexgaynor...|                null|  null|          0| 1738424|   null|\n",
      "|           null| null|2016-09-29 15:09:13|                null|story|                null|                null|  null|       null|12605848|   null|\n",
      "|       auhlrich|    1|2017-03-19 00:22:48|Trump flanked by ...|story|https://redd.it/6...|                null|  null|       null|13904312|   null|\n",
      "|CapitalistCartr|    2|2017-01-24 12:49:23|How Media Fuels O...|story|https://priceonom...|                null|  null|          0|13470880|   null|\n",
      "|       iafrikan|    1|2019-05-14 21:54:18|WhatsApp Hacked, ...|story|https://www.iafri...|                null|  null|       null|19914229|   null|\n",
      "|       thenomad|    1|2010-09-28 14:14:35|Simple guide to i...|story|http://www.mmomel...|                null|  null|          0| 1735733|   null|\n",
      "|     prostoalex|  182|2016-02-18 18:24:14|Uber losing $1B a...|story|http://www.reuter...|                null|  null|        180|11127972|   null|\n",
      "|  hollywoodcole|    4|2008-04-16 03:31:05|Why mod_rails is ...|story|http://www.pervas...|                null|  null|          1|  164846|   null|\n",
      "|        greyman|   77|2009-10-23 11:05:58|Funny comparision...|story|http://tech.slash...|                null|  null|       null|  898545|   null|\n",
      "|    wikimediapk|    1|2018-03-26 09:36:46|Capital TV Live W...|story|http://wikimedia....|                null|  null|       null|16677705|   null|\n",
      "|          cr4zy|    7|2011-12-02 22:06:47|Verizon purchases...|story|http://www.reuter...|                null|  null|          0| 3305907|   null|\n",
      "|    marvinpinto|    2|2017-10-18 14:31:03|Ontario will bid ...|story|https://www.thest...|                null|  null|          0|15499433|   null|\n",
      "|        pirocks|    1|2019-04-26 09:13:20|The new kid in to...|story|https://qz.com/in...|                null|  null|          0|19755836|   null|\n",
      "|   logiclogyinc|    1|2016-01-18 15:14:38|Programmers confe...|story|http://programmer...|                null|  null|       null|10924807|   null|\n",
      "|         srikar|    2|2014-07-22 14:49:15|New Material Conv...|story|http://www.iflsci...|                null|  null|          0| 8069240|   null|\n",
      "|     realpundit|    2|2014-08-10 23:07:57|Realtors who pay ...|story|http://www.realpu...|                null|  null|          0| 8161094|   null|\n",
      "|        benwerd|    7|2012-08-09 06:36:20|How do Zynga empl...|story|http://www.quora....|                null|  null|          1| 4359846|   null|\n",
      "|         Aarvay|    2|2011-10-25 09:17:30|The very first Dr...|story|http://dl.dropbox...|                null|  null|          0| 3153410|   null|\n",
      "|    monty_singh|    1|2011-12-01 18:08:49|Twitter Launches ...|story|http://adage.com/...|                null|  null|          0| 3300710|   null|\n",
      "|           null| null|2018-06-22 17:14:01|                null|story|                null|                null|  null|       null|17375636|   null|\n",
      "|       fpereiro|    4|2012-07-11 10:04:01|Why you should al...|story|http://www.federi...|                null|  null|          0| 4228588|   null|\n",
      "|    mmiliauskas|    2|2013-05-01 23:16:16|Ruby ebook for bu...|story|http://rubyebook....|                null|  null|          0| 5641442|   null|\n",
      "|            ljk|    1|2015-12-02 18:39:17|Microsoft teases ...|story|http://www.geekwi...|                null|  null|          0|10664863|   null|\n",
      "| biankabrainhub|    1|2018-11-15 15:42:59|React vs. Angular...|story|https://brainhub....|                null|  null|       null|18460102|   null|\n",
      "|  trustfundbaby|    1|2011-11-23 19:50:55|The Science of Sa...|story|http://www.smiths...|                null|  null|          0| 3271435|   null|\n",
      "|       lucierae|    1|2011-03-16 07:04:52|Bidz.com Brand Na...|story|http://www.bidz.c...|                null|  null|         -1| 2331137|   null|\n",
      "|          ghosh|    2|2014-08-04 14:15:05|Wikipedia link hi...|story|http://m.bbc.com/...|                null|  null|          1| 8131795|   null|\n",
      "|   vusalkarimli|    1|2013-05-05 17:01:13|Viral loop slides...|story|http://www.slides...|                null|  null|          0| 5658990|   null|\n",
      "|     sohkamyung|    2|2016-09-09 09:13:18|Researchers proto...|story|http://phys.org/n...|                null|  null|          0|12460586|   null|\n",
      "|         savydv|    2|2018-04-08 22:43:38|Community-curated...|story|https://engigogo....|                null|  null|          0|16788905|   null|\n",
      "|         simvla|    1|2012-07-23 17:07:24|Simvla - The blog...|story|   http://simvla.com|Simvla cultivates...|  null|          0| 4281952|   null|\n",
      "|         kurren|    3|2015-08-01 13:17:45|Not the retiring ...|story|http://www.thegua...|                null|  null|       null| 9986925|   null|\n",
      "|        nocivus|    1|2009-12-18 12:53:46|Websockets tutori...|story|http://diffract.m...|                null|  null|          0| 1003025|   null|\n",
      "|        nickles|    1|2016-02-01 19:31:38|Hints of heart tr...|story|http://www.wsj.co...|                null|  null|          0|11014667|   null|\n",
      "|        rbanffy|    2|2015-02-15 16:07:46|A nose plugin for...|story|https://github.co...|                null|  null|          0| 9052957|   null|\n",
      "|        urahara|    2|2017-09-16 18:09:40|An Ode to Acts of...|story|https://www.nytim...|                null|  null|          0|15265791|   null|\n",
      "| wrongc0ntinent|    5|2015-05-15 18:02:01|Google versus Ora...|story|http://www.reuter...|                null|  null|          0| 9552413|   null|\n",
      "|      VioletDIY|    1|2018-01-12 15:23:33|Anitta – Paradinh...|story|https://www.youtu...|                null|  null|       null|16133531|   null|\n",
      "|     shawndumas|    2|2016-01-08 05:09:17|Asmodee becomes b...|story|http://arstechnic...|                null|  null|          0|10863060|   null|\n",
      "|      linarilla|    1|2014-07-26 15:46:05|John Legend – All...|story|http://www.youtub...|                null|  null|       null| 8089954|   null|\n",
      "|         mets86|    1|2016-09-16 13:20:55|Importance of Str...|story|http://www.dmaccl...|                null|  null|       null|12513752|   null|\n",
      "|     CLOUDATLAS|    1|2015-12-02 11:02:37|Chance to win a c...|story|http://carfromjap...|                null|  null|       null|10662245|   null|\n",
      "|         jkouns|    2|2016-08-17 07:50:23|Shadow Brokers: V...|story|https://www.riskb...|                null|  null|          0|12303070|   null|\n",
      "|      dnwalters|    8|2010-05-30 18:55:28|37signals' Jason ...|story|http://techdrawl....|                null|  null|          0| 1390940|   null|\n",
      "+---------------+-----+-------------------+--------------------+-----+--------------------+--------------------+------+-----------+--------+-------+\n",
      "only showing top 50 rows\n",
      "\n"
     ]
    }
   ],
   "source": [
    "story.show(50)"
   ]
  },
  {
   "cell_type": "code",
   "execution_count": 13,
   "metadata": {},
   "outputs": [
    {
     "data": {
      "text/plain": [
       "4041"
      ]
     },
     "execution_count": 13,
     "metadata": {},
     "output_type": "execute_result"
    }
   ],
   "source": [
    "story.select(\"id\").distinct().count()"
   ]
  },
  {
   "cell_type": "code",
   "execution_count": 16,
   "metadata": {},
   "outputs": [
    {
     "data": {
      "text/plain": [
       "3890"
      ]
     },
     "execution_count": 16,
     "metadata": {},
     "output_type": "execute_result"
    }
   ],
   "source": [
    "story.select(\"title\").distinct().count()"
   ]
  },
  {
   "cell_type": "code",
   "execution_count": 17,
   "metadata": {},
   "outputs": [
    {
     "data": {
      "text/plain": [
       "4073"
      ]
     },
     "execution_count": 17,
     "metadata": {},
     "output_type": "execute_result"
    }
   ],
   "source": [
    "story.select(\"timestamp\").distinct().count()"
   ]
  },
  {
   "cell_type": "code",
   "execution_count": 16,
   "metadata": {},
   "outputs": [],
   "source": [
    "title_df = spark.sql('select * from story where title is not NULL')"
   ]
  },
  {
   "cell_type": "code",
   "execution_count": 13,
   "metadata": {},
   "outputs": [
    {
     "data": {
      "text/plain": [
       "797343"
      ]
     },
     "execution_count": 13,
     "metadata": {},
     "output_type": "execute_result"
    }
   ],
   "source": [
    "title_df.count()"
   ]
  },
  {
   "cell_type": "code",
   "execution_count": 17,
   "metadata": {},
   "outputs": [],
   "source": [
    "title_df.createOrReplaceTempView('title')"
   ]
  },
  {
   "cell_type": "code",
   "execution_count": 18,
   "metadata": {},
   "outputs": [
    {
     "data": {
      "text/plain": [
       "797343"
      ]
     },
     "execution_count": 18,
     "metadata": {},
     "output_type": "execute_result"
    }
   ],
   "source": [
    "# check if there is score as NULL in the dataset where title is not NULL\n",
    "spark.sql('select score from title where score is not NULL').count()"
   ]
  },
  {
   "cell_type": "code",
   "execution_count": 42,
   "metadata": {},
   "outputs": [],
   "source": [
    "#待完成\n",
    "#url_df = spark.sql(\"select score, by as author, title, regexp_extract(url, '/(\\w+):\\/\\/([^/:]+)(:\\d*)?([^# ]*)/', 1) as url from title\")"
   ]
  },
  {
   "cell_type": "code",
   "execution_count": 43,
   "metadata": {
    "scrolled": true
   },
   "outputs": [
    {
     "name": "stdout",
     "output_type": "stream",
     "text": [
      "+---+\n",
      "|url|\n",
      "+---+\n",
      "|   |\n",
      "|   |\n",
      "+---+\n",
      "only showing top 2 rows\n",
      "\n"
     ]
    }
   ],
   "source": [
    "#url_df.select('url').show(2)"
   ]
  },
  {
   "cell_type": "code",
   "execution_count": 60,
   "metadata": {},
   "outputs": [
    {
     "data": {
      "text/plain": [
       "[Row(min(score)=0, max(score)=1129, avg(score)=11.096693643764352)]"
      ]
     },
     "execution_count": 60,
     "metadata": {},
     "output_type": "execute_result"
    }
   ],
   "source": [
    "#score information\n",
    "spark.sql(\"select min(score),max(score),avg(score) from title\").collect()"
   ]
  },
  {
   "cell_type": "code",
   "execution_count": 67,
   "metadata": {},
   "outputs": [],
   "source": [
    "# author/user information \n",
    "# decending by total_score \n",
    "sqlStatement = \"\"\"SELECT SUM(score) as total_score, by as author,\n",
    "SUM(descendants) as total_decendants,\n",
    "count(id) as total_stories\n",
    "FROM title\n",
    "GROUP BY author\n",
    "ORDER BY total_score DESC\n",
    "LIMIT 20\n",
    "\"\"\"\n",
    "user_df = spark.sql(sqlStatement)\n",
    "user_df.createOrReplaceTempView(\"user\")"
   ]
  },
  {
   "cell_type": "code",
   "execution_count": 68,
   "metadata": {
    "scrolled": true
   },
   "outputs": [
    {
     "name": "stdout",
     "output_type": "stream",
     "text": [
      "+-----------+---------------+----------------+-------------+\n",
      "|total_score|         author|total_decendants|total_stories|\n",
      "+-----------+---------------+----------------+-------------+\n",
      "|     231445|        vassvdm|          164410|          205|\n",
      "|     201925|    aarohmankad|           37310|          205|\n",
      "|     149035|       brisance|           66010|          205|\n",
      "|     131200|thereare5lights|           60270|          205|\n",
      "|     124454|           bane|           31416|         1639|\n",
      "|     123615|       Artemis2|           31775|          410|\n",
      "|     123410|         Ours90|           39975|          205|\n",
      "|     100040|            jgv|           12710|          205|\n",
      "|      94915|       krausejj|           80975|          410|\n",
      "|      86305|       riledhel|           39770|          205|\n",
      "+-----------+---------------+----------------+-------------+\n",
      "only showing top 10 rows\n",
      "\n"
     ]
    }
   ],
   "source": [
    "user_df.show(10)"
   ]
  },
  {
   "cell_type": "code",
   "execution_count": 70,
   "metadata": {},
   "outputs": [],
   "source": [
    "# author/user information \n",
    "# decending by total_stories \n",
    "sqlStatement = \"\"\"SELECT SUM(score) as total_score, by as author,\n",
    "SUM(descendants) as total_decendants,\n",
    "count(id) as total_stories\n",
    "FROM title\n",
    "GROUP BY author\n",
    "ORDER BY total_stories DESC\n",
    "LIMIT 20\n",
    "\"\"\"\n",
    "user_df2 = spark.sql(sqlStatement)"
   ]
  },
  {
   "cell_type": "code",
   "execution_count": 71,
   "metadata": {
    "scrolled": true
   },
   "outputs": [
    {
     "name": "stdout",
     "output_type": "stream",
     "text": [
      "+-----------+----------+----------------+-------------+\n",
      "|total_score|    author|total_decendants|total_stories|\n",
      "+-----------+----------+----------------+-------------+\n",
      "|      12915|   rbanffy|            3690|         5535|\n",
      "|      49405|     ingve|           21935|         2460|\n",
      "|      25415|     evo_9|            5124|         2459|\n",
      "|      39770|prostoalex|           36900|         2255|\n",
      "|       4509|   jonbaer|             410|         2254|\n",
      "|      11070|  jseliger|            4100|         2050|\n",
      "|       9425|shawndumas|            1637|         2049|\n",
      "|       2870|      cwan|             205|         1845|\n",
      "|      13320|   dnetesn|           11070|         1844|\n",
      "|      30135|    uptown|           47150|         1640|\n",
      "+-----------+----------+----------------+-------------+\n",
      "only showing top 10 rows\n",
      "\n"
     ]
    }
   ],
   "source": [
    "user_df2.show(10)"
   ]
  },
  {
   "cell_type": "code",
   "execution_count": 72,
   "metadata": {},
   "outputs": [],
   "source": [
    "# author/user information \n",
    "# decending by avg_score \n",
    "sqlStatement = \"\"\"SELECT SUM(score) as total_score, by as author,\n",
    "SUM(descendants) as total_decendants, SUM(score)/count(id) as avg_score,\n",
    "count(id) as total_stories\n",
    "FROM title\n",
    "GROUP BY author\n",
    "ORDER BY avg_score DESC\n",
    "LIMIT 20\n",
    "\"\"\"\n",
    "user_df3 = spark.sql(sqlStatement)"
   ]
  },
  {
   "cell_type": "code",
   "execution_count": 73,
   "metadata": {
    "scrolled": true
   },
   "outputs": [
    {
     "name": "stdout",
     "output_type": "stream",
     "text": [
      "+-----------+---------------+----------------+---------+-------------+\n",
      "|total_score|         author|total_decendants|avg_score|total_stories|\n",
      "+-----------+---------------+----------------+---------+-------------+\n",
      "|     231445|        vassvdm|          164410|   1129.0|          205|\n",
      "|     201925|    aarohmankad|           37310|    985.0|          205|\n",
      "|     149035|       brisance|           66010|    727.0|          205|\n",
      "|     131200|thereare5lights|           60270|    640.0|          205|\n",
      "|     123410|         Ours90|           39975|    602.0|          205|\n",
      "|     100040|            jgv|           12710|    488.0|          205|\n",
      "|      86305|       riledhel|           39770|    421.0|          205|\n",
      "|      80155|          dnene|           45305|    391.0|          205|\n",
      "|      76465|        dralley|           60065|    373.0|          205|\n",
      "|      69905|           mxgr|           34645|    341.0|          205|\n",
      "+-----------+---------------+----------------+---------+-------------+\n",
      "only showing top 10 rows\n",
      "\n"
     ]
    }
   ],
   "source": [
    "user_df3.show(10)"
   ]
  },
  {
   "cell_type": "code",
   "execution_count": 88,
   "metadata": {},
   "outputs": [],
   "source": [
    "# if there is bias on YC\n",
    "sqlStatement = \"\"\"\n",
    "SELECT score, title,id\n",
    "FROM `title`\n",
    "WHERE title like \"%Y Combinator%\" or title like \"%YCombinator%\" or title like \"%ycombinator%\" or title like \"%y combinator%\"\n",
    "ORDER BY score  DESC\n",
    "\"\"\"\n",
    "YC_df = spark.sql(sqlStatement)"
   ]
  },
  {
   "cell_type": "code",
   "execution_count": 89,
   "metadata": {},
   "outputs": [
    {
     "name": "stdout",
     "output_type": "stream",
     "text": [
      "+-----+--------------------+-------+\n",
      "|score|               title|     id|\n",
      "+-----+--------------------+-------+\n",
      "|    3|Interview with Ca...|5955210|\n",
      "|    1|TechStars and YCo...|  14062|\n",
      "|    1|Rejected from Y C...|6797230|\n",
      "+-----+--------------------+-------+\n",
      "\n"
     ]
    }
   ],
   "source": [
    "YC_df.distinct().show()"
   ]
  },
  {
   "cell_type": "code",
   "execution_count": 90,
   "metadata": {},
   "outputs": [],
   "source": [
    "# stories of major companies over the year\n",
    "# apple\n",
    "sqlStatement = \"\"\"\n",
    "SELECT count(*) as total_stories, SUM(score) as total_score,\n",
    "year(timestamp) as year\n",
    "FROM title\n",
    "WHERE title like \"%apple%\" or title like \"%APPLE\" or title like \"%Apple\"\n",
    "GROUP BY year\n",
    "ORDER BY year\n",
    "\"\"\"\n",
    "Comp_df1 = spark.sql(sqlStatement)"
   ]
  },
  {
   "cell_type": "code",
   "execution_count": 91,
   "metadata": {},
   "outputs": [
    {
     "name": "stdout",
     "output_type": "stream",
     "text": [
      "+-------------+-----------+----+\n",
      "|total_stories|total_score|year|\n",
      "+-------------+-----------+----+\n",
      "|          205|        615|2012|\n",
      "|          410|       1230|2013|\n",
      "|          205|        205|2016|\n",
      "+-------------+-----------+----+\n",
      "\n"
     ]
    }
   ],
   "source": [
    "Comp_df1.distinct().show()"
   ]
  },
  {
   "cell_type": "code",
   "execution_count": null,
   "metadata": {},
   "outputs": [],
   "source": []
  }
 ],
 "metadata": {
  "kernelspec": {
   "display_name": "Python 3",
   "language": "python",
   "name": "python3"
  },
  "language_info": {
   "codemirror_mode": {
    "name": "ipython",
    "version": 3
   },
   "file_extension": ".py",
   "mimetype": "text/x-python",
   "name": "python",
   "nbconvert_exporter": "python",
   "pygments_lexer": "ipython3",
   "version": "3.6.8"
  }
 },
 "nbformat": 4,
 "nbformat_minor": 2
}
