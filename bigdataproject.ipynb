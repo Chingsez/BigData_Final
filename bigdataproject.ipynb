{
 "cells": [
  {
   "cell_type": "code",
   "execution_count": 1,
   "metadata": {},
   "outputs": [],
   "source": [
    "# start SparkSession\n",
    "import findspark\n",
    "findspark.init()\n",
    "from pyspark.sql import SparkSession\n",
    "spark = SparkSession.builder.appName(\"project\").getOrCreate()"
   ]
  },
  {
   "cell_type": "code",
   "execution_count": 5,
   "metadata": {},
   "outputs": [],
   "source": [
    "#1. read in the merged dataset\n",
    "data_df = spark.read\\\n",
    "  .format('csv')\\\n",
    "  .option('header', 'true')\\\n",
    "  .option('inferSchema', 'true')\\\n",
    "  .load('s3://bigdataproject233/millions.csv')"
   ]
  },
  {
   "cell_type": "code",
   "execution_count": 6,
   "metadata": {},
   "outputs": [
    {
     "name": "stdout",
     "output_type": "stream",
     "text": [
      "+--------------+-----+------------+--------------------+--------------------+-------+--------------------+--------------------+--------------------+--------------------+--------------------+----------------+--------------------+--------------------+\n",
      "|            by|score|        time|           timestamp|               title|   type|                 url|                text|              parent|             deleted|                dead|     descendants|                  id|             ranking|\n",
      "+--------------+-----+------------+--------------------+--------------------+-------+--------------------+--------------------+--------------------+--------------------+--------------------+----------------+--------------------+--------------------+\n",
      "|         malyk| null|1511987746.0|2017-11-29 20:35:...|                null|comment|                null|That&#x27;s likel...|          15810293.0|                null|                null|            null|            15810594|                null|\n",
      "|      wbracken| null|1318370168.0|2011-10-11 21:56:...|                null|comment|                null|Been wondering th...|           3100461.0|                null|                null|            null|             3100489|                null|\n",
      "|         spang| null|1412189516.0|2014-10-01 18:51:...|                null|comment|                null|\"Inbox | <a href=...| CA (Mission) or ...| and we&#x27;re l...| and that means w...| up all the time| and fast. We hav...| debugging runnin...|\n",
      "|           nfm| null|1447539935.0|2015-11-14 22:25:...|                null|comment|                null|Yes, yes it is.<p...|          10567471.0|                null|                null|            null|            10567544|                null|\n",
      "|            Mz| null|1287348341.0|2010-10-17 20:45:...|                null|comment|                null|Something he does...|           1800936.0|                null|                null|            null|             1801375|                null|\n",
      "|   white-flame| null|1508730944.0|2017-10-23 03:55:...|                null|comment|                null|What social media...|          15530129.0|                null|                null|            null|            15530604|                null|\n",
      "|       misha67| null|1484814021.0|2017-01-19 08:20:...|                null|comment|                null|            Honesty.|          13431903.0|                null|                null|            null|            13434058|                null|\n",
      "|       Shoothe| null|1521393853.0|2018-03-18 17:24:...|                null|comment|                null|I can second this...|          16612801.0|                null|                null|            null|            16612997|                null|\n",
      "|       rezaman| null|1551462440.0|2019-03-01 17:47:...|                null|comment|                null|\"Housecall Pro | ...| we are focused o...| client-focused t...|          19281834.0|            null|                null|                null|\n",
      "|      avallark| null|1533325502.0|2018-08-03 19:45:...|                null|comment|                null|At least its good...|          17681582.0|                null|                null|            null|            17682996|                null|\n",
      "|        davidw| null|1447188265.0|2015-11-10 20:44:...|                null|comment|                null|You didn&#x27;t m...|          10542243.0|                null|                null|            null|            10542343|                null|\n",
      "|  yummyfajitas| null|1421333945.0|2015-01-15 14:59:...|                null|comment|                null|The more ideas a ...|           8892690.0|                null|                null|            null|             8892746|                null|\n",
      "|          jerf| null|1322010874.0|2011-11-23 01:14:...|                null|comment|                null|So, when going to...|           3267889.0|                null|                null|            null|             3268271|                null|\n",
      "|     artpepper| null|1458958959.0|2016-03-26 02:22:...|                null|comment|                null|My wife has to de...|          11361797.0|                null|                null|            null|            11364165|                null|\n",
      "|        yopiti|  1.0|1366032169.0|2013-04-15 13:22:...|Why disabling 3rd...|  story|http://www.spamco...|                null|                null|                null|                null|             0.0|             5551313|                null|\n",
      "|frosted-flakes| null|1558493699.0|2019-05-22 02:54:...|                null|comment|                null|&gt; The coverup ...|          19974441.0|                null|                null|            null|            19977319|                null|\n",
      "|           pvg| null|1548291454.0|2019-01-24 00:57:...|                null|comment|                null|<i>as evidenced b...|          18984941.0|                null|                null|            null|            18985009|                null|\n",
      "|  mikethecoach|  1.0|1512673901.0|2017-12-07 19:11:...|How trainers and ...|  story|https://www.podbe...|                null|                null|                null|                True|            null|            15873005|                null|\n",
      "|          frik|  2.0|1453546822.0|2016-01-23 11:00:...|AppDynamics CEO: ...|  story|http://venturebea...|                null|                null|                null|                null|             0.0|            10957977|                null|\n",
      "|      gbookman| null|1256133970.0|2009-10-21 14:06:...|                null|comment|                null|If you took the L...|            894500.0|                null|                null|            null|              894655|                null|\n",
      "+--------------+-----+------------+--------------------+--------------------+-------+--------------------+--------------------+--------------------+--------------------+--------------------+----------------+--------------------+--------------------+\n",
      "only showing top 20 rows\n",
      "\n"
     ]
    }
   ],
   "source": [
    "data_df.show()"
   ]
  },
  {
   "cell_type": "code",
   "execution_count": 7,
   "metadata": {},
   "outputs": [
    {
     "data": {
      "text/plain": [
       "5642724"
      ]
     },
     "execution_count": 7,
     "metadata": {},
     "output_type": "execute_result"
    }
   ],
   "source": [
    "data_df.count()"
   ]
  },
  {
   "cell_type": "code",
   "execution_count": 8,
   "metadata": {},
   "outputs": [
    {
     "name": "stdout",
     "output_type": "stream",
     "text": [
      "root\n",
      " |-- by: string (nullable = true)\n",
      " |-- score: string (nullable = true)\n",
      " |-- time: string (nullable = true)\n",
      " |-- timestamp: string (nullable = true)\n",
      " |-- title: string (nullable = true)\n",
      " |-- type: string (nullable = true)\n",
      " |-- url: string (nullable = true)\n",
      " |-- text: string (nullable = true)\n",
      " |-- parent: string (nullable = true)\n",
      " |-- deleted: string (nullable = true)\n",
      " |-- dead: string (nullable = true)\n",
      " |-- descendants: string (nullable = true)\n",
      " |-- id: string (nullable = true)\n",
      " |-- ranking: string (nullable = true)\n",
      "\n"
     ]
    }
   ],
   "source": [
    "data_df.printSchema()"
   ]
  },
  {
   "cell_type": "code",
   "execution_count": 9,
   "metadata": {},
   "outputs": [],
   "source": [
    "from pyspark.sql.types import IntegerType\n",
    "from pyspark.sql.types import DoubleType\n",
    "\n",
    "df1 = data_df.select(data_df['by'],\n",
    "                     data_df['score'].cast(DoubleType()),\n",
    "                     #data_df[\"time\"],\n",
    "                     data_df['timestamp'].cast('timestamp'),\n",
    "                     data_df['title'],\n",
    "                     data_df['type'],\n",
    "                     data_df['url'],\n",
    "                     data_df['text'],\n",
    "                     data_df['parent'],\n",
    "                     #data_df['deleted'],\n",
    "                     #data_df['dead'],\n",
    "                     data_df['descendants'],\n",
    "                     data_df['id'],\n",
    "                     data_df['ranking'].cast(IntegerType())\n",
    "                     \n",
    "                             )\n"
   ]
  },
  {
   "cell_type": "code",
   "execution_count": null,
   "metadata": {},
   "outputs": [],
   "source": []
  }
 ],
 "metadata": {
  "kernelspec": {
   "display_name": "Python 3",
   "language": "python",
   "name": "python3"
  },
  "language_info": {
   "codemirror_mode": {
    "name": "ipython",
    "version": 3
   },
   "file_extension": ".py",
   "mimetype": "text/x-python",
   "name": "python",
   "nbconvert_exporter": "python",
   "pygments_lexer": "ipython3",
   "version": "3.6.8"
  }
 },
 "nbformat": 4,
 "nbformat_minor": 2
}
