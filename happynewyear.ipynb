{
 "cells": [
  {
   "cell_type": "code",
   "execution_count": 172,
   "metadata": {},
   "outputs": [],
   "source": [
    "import numpy as np\n",
    "from pyspark.sql.functions import udf\n",
    "from pyspark.sql.types import IntegerType\n",
    "from pyspark.sql.types import DoubleType\n",
    "from pyspark.sql.types import StringType\n",
    "import re\n",
    "from pyspark.sql.functions import split\n",
    "from pyspark.ml.feature import Tokenizer, RegexTokenizer\n",
    "from pyspark.sql.functions import col, udf\n",
    "from pyspark.sql.types import IntegerType\n",
    "from pyspark.ml.feature import StopWordsRemover\n",
    "import pyspark.sql.functions as f\n",
    "from pyspark.ml.feature import Word2Vec"
   ]
  },
  {
   "cell_type": "code",
   "execution_count": 1,
   "metadata": {},
   "outputs": [],
   "source": [
    "# start SparkSession\n",
    "import findspark\n",
    "findspark.init()\n",
    "from pyspark.sql import SparkSession\n",
    "spark = SparkSession.builder.appName(\"project\").getOrCreate()"
   ]
  },
  {
   "cell_type": "markdown",
   "metadata": {},
   "source": [
    "# 1. STORIES"
   ]
  },
  {
   "cell_type": "code",
   "execution_count": 2,
   "metadata": {},
   "outputs": [],
   "source": [
    "# read in the dataset stories\n",
    "data_df = spark.read\\\n",
    "  .format('csv')\\\n",
    "  .option('header', 'true')\\\n",
    "  .option('inferSchema', 'true')\\\n",
    "  .load('s3://xinyuwang/finalproject/story.csv')"
   ]
  },
  {
   "cell_type": "code",
   "execution_count": 3,
   "metadata": {
    "scrolled": true
   },
   "outputs": [
    {
     "name": "stdout",
     "output_type": "stream",
     "text": [
      "+-------+------------+-----+------------+--------------------+--------------------+--------------------+--------------------+-------+----+-----------+------------+\n",
      "|     id|          by|score|        time|             time_ts|               title|                 url|                text|deleted|dead|descendants|      author|\n",
      "+-------+------------+-----+------------+--------------------+--------------------+--------------------+--------------------+-------+----+-----------+------------+\n",
      "|6940813|   sarath237|  0.0|1387536270.0|2013-12-20 10:44:...| Sheryl Brindo Ho...|http://www.youtub...| Sheryl Brindo Ho...|   null|True|       null|   sarath237|\n",
      "|6991401|123123321321|  0.0|1388508751.0|2013-12-31 16:52:...|Are you people al...|                null|They&#x27;re pret...|   null|True|       null|123123321321|\n",
      "|1531556|         ssn|  0.0|1279617234.0|2010-07-20 09:13:...|New UI for Google...|http://googlesyst...|Again following o...|   null|null|        0.0|         ssn|\n",
      "|5012398|        hoju|  0.0|1357387877.0|2013-01-05 12:11:...|Historic website ...|http://webscrapin...|Python script to ...|   null|null|        0.0|        hoju|\n",
      "|7214182|       kogir|  0.0|1401561740.0|2014-05-31 18:42:...|         Placeholder|                null|       Mind the gap.|   null|null|        0.0|       kogir|\n",
      "|1187303|       kogir|  0.0|1401561740.0|2014-05-31 18:42:...|         Placeholder|                null|       Mind the gap.|   null|null|        0.0|       kogir|\n",
      "|1318494|       kogir|  0.0|1401561740.0|2014-05-31 18:42:...|         Placeholder|                null|       Mind the gap.|   null|null|        0.0|       kogir|\n",
      "|3700400|       kogir|  0.0|1401561740.0|2014-05-31 18:42:...|         Placeholder|                null|       Mind the gap.|   null|null|        0.0|       kogir|\n",
      "|1384487|       kogir|  0.0|1401561740.0|2014-05-31 18:42:...|         Placeholder|                null|       Mind the gap.|   null|null|        0.0|       kogir|\n",
      "|3530428|       kogir|  0.0|1401561740.0|2014-05-31 18:42:...|         Placeholder|                null|       Mind the gap.|   null|null|        0.0|       kogir|\n",
      "|3538851|       kogir|  0.0|1401561740.0|2014-05-31 18:42:...|         Placeholder|                null|       Mind the gap.|   null|null|        0.0|       kogir|\n",
      "|4167497|       kogir|  0.0|1401561740.0|2014-05-31 18:42:...|         Placeholder|                null|       Mind the gap.|   null|null|        0.0|       kogir|\n",
      "|3789206|       kogir|  0.0|1401561740.0|2014-05-31 18:42:...|         Placeholder|                null|       Mind the gap.|   null|null|        0.0|       kogir|\n",
      "|4072660|       kogir|  0.0|1401561740.0|2014-05-31 18:42:...|         Placeholder|                null|       Mind the gap.|   null|null|        0.0|       kogir|\n",
      "|2979883|       kogir|  0.0|1401561740.0|2014-05-31 18:42:...|         Placeholder|                null|       Mind the gap.|   null|null|        0.0|       kogir|\n",
      "|3300974|       kogir|  0.0|1401561740.0|2014-05-31 18:42:...|         Placeholder|                null|       Mind the gap.|   null|null|        0.0|       kogir|\n",
      "|2305819|       kogir|  0.0|1401561740.0|2014-05-31 18:42:...|         Placeholder|                null|       Mind the gap.|   null|null|        0.0|       kogir|\n",
      "|3833628|       kogir|  0.0|1401561740.0|2014-05-31 18:42:...|         Placeholder|                null|       Mind the gap.|   null|null|        0.0|       kogir|\n",
      "|2606988|       ramis|  0.0|1306931771.0|2011-06-01 12:36:...|Kidney Transplant...|http://dhshahzad....|I started indepen...|   null|True|        0.0|       ramis|\n",
      "|4542754|       tette|  0.0|1348045069.0|2012-09-19 08:57:...|Bouncing Marble f...|http://www.window...|Bouncing marble i...|   null|null|        0.0|       tette|\n",
      "+-------+------------+-----+------------+--------------------+--------------------+--------------------+--------------------+-------+----+-----------+------------+\n",
      "only showing top 20 rows\n",
      "\n"
     ]
    }
   ],
   "source": [
    " data_df.show()"
   ]
  },
  {
   "cell_type": "code",
   "execution_count": 4,
   "metadata": {},
   "outputs": [
    {
     "name": "stdout",
     "output_type": "stream",
     "text": [
      "root\n",
      " |-- id: string (nullable = true)\n",
      " |-- by: string (nullable = true)\n",
      " |-- score: string (nullable = true)\n",
      " |-- time: string (nullable = true)\n",
      " |-- time_ts: string (nullable = true)\n",
      " |-- title: string (nullable = true)\n",
      " |-- url: string (nullable = true)\n",
      " |-- text: string (nullable = true)\n",
      " |-- deleted: string (nullable = true)\n",
      " |-- dead: string (nullable = true)\n",
      " |-- descendants: string (nullable = true)\n",
      " |-- author: string (nullable = true)\n",
      "\n"
     ]
    }
   ],
   "source": [
    "data_df.printSchema()"
   ]
  },
  {
   "cell_type": "code",
   "execution_count": 5,
   "metadata": {},
   "outputs": [
    {
     "data": {
      "text/plain": [
       "2069464"
      ]
     },
     "execution_count": 5,
     "metadata": {},
     "output_type": "execute_result"
    }
   ],
   "source": [
    "data_df.count()"
   ]
  },
  {
   "cell_type": "code",
   "execution_count": 6,
   "metadata": {},
   "outputs": [],
   "source": [
    "\n",
    "\n",
    "story_df = data_df.select(data_df['id'].cast(IntegerType()),\n",
    "                     data_df['score'].cast(IntegerType()),\n",
    "                     #data_df[\"time\"],\n",
    "                     data_df['time_ts'].cast('timestamp'),\n",
    "                     data_df['title'],\n",
    "                     #data_df['type'],\n",
    "                     data_df['url'],\n",
    "                     data_df['text'],\n",
    "                     #data_df['parent'].cast(IntegerType()),\n",
    "                     #data_df['deleted'],\n",
    "                     #data_df['dead'],\n",
    "                     data_df['descendants'].cast(IntegerType()),\n",
    "                     #data_df['id'].cast(IntegerType()),\n",
    "                     data_df['author']\n",
    "                             )\n"
   ]
  },
  {
   "cell_type": "code",
   "execution_count": 7,
   "metadata": {},
   "outputs": [
    {
     "name": "stdout",
     "output_type": "stream",
     "text": [
      "root\n",
      " |-- id: integer (nullable = true)\n",
      " |-- score: integer (nullable = true)\n",
      " |-- time_ts: timestamp (nullable = true)\n",
      " |-- title: string (nullable = true)\n",
      " |-- url: string (nullable = true)\n",
      " |-- text: string (nullable = true)\n",
      " |-- descendants: integer (nullable = true)\n",
      " |-- author: string (nullable = true)\n",
      "\n"
     ]
    }
   ],
   "source": [
    "story_df.printSchema()"
   ]
  },
  {
   "cell_type": "code",
   "execution_count": 8,
   "metadata": {},
   "outputs": [
    {
     "name": "stdout",
     "output_type": "stream",
     "text": [
      "+-------+-----+-------------------+--------------------+--------------------+--------------------+-----------+------------+\n",
      "|     id|score|            time_ts|               title|                 url|                text|descendants|      author|\n",
      "+-------+-----+-------------------+--------------------+--------------------+--------------------+-----------+------------+\n",
      "|6940813|    0|2013-12-20 10:44:30| Sheryl Brindo Ho...|http://www.youtub...| Sheryl Brindo Ho...|       null|   sarath237|\n",
      "|6991401|    0|2013-12-31 16:52:31|Are you people al...|                null|They&#x27;re pret...|       null|123123321321|\n",
      "|1531556|    0|2010-07-20 09:13:54|New UI for Google...|http://googlesyst...|Again following o...|          0|         ssn|\n",
      "|5012398|    0|2013-01-05 12:11:17|Historic website ...|http://webscrapin...|Python script to ...|          0|        hoju|\n",
      "|7214182|    0|2014-05-31 18:42:20|         Placeholder|                null|       Mind the gap.|          0|       kogir|\n",
      "|1187303|    0|2014-05-31 18:42:20|         Placeholder|                null|       Mind the gap.|          0|       kogir|\n",
      "|1318494|    0|2014-05-31 18:42:20|         Placeholder|                null|       Mind the gap.|          0|       kogir|\n",
      "|3700400|    0|2014-05-31 18:42:20|         Placeholder|                null|       Mind the gap.|          0|       kogir|\n",
      "|1384487|    0|2014-05-31 18:42:20|         Placeholder|                null|       Mind the gap.|          0|       kogir|\n",
      "|3530428|    0|2014-05-31 18:42:20|         Placeholder|                null|       Mind the gap.|          0|       kogir|\n",
      "+-------+-----+-------------------+--------------------+--------------------+--------------------+-----------+------------+\n",
      "only showing top 10 rows\n",
      "\n"
     ]
    }
   ],
   "source": [
    "story_df.show(10)"
   ]
  },
  {
   "cell_type": "code",
   "execution_count": 9,
   "metadata": {},
   "outputs": [],
   "source": [
    "# create temp table\n",
    "story_df.createOrReplaceTempView('ini_story')"
   ]
  },
  {
   "cell_type": "code",
   "execution_count": 10,
   "metadata": {},
   "outputs": [
    {
     "data": {
      "text/plain": [
       "1959840"
      ]
     },
     "execution_count": 10,
     "metadata": {},
     "output_type": "execute_result"
    }
   ],
   "source": [
    "story_df.select(\"id\").distinct().count()"
   ]
  },
  {
   "cell_type": "code",
   "execution_count": 11,
   "metadata": {},
   "outputs": [
    {
     "data": {
      "text/plain": [
       "1759584"
      ]
     },
     "execution_count": 11,
     "metadata": {},
     "output_type": "execute_result"
    }
   ],
   "source": [
    "story_df.select(\"title\").distinct().count()"
   ]
  },
  {
   "cell_type": "code",
   "execution_count": 12,
   "metadata": {},
   "outputs": [
    {
     "data": {
      "text/plain": [
       "1925929"
      ]
     },
     "execution_count": 12,
     "metadata": {},
     "output_type": "execute_result"
    }
   ],
   "source": [
    "story_df.select(\"time_ts\").distinct().count()"
   ]
  },
  {
   "cell_type": "code",
   "execution_count": 119,
   "metadata": {},
   "outputs": [
    {
     "data": {
      "text/plain": [
       "['id', 'score', 'time_ts', 'title', 'url', 'text', 'descendants', 'author']"
      ]
     },
     "execution_count": 119,
     "metadata": {},
     "output_type": "execute_result"
    }
   ],
   "source": [
    "story_df.columns"
   ]
  },
  {
   "cell_type": "code",
   "execution_count": 120,
   "metadata": {},
   "outputs": [],
   "source": [
    "clean = spark.sql('select * from ini_story where time_ts is not NULL and descendants is not NULL and title is not NULL and author is not NULL and score is not NULL')\n"
   ]
  },
  {
   "cell_type": "code",
   "execution_count": 121,
   "metadata": {},
   "outputs": [
    {
     "data": {
      "text/plain": [
       "1701277"
      ]
     },
     "execution_count": 121,
     "metadata": {},
     "output_type": "execute_result"
    }
   ],
   "source": [
    "clean.count()"
   ]
  },
  {
   "cell_type": "code",
   "execution_count": 13,
   "metadata": {},
   "outputs": [],
   "source": [
    "clean_story_df = spark.sql('select * from ini_story where time_ts is not NULL and title is not NULL and author is not NULL and score is not NULL')\n",
    "clean_story_df.createOrReplaceTempView('story')"
   ]
  },
  {
   "cell_type": "code",
   "execution_count": 14,
   "metadata": {},
   "outputs": [],
   "source": [
    "url_df = spark.sql('select * from ini_story where url is not NULL and time_ts is not NULL and title is not NULL and author is not NULL and score is not NULL')"
   ]
  },
  {
   "cell_type": "code",
   "execution_count": 15,
   "metadata": {},
   "outputs": [],
   "source": [
    "url_df.createOrReplaceTempView('url')"
   ]
  },
  {
   "cell_type": "code",
   "execution_count": 17,
   "metadata": {},
   "outputs": [],
   "source": [
    "import re"
   ]
  },
  {
   "cell_type": "code",
   "execution_count": 18,
   "metadata": {},
   "outputs": [],
   "source": [
    "pattern = re.compile(r'([a-z]+).(com|net)')"
   ]
  },
  {
   "cell_type": "code",
   "execution_count": null,
   "metadata": {},
   "outputs": [],
   "source": [
    "re.findall(pattern, 'http://www.efficientsoftware.net/')"
   ]
  },
  {
   "cell_type": "code",
   "execution_count": 19,
   "metadata": {},
   "outputs": [],
   "source": [
    "sqlStatement = \"\"\"\n",
    "SELECT id, regexp_extract(url, '([a-z]+).(com|net|co|cn|org|ru|de|br|uk|pl|ir|it|in|fr|au|jp|info)', 1) as web\n",
    "FROM url \n",
    "\"\"\""
   ]
  },
  {
   "cell_type": "code",
   "execution_count": 20,
   "metadata": {},
   "outputs": [],
   "source": [
    "url_df1 = spark.sql(sqlStatement)"
   ]
  },
  {
   "cell_type": "code",
   "execution_count": 21,
   "metadata": {},
   "outputs": [
    {
     "name": "stdout",
     "output_type": "stream",
     "text": [
      "+-------+-----------------+\n",
      "|     id|              web|\n",
      "+-------+-----------------+\n",
      "|6940813|          youtube|\n",
      "|1531556|         blogspot|\n",
      "|5012398|      webscraping|\n",
      "|2606988|         blogspot|\n",
      "|4542754|     windowsphone|\n",
      "|4824675|       abiquolabs|\n",
      "|1120285|       datingsite|\n",
      "|5221577|        nobugware|\n",
      "|4827038|   allelectronics|\n",
      "|4481018|         blogspot|\n",
      "|7061983|efficientsoftware|\n",
      "|1215015|       technobuzz|\n",
      "|1505655|         zohmuomo|\n",
      "|4673231| gumrukmusaviritr|\n",
      "|1503352|       roadtickle|\n",
      "|1540745|      kronikmedia|\n",
      "|1370228|       fastessays|\n",
      "|5917267|     sextoysbrand|\n",
      "|5969633|    matthewaperry|\n",
      "| 124722|             blog|\n",
      "+-------+-----------------+\n",
      "only showing top 20 rows\n",
      "\n"
     ]
    }
   ],
   "source": [
    "url_df1.show()"
   ]
  },
  {
   "cell_type": "code",
   "execution_count": 22,
   "metadata": {
    "scrolled": true
   },
   "outputs": [],
   "source": [
    "url_df1.createOrReplaceTempView('url2')"
   ]
  },
  {
   "cell_type": "code",
   "execution_count": 23,
   "metadata": {},
   "outputs": [],
   "source": [
    "sqlStatement = \"\"\"\n",
    "SELECT web\n",
    "FROM url2\n",
    "WHERE web != ''\n",
    "\"\"\"\n",
    "url_df2 = spark.sql(sqlStatement)"
   ]
  },
  {
   "cell_type": "code",
   "execution_count": 24,
   "metadata": {},
   "outputs": [
    {
     "data": {
      "text/plain": [
       "1657898"
      ]
     },
     "execution_count": 24,
     "metadata": {},
     "output_type": "execute_result"
    }
   ],
   "source": [
    "url_df2.count()"
   ]
  },
  {
   "cell_type": "code",
   "execution_count": 25,
   "metadata": {},
   "outputs": [],
   "source": [
    "sqlStatement = \"\"\"\n",
    "SELECT COUNT(id) AS num, web\n",
    "FROM url2\n",
    "WHERE web != '' and web != 'www'\n",
    "GROUP BY web\n",
    "ORDER BY num DESC\n",
    "\"\"\"\n",
    "url_df3 = spark.sql(sqlStatement)"
   ]
  },
  {
   "cell_type": "code",
   "execution_count": 26,
   "metadata": {},
   "outputs": [
    {
     "name": "stdout",
     "output_type": "stream",
     "text": [
      "+-----+---------------+\n",
      "|  num|            web|\n",
      "+-----+---------------+\n",
      "|36296|         github|\n",
      "|30887|     techcrunch|\n",
      "|30856|        youtube|\n",
      "|28325|       blogspot|\n",
      "|27659|        nytimes|\n",
      "|18549|         medium|\n",
      "|17192|         google|\n",
      "|14755|            bbc|\n",
      "|13796|    arstechnica|\n",
      "|13624|          wired|\n",
      "|12499|      wordpress|\n",
      "| 8582|      wikipedia|\n",
      "| 8156|businessinsider|\n",
      "| 7434|         forbes|\n",
      "| 7276|             on|\n",
      "| 7183|           blog|\n",
      "| 7110|       mashable|\n",
      "| 7068|    venturebeat|\n",
      "| 6812|     thenextweb|\n",
      "| 6749|       theverge|\n",
      "+-----+---------------+\n",
      "only showing top 20 rows\n",
      "\n"
     ]
    }
   ],
   "source": [
    "url_df3.show()"
   ]
  },
  {
   "cell_type": "code",
   "execution_count": 27,
   "metadata": {},
   "outputs": [],
   "source": [
    "# story distribution in terms of time\n",
    "# What is the trend of story numbers from 2006-2016 in Hacker News?\n",
    "\n",
    "sqlStatement = \"\"\"\n",
    "SELECT COUNT(id) AS story_num, \n",
    "year(time_ts) as year\n",
    "FROM story\n",
    "GROUP BY year\n",
    "ORDER BY year\n",
    "\"\"\"\n",
    "story_time_df1 = spark.sql(sqlStatement)"
   ]
  },
  {
   "cell_type": "code",
   "execution_count": 28,
   "metadata": {},
   "outputs": [
    {
     "name": "stdout",
     "output_type": "stream",
     "text": [
      "+---------+----+\n",
      "|story_num|year|\n",
      "+---------+----+\n",
      "|       50|2006|\n",
      "|    21948|2007|\n",
      "|    68877|2008|\n",
      "|   109468|2009|\n",
      "|   175246|2010|\n",
      "|   285433|2011|\n",
      "|   305361|2012|\n",
      "|   303813|2013|\n",
      "|   287287|2014|\n",
      "|   250348|2015|\n",
      "+---------+----+\n",
      "\n"
     ]
    }
   ],
   "source": [
    "story_time_df1.show()"
   ]
  },
  {
   "cell_type": "code",
   "execution_count": 29,
   "metadata": {},
   "outputs": [],
   "source": [
    "# story distribution in terms of time\n",
    "# What is the most popular/active time during a day in pubulishing a story?\n",
    "\n",
    "sqlStatement = \"\"\"\n",
    "SELECT COUNT(id) AS story_num, \n",
    "hour(time_ts) as hour\n",
    "FROM story\n",
    "GROUP BY hour\n",
    "ORDER BY story_num DESC\n",
    "\"\"\"\n",
    "story_time_df2 = spark.sql(sqlStatement)"
   ]
  },
  {
   "cell_type": "code",
   "execution_count": 30,
   "metadata": {},
   "outputs": [
    {
     "name": "stdout",
     "output_type": "stream",
     "text": [
      "+---------+----+\n",
      "|story_num|hour|\n",
      "+---------+----+\n",
      "|   118330|  16|\n",
      "|   116519|  17|\n",
      "|   114846|  15|\n",
      "|   111187|  18|\n",
      "|   107289|  14|\n",
      "|   101710|  19|\n",
      "|    95143|  20|\n",
      "|    92281|  13|\n",
      "|    87559|  21|\n",
      "|    75879|  12|\n",
      "|    75403|  22|\n",
      "|    64806|  23|\n",
      "|    62944|  11|\n",
      "|    58054|   0|\n",
      "|    55560|  10|\n",
      "|    54969|   1|\n",
      "|    54117|   9|\n",
      "|    53419|   2|\n",
      "|    52016|   3|\n",
      "|    51697|   6|\n",
      "|    51264|   8|\n",
      "|    51254|   4|\n",
      "|    50800|   7|\n",
      "|    50785|   5|\n",
      "+---------+----+\n",
      "\n"
     ]
    }
   ],
   "source": [
    "story_time_df2.show(24)"
   ]
  },
  {
   "cell_type": "code",
   "execution_count": 31,
   "metadata": {},
   "outputs": [
    {
     "data": {
      "text/plain": [
       "[Row(min(score)=0, max(score)=4339, avg(score)=10.405862605520095)]"
      ]
     },
     "execution_count": 31,
     "metadata": {},
     "output_type": "execute_result"
    }
   ],
   "source": [
    "# score information\n",
    "# what is the average score of those story?\n",
    "spark.sql(\"select min(score),max(score),avg(score) from story\").collect()"
   ]
  },
  {
   "cell_type": "code",
   "execution_count": 32,
   "metadata": {},
   "outputs": [],
   "source": [
    "# author/user information \n",
    "# decending by total_score \n",
    "sqlStatement = \"\"\"SELECT SUM(score) as total_score,author,\n",
    "SUM(descendants) as total_decendants,\n",
    "count(id) as total_stories\n",
    "FROM story\n",
    "GROUP BY author\n",
    "ORDER BY total_score DESC\n",
    "LIMIT 20\n",
    "\"\"\"\n",
    "user_df = spark.sql(sqlStatement)\n",
    "#user_df.createOrReplaceTempView(\"user\")"
   ]
  },
  {
   "cell_type": "code",
   "execution_count": 33,
   "metadata": {
    "scrolled": true
   },
   "outputs": [
    {
     "name": "stdout",
     "output_type": "stream",
     "text": [
      "+-----------+-----------+----------------+-------------+\n",
      "|total_score|     author|total_decendants|total_stories|\n",
      "+-----------+-----------+----------------+-------------+\n",
      "|      76851|ColinWright|           30700|         3726|\n",
      "|      64156| shawndumas|           25926|         6585|\n",
      "|      59958|    llambda|           20324|         2595|\n",
      "|      56798|      fogus|           21136|         2412|\n",
      "|      53452|      danso|           22792|         2610|\n",
      "|      52701|       cwan|           24067|         7059|\n",
      "|      51836|        luu|           19713|         2265|\n",
      "|      49003|  ssclafani|           24026|         1324|\n",
      "|      41601|      evo_9|           16215|         5635|\n",
      "|      41256| Libertatea|           18950|         2238|\n",
      "+-----------+-----------+----------------+-------------+\n",
      "only showing top 10 rows\n",
      "\n"
     ]
    }
   ],
   "source": [
    "user_df.show(10)"
   ]
  },
  {
   "cell_type": "code",
   "execution_count": 34,
   "metadata": {},
   "outputs": [],
   "source": [
    "# author/user information \n",
    "# decending by total_stories \n",
    "sqlStatement = \"\"\"SELECT SUM(score) as total_score, author,\n",
    "SUM(descendants) as total_decendants,\n",
    "count(id) as total_stories\n",
    "FROM story\n",
    "GROUP BY author\n",
    "ORDER BY total_stories DESC\n",
    "LIMIT 20\n",
    "\"\"\"\n",
    "user_df2 = spark.sql(sqlStatement)"
   ]
  },
  {
   "cell_type": "code",
   "execution_count": 35,
   "metadata": {
    "scrolled": true
   },
   "outputs": [
    {
     "name": "stdout",
     "output_type": "stream",
     "text": [
      "+-----------+-----------+----------------+-------------+\n",
      "|total_score|     author|total_decendants|total_stories|\n",
      "+-----------+-----------+----------------+-------------+\n",
      "|      52701|       cwan|           24067|         7059|\n",
      "|      64156| shawndumas|           25926|         6585|\n",
      "|      41601|      evo_9|           16215|         5635|\n",
      "|      29477|      nickb|           11804|         4303|\n",
      "|      26431|   iProject|           11759|         4262|\n",
      "|      28454|   bootload|           11351|         4158|\n",
      "|      29598|     edw519|           13726|         3823|\n",
      "|      76851|ColinWright|           30700|         3726|\n",
      "|      29806|     nreece|           12554|         3713|\n",
      "|      36511| tokenadult|           20190|         3634|\n",
      "+-----------+-----------+----------------+-------------+\n",
      "only showing top 10 rows\n",
      "\n"
     ]
    }
   ],
   "source": [
    "user_df2.show(10)"
   ]
  },
  {
   "cell_type": "code",
   "execution_count": 36,
   "metadata": {},
   "outputs": [],
   "source": [
    "# author/user information \n",
    "# decending by avg_score \n",
    "sqlStatement = \"\"\"SELECT SUM(score) as total_score, author,\n",
    "SUM(descendants) as total_decendants, SUM(score)/count(id) as avg_score,\n",
    "count(id) as total_stories\n",
    "FROM story\n",
    "GROUP BY author\n",
    "ORDER BY avg_score DESC\n",
    "LIMIT 20\n",
    "\"\"\"\n",
    "user_df3 = spark.sql(sqlStatement)"
   ]
  },
  {
   "cell_type": "code",
   "execution_count": 37,
   "metadata": {
    "scrolled": true
   },
   "outputs": [
    {
     "name": "stdout",
     "output_type": "stream",
     "text": [
      "+-----------+---------------+----------------+---------+-------------+\n",
      "|total_score|         author|total_decendants|avg_score|total_stories|\n",
      "+-----------+---------------+----------------+---------+-------------+\n",
      "|       1543|    realfuncode|             526|   1543.0|            1|\n",
      "|       2905|     frederfred|             412|   1452.5|            2|\n",
      "|       1344| themanthatfell|             407|   1344.0|            1|\n",
      "|       1282|          rcina|             249|   1282.0|            1|\n",
      "|       1257|         kvargs|             558|   1257.0|            1|\n",
      "|       1248|        mmebane|             267|   1248.0|            1|\n",
      "|       1227|FlemishBeeCycle|             444|   1227.0|            1|\n",
      "|       1172|     hannahmitt|             136|   1172.0|            1|\n",
      "|       1125|  afraidofadria|             985|   1125.0|            1|\n",
      "|       4354|   patricktomas|             385|   1088.5|            4|\n",
      "+-----------+---------------+----------------+---------+-------------+\n",
      "only showing top 10 rows\n",
      "\n"
     ]
    }
   ],
   "source": [
    "user_df3.show(10)"
   ]
  },
  {
   "cell_type": "code",
   "execution_count": 38,
   "metadata": {},
   "outputs": [],
   "source": [
    "# if there is bias on YC\n",
    "sqlStatement = \"\"\"\n",
    "SELECT score, title,id\n",
    "FROM `story`\n",
    "WHERE title like \"%Y Combinator%\" or title like \"%YCombinator%\" or title like \"%ycombinator%\" or title like \"%y combinator%\"\n",
    "ORDER BY score  DESC\n",
    "\"\"\"\n",
    "YC_df = spark.sql(sqlStatement)"
   ]
  },
  {
   "cell_type": "code",
   "execution_count": 39,
   "metadata": {},
   "outputs": [
    {
     "name": "stdout",
     "output_type": "stream",
     "text": [
      "+-----+--------------------+--------+\n",
      "|score|               title|      id|\n",
      "+-----+--------------------+--------+\n",
      "| 1065|Y Combinator is f...| 5059806|\n",
      "|  841|Y Combinator has ...| 8033322|\n",
      "|  705|Meet Watsi, Y Com...| 5117385|\n",
      "|  687|New: Apply to Y C...| 3700712|\n",
      "|  634|I Am Sam Altman, ...| 9238839|\n",
      "|  589|How I Got Kicked ...| 2208155|\n",
      "|  550|Benefits matter, ...| 5409273|\n",
      "|  549|What Happens At Y...| 1733236|\n",
      "|  542|How Y Combinator ...| 3711008|\n",
      "|  506|Y Combinator Numbers| 2608440|\n",
      "|  432|New Y Combinator ...| 7972138|\n",
      "|  425|Yuri Milner, SV A...| 2154706|\n",
      "|  380|Y Combinator And ...| 8178450|\n",
      "|  379|How I Crashed and...| 8867335|\n",
      "|  368|Early Photos of Y...| 2942958|\n",
      "|  366|Investment Firm Y...| 3492711|\n",
      "|  344|Y Combinator anno...| 1898432|\n",
      "|  342|Offer HN now at n...| 1840060|\n",
      "|  337|A note I sent to ...| 4273460|\n",
      "|  336|I am Sam Altman, ...|10360911|\n",
      "+-----+--------------------+--------+\n",
      "only showing top 20 rows\n",
      "\n"
     ]
    }
   ],
   "source": [
    "YC_df.distinct().show()"
   ]
  },
  {
   "cell_type": "code",
   "execution_count": 40,
   "metadata": {},
   "outputs": [],
   "source": [
    "# stories of major companies over the year\n",
    "# apple\n",
    "sqlStatement = \"\"\"\n",
    "SELECT count(*) as total_stories, SUM(score) as total_score,\n",
    "year(time_ts) as year\n",
    "FROM story\n",
    "WHERE title like \"%apple%\" or title like \"%APPLE\" or title like \"%Apple\"\n",
    "GROUP BY year\n",
    "ORDER BY year\n",
    "\"\"\"\n",
    "Comp_df1 = spark.sql(sqlStatement)"
   ]
  },
  {
   "cell_type": "code",
   "execution_count": 41,
   "metadata": {},
   "outputs": [
    {
     "name": "stdout",
     "output_type": "stream",
     "text": [
      "+-------------+-----------+----+\n",
      "|total_stories|total_score|year|\n",
      "+-------------+-----------+----+\n",
      "|            1|          7|2006|\n",
      "|           28|        109|2007|\n",
      "|           43|        324|2008|\n",
      "|           86|        780|2009|\n",
      "|          194|       1964|2010|\n",
      "|          348|       5316|2011|\n",
      "|          382|       4883|2012|\n",
      "|          280|       2345|2013|\n",
      "|          203|       2302|2014|\n",
      "|          168|       3672|2015|\n",
      "+-------------+-----------+----+\n",
      "\n"
     ]
    }
   ],
   "source": [
    "Comp_df1.distinct().show()"
   ]
  },
  {
   "cell_type": "code",
   "execution_count": 42,
   "metadata": {},
   "outputs": [],
   "source": [
    "# stories of major companies over the year\n",
    "# google\n",
    "sqlStatement = \"\"\"\n",
    "SELECT count(*) as total_stories, SUM(score) as total_score,\n",
    "year(time_ts) as year\n",
    "FROM story\n",
    "WHERE title like \"%google%\" or title like \"%GOOGLE\" or title like \"%Google\"\n",
    "GROUP BY year\n",
    "ORDER BY year\n",
    "\"\"\"\n",
    "Comp_df2 = spark.sql(sqlStatement)"
   ]
  },
  {
   "cell_type": "code",
   "execution_count": 43,
   "metadata": {},
   "outputs": [
    {
     "name": "stdout",
     "output_type": "stream",
     "text": [
      "+-------------+-----------+----+\n",
      "|total_stories|total_score|year|\n",
      "+-------------+-----------+----+\n",
      "|            1|          1|2006|\n",
      "|          102|        514|2007|\n",
      "|          190|       1192|2008|\n",
      "|          428|       3376|2009|\n",
      "|          553|       6938|2010|\n",
      "|          506|       9489|2011|\n",
      "|          461|       7592|2012|\n",
      "|          478|      10844|2013|\n",
      "|          432|       7835|2014|\n",
      "|          369|       9247|2015|\n",
      "+-------------+-----------+----+\n",
      "\n"
     ]
    }
   ],
   "source": [
    "Comp_df2.distinct().show()"
   ]
  },
  {
   "cell_type": "code",
   "execution_count": 44,
   "metadata": {},
   "outputs": [],
   "source": [
    "# stories of major companies over the year\n",
    "# uber\n",
    "sqlStatement = \"\"\"\n",
    "SELECT count(*) as total_stories, SUM(score) as total_score,\n",
    "year(time_ts) as year\n",
    "FROM story\n",
    "WHERE title like \"%uber%\" or title like \"%UBER\" or title like \"%Uber\"\n",
    "GROUP BY year\n",
    "ORDER BY year\n",
    "\"\"\"\n",
    "Comp_df3 = spark.sql(sqlStatement)"
   ]
  },
  {
   "cell_type": "code",
   "execution_count": 45,
   "metadata": {},
   "outputs": [
    {
     "name": "stdout",
     "output_type": "stream",
     "text": [
      "+-------------+-----------+----+\n",
      "|total_stories|total_score|year|\n",
      "+-------------+-----------+----+\n",
      "|            3|          3|2007|\n",
      "|           22|        202|2008|\n",
      "|           23|        957|2009|\n",
      "|           59|       1110|2010|\n",
      "|           69|        966|2011|\n",
      "|           58|        874|2012|\n",
      "|           67|        523|2013|\n",
      "|          244|       2743|2014|\n",
      "|          302|       3301|2015|\n",
      "+-------------+-----------+----+\n",
      "\n"
     ]
    }
   ],
   "source": [
    "Comp_df3.distinct().show()"
   ]
  },
  {
   "cell_type": "code",
   "execution_count": null,
   "metadata": {},
   "outputs": [],
   "source": []
  },
  {
   "cell_type": "code",
   "execution_count": null,
   "metadata": {},
   "outputs": [],
   "source": []
  },
  {
   "cell_type": "code",
   "execution_count": null,
   "metadata": {},
   "outputs": [],
   "source": []
  },
  {
   "cell_type": "markdown",
   "metadata": {},
   "source": [
    "# 2. COMMENTS"
   ]
  },
  {
   "cell_type": "code",
   "execution_count": 46,
   "metadata": {},
   "outputs": [],
   "source": [
    "# read in the dataset comments\n",
    "data_df2 = spark.read\\\n",
    "  .format('csv')\\\n",
    "  .option('header', 'true')\\\n",
    "  .option('inferSchema', 'true')\\\n",
    "  .load('s3://chingsez/Final/comments.csv')"
   ]
  },
  {
   "cell_type": "code",
   "execution_count": 47,
   "metadata": {},
   "outputs": [
    {
     "name": "stdout",
     "output_type": "stream",
     "text": [
      "+--------------------+-------+------+----------+--------------------+--------------------+--------------------+--------------------+-------+-------+\n",
      "|                  id|     by|author|      time|             time_ts|                text|              parent|             deleted|   dead|ranking|\n",
      "+--------------------+-------+------+----------+--------------------+--------------------+--------------------+--------------------+-------+-------+\n",
      "|             2701393|     5l|    5l|1309184881|2011-06-27 14:28:...|And the glazier w...|             2701243|                null|   null|      0|\n",
      "|             5811403|     99|    99|1370234048|2013-06-03 04:34:...|Does canada have ...|             5804452|                null|   null|      0|\n",
      "|               21623|     AF|    AF|1178992400|2007-05-12 17:53:...|\"Speaking of Rail...|               21611|                null|   null|      0|\n",
      "|            10159727|     EA|    EA|1441206574|2015-09-02 15:09:...|Humans and large ...|            10159396|                null|   null|      0|\n",
      "|             2988424|     Iv|    Iv|1315853580|2011-09-12 18:53:...|I must say I reac...|             2988179|                null|   null|      0|\n",
      "|             3867418|     Iv|    Iv|1334921984|2012-04-20 11:39:...|&#62; There's a w...|             3867404|                null|   null|      0|\n",
      "|             3925617|     Iv|    Iv|1336076765|2012-05-03 20:26:...|I'm also in this ...|             3924840|                null|   null|      0|\n",
      "|             3107534|     Iv|    Iv|1318520044|2011-10-13 15:34:...|how do you run un...|                null|                null|   null|   null|\n",
      "|It has always ref...|3107241|  null|      null|                   0|                null|                null|                null|   null|   null|\n",
      "|             8409259|     Iv|    Iv|1412421647|2014-10-04 11:20:...|Polio is not exte...|             8409226|                null|   null|      0|\n",
      "|             2855741|     Jd|    Jd|1312690646|2011-08-07 04:17:...|\"Yep, I didn't fi...| but nothing that...| it may not be th...|2855343|   null|\n",
      "|               50570|     Jd|    Jd|1189011845|2007-09-05 17:04:...|It was a risky jo...|               50556|                null|   null|      0|\n",
      "|             2600618|     Jd|    Jd|1306794854|2011-05-30 22:34:...|\"Looks good, ther...|             2600609|                null|   null|      0|\n",
      "|             2600423|     Jd|    Jd|1306789205|2011-05-30 21:00:...|A bit, but so muc...|             2599323|                null|   null|      0|\n",
      "|             1983932|     Jd|    Jd|1291831945|2010-12-08 18:12:...|I also agree with...|             1979965|                null|   null|      0|\n",
      "|             5824036|     Jd|    Jd|1370414140|2013-06-05 06:35:...|Sadly doesn't pro...|             5824021|                null|   null|      0|\n",
      "|               73111|     Jd|    Jd|1193467001|2007-10-27 06:36:...|Feferman usefully...|               73107|                null|   null|      0|\n",
      "|             4569290|     Jd|    Jd|1348562302|2012-09-25 08:38:...|\"Here are my take...|             4569255|                null|   null|      0|\n",
      "|              319968|     KB|    KB|1222805047|2008-09-30 20:04:...|\"You may find a f...|              319943|                null|   null|      0|\n",
      "|             9699296|     M8|    M8|1434026580|2015-06-11 12:43:...|       For instance?|             9698927|                null|   null|      0|\n",
      "+--------------------+-------+------+----------+--------------------+--------------------+--------------------+--------------------+-------+-------+\n",
      "only showing top 20 rows\n",
      "\n"
     ]
    }
   ],
   "source": [
    "data_df2.show()"
   ]
  },
  {
   "cell_type": "code",
   "execution_count": 48,
   "metadata": {},
   "outputs": [
    {
     "name": "stdout",
     "output_type": "stream",
     "text": [
      "root\n",
      " |-- id: string (nullable = true)\n",
      " |-- by: string (nullable = true)\n",
      " |-- author: string (nullable = true)\n",
      " |-- time: string (nullable = true)\n",
      " |-- time_ts: string (nullable = true)\n",
      " |-- text: string (nullable = true)\n",
      " |-- parent: string (nullable = true)\n",
      " |-- deleted: string (nullable = true)\n",
      " |-- dead: string (nullable = true)\n",
      " |-- ranking: string (nullable = true)\n",
      "\n"
     ]
    }
   ],
   "source": [
    "data_df2.printSchema()"
   ]
  },
  {
   "cell_type": "code",
   "execution_count": 49,
   "metadata": {},
   "outputs": [
    {
     "data": {
      "text/plain": [
       "9796725"
      ]
     },
     "execution_count": 49,
     "metadata": {},
     "output_type": "execute_result"
    }
   ],
   "source": [
    "data_df2.count()"
   ]
  },
  {
   "cell_type": "code",
   "execution_count": 50,
   "metadata": {},
   "outputs": [],
   "source": [
    "from pyspark.sql.types import IntegerType\n",
    "from pyspark.sql.types import DoubleType\n",
    "\n",
    "comment_df = data_df2.select(\n",
    "                     data_df2['id'].cast(IntegerType()),                    \n",
    "                     data_df2['time_ts'].cast('timestamp'),                  \n",
    "                     data_df2['text'],\n",
    "                     data_df2['parent'].cast(IntegerType()),\n",
    "                     #data_df2['deleted'],\n",
    "                     #data_df2['dead'],\n",
    "                     data_df2['author'],\n",
    "                     data_df2['ranking'].cast(IntegerType())\n",
    "\n",
    "                             )"
   ]
  },
  {
   "cell_type": "code",
   "execution_count": 51,
   "metadata": {},
   "outputs": [
    {
     "name": "stdout",
     "output_type": "stream",
     "text": [
      "root\n",
      " |-- id: integer (nullable = true)\n",
      " |-- time_ts: timestamp (nullable = true)\n",
      " |-- text: string (nullable = true)\n",
      " |-- parent: integer (nullable = true)\n",
      " |-- author: string (nullable = true)\n",
      " |-- ranking: integer (nullable = true)\n",
      "\n"
     ]
    }
   ],
   "source": [
    "comment_df.printSchema()"
   ]
  },
  {
   "cell_type": "code",
   "execution_count": 52,
   "metadata": {},
   "outputs": [
    {
     "name": "stdout",
     "output_type": "stream",
     "text": [
      "+--------+-------------------+--------------------+--------+------+-------+\n",
      "|      id|            time_ts|                text|  parent|author|ranking|\n",
      "+--------+-------------------+--------------------+--------+------+-------+\n",
      "| 2701393|2011-06-27 14:28:01|And the glazier w...| 2701243|    5l|      0|\n",
      "| 5811403|2013-06-03 04:34:08|Does canada have ...| 5804452|    99|      0|\n",
      "|   21623|2007-05-12 17:53:20|\"Speaking of Rail...|   21611|    AF|      0|\n",
      "|10159727|2015-09-02 15:09:34|Humans and large ...|10159396|    EA|      0|\n",
      "| 2988424|2011-09-12 18:53:00|I must say I reac...| 2988179|    Iv|      0|\n",
      "| 3867418|2012-04-20 11:39:44|&#62; There's a w...| 3867404|    Iv|      0|\n",
      "| 3925617|2012-05-03 20:26:05|I'm also in this ...| 3924840|    Iv|      0|\n",
      "| 3107534|2011-10-13 15:34:04|how do you run un...|    null|    Iv|   null|\n",
      "|    null|               null|                null|    null|  null|   null|\n",
      "| 8409259|2014-10-04 11:20:47|Polio is not exte...| 8409226|    Iv|      0|\n",
      "+--------+-------------------+--------------------+--------+------+-------+\n",
      "only showing top 10 rows\n",
      "\n"
     ]
    }
   ],
   "source": [
    "comment_df.show(10)"
   ]
  },
  {
   "cell_type": "code",
   "execution_count": 53,
   "metadata": {},
   "outputs": [],
   "source": [
    "comment_df.createOrReplaceTempView('ini_comment')"
   ]
  },
  {
   "cell_type": "code",
   "execution_count": 54,
   "metadata": {},
   "outputs": [
    {
     "data": {
      "text/plain": [
       "8399564"
      ]
     },
     "execution_count": 54,
     "metadata": {},
     "output_type": "execute_result"
    }
   ],
   "source": [
    "comment_df.select(\"id\").distinct().count()"
   ]
  },
  {
   "cell_type": "code",
   "execution_count": 55,
   "metadata": {},
   "outputs": [],
   "source": [
    "clean_comment_df = spark.sql('select * from ini_comment where id is not NULL and time_ts is not NULL and text is not NULL and author is not NULL and ranking is not NULL')\n",
    "clean_comment_df.createOrReplaceTempView('comment')"
   ]
  },
  {
   "cell_type": "code",
   "execution_count": 56,
   "metadata": {},
   "outputs": [
    {
     "data": {
      "text/plain": [
       "6986995"
      ]
     },
     "execution_count": 56,
     "metadata": {},
     "output_type": "execute_result"
    }
   ],
   "source": [
    "clean_comment_df.count()"
   ]
  },
  {
   "cell_type": "code",
   "execution_count": 57,
   "metadata": {},
   "outputs": [
    {
     "name": "stdout",
     "output_type": "stream",
     "text": [
      "+--------+-------------------+--------------------+--------+------+-------+\n",
      "|      id|            time_ts|                text|  parent|author|ranking|\n",
      "+--------+-------------------+--------------------+--------+------+-------+\n",
      "| 2701393|2011-06-27 14:28:01|And the glazier w...| 2701243|    5l|      0|\n",
      "| 5811403|2013-06-03 04:34:08|Does canada have ...| 5804452|    99|      0|\n",
      "|   21623|2007-05-12 17:53:20|\"Speaking of Rail...|   21611|    AF|      0|\n",
      "|10159727|2015-09-02 15:09:34|Humans and large ...|10159396|    EA|      0|\n",
      "| 2988424|2011-09-12 18:53:00|I must say I reac...| 2988179|    Iv|      0|\n",
      "| 3867418|2012-04-20 11:39:44|&#62; There's a w...| 3867404|    Iv|      0|\n",
      "| 3925617|2012-05-03 20:26:05|I'm also in this ...| 3924840|    Iv|      0|\n",
      "| 8409259|2014-10-04 11:20:47|Polio is not exte...| 8409226|    Iv|      0|\n",
      "|   50570|2007-09-05 17:04:05|It was a risky jo...|   50556|    Jd|      0|\n",
      "| 2600618|2011-05-30 22:34:14|\"Looks good, ther...| 2600609|    Jd|      0|\n",
      "+--------+-------------------+--------------------+--------+------+-------+\n",
      "only showing top 10 rows\n",
      "\n"
     ]
    }
   ],
   "source": [
    "clean_comment_df.show(10)"
   ]
  },
  {
   "cell_type": "code",
   "execution_count": 58,
   "metadata": {},
   "outputs": [],
   "source": [
    "# comment author/user information \n",
    "# who are the most contributive authors in Hacker News ?\n",
    "## futhur to be done——can be joined with the most contirbutive authors in story\n",
    "\n",
    "sqlStatement = \"\"\"SELECT author,\n",
    "        COUNT(id) AS total_comments\n",
    "        From comment\n",
    "        GROUP BY author\n",
    "        ORDER BY total_comments DESC\n",
    "        LIMIT 20\n",
    "\"\"\"\n",
    "comment_user_df = spark.sql(sqlStatement)"
   ]
  },
  {
   "cell_type": "code",
   "execution_count": 59,
   "metadata": {},
   "outputs": [
    {
     "name": "stdout",
     "output_type": "stream",
     "text": [
      "+------------+--------------+\n",
      "|      author|total_comments|\n",
      "+------------+--------------+\n",
      "|     tptacek|         28605|\n",
      "|    jacquesm|         19845|\n",
      "|       DanBC|         10992|\n",
      "|    jrockway|         10679|\n",
      "|   anigbrowl|         10490|\n",
      "|dragonwriter|         10203|\n",
      "|         eru|          9979|\n",
      "|     rbanffy|          9634|\n",
      "|       sp332|          9547|\n",
      "|     rayiner|          9403|\n",
      "+------------+--------------+\n",
      "only showing top 10 rows\n",
      "\n"
     ]
    }
   ],
   "source": [
    "# show top 10\n",
    "comment_user_df.show(10)"
   ]
  },
  {
   "cell_type": "code",
   "execution_count": 60,
   "metadata": {},
   "outputs": [],
   "source": [
    "# comment distribution in terms of time\n",
    "# What is the trend of comment numbers from 2006-2016 in Hacker News?\n",
    "\n",
    "sqlStatement = \"\"\"\n",
    "SELECT COUNT(id) AS comment_num, \n",
    "year(time_ts) as year\n",
    "FROM comment\n",
    "GROUP BY year\n",
    "ORDER BY year\n",
    "\"\"\"\n",
    "comment_time_df2 = spark.sql(sqlStatement)"
   ]
  },
  {
   "cell_type": "code",
   "execution_count": 61,
   "metadata": {},
   "outputs": [
    {
     "name": "stdout",
     "output_type": "stream",
     "text": [
      "+-----------+----+\n",
      "|comment_num|year|\n",
      "+-----------+----+\n",
      "|         10|2006|\n",
      "|      50982|2007|\n",
      "|     195678|2008|\n",
      "|     382490|2009|\n",
      "|     658846|2010|\n",
      "|     816999|2011|\n",
      "|     975306|2012|\n",
      "|    1415381|2013|\n",
      "|    1348324|2014|\n",
      "|    1142979|2015|\n",
      "+-----------+----+\n",
      "\n"
     ]
    }
   ],
   "source": [
    "comment_time_df2.show()"
   ]
  },
  {
   "cell_type": "code",
   "execution_count": 62,
   "metadata": {},
   "outputs": [],
   "source": [
    "# comment distribution in terms of time\n",
    "# What is the most popular/active time during a day in pubulishing a comment?\n",
    "\n",
    "sqlStatement = \"\"\"\n",
    "SELECT COUNT(id) AS comment_num, \n",
    "hour(time_ts) as hour\n",
    "FROM comment\n",
    "GROUP BY hour\n",
    "ORDER BY comment_num DESC\n",
    "\"\"\"\n",
    "comment_time_df = spark.sql(sqlStatement)"
   ]
  },
  {
   "cell_type": "code",
   "execution_count": 63,
   "metadata": {},
   "outputs": [
    {
     "name": "stdout",
     "output_type": "stream",
     "text": [
      "+-----------+----+\n",
      "|comment_num|hour|\n",
      "+-----------+----+\n",
      "|     451259|  17|\n",
      "|     450094|  18|\n",
      "|     437369|  16|\n",
      "|     433640|  19|\n",
      "|     421504|  20|\n",
      "|     413518|  15|\n",
      "|     398429|  21|\n",
      "|     365798|  14|\n",
      "|     353708|  22|\n",
      "|     313262|  23|\n",
      "|     295136|  13|\n",
      "|     276703|   0|\n",
      "|     251256|   1|\n",
      "|     236036|   2|\n",
      "|     224956|   3|\n",
      "|     224367|  12|\n",
      "|     210740|   4|\n",
      "|     192913|   5|\n",
      "|     180795|   6|\n",
      "|     180141|  11|\n",
      "|     172147|   7|\n",
      "|     170884|   8|\n",
      "|     168104|   9|\n",
      "|     164236|  10|\n",
      "+-----------+----+\n",
      "\n"
     ]
    }
   ],
   "source": [
    "comment_time_df.show(24)"
   ]
  },
  {
   "cell_type": "code",
   "execution_count": 64,
   "metadata": {},
   "outputs": [],
   "source": [
    "# top(the hottest) comments with the most follow-up comment \n",
    "sqlStatement = \"\"\"\n",
    "SELECT COUNT(id) AS followup_num, \n",
    "parent\n",
    "FROM comment\n",
    "WHERE parent is not NULL\n",
    "GROUP BY parent\n",
    "ORDER BY followup_num DESC\n",
    "LIMIT 20\n",
    "\"\"\"\n",
    "comment_parent_df1 = spark.sql(sqlStatement)"
   ]
  },
  {
   "cell_type": "code",
   "execution_count": 65,
   "metadata": {},
   "outputs": [
    {
     "name": "stdout",
     "output_type": "stream",
     "text": [
      "+------------+--------+\n",
      "|followup_num|  parent|\n",
      "+------------+--------+\n",
      "|         975|     363|\n",
      "|         266| 7469115|\n",
      "|         266| 9996333|\n",
      "|         264| 9238839|\n",
      "|         262| 9812245|\n",
      "|         243| 7445761|\n",
      "|         241|10152809|\n",
      "|         239|  752262|\n",
      "|         234| 9471287|\n",
      "|         228| 9303396|\n",
      "+------------+--------+\n",
      "only showing top 10 rows\n",
      "\n"
     ]
    }
   ],
   "source": [
    "# show top 10\n",
    "comment_parent_df1.show(10)"
   ]
  },
  {
   "cell_type": "code",
   "execution_count": 66,
   "metadata": {},
   "outputs": [
    {
     "data": {
      "text/plain": [
       "[Row(min(ranking)=-1051, max(ranking)=1131019295, avg(ranking)=58481.1891668736)]"
      ]
     },
     "execution_count": 66,
     "metadata": {},
     "output_type": "execute_result"
    }
   ],
   "source": [
    "# ranking information\n",
    "# what is the average ranking of those comments?\n",
    "\n",
    "spark.sql(\"select min(ranking),max(ranking),avg(ranking) from comment\").collect()"
   ]
  },
  {
   "cell_type": "code",
   "execution_count": 67,
   "metadata": {},
   "outputs": [],
   "source": [
    "# author/user's ranking information decending by avg ranking \n",
    "# who has the highest avg ranking?\n",
    "\n",
    "sqlStatement = \"\"\"SELECT avg(ranking) as avg_ranking,author,\n",
    "count(id) as total_comment\n",
    "FROM comment\n",
    "GROUP BY author\n",
    "ORDER BY avg(ranking) DESC\n",
    "LIMIT 20\n",
    "\"\"\"\n",
    "comment_user_df1 = spark.sql(sqlStatement)"
   ]
  },
  {
   "cell_type": "code",
   "execution_count": 68,
   "metadata": {},
   "outputs": [
    {
     "name": "stdout",
     "output_type": "stream",
     "text": [
      "+--------------------+------------+-------------+\n",
      "|         avg_ranking|      author|total_comment|\n",
      "+--------------------+------------+-------------+\n",
      "|         2.0630034E7|AretNCarlsen|           56|\n",
      "|1.5151532969696969E7|     dedalus|           66|\n",
      "|         1.0360911E7|      pratim|            1|\n",
      "|         1.0359641E7|    vmuhonen|            1|\n",
      "|           1.03454E7|   scopesoft|            1|\n",
      "|         1.0288613E7|  FlexMonkey|            1|\n",
      "|         1.0277638E7|   Jimbobian|            1|\n",
      "|         1.0275866E7| waynebeaton|            1|\n",
      "|         1.0250132E7| anonttttttt|            1|\n",
      "|         1.0230206E7|      bduhan|            1|\n",
      "+--------------------+------------+-------------+\n",
      "only showing top 10 rows\n",
      "\n"
     ]
    }
   ],
   "source": [
    "# show top 10\n",
    "comment_user_df1.show(10)"
   ]
  },
  {
   "cell_type": "code",
   "execution_count": null,
   "metadata": {},
   "outputs": [],
   "source": [
    "\n",
    "\n"
   ]
  },
  {
   "cell_type": "code",
   "execution_count": 69,
   "metadata": {},
   "outputs": [],
   "source": []
  },
  {
   "cell_type": "code",
   "execution_count": null,
   "metadata": {},
   "outputs": [],
   "source": []
  },
  {
   "cell_type": "code",
   "execution_count": 70,
   "metadata": {},
   "outputs": [],
   "source": [
    "clean_comment_df.createOrReplaceTempView('tmp')"
   ]
  },
  {
   "cell_type": "code",
   "execution_count": 71,
   "metadata": {},
   "outputs": [],
   "source": [
    "test = spark.sql('select * from tmp limit 200')"
   ]
  },
  {
   "cell_type": "code",
   "execution_count": 72,
   "metadata": {},
   "outputs": [
    {
     "name": "stdout",
     "output_type": "stream",
     "text": [
      "+--------+-------------------+--------------------+--------+------+-------+\n",
      "|      id|            time_ts|                text|  parent|author|ranking|\n",
      "+--------+-------------------+--------------------+--------+------+-------+\n",
      "| 2701393|2011-06-27 14:28:01|And the glazier w...| 2701243|    5l|      0|\n",
      "| 5811403|2013-06-03 04:34:08|Does canada have ...| 5804452|    99|      0|\n",
      "|   21623|2007-05-12 17:53:20|\"Speaking of Rail...|   21611|    AF|      0|\n",
      "|10159727|2015-09-02 15:09:34|Humans and large ...|10159396|    EA|      0|\n",
      "| 2988424|2011-09-12 18:53:00|I must say I reac...| 2988179|    Iv|      0|\n",
      "| 3867418|2012-04-20 11:39:44|&#62; There's a w...| 3867404|    Iv|      0|\n",
      "| 3925617|2012-05-03 20:26:05|I'm also in this ...| 3924840|    Iv|      0|\n",
      "| 8409259|2014-10-04 11:20:47|Polio is not exte...| 8409226|    Iv|      0|\n",
      "|   50570|2007-09-05 17:04:05|It was a risky jo...|   50556|    Jd|      0|\n",
      "| 2600618|2011-05-30 22:34:14|\"Looks good, ther...| 2600609|    Jd|      0|\n",
      "| 2600423|2011-05-30 21:00:05|A bit, but so muc...| 2599323|    Jd|      0|\n",
      "| 1983932|2010-12-08 18:12:25|I also agree with...| 1979965|    Jd|      0|\n",
      "| 5824036|2013-06-05 06:35:40|Sadly doesn't pro...| 5824021|    Jd|      0|\n",
      "|   73111|2007-10-27 06:36:41|Feferman usefully...|   73107|    Jd|      0|\n",
      "| 4569290|2012-09-25 08:38:22|\"Here are my take...| 4569255|    Jd|      0|\n",
      "|  319968|2008-09-30 20:04:07|\"You may find a f...|  319943|    KB|      0|\n",
      "| 9699296|2015-06-11 12:43:00|       For instance?| 9698927|    M8|      0|\n",
      "| 4895850|2012-12-09 19:55:35|So, basically, yo...| 4895812|    Mz|      0|\n",
      "|10313701|2015-10-01 18:56:55|One way to test y...|10313194|    Mz|      0|\n",
      "| 4911653|2012-12-12 18:27:15|\"Maybe you should...|    null|    Mz|4911595|\n",
      "+--------+-------------------+--------------------+--------+------+-------+\n",
      "only showing top 20 rows\n",
      "\n"
     ]
    }
   ],
   "source": [
    "test.show()"
   ]
  },
  {
   "cell_type": "code",
   "execution_count": 73,
   "metadata": {},
   "outputs": [],
   "source": [
    "test2 = test.withColumn(\"split\", split(\"text\", \"\\s+\"))"
   ]
  },
  {
   "cell_type": "code",
   "execution_count": 74,
   "metadata": {},
   "outputs": [
    {
     "name": "stdout",
     "output_type": "stream",
     "text": [
      "+-------+-------------------+--------------------+-------+-------------+-------+--------------------+\n",
      "|     id|            time_ts|                text| parent|       author|ranking|               split|\n",
      "+-------+-------------------+--------------------+-------+-------------+-------+--------------------+\n",
      "|7279826|2014-02-21 22:15:51|Agreed, it&#x27;s...|7276527| brucefancher|      0|[Agreed,, it&#x27...|\n",
      "|8543165|2014-11-01 14:36:06|                Yep.|8539350| brucefancher|      0|              [Yep.]|\n",
      "|7550193|2014-04-07 22:50:23|I think Im just g...|7549551| greatsuccess|      0|[I, think, Im, ju...|\n",
      "|9325036|2015-04-05 19:26:43|Europe is mostly ...|9324926| happyscrappy|      0|[Europe, is, most...|\n",
      "|3071755|2011-10-04 16:49:11|\"I have reason, t...|   null| intellection|3070715|[\"I, have, reason...|\n",
      "|7720156|2014-05-09 10:43:43|hoping for an answer|7719614| jesusisbacks|      0|[hoping, for, an,...|\n",
      "|9134080|2015-03-02 20:21:54|Step Four: Bro Down!|9133267| markpundmann|      0|[Step, Four:, Bro...|\n",
      "|8897872|2015-01-16 09:14:22|Is there anything...|8885945| martinvelcro|      0|[Is, there, anyth...|\n",
      "|8223960|2014-08-25 20:16:12|Wouldn&#x27;t the...|8223692| maximumsteve|      0|[Wouldn&#x27;t, t...|\n",
      "|3209871|2011-11-08 07:42:29|Student subsidies...|3206276| oelewapperke|      0|[Student, subsidi...|\n",
      "|4898405|2012-12-10 10:27:42|I worked a while ...|4893645| oelewapperke|      0|[I, worked, a, wh...|\n",
      "|4857197|2012-12-01 09:12:13|The argument was ...|4854105| oelewapperke|      0|[The, argument, w...|\n",
      "|7400483|2014-03-14 17:42:54|i always just loo...|7398973| pg_is_a_butt|      0|[i, always, just,...|\n",
      "|1961591|2010-12-02 09:22:25|\"Downloadbuyer is...|1961589| seoexpert200|      0|[\"Downloadbuyer, ...|\n",
      "|7841218|2014-06-03 16:39:03|     Please explain?|7840814| syntaxgoonoo|      0|  [Please, explain?]|\n",
      "|1284890|2010-04-22 12:47:35|Source? As a musl...|1284526| theotherside|      0|[Source?, As, a, ...|\n",
      "|3104199|2011-10-12 19:37:35|\"Genetic monocult...|3103862| thepointyhat|      0|[\"Genetic, monocu...|\n",
      "|1277826|2010-04-19 20:54:57|Securities law go...|1277470| watchandwait|      0|[Securities, law,...|\n",
      "|1743207|2010-09-30 13:39:45|Well it is enough...|1742950|access_denied|      0|[Well, it, is, en...|\n",
      "|3650495|2012-03-01 00:59:15|I feel the same w...|3649552|digispaghetti|      0|[I, feel, the, sa...|\n",
      "+-------+-------------------+--------------------+-------+-------------+-------+--------------------+\n",
      "only showing top 20 rows\n",
      "\n"
     ]
    }
   ],
   "source": [
    "test2.show()"
   ]
  },
  {
   "cell_type": "code",
   "execution_count": 75,
   "metadata": {},
   "outputs": [],
   "source": []
  },
  {
   "cell_type": "code",
   "execution_count": 76,
   "metadata": {},
   "outputs": [
    {
     "name": "stdout",
     "output_type": "stream",
     "text": [
      "+-------------------------------------------------------------------------------------------------------------------------------------------------------------------------------------------------------------------------------------------------------------------------------------------------------------------------------------------------------------------------------------------------------------------------------------------------------------------------------------------------------------------------------------------------------------------------------------------------------------------------------------------------------------------------------------------------------------------------------------------------------------------------------------------------------------+-------------------------------------------------------------------------------------------------------------------------------------------------------------------------------------------------------------------------------------------------------------------------------------------------------------------------------------------------------------------------------------------------------------------------------------------------------------------------------------------------------------------------------------------------------------------------------------------------------------------------------------------------------------------------------------------------------------------------------------------------------------------------------------------------------------------------------------------------------------------------------------------------------------------------------------+------+\n",
      "|text                                                                                                                                                                                                                                                                                                                                                                                                                                                                                                                                                                                                                                                                                                                                                                                                         |words                                                                                                                                                                                                                                                                                                                                                                                                                                                                                                                                                                                                                                                                                                                                                                                                                                                                                                                                |tokens|\n",
      "+-------------------------------------------------------------------------------------------------------------------------------------------------------------------------------------------------------------------------------------------------------------------------------------------------------------------------------------------------------------------------------------------------------------------------------------------------------------------------------------------------------------------------------------------------------------------------------------------------------------------------------------------------------------------------------------------------------------------------------------------------------------------------------------------------------------+-------------------------------------------------------------------------------------------------------------------------------------------------------------------------------------------------------------------------------------------------------------------------------------------------------------------------------------------------------------------------------------------------------------------------------------------------------------------------------------------------------------------------------------------------------------------------------------------------------------------------------------------------------------------------------------------------------------------------------------------------------------------------------------------------------------------------------------------------------------------------------------------------------------------------------------+------+\n",
      "|minimalists don't use macs bud                                                                                                                                                                                                                                                                                                                                                                                                                                                                                                                                                                                                                                                                                                                                                                               |[minimalists, don't, use, macs, bud]                                                                                                                                                                                                                                                                                                                                                                                                                                                                                                                                                                                                                                                                                                                                                                                                                                                                                                 |5     |\n",
      "|What if the writer's other activities involved sucking the brains out of baby skulls?<p>Of course association matters, though this particular instance is of course debatable.                                                                                                                                                                                                                                                                                                                                                                                                                                                                                                                                                                                                                               |[what, if, the, writer's, other, activities, involved, sucking, the, brains, out, of, baby, skulls?<p>of, course, association, matters,, though, this, particular, instance, is, of, course, debatable.]                                                                                                                                                                                                                                                                                                                                                                                                                                                                                                                                                                                                                                                                                                                             |25    |\n",
      "|you've missed the point of the gold standard entirely.<p>people don't advocate gold because they like shiny things. people advocate gold because it is a generally accepted numismatic metal for which the supply is finite and dependable, and there is a long history of validating and assaying gold as a measure of trade. you could just as easily substitute any other metal or <i>fixed-quantity</i> commodity like wheat or corn (although cocoa puffs are a product of manufacture so they would make a poor choice).<p>the point is that the securing asset not be something that can be created at will, as in the case of a fiat currency.<p>all fiat currencies have failed given enough time. gold has yet to fail once at being a decent store of value over 3k years.                        |[you've, missed, the, point, of, the, gold, standard, entirely.<p>people, don't, advocate, gold, because, they, like, shiny, things., people, advocate, gold, because, it, is, a, generally, accepted, numismatic, metal, for, which, the, supply, is, finite, and, dependable,, and, there, is, a, long, history, of, validating, and, assaying, gold, as, a, measure, of, trade., you, could, just, as, easily, substitute, any, other, metal, or, <i>fixed-quantity</i>, commodity, like, wheat, or, corn, (although, cocoa, puffs, are, a, product, of, manufacture, so, they, would, make, a, poor, choice).<p>the, point, is, that, the, securing, asset, not, be, something, that, can, be, created, at, will,, as, in, the, case, of, a, fiat, currency.<p>all, fiat, currencies, have, failed, given, enough, time., gold, has, yet, to, fail, once, at, being, a, decent, store, of, value, over, 3k, years.]              |129   |\n",
      "|I, however, would make the bet that they never ever are used again.                                                                                                                                                                                                                                                                                                                                                                                                                                                                                                                                                                                                                                                                                                                                          |[i,, however,, would, make, the, bet, that, they, never, ever, are, used, again.]                                                                                                                                                                                                                                                                                                                                                                                                                                                                                                                                                                                                                                                                                                                                                                                                                                                    |13    |\n",
      "|Thanks for this. You just made my day! :D                                                                                                                                                                                                                                                                                                                                                                                                                                                                                                                                                                                                                                                                                                                                                                    |[thanks, for, this., you, just, made, my, day!, :d]                                                                                                                                                                                                                                                                                                                                                                                                                                                                                                                                                                                                                                                                                                                                                                                                                                                                                  |9     |\n",
      "|&gt; You&#x27;re way off base. Commenting on a colleague&#x27;s personal appearance to other colleagues is totally inappropriate. Commenting on a colleague&#x27;s appearance in a bathing suit is totally inappropriate.<p>I disagree<p>&gt; If you think these remarks are appropriate and non-sexual then you should probably just keep your mouth shut.<p>If you&#x27;re referring to the &quot;You look amazing in that bathing suit, like a rock star&quot;, um, no, I don&#x27;t consider that inappropriate at all. I&#x27;m not going to keep my mouth shut, thanks. If your goal is to intimidate others who disagree with you into silence rather than have a real discussion, then you don&#x27;t really belong on HN. I&#x27;m sure there are subreddits on Reddit.com that cater to your needs.|[&gt;, you&#x27;re, way, off, base., commenting, on, a, colleague&#x27;s, personal, appearance, to, other, colleagues, is, totally, inappropriate., commenting, on, a, colleague&#x27;s, appearance, in, a, bathing, suit, is, totally, inappropriate.<p>i, disagree<p>&gt;, if, you, think, these, remarks, are, appropriate, and, non-sexual, then, you, should, probably, just, keep, your, mouth, shut.<p>if, you&#x27;re, referring, to, the, &quot;you, look, amazing, in, that, bathing, suit,, like, a, rock, star&quot;,, um,, no,, i, don&#x27;t, consider, that, inappropriate, at, all., i&#x27;m, not, going, to, keep, my, mouth, shut,, thanks., if, your, goal, is, to, intimidate, others, who, disagree, with, you, into, silence, rather, than, have, a, real, discussion,, then, you, don&#x27;t, really, belong, on, hn., i&#x27;m, sure, there, are, subreddits, on, reddit.com, that, cater, to, your, needs.]|119   |\n",
      "|Ps. If you ever see yourselve in the same situation... My friend would never proposed it on his own... He didnt want to impact the group, but he will appreciate it.                                                                                                                                                                                                                                                                                                                                                                                                                                                                                                                                                                                                                                         |[ps., if, you, ever, see, yourselve, in, the, same, situation..., my, friend, would, never, proposed, it, on, his, own..., he, didnt, want, to, impact, the, group,, but, he, will, appreciate, it.]                                                                                                                                                                                                                                                                                                                                                                                                                                                                                                                                                                                                                                                                                                                                 |31    |\n",
      "|OK, going from analogy back to reality, how do you return a copy of software?                                                                                                                                                                                                                                                                                                                                                                                                                                                                                                                                                                                                                                                                                                                                |[ok,, going, from, analogy, back, to, reality,, how, do, you, return, a, copy, of, software?]                                                                                                                                                                                                                                                                                                                                                                                                                                                                                                                                                                                                                                                                                                                                                                                                                                        |15    |\n",
      "|What are your living expenses, though. It&#x27;s not top-line salary that matters, if you have to piss it away on renting a one-bedroom apt...                                                                                                                                                                                                                                                                                                                                                                                                                                                                                                                                                                                                                                                               |[what, are, your, living, expenses,, though., it&#x27;s, not, top-line, salary, that, matters,, if, you, have, to, piss, it, away, on, renting, a, one-bedroom, apt...]                                                                                                                                                                                                                                                                                                                                                                                                                                                                                                                                                                                                                                                                                                                                                              |24    |\n",
      "|In addition, C++ has a whole pile of other problems too.                                                                                                                                                                                                                                                                                                                                                                                                                                                                                                                                                                                                                                                                                                                                                     |[in, addition,, c++, has, a, whole, pile, of, other, problems, too.]                                                                                                                                                                                                                                                                                                                                                                                                                                                                                                                                                                                                                                                                                                                                                                                                                                                                 |11    |\n",
      "|OK, I laughed out loud at the last one.<p>Its true how that word has lost its meaning. Don't mean to pick on the article from the OP though, he seems like a nice enough guy.                                                                                                                                                                                                                                                                                                                                                                                                                                                                                                                                                                                                                                |[ok,, i, laughed, out, loud, at, the, last, one.<p>its, true, how, that, word, has, lost, its, meaning., don't, mean, to, pick, on, the, article, from, the, op, though,, he, seems, like, a, nice, enough, guy.]                                                                                                                                                                                                                                                                                                                                                                                                                                                                                                                                                                                                                                                                                                                    |35    |\n",
      "|\"&#62;And after several products from several manufacturers have proven the change to focused-single-task to be not only palatable, but even preferable and popular.<p>And these devices have all had relatively small displays with totally different input methods, which is my entire point. It's the same mistake that was made in the early days of mobile devices in reverse. I don't believe that interface paradigms are one-size-fits-all. Totally modal interfaces ala iPhone/iPad make sense when you have to maximize display efficiency, but they don't make anywhere near as much sense when you have 20\"\"+ displays with megapixel level resolutions to work with.\"                                                                                                                           |[\"&#62;and, after, several, products, from, several, manufacturers, have, proven, the, change, to, focused-single-task, to, be, not, only, palatable,, but, even, preferable, and, popular.<p>and, these, devices, have, all, had, relatively, small, displays, with, totally, different, input, methods,, which, is, my, entire, point., it's, the, same, mistake, that, was, made, in, the, early, days, of, mobile, devices, in, reverse., i, don't, believe, that, interface, paradigms, are, one-size-fits-all., totally, modal, interfaces, ala, iphone/ipad, make, sense, when, you, have, to, maximize, display, efficiency,, but, they, don't, make, anywhere, near, as, much, sense, when, you, have, 20\"\"+, displays, with, megapixel, level, resolutions, to, work, with.\"]                                                                                                                                              |100   |\n",
      "|Exactly!!                                                                                                                                                                                                                                                                                                                                                                                                                                                                                                                                                                                                                                                                                                                                                                                                    |[exactly!!]                                                                                                                                                                                                                                                                                                                                                                                                                                                                                                                                                                                                                                                                                                                                                                                                                                                                                                                          |1     |\n",
      "|download                                                                                                                                                                                                                                                                                                                                                                                                                                                                                                                                                                                                                                                                                                                                                                                                     |[download]                                                                                                                                                                                                                                                                                                                                                                                                                                                                                                                                                                                                                                                                                                                                                                                                                                                                                                                           |1     |\n",
      "|Dallas has the largest light rail system in the United States. It's been around since 1996.<p>DFW access is planned for 2014.<p>Public transport in Texas is fucked.                                                                                                                                                                                                                                                                                                                                                                                                                                                                                                                                                                                                                                         |[dallas, has, the, largest, light, rail, system, in, the, united, states., it's, been, around, since, 1996.<p>dfw, access, is, planned, for, 2014.<p>public, transport, in, texas, is, fucked.]                                                                                                                                                                                                                                                                                                                                                                                                                                                                                                                                                                                                                                                                                                                                      |26    |\n",
      "|Gnosis as in Samael Aun Weor?                                                                                                                                                                                                                                                                                                                                                                                                                                                                                                                                                                                                                                                                                                                                                                                |[gnosis, as, in, samael, aun, weor?]                                                                                                                                                                                                                                                                                                                                                                                                                                                                                                                                                                                                                                                                                                                                                                                                                                                                                                 |6     |\n",
      "|I don&#x27;t see why their mobile page should be different when iOS 8 is reelased. It&#x27;s the same problem I have with their desktop site actually. The quick answer box at the top of search results that thinks it knows what I want takes up way too much space.                                                                                                                                                                                                                                                                                                                                                                                                                                                                                                                                       |[i, don&#x27;t, see, why, their, mobile, page, should, be, different, when, ios, 8, is, reelased., it&#x27;s, the, same, problem, i, have, with, their, desktop, site, actually., the, quick, answer, box, at, the, top, of, search, results, that, thinks, it, knows, what, i, want, takes, up, way, too, much, space.]                                                                                                                                                                                                                                                                                                                                                                                                                                                                                                                                                                                                             |49    |\n",
      "|I wanna call shenanigans _because_ it goes to paypal ...                                                                                                                                                                                                                                                                                                                                                                                                                                                                                                                                                                                                                                                                                                                                                     |[i, wanna, call, shenanigans, _because_, it, goes, to, paypal, ...]                                                                                                                                                                                                                                                                                                                                                                                                                                                                                                                                                                                                                                                                                                                                                                                                                                                                  |10    |\n",
      "|&#x27;They are so tunnel vision that they just refuse to acknowledge what a 90% failure rate means.&#x27;<p>yes it means 1 out of 10 becomes fabulously wealthy and semi-famous...those are pretty great odds as compared as going to work for someone else.                                                                                                                                                                                                                                                                                                                                                                                                                                                                                                                                                 |[&#x27;they, are, so, tunnel, vision, that, they, just, refuse, to, acknowledge, what, a, 90%, failure, rate, means.&#x27;<p>yes, it, means, 1, out, of, 10, becomes, fabulously, wealthy, and, semi-famous...those, are, pretty, great, odds, as, compared, as, going, to, work, for, someone, else.]                                                                                                                                                                                                                                                                                                                                                                                                                                                                                                                                                                                                                               |41    |\n",
      "|&#62; This is why dieting must always be paired with exercise.<p>No it mustn't.  A lot of people have difficulty with the increased appetite that ensues.                                                                                                                                                                                                                                                                                                                                                                                                                                                                                                                                                                                                                                                    |[&#62;, this, is, why, dieting, must, always, be, paired, with, exercise.<p>no, it, mustn't., , a, lot, of, people, have, difficulty, with, the, increased, appetite, that, ensues.]                                                                                                                                                                                                                                                                                                                                                                                                                                                                                                                                                                                                                                                                                                                                                 |26    |\n",
      "+-------------------------------------------------------------------------------------------------------------------------------------------------------------------------------------------------------------------------------------------------------------------------------------------------------------------------------------------------------------------------------------------------------------------------------------------------------------------------------------------------------------------------------------------------------------------------------------------------------------------------------------------------------------------------------------------------------------------------------------------------------------------------------------------------------------+-------------------------------------------------------------------------------------------------------------------------------------------------------------------------------------------------------------------------------------------------------------------------------------------------------------------------------------------------------------------------------------------------------------------------------------------------------------------------------------------------------------------------------------------------------------------------------------------------------------------------------------------------------------------------------------------------------------------------------------------------------------------------------------------------------------------------------------------------------------------------------------------------------------------------------------+------+\n",
      "only showing top 20 rows\n",
      "\n"
     ]
    }
   ],
   "source": [
    "tokenizer = Tokenizer(inputCol=\"text\", outputCol=\"words\")\n",
    "tokenized = tokenizer.transform(test)\n",
    "countTokens = udf(lambda words: len(words), IntegerType())\n",
    "tokenized.select(\"text\", \"words\")\\\n",
    "    .withColumn(\"tokens\", countTokens(col(\"words\"))).show(truncate=False)"
   ]
  },
  {
   "cell_type": "code",
   "execution_count": 77,
   "metadata": {},
   "outputs": [
    {
     "name": "stdout",
     "output_type": "stream",
     "text": [
      "+--------------------+--------------------+\n",
      "|                text|               words|\n",
      "+--------------------+--------------------+\n",
      "|I've been coding ...|[i've, been, codi...|\n",
      "|I think of Snowde...|[i, think, of, sn...|\n",
      "|Actually has led ...|[actually, has, l...|\n",
      "|Interesting siden...|[interesting, sid...|\n",
      "|Silly geeks.  A w...|[silly, geeks., a...|\n",
      "|This.  I also lik...|[this., i, also, ...|\n",
      "|These are just #h...|[these, are, just...|\n",
      "|Time to kiss Arri...|[time, to, kiss, ...|\n",
      "|my classmate&#x27...|[my, classmate&#x...|\n",
      "|\"I&#x27;m making ...|[\"i&#x27;m, makin...|\n",
      "|I'm a fan of appl...|[i'm, a, fan, of,...|\n",
      "|It feels good, bu...|[it, feels, good,...|\n",
      "|               Yawn.|             [yawn.]|\n",
      "|Yet another right...|[yet, another, ri...|\n",
      "|Good question. Na...|[good, question.,...|\n",
      "|\"nice. you just p...|[\"nice., you, jus...|\n",
      "|Impressed with th...|[impressed, with,...|\n",
      "|This thread sure ...|[this, thread, su...|\n",
      "|So women are good...|[so, women, are, ...|\n",
      "|I am looking for ...|[i, am, looking, ...|\n",
      "+--------------------+--------------------+\n",
      "only showing top 20 rows\n",
      "\n"
     ]
    }
   ],
   "source": [
    "regexTokenizer = RegexTokenizer(inputCol=\"text\", outputCol=\"words\", pattern=\"\\s+\")\n",
    "regexTokenized = regexTokenizer.transform(test)\n",
    "regexTokenized.select(\"text\", \"words\").show()"
   ]
  },
  {
   "cell_type": "code",
   "execution_count": 78,
   "metadata": {},
   "outputs": [
    {
     "name": "stdout",
     "output_type": "stream",
     "text": [
      "+--------+-------------------+--------------------+--------+------------+-------+--------------------+\n",
      "|      id|            time_ts|                text|  parent|      author|ranking|               words|\n",
      "+--------+-------------------+--------------------+--------+------------+-------+--------------------+\n",
      "|  803232|2009-09-03 19:09:48|I've been coding ...|  802700| heckacopter|      5|[i've, been, codi...|\n",
      "| 8147414|2014-08-07 12:53:18|I think of Snowde...| 8146987| justnotsure|      5|[i, think, of, sn...|\n",
      "|10331827|2015-10-05 13:59:13|Actually has led ...|10331623| littletimmy|      5|[actually, has, l...|\n",
      "| 3058176|2011-09-30 19:04:37|Interesting siden...| 3054310| underdesign|      5|[interesting, sid...|\n",
      "| 2582615|2011-05-25 02:27:49|Silly geeks.  A w...| 2582002|originalgeek|      5|[silly, geeks., ,...|\n",
      "+--------+-------------------+--------------------+--------+------------+-------+--------------------+\n",
      "only showing top 5 rows\n",
      "\n"
     ]
    }
   ],
   "source": [
    "tokenized.show(5)"
   ]
  },
  {
   "cell_type": "code",
   "execution_count": 79,
   "metadata": {},
   "outputs": [],
   "source": []
  },
  {
   "cell_type": "code",
   "execution_count": 80,
   "metadata": {},
   "outputs": [],
   "source": []
  },
  {
   "cell_type": "code",
   "execution_count": null,
   "metadata": {},
   "outputs": [],
   "source": []
  },
  {
   "cell_type": "code",
   "execution_count": null,
   "metadata": {},
   "outputs": [],
   "source": []
  },
  {
   "cell_type": "code",
   "execution_count": null,
   "metadata": {},
   "outputs": [],
   "source": [
    "# Feature Engineering "
   ]
  },
  {
   "cell_type": "code",
   "execution_count": null,
   "metadata": {},
   "outputs": [],
   "source": [
    "# 时间 day of week,  year month   -finish\n",
    "# id  hot users   - finish\n",
    "# title length    - finish\n",
    "# title hot topics  - finish\n",
    "# url hot website   - finish\n",
    "# text length  - finish\n",
    "# title   -> word2vec  "
   ]
  },
  {
   "cell_type": "code",
   "execution_count": 105,
   "metadata": {},
   "outputs": [],
   "source": [
    "import datetime\n",
    "from pyspark.sql.functions import year, month, dayofmonth, dayofweek"
   ]
  },
  {
   "cell_type": "code",
   "execution_count": 122,
   "metadata": {},
   "outputs": [],
   "source": [
    "test = clean.limit(500)"
   ]
  },
  {
   "cell_type": "code",
   "execution_count": 123,
   "metadata": {},
   "outputs": [
    {
     "name": "stdout",
     "output_type": "stream",
     "text": [
      "+--------+-----+-------------------+--------------------+--------------------+----+-----------+------+\n",
      "|      id|score|            time_ts|               title|                 url|text|descendants|author|\n",
      "+--------+-----+-------------------+--------------------+--------------------+----+-----------+------+\n",
      "|10229406|    1|2015-09-16 19:59:56|The First Whale: ...|http://www.amnh.o...|null|          0|    Mz|\n",
      "| 6488704|    1|2013-10-03 13:26:50|Engineers invent ...|http://phys.org/n...|null|          0|    X4|\n",
      "| 6594546|    1|2013-10-22 20:03:30|IUI - Mobile web ...|http://www.iui-js...|null|          0|    X4|\n",
      "|  790887|    1|2009-08-28 06:44:26|Dell Screws Up, P...|http://www.busine...|null|          0|    aj|\n",
      "|  673699|    1|2009-06-25 14:41:06|New Duke Nukem ga...|http://arstechnic...|null|          0|    aj|\n",
      "|  699911|    1|2009-07-12 07:13:24|Wireless Cybercri...|http://www.foxnew...|null|          0|    aj|\n",
      "|  676666|    1|2009-06-27 06:26:21|Does Multitasking...|http://www.sitepo...|null|          0|    aj|\n",
      "|  697171|    1|2009-07-10 05:42:58|Find Creative Com...|http://googleblog...|null|          0|    aj|\n",
      "|  682725|    1|2009-07-01 14:52:30|Carmack: EA and A...|http://arstechnic...|null|          0|    aj|\n",
      "| 1183466|    1|2010-03-11 10:30:40|Bill Gates Loses ...|http://www.busine...|null|          0|    aj|\n",
      "| 1718924|    1|2010-09-23 08:04:31|Austrian Collecti...|http://www.techdi...|null|          0|    aj|\n",
      "| 1320427|    1|2010-05-05 05:43:54|Webby Award winne...|http://webbyaward...|null|          0|    aj|\n",
      "| 1734531|    1|2010-09-28 04:13:53|Is Blackberry gro...|http://royal.ping...|null|          0|    aj|\n",
      "| 1358718|    1|2010-05-18 19:32:12|New Hotmail takes...|http://venturebea...|null|          0|    aj|\n",
      "|  892944|    1|2009-10-20 18:14:26|Distance Is Not D...|http://arxiv.org/...|null|          0|    bd|\n",
      "|  391302|    1|2008-12-09 14:37:23|Salesforce announ...|http://googleappe...|null|          0|    bd|\n",
      "|  389940|    1|2008-12-08 15:49:48|   WikiScanner2 beta|http://katrina.cs...|null|          0|    bd|\n",
      "| 1542771|    1|2010-07-24 00:18:18|Show HN: Deepwate...|http://alteredqua...|null|          0|    bd|\n",
      "|  353248|    1|2008-11-04 09:58:11|Rainfall autism t...|http://news.bbc.c...|null|          0|    bd|\n",
      "|  360579|    1|2008-11-11 15:46:47|Bendable, ultra-t...|http://www.crunch...|null|          0|    bd|\n",
      "+--------+-----+-------------------+--------------------+--------------------+----+-----------+------+\n",
      "only showing top 20 rows\n",
      "\n"
     ]
    }
   ],
   "source": [
    "test.show()"
   ]
  },
  {
   "cell_type": "code",
   "execution_count": 124,
   "metadata": {},
   "outputs": [],
   "source": [
    "test2 = test.withColumn('year', year('time_ts'))\n",
    "test2 = test2.withColumn('month', month('time_ts'))\n",
    "test2 = test2.withColumn('dayofweek', dayofweek('time_ts'))"
   ]
  },
  {
   "cell_type": "code",
   "execution_count": 125,
   "metadata": {},
   "outputs": [
    {
     "name": "stdout",
     "output_type": "stream",
     "text": [
      "+--------+-----+-------------------+--------------------+--------------------+----+-----------+------+----+-----+---------+\n",
      "|      id|score|            time_ts|               title|                 url|text|descendants|author|year|month|dayofweek|\n",
      "+--------+-----+-------------------+--------------------+--------------------+----+-----------+------+----+-----+---------+\n",
      "|10229406|    1|2015-09-16 19:59:56|The First Whale: ...|http://www.amnh.o...|null|          0|    Mz|2015|    9|        4|\n",
      "| 6488704|    1|2013-10-03 13:26:50|Engineers invent ...|http://phys.org/n...|null|          0|    X4|2013|   10|        5|\n",
      "| 6594546|    1|2013-10-22 20:03:30|IUI - Mobile web ...|http://www.iui-js...|null|          0|    X4|2013|   10|        3|\n",
      "|  790887|    1|2009-08-28 06:44:26|Dell Screws Up, P...|http://www.busine...|null|          0|    aj|2009|    8|        6|\n",
      "|  673699|    1|2009-06-25 14:41:06|New Duke Nukem ga...|http://arstechnic...|null|          0|    aj|2009|    6|        5|\n",
      "|  699911|    1|2009-07-12 07:13:24|Wireless Cybercri...|http://www.foxnew...|null|          0|    aj|2009|    7|        1|\n",
      "|  676666|    1|2009-06-27 06:26:21|Does Multitasking...|http://www.sitepo...|null|          0|    aj|2009|    6|        7|\n",
      "|  697171|    1|2009-07-10 05:42:58|Find Creative Com...|http://googleblog...|null|          0|    aj|2009|    7|        6|\n",
      "|  682725|    1|2009-07-01 14:52:30|Carmack: EA and A...|http://arstechnic...|null|          0|    aj|2009|    7|        4|\n",
      "| 1183466|    1|2010-03-11 10:30:40|Bill Gates Loses ...|http://www.busine...|null|          0|    aj|2010|    3|        5|\n",
      "| 1718924|    1|2010-09-23 08:04:31|Austrian Collecti...|http://www.techdi...|null|          0|    aj|2010|    9|        5|\n",
      "| 1320427|    1|2010-05-05 05:43:54|Webby Award winne...|http://webbyaward...|null|          0|    aj|2010|    5|        4|\n",
      "| 1734531|    1|2010-09-28 04:13:53|Is Blackberry gro...|http://royal.ping...|null|          0|    aj|2010|    9|        3|\n",
      "| 1358718|    1|2010-05-18 19:32:12|New Hotmail takes...|http://venturebea...|null|          0|    aj|2010|    5|        3|\n",
      "|  892944|    1|2009-10-20 18:14:26|Distance Is Not D...|http://arxiv.org/...|null|          0|    bd|2009|   10|        3|\n",
      "|  391302|    1|2008-12-09 14:37:23|Salesforce announ...|http://googleappe...|null|          0|    bd|2008|   12|        3|\n",
      "|  389940|    1|2008-12-08 15:49:48|   WikiScanner2 beta|http://katrina.cs...|null|          0|    bd|2008|   12|        2|\n",
      "| 1542771|    1|2010-07-24 00:18:18|Show HN: Deepwate...|http://alteredqua...|null|          0|    bd|2010|    7|        7|\n",
      "|  353248|    1|2008-11-04 09:58:11|Rainfall autism t...|http://news.bbc.c...|null|          0|    bd|2008|   11|        3|\n",
      "|  360579|    1|2008-11-11 15:46:47|Bendable, ultra-t...|http://www.crunch...|null|          0|    bd|2008|   11|        3|\n",
      "+--------+-----+-------------------+--------------------+--------------------+----+-----------+------+----+-----+---------+\n",
      "only showing top 20 rows\n",
      "\n"
     ]
    }
   ],
   "source": [
    "test2.show()"
   ]
  },
  {
   "cell_type": "code",
   "execution_count": 134,
   "metadata": {},
   "outputs": [],
   "source": [
    "clean.createOrReplaceTempView('test')"
   ]
  },
  {
   "cell_type": "code",
   "execution_count": 196,
   "metadata": {},
   "outputs": [],
   "source": [
    "sqlStatement = \"\"\"\n",
    "SELECT author, COUNT(author) AS num\n",
    "FROM test\n",
    "GROUP BY author\n",
    "ORDER BY num DESC\n",
    "LIMIT 3000\n",
    "\"\"\""
   ]
  },
  {
   "cell_type": "code",
   "execution_count": 197,
   "metadata": {},
   "outputs": [
    {
     "name": "stdout",
     "output_type": "stream",
     "text": [
      "+-------------+----+\n",
      "|       author| num|\n",
      "+-------------+----+\n",
      "|         cwan|7059|\n",
      "|   shawndumas|6556|\n",
      "|        evo_9|5570|\n",
      "|        nickb|4303|\n",
      "|     iProject|4262|\n",
      "|     bootload|4141|\n",
      "|       edw519|3821|\n",
      "|  ColinWright|3704|\n",
      "|       nreece|3697|\n",
      "|   tokenadult|3625|\n",
      "|      Garbage|3508|\n",
      "|         robg|3100|\n",
      "|DanielRibeiro|2819|\n",
      "|       Anon84|2760|\n",
      "|        danso|2598|\n",
      "|      llambda|2595|\n",
      "|      jonbaer|2417|\n",
      "|        fogus|2411|\n",
      "|   transburgh|2360|\n",
      "|         wslh|2299|\n",
      "+-------------+----+\n",
      "only showing top 20 rows\n",
      "\n"
     ]
    }
   ],
   "source": [
    "hot_user = spark.sql(sqlStatement)\n",
    "hot_user.show()"
   ]
  },
  {
   "cell_type": "code",
   "execution_count": 198,
   "metadata": {},
   "outputs": [
    {
     "data": {
      "text/plain": [
       "True"
      ]
     },
     "execution_count": 198,
     "metadata": {},
     "output_type": "execute_result"
    }
   ],
   "source": [
    "user = np.array(hot_user.select('author').collect())\n",
    "'cwan' in user"
   ]
  },
  {
   "cell_type": "code",
   "execution_count": 199,
   "metadata": {},
   "outputs": [],
   "source": [
    "@udf(StringType())\n",
    "def is_hotuser(username):\n",
    "    if username in user:\n",
    "        return '1'\n",
    "    return '0' "
   ]
  },
  {
   "cell_type": "code",
   "execution_count": 200,
   "metadata": {},
   "outputs": [],
   "source": [
    "# for the is_hotuser column\n",
    "test2 = test2.withColumn('is_hotuser', is_hotuser('author'))"
   ]
  },
  {
   "cell_type": "code",
   "execution_count": 201,
   "metadata": {},
   "outputs": [],
   "source": [
    "# for the title length column\n",
    "test2 = test2.withColumn('title_length', f.size(f.split(f.col('title'), ' ')))"
   ]
  },
  {
   "cell_type": "code",
   "execution_count": 202,
   "metadata": {},
   "outputs": [],
   "source": [
    "test2.createOrReplaceTempView('check')"
   ]
  },
  {
   "cell_type": "code",
   "execution_count": 208,
   "metadata": {},
   "outputs": [
    {
     "name": "stdout",
     "output_type": "stream",
     "text": [
      "+-------+-----+-------------------+--------------------+--------------------+--------------------+-----------+-------+----+-----+---------+----------+------------+\n",
      "|     id|score|            time_ts|               title|                 url|                text|descendants| author|year|month|dayofweek|is_hotuser|title_length|\n",
      "+-------+-----+-------------------+--------------------+--------------------+--------------------+-----------+-------+----+-----+---------+----------+------------+\n",
      "|9195013|    1|2015-03-13 00:38:14|Ask HN: How do yo...|                null|There is so much ...|          0| vijayr|2015|    3|        6|         1|           9|\n",
      "|9282921|    1|2015-03-28 22:08:31|Ask HN: Is there ...|                null|This question is ...|          0| vijayr|2015|    3|        7|         1|          10|\n",
      "|7248437|    1|2014-02-16 17:52:11|Convergence: What...|http://pando.com/...|It&#x27;s weird. ...|          0| vonnik|2014|    2|        1|         1|           8|\n",
      "|3353561|    1|2011-12-14 20:57:37|Tell HN: For thos...|                null|Steve Jobs and Ap...|          0| wr1472|2011|   12|        4|         1|          13|\n",
      "| 197644|    1|2008-05-22 23:09:30|Y Combinator Data...|                null|A 106MB archive o...|          0| xirium|2008|    5|        5|         1|           7|\n",
      "|1168769|    1|2010-03-05 03:46:21|Nimbus Brings Pro...|http://iphonecto....|Business process ...|          0| yvesrn|2010|    3|        6|         1|           6|\n",
      "|2941881|    1|2011-08-30 15:38:13|Facebook pays out...|http://www.comput...|Facebook pays out...|          0|EdwardQ|2011|    8|        3|         1|           8|\n",
      "|4164104|    1|2012-06-26 21:00:32|Ask HN: What woul...|                null|Just curious what...|          0|MRonney|2012|    6|        3|         1|          10|\n",
      "|1299909|    1|2010-04-27 22:01:20|Fabrice Tourre Te...|http://hedgefunds...|            Crazy...|          0|Sejanus|2010|    4|        3|         1|           3|\n",
      "|6404692|    1|2013-09-18 11:51:00|Flat UI 2.1 Relea...|http://designmodo...|Here is announce ...|          0|SmeelBe|2013|    9|        4|         1|          11|\n",
      "|6358760|    1|2013-09-10 07:57:47|     Collective .PSD|http://designmodo...|I’ve decided to r...|          0|SmeelBe|2013|    9|        3|         1|           2|\n",
      "|5606103|    1|2013-04-25 07:37:48|The Pirate Bay ac...|http://payament.c...|Pirate Bay now ac...|          0|SmeelBe|2013|    4|        5|         1|          10|\n",
      "|6069360|    1|2013-07-19 10:55:09|Flat UI Pro Versi...|http://designmodo...|Today have been u...|          0|SmeelBe|2013|    7|        6|         1|           7|\n",
      "|5728485|    1|2013-05-18 10:49:42|Double the Price ...|http://designmodo...|When your offer l...|          0|SmeelBe|2013|    5|        7|         1|           9|\n",
      "|5898690|    1|2013-06-18 12:16:52|New Features of D...|http://designmodo...|Here is a new Ado...|          0|SmeelBe|2013|    6|        3|         1|           5|\n",
      "|5864614|    1|2013-06-11 20:47:30|New Apple Look Do...|http://designmodo...|Apple will not em...|          0|SmeelBe|2013|    6|        3|         1|           8|\n",
      "|7951045|    1|2014-06-26 18:54:12|Ask HN: Intereste...|                null|I plan on creatin...|          0|arikrak|2014|    6|        5|         1|          10|\n",
      "| 246084|    1|2008-07-14 21:03:01|seeking feedback ...|                null|I made a picasa b...|          0|brlewis|2008|    7|        2|         1|           9|\n",
      "|1579747|    1|2010-08-06 00:00:19|Blackberries bann...|http://www.readwr...|Bad news for busi...|          0|dkasper|2010|    8|        6|         1|           8|\n",
      "|1242283|    1|2010-04-05 16:44:15|Ask HN: How do I ...|                null|I've been told it...|          0|donohoe|2010|    4|        2|         1|           9|\n",
      "+-------+-----+-------------------+--------------------+--------------------+--------------------+-----------+-------+----+-----+---------+----------+------------+\n",
      "only showing top 20 rows\n",
      "\n"
     ]
    }
   ],
   "source": [
    "# checking for the is_hotuser column\n",
    "sqlStatement = \"\"\"\n",
    "SELECT *\n",
    "FROM check\n",
    "WHERE is_hotuser == '1'\n",
    "\"\"\"\n",
    "check = spark.sql(sqlStatement)\n",
    "check.show()"
   ]
  },
  {
   "cell_type": "code",
   "execution_count": 209,
   "metadata": {},
   "outputs": [],
   "source": [
    "sqlStatement = \"\"\"\n",
    "SELECT id, regexp_extract(url, '([a-z]+).(com|net|co|cn|org|ru|de|br|uk|pl|ir|it|in|fr|au|jp|info)', 1) as web\n",
    "FROM check \n",
    "\"\"\""
   ]
  },
  {
   "cell_type": "code",
   "execution_count": 211,
   "metadata": {},
   "outputs": [],
   "source": [
    "url_df1 = spark.sql(sqlStatement)\n",
    "url_df1.createOrReplaceTempView('url')"
   ]
  },
  {
   "cell_type": "code",
   "execution_count": 252,
   "metadata": {},
   "outputs": [],
   "source": [
    "sqlStatement = \"\"\"\n",
    "SELECT COUNT(id) AS num, web\n",
    "FROM url\n",
    "WHERE web != '' and web != 'www'\n",
    "GROUP BY web\n",
    "ORDER BY num DESC\n",
    "LIMIT 50\n",
    "\"\"\"\n",
    "url_df2 = spark.sql(sqlStatement)"
   ]
  },
  {
   "cell_type": "code",
   "execution_count": 253,
   "metadata": {},
   "outputs": [],
   "source": [
    "hot_domain = np.array(url_df2.select('web').collect())\n",
    "@udf(StringType())\n",
    "def from_hot_web(url):\n",
    "    pattern = re.compile('([a-z]+).(com|net|co|cn|org|ru|de|br|uk|pl|ir|it|in|fr|au|jp|info)')\n",
    "    result = re.findall(pattern, url)\n",
    "    if result and result[0] in hot_domain:\n",
    "        return '1'\n",
    "    return '0' "
   ]
  },
  {
   "cell_type": "code",
   "execution_count": 254,
   "metadata": {},
   "outputs": [],
   "source": [
    "#check for whether its work 这个是加装饰器之前单独测试function的 现在测试会出bug了\n",
    "#print(from_hot_domain('www.youtube.com'))\n",
    "#print(from_hot_domain('www.bilibili.com'))"
   ]
  },
  {
   "cell_type": "code",
   "execution_count": 255,
   "metadata": {},
   "outputs": [],
   "source": [
    "# for the from_top_web column\n",
    "test2 = test2.withColumn('from_top_web', from_hot_web('url'))"
   ]
  },
  {
   "cell_type": "code",
   "execution_count": 257,
   "metadata": {},
   "outputs": [],
   "source": [
    "# for the text length column\n",
    "test2 = test2.withColumn('text_length', f.size(f.split(f.col('text'), ' ')))"
   ]
  },
  {
   "cell_type": "code",
   "execution_count": 259,
   "metadata": {},
   "outputs": [],
   "source": [
    "@udf(IntegerType())\n",
    "def transfer(num):\n",
    "    if num == -1:\n",
    "        return 0 \n",
    "    return num"
   ]
  },
  {
   "cell_type": "code",
   "execution_count": 260,
   "metadata": {},
   "outputs": [],
   "source": [
    "#Dealing with empty text\n",
    "test2 = test2.withColumn('text_length', transfer('text_length'))"
   ]
  },
  {
   "cell_type": "code",
   "execution_count": 262,
   "metadata": {},
   "outputs": [
    {
     "name": "stdout",
     "output_type": "stream",
     "text": [
      "+--------------------+--------------------+\n",
      "|               title|               words|\n",
      "+--------------------+--------------------+\n",
      "|New UI for Google...|[new, ui, for, go...|\n",
      "|Historic website ...|[historic, websit...|\n",
      "|         Placeholder|       [placeholder]|\n",
      "|         Placeholder|       [placeholder]|\n",
      "|         Placeholder|       [placeholder]|\n",
      "|         Placeholder|       [placeholder]|\n",
      "|         Placeholder|       [placeholder]|\n",
      "|         Placeholder|       [placeholder]|\n",
      "|         Placeholder|       [placeholder]|\n",
      "|         Placeholder|       [placeholder]|\n",
      "|         Placeholder|       [placeholder]|\n",
      "|         Placeholder|       [placeholder]|\n",
      "|         Placeholder|       [placeholder]|\n",
      "|         Placeholder|       [placeholder]|\n",
      "|         Placeholder|       [placeholder]|\n",
      "|         Placeholder|       [placeholder]|\n",
      "|Kidney Transplant...|[kidney, transpla...|\n",
      "|Bouncing Marble f...|[bouncing, marble...|\n",
      "|Cooking your own ...|[cooking, your, o...|\n",
      "|Why You Should Re...|[why, you, should...|\n",
      "+--------------------+--------------------+\n",
      "only showing top 20 rows\n",
      "\n"
     ]
    }
   ],
   "source": [
    "regexTokenizer = RegexTokenizer(inputCol=\"title\", outputCol=\"words\", pattern=\"\\s+\")\n",
    "regexTokenized = regexTokenizer.transform(test2)\n",
    "regexTokenized.select(\"title\", \"words\").show()"
   ]
  },
  {
   "cell_type": "code",
   "execution_count": 266,
   "metadata": {},
   "outputs": [],
   "source": [
    "remover = StopWordsRemover(inputCol=\"words\", outputCol=\"filtered\")\n",
    "filtered = remover.transform(regexTokenized)"
   ]
  },
  {
   "cell_type": "code",
   "execution_count": 270,
   "metadata": {},
   "outputs": [],
   "source": [
    "word_count = filtered.withColumn('word', f.explode(f.col('filtered')))\\\n",
    "    .groupBy('word')\\\n",
    "    .count()\\\n",
    "    .sort('count', ascending=False)"
   ]
  },
  {
   "cell_type": "code",
   "execution_count": 273,
   "metadata": {},
   "outputs": [],
   "source": [
    "word_list = word_count.limit(200)\n",
    "hot_words = np.array(word_list.select('word').collect())"
   ]
  },
  {
   "cell_type": "code",
   "execution_count": 311,
   "metadata": {},
   "outputs": [],
   "source": [
    "def filter_words(array):\n",
    "    words_list = []\n",
    "    pattern = re.compile('[a-z]+')\n",
    "    for word in array:\n",
    "        result = re.findall(pattern, word[0])\n",
    "        if result != []:\n",
    "            words_list.append(result[0])\n",
    "    return words_list"
   ]
  },
  {
   "cell_type": "code",
   "execution_count": 313,
   "metadata": {},
   "outputs": [],
   "source": [
    "hot_word = filter_words(hot_words)"
   ]
  },
  {
   "cell_type": "code",
   "execution_count": 327,
   "metadata": {},
   "outputs": [],
   "source": [
    "@udf(IntegerType())\n",
    "def count_hot_words(title):\n",
    "    words = title.split(' ')\n",
    "    count = 0\n",
    "    for word in words:\n",
    "        if word in hot_word:\n",
    "            count += 1 \n",
    "    return count "
   ]
  },
  {
   "cell_type": "code",
   "execution_count": 321,
   "metadata": {},
   "outputs": [
    {
     "name": "stdout",
     "output_type": "stream",
     "text": [
      "1\n",
      "2\n"
     ]
    }
   ],
   "source": [
    "# Test this function\n",
    "# print(count_hot_words('I like kaggle', hot_word))\n",
    "# print(count_hot_words('facebook google hungry', hot_word))"
   ]
  },
  {
   "cell_type": "code",
   "execution_count": 328,
   "metadata": {},
   "outputs": [],
   "source": [
    "test2 = test2.withColumn('title_hot_words', count_hot_words('title'))"
   ]
  },
  {
   "cell_type": "code",
   "execution_count": 329,
   "metadata": {},
   "outputs": [
    {
     "name": "stdout",
     "output_type": "stream",
     "text": [
      "+-------+-----+-------------------+--------------------+--------------------+----+-----------+-------+----+-----+---------+----------+------------+------------+-----------+---------------+\n",
      "|     id|score|            time_ts|               title|                 url|text|descendants| author|year|month|dayofweek|is_hotuser|title_length|from_top_web|text_length|title_hot_words|\n",
      "+-------+-----+-------------------+--------------------+--------------------+----+-----------+-------+----+-----+---------+----------+------------+------------+-----------+---------------+\n",
      "|3451564|    1|2012-01-11 13:10:37|Second biggest Sp...|http://www.busine...|null|          0|barredo|2012|    1|        4|         1|           9|           0|          0|              0|\n",
      "|7755578|    1|2014-05-16 14:12:06|Shepherd – Guide ...|http://github.hub...|null|          0|bartman|2014|    5|        6|         0|          11|           0|          0|              2|\n",
      "|6647790|    1|2013-10-31 16:33:44|What The Healthca...|http://www.fastco...|null|          0|barunio|2013|   10|        5|         0|          12|           0|          0|              0|\n",
      "|7260548|    1|2014-02-18 19:42:26|Visualizing build...|http://data.wegow...|null|          0|barunio|2014|    2|        3|         0|           5|           0|          0|              1|\n",
      "|4672278|    1|2012-10-19 04:32:39|Skydiving HUD wit...|http://m.engadget...|null|          0|base698|2012|   10|        6|         0|           4|           1|          0|              0|\n",
      "|5675960|    1|2013-05-08 18:29:40|Chromatik continu...|http://pandodaily...|null|          0|base698|2013|    5|        4|         0|           6|           0|          0|              2|\n",
      "|4790128|    1|2012-11-15 18:57:26|Chromatik - Music...|http://techcrunch...|null|          0|base698|2012|   11|        5|         0|          12|           1|          0|              0|\n",
      "|5501611|    1|2013-04-05 23:09:07|It's certainly a ...|http://www.youtub...|null|          0|base698|2013|    4|        6|         0|           9|           1|          0|              2|\n",
      "|9163543|    1|2015-03-07 23:27:19|Artist Turns DNA ...|http://cyclopsblo...|null|          0|baskind|2015|    3|        7|         0|           8|           0|          0|              0|\n",
      "| 882030|    1|2009-10-14 19:57:11| The Jamming Concept|http://www.youtub...|null|          0|bastian|2009|   10|        4|         0|           3|           1|          0|              0|\n",
      "|4971705|    1|2012-12-27 00:30:48|  Human Touch Camera|http://techcrunch...|null|          0|bavidar|2012|   12|        5|         1|           3|           1|          0|              0|\n",
      "|5488796|    1|2013-04-03 20:24:44|Bitcoin Wallet Se...|http://techcrunch...|null|          0|bavidar|2013|    4|        4|         1|           9|           1|          0|              0|\n",
      "|6425395|    1|2013-09-22 01:31:02|The Insecurity Dr...|http://stigatory....|null|          0|baybane|2013|    9|        1|         0|           4|           0|          0|              0|\n",
      "|9202908|    1|2015-03-14 15:27:01|Pi Day Guerilla s...|http://i.imgur.co...|null|          0|bbulkow|2015|    3|        7|         0|           8|           0|          0|              0|\n",
      "|6215613|    1|2013-08-15 01:25:22|3 games, 8 giant ...|http://www.tankza...|null|          0|bbyford|2013|    8|        5|         0|           7|           0|          0|              2|\n",
      "|8073471|    1|2014-07-23 09:24:00|Mark Twain on Mas...|http://www.brainp...|null|          0|bcambel|2014|    7|        4|         0|           4|           0|          0|              0|\n",
      "|5186089|    1|2013-02-08 03:13:37|Facebook Connect ...|http://news.cnet....|null|          0|bconway|2013|    2|        6|         1|           8|           0|          0|              1|\n",
      "|4794076|    1|2012-11-16 15:00:44|Striking untion w...|http://www.chicag...|null|          0|bconway|2012|   11|        6|         1|           9|           0|          0|              1|\n",
      "|4816604|    1|2012-11-21 22:14:57|How The Governmen...|http://www.npr.or...|null|          0|bconway|2012|   11|        4|         1|          12|           1|          0|              0|\n",
      "|3970866|    1|2012-05-14 13:09:22|Iran Filters Lead...|http://www.rferl....|null|          0|bconway|2012|    5|        2|         1|           6|           0|          0|              0|\n",
      "+-------+-----+-------------------+--------------------+--------------------+----+-----------+-------+----+-----+---------+----------+------------+------------+-----------+---------------+\n",
      "only showing top 20 rows\n",
      "\n"
     ]
    }
   ],
   "source": [
    "test2.show()"
   ]
  },
  {
   "cell_type": "code",
   "execution_count": null,
   "metadata": {},
   "outputs": [],
   "source": []
  },
  {
   "cell_type": "code",
   "execution_count": 331,
   "metadata": {},
   "outputs": [],
   "source": [
    "# Input data: Each row is a bag of words from a sentence or document.\n",
    "documentDF = spark.createDataFrame([\n",
    "    (\"Hi I heard about Spark\".split(\" \"), ),\n",
    "    (\"I wish Java could use case classes\".split(\" \"), ),\n",
    "    (\"Logistic regression models are neat\".split(\" \"), )\n",
    "], [\"text\"])"
   ]
  },
  {
   "cell_type": "code",
   "execution_count": 333,
   "metadata": {},
   "outputs": [
    {
     "name": "stdout",
     "output_type": "stream",
     "text": [
      "+--------------------+\n",
      "|                text|\n",
      "+--------------------+\n",
      "|[Hi, I, heard, ab...|\n",
      "|[I, wish, Java, c...|\n",
      "|[Logistic, regres...|\n",
      "+--------------------+\n",
      "\n"
     ]
    }
   ],
   "source": [
    "documentDF.show()"
   ]
  },
  {
   "cell_type": "code",
   "execution_count": 341,
   "metadata": {},
   "outputs": [],
   "source": [
    "regexTokenizer = RegexTokenizer(inputCol=\"title\", outputCol=\"title_array\", pattern=\"\\s+\")\n",
    "regexTokenized = regexTokenizer.transform(test2)"
   ]
  },
  {
   "cell_type": "code",
   "execution_count": 342,
   "metadata": {},
   "outputs": [
    {
     "name": "stdout",
     "output_type": "stream",
     "text": [
      "+-------+-----+-------------------+--------------------+--------------------+----+-----------+-------+----+-----+---------+----------+------------+------------+-----------+---------------+--------------------+\n",
      "|     id|score|            time_ts|               title|                 url|text|descendants| author|year|month|dayofweek|is_hotuser|title_length|from_top_web|text_length|title_hot_words|         title_array|\n",
      "+-------+-----+-------------------+--------------------+--------------------+----+-----------+-------+----+-----+---------+----------+------------+------------+-----------+---------------+--------------------+\n",
      "|3451564|    1|2012-01-11 13:10:37|Second biggest Sp...|http://www.busine...|null|          0|barredo|2012|    1|        4|         1|           9|           0|          0|              0|[second, biggest,...|\n",
      "|7755578|    1|2014-05-16 14:12:06|Shepherd – Guide ...|http://github.hub...|null|          0|bartman|2014|    5|        6|         0|          11|           0|          0|              2|[shepherd, –, gui...|\n",
      "|6647790|    1|2013-10-31 16:33:44|What The Healthca...|http://www.fastco...|null|          0|barunio|2013|   10|        5|         0|          12|           0|          0|              0|[what, the, healt...|\n",
      "|7260548|    1|2014-02-18 19:42:26|Visualizing build...|http://data.wegow...|null|          0|barunio|2014|    2|        3|         0|           5|           0|          0|              1|[visualizing, bui...|\n",
      "|4672278|    1|2012-10-19 04:32:39|Skydiving HUD wit...|http://m.engadget...|null|          0|base698|2012|   10|        6|         0|           4|           1|          0|              0|[skydiving, hud, ...|\n",
      "|5675960|    1|2013-05-08 18:29:40|Chromatik continu...|http://pandodaily...|null|          0|base698|2013|    5|        4|         0|           6|           0|          0|              2|[chromatik, conti...|\n",
      "|4790128|    1|2012-11-15 18:57:26|Chromatik - Music...|http://techcrunch...|null|          0|base698|2012|   11|        5|         0|          12|           1|          0|              0|[chromatik, -, mu...|\n",
      "|5501611|    1|2013-04-05 23:09:07|It's certainly a ...|http://www.youtub...|null|          0|base698|2013|    4|        6|         0|           9|           1|          0|              2|[it's, certainly,...|\n",
      "|9163543|    1|2015-03-07 23:27:19|Artist Turns DNA ...|http://cyclopsblo...|null|          0|baskind|2015|    3|        7|         0|           8|           0|          0|              0|[artist, turns, d...|\n",
      "| 882030|    1|2009-10-14 19:57:11| The Jamming Concept|http://www.youtub...|null|          0|bastian|2009|   10|        4|         0|           3|           1|          0|              0|[the, jamming, co...|\n",
      "|4971705|    1|2012-12-27 00:30:48|  Human Touch Camera|http://techcrunch...|null|          0|bavidar|2012|   12|        5|         1|           3|           1|          0|              0|[human, touch, ca...|\n",
      "|5488796|    1|2013-04-03 20:24:44|Bitcoin Wallet Se...|http://techcrunch...|null|          0|bavidar|2013|    4|        4|         1|           9|           1|          0|              0|[bitcoin, wallet,...|\n",
      "|6425395|    1|2013-09-22 01:31:02|The Insecurity Dr...|http://stigatory....|null|          0|baybane|2013|    9|        1|         0|           4|           0|          0|              0|[the, insecurity,...|\n",
      "|9202908|    1|2015-03-14 15:27:01|Pi Day Guerilla s...|http://i.imgur.co...|null|          0|bbulkow|2015|    3|        7|         0|           8|           0|          0|              0|[pi, day, guerill...|\n",
      "|6215613|    1|2013-08-15 01:25:22|3 games, 8 giant ...|http://www.tankza...|null|          0|bbyford|2013|    8|        5|         0|           7|           0|          0|              2|[3, games,, 8, gi...|\n",
      "|8073471|    1|2014-07-23 09:24:00|Mark Twain on Mas...|http://www.brainp...|null|          0|bcambel|2014|    7|        4|         0|           4|           0|          0|              0|[mark, twain, on,...|\n",
      "|5186089|    1|2013-02-08 03:13:37|Facebook Connect ...|http://news.cnet....|null|          0|bconway|2013|    2|        6|         1|           8|           0|          0|              1|[facebook, connec...|\n",
      "|4794076|    1|2012-11-16 15:00:44|Striking untion w...|http://www.chicag...|null|          0|bconway|2012|   11|        6|         1|           9|           0|          0|              1|[striking, untion...|\n",
      "|4816604|    1|2012-11-21 22:14:57|How The Governmen...|http://www.npr.or...|null|          0|bconway|2012|   11|        4|         1|          12|           1|          0|              0|[how, the, govern...|\n",
      "|3970866|    1|2012-05-14 13:09:22|Iran Filters Lead...|http://www.rferl....|null|          0|bconway|2012|    5|        2|         1|           6|           0|          0|              0|[iran, filters, l...|\n",
      "+-------+-----+-------------------+--------------------+--------------------+----+-----------+-------+----+-----+---------+----------+------------+------------+-----------+---------------+--------------------+\n",
      "only showing top 20 rows\n",
      "\n"
     ]
    }
   ],
   "source": [
    "regexTokenized.show()"
   ]
  },
  {
   "cell_type": "code",
   "execution_count": 343,
   "metadata": {},
   "outputs": [],
   "source": [
    "word2Vec = Word2Vec(vectorSize=300, minCount=5, seed = 18, inputCol=\"title_array\", outputCol=\"title_vec\")\n",
    "model = word2Vec.fit(regexTokenized)\n",
    "\n",
    "result = model.transform(regexTokenized)"
   ]
  },
  {
   "cell_type": "code",
   "execution_count": 344,
   "metadata": {},
   "outputs": [
    {
     "name": "stdout",
     "output_type": "stream",
     "text": [
      "+--------+-----+-------------------+--------------------+--------------------+----+-----------+------+----+-----+---------+----------+------------+------------+-----------+---------------+--------------------+--------------------+\n",
      "|      id|score|            time_ts|               title|                 url|text|descendants|author|year|month|dayofweek|is_hotuser|title_length|from_top_web|text_length|title_hot_words|         title_array|           title_vec|\n",
      "+--------+-----+-------------------+--------------------+--------------------+----+-----------+------+----+-----+---------+----------+------------+------------+-----------+---------------+--------------------+--------------------+\n",
      "|10229406|    1|2015-09-16 19:59:56|The First Whale: ...|http://www.amnh.o...|null|          0|    Mz|2015|    9|        4|         1|           4|           0|          0|              0|[the, first, whal...|[8.74674529768526...|\n",
      "| 6488704|    1|2013-10-03 13:26:50|Engineers invent ...|http://phys.org/n...|null|          0|    X4|2013|   10|        5|         1|           8|           0|          0|              0|[engineers, inven...|[0.00120408614748...|\n",
      "| 6594546|    1|2013-10-22 20:03:30|IUI - Mobile web ...|http://www.iui-js...|null|          0|    X4|2013|   10|        3|         1|           8|           0|          0|              1|[iui, -, mobile, ...|[9.25499352888437...|\n",
      "|  790887|    1|2009-08-28 06:44:26|Dell Screws Up, P...|http://www.busine...|null|          0|    aj|2009|    8|        6|         1|           6|           1|          0|              0|[dell, screws, up...|[0.0,0.0,0.0,0.0,...|\n",
      "|  673699|    1|2009-06-25 14:41:06|New Duke Nukem ga...|http://arstechnic...|null|          0|    aj|2009|    6|        5|         1|           7|           1|          0|              1|[new, duke, nukem...|[9.08001991254942...|\n",
      "|  699911|    1|2009-07-12 07:13:24|Wireless Cybercri...|http://www.foxnew...|null|          0|    aj|2009|    7|        1|         1|           5|           0|          0|              0|[wireless, cyberc...|[0.0,0.0,0.0,0.0,...|\n",
      "|  676666|    1|2009-06-27 06:26:21|Does Multitasking...|http://www.sitepo...|null|          0|    aj|2009|    6|        7|         1|           7|           0|          0|              0|[does, multitaski...|[0.00119581449377...|\n",
      "|  697171|    1|2009-07-10 05:42:58|Find Creative Com...|http://googleblog...|null|          0|    aj|2009|    7|        6|         1|           8|           1|          0|              1|[find, creative, ...|[-3.3525429898872...|\n",
      "|  682725|    1|2009-07-01 14:52:30|Carmack: EA and A...|http://arstechnic...|null|          0|    aj|2009|    7|        4|         1|          11|           1|          0|              1|[carmack:, ea, an...|[0.00123370340390...|\n",
      "| 1183466|    1|2010-03-11 10:30:40|Bill Gates Loses ...|http://www.busine...|null|          0|    aj|2010|    3|        5|         1|          10|           1|          0|              0|[bill, gates, los...|[7.6252780854702E...|\n",
      "| 1718924|    1|2010-09-23 08:04:31|Austrian Collecti...|http://www.techdi...|null|          0|    aj|2010|    9|        5|         1|          14|           0|          0|              0|[austrian, collec...|[0.00148216507763...|\n",
      "| 1320427|    1|2010-05-05 05:43:54|Webby Award winne...|http://webbyaward...|null|          0|    aj|2010|    5|        4|         1|           4|           0|          0|              0|[webby, award, wi...|[0.0,0.0,0.0,0.0,...|\n",
      "| 1734531|    1|2010-09-28 04:13:53|Is Blackberry gro...|http://royal.ping...|null|          0|    aj|2010|    9|        3|         1|           7|           0|          0|              0|[is, blackberry, ...|[1.39768669864029...|\n",
      "| 1358718|    1|2010-05-18 19:32:12|New Hotmail takes...|http://venturebea...|null|          0|    aj|2010|    5|        3|         1|           8|           1|          0|              1|[new, hotmail, ta...|[8.86540656210854...|\n",
      "|  892944|    1|2009-10-20 18:14:26|Distance Is Not D...|http://arxiv.org/...|null|          0|    bd|2009|   10|        3|         1|          12|           1|          0|              0|[distance, is, no...|[1.42478200965949...|\n",
      "|  391302|    1|2008-12-09 14:37:23|Salesforce announ...|http://googleappe...|null|          0|    bd|2008|   12|        3|         1|           7|           0|          0|              1|[salesforce, anno...|[6.70469532321606...|\n",
      "|  389940|    1|2008-12-08 15:49:48|   WikiScanner2 beta|http://katrina.cs...|null|          0|    bd|2008|   12|        2|         1|           2|           0|          0|              1|[wikiscanner2, beta]|[0.0,0.0,0.0,0.0,...|\n",
      "| 1542771|    1|2010-07-24 00:18:18|Show HN: Deepwate...|http://alteredqua...|null|          0|    bd|2010|    7|        7|         1|           9|           0|          0|              0|[show, hn:, deepw...|[-0.0056503826506...|\n",
      "|  353248|    1|2008-11-04 09:58:11|Rainfall autism t...|http://news.bbc.c...|null|          0|    bd|2008|   11|        3|         1|           4|           1|          0|              0|[rainfall, autism...|[0.0,0.0,0.0,0.0,...|\n",
      "|  360579|    1|2008-11-11 15:46:47|Bendable, ultra-t...|http://www.crunch...|null|          0|    bd|2008|   11|        3|         1|           6|           0|          0|              0|[bendable,, ultra...|[0.0,0.0,0.0,0.0,...|\n",
      "+--------+-----+-------------------+--------------------+--------------------+----+-----------+------+----+-----+---------+----------+------------+------------+-----------+---------------+--------------------+--------------------+\n",
      "only showing top 20 rows\n",
      "\n"
     ]
    }
   ],
   "source": [
    "result.show()"
   ]
  },
  {
   "cell_type": "code",
   "execution_count": null,
   "metadata": {},
   "outputs": [],
   "source": []
  }
 ],
 "metadata": {
  "kernelspec": {
   "display_name": "Python 3",
   "language": "python",
   "name": "python3"
  },
  "language_info": {
   "codemirror_mode": {
    "name": "ipython",
    "version": 3
   },
   "file_extension": ".py",
   "mimetype": "text/x-python",
   "name": "python",
   "nbconvert_exporter": "python",
   "pygments_lexer": "ipython3",
   "version": "3.6.8"
  }
 },
 "nbformat": 4,
 "nbformat_minor": 2
}
